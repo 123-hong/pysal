{
 "cells": [
  {
   "cell_type": "code",
   "execution_count": 1,
   "metadata": {
    "collapsed": false
   },
   "outputs": [],
   "source": [
    "import geopandas as gpd\n",
    "import pysal as ps\n",
    "from pysal.cg import asShape\n",
    "import pandas as pd\n",
    "import numpy as np"
   ]
  },
  {
   "cell_type": "code",
   "execution_count": 2,
   "metadata": {
    "collapsed": true
   },
   "outputs": [],
   "source": [
    "df = ps.pdio.read_files(ps.examples.get_path('NAT.shp'))"
   ]
  },
  {
   "cell_type": "code",
   "execution_count": 3,
   "metadata": {
    "collapsed": true
   },
   "outputs": [],
   "source": [
    "gdf = gpd.read_file(ps.examples.get_path('NAT.shp'))"
   ]
  },
  {
   "cell_type": "code",
   "execution_count": 4,
   "metadata": {
    "collapsed": false
   },
   "outputs": [],
   "source": [
    "from pysal.cg.shapes import _geoJSON_type_to_Pysal_type\n",
    "def te_asShape(obj):\n",
    "    \"\"\"\n",
    "    Returns a pysal shape object from obj.\n",
    "    obj must support the __geo_interface__.\n",
    "    \"\"\"\n",
    "    if type(obj) in _geoJSON_type_to_Pysal_type.values():\n",
    "        # noop if already pysal type\n",
    "        return obj\n",
    "    try:\n",
    "        geo = obj.__geo_interface__\n",
    "    except AttributeError:\n",
    "        geo = obj\n",
    "    if hasattr(geo, 'type'):\n",
    "        raise TypeError('%r does not appear to be a shape object' % (obj))\n",
    "    geo_type = geo['type'].lower()\n",
    "    #if geo_type.startswith('multi'):\n",
    "    #    raise NotImplementedError, \"%s are not supported at this time.\"%geo_type\n",
    "    if geo_type in _geoJSON_type_to_Pysal_type:\n",
    "        return _geoJSON_type_to_Pysal_type[geo_type].__from_geo_interface__(geo)\n",
    "    else:\n",
    "        raise NotImplementedError(\n",
    "            \"%s is not supported at this time.\" % geo_type)\n",
    "\n",
    "        \n",
    "def shp2ps(obj):\n",
    "    gi = obj.__geo_interface__\n",
    "    t = gi['type'].lower()\n",
    "    return (_geoJSON_type_to_Pysal_type[t].__from_geo_interface__(gi))"
   ]
  },
  {
   "cell_type": "code",
   "execution_count": 5,
   "metadata": {
    "collapsed": false
   },
   "outputs": [],
   "source": [
    "shapelys = gdf.geometry.tolist()\n",
    "pysals= df.geometry.tolist()\n",
    "dicts = [x.__geo_interface__ for x in pysals]"
   ]
  },
  {
   "cell_type": "code",
   "execution_count": 6,
   "metadata": {
    "collapsed": false,
    "scrolled": true
   },
   "outputs": [
    {
     "name": "stdout",
     "output_type": "stream",
     "text": [
      "10000 loops, best of 3: 180 µs per loop\n",
      "10000 loops, best of 3: 179 µs per loop\n",
      "1000 loops, best of 3: 174 µs per loop\n"
     ]
    }
   ],
   "source": [
    "%timeit te_asShape(shapelys[np.random.randint(0,3085)])\n",
    "%timeit asShape(shapelys[np.random.randint(0,3085)])\n",
    "%timeit shp2ps(shapelys[np.random.randint(0,3085)])"
   ]
  },
  {
   "cell_type": "code",
   "execution_count": 7,
   "metadata": {
    "collapsed": false
   },
   "outputs": [
    {
     "name": "stdout",
     "output_type": "stream",
     "text": [
      "The slowest run took 18.79 times longer than the fastest. This could mean that an intermediate result is being cached \n",
      "1000000 loops, best of 3: 1.55 µs per loop\n",
      "The slowest run took 6.70 times longer than the fastest. This could mean that an intermediate result is being cached \n",
      "1000000 loops, best of 3: 1.64 µs per loop\n",
      "10000 loops, best of 3: 74.1 µs per loop\n"
     ]
    }
   ],
   "source": [
    "%timeit te_asShape(pysals[np.random.randint(0,3085)])\n",
    "%timeit asShape(pysals[np.random.randint(0,3085)])\n",
    "%timeit shp2ps(pysals[np.random.randint(0,3085)])"
   ]
  },
  {
   "cell_type": "code",
   "execution_count": 8,
   "metadata": {
    "collapsed": false
   },
   "outputs": [
    {
     "name": "stdout",
     "output_type": "stream",
     "text": [
      "10000 loops, best of 3: 72.7 µs per loop\n",
      "10000 loops, best of 3: 71.9 µs per loop\n"
     ]
    }
   ],
   "source": [
    "%timeit te_asShape(dicts[np.random.randint(0,3085)])\n",
    "%timeit asShape(dicts[np.random.randint(0,3085)])"
   ]
  },
  {
   "cell_type": "code",
   "execution_count": 9,
   "metadata": {
    "collapsed": true
   },
   "outputs": [],
   "source": [
    "mixed = shapelys\n",
    "mixed.extend(pysals)\n",
    "mixed.extend(dicts)"
   ]
  },
  {
   "cell_type": "code",
   "execution_count": 10,
   "metadata": {
    "collapsed": false
   },
   "outputs": [
    {
     "name": "stdout",
     "output_type": "stream",
     "text": [
      "10000 loops, best of 3: 84.5 µs per loop\n",
      "10000 loops, best of 3: 83.8 µs per loop\n"
     ]
    }
   ],
   "source": [
    "%timeit te_asShape(mixed[np.random.randint(0,3085*3)])\n",
    "%timeit asShape(mixed[np.random.randint(0,3085*3)])"
   ]
  },
  {
   "cell_type": "code",
   "execution_count": null,
   "metadata": {
    "collapsed": true
   },
   "outputs": [],
   "source": []
  }
 ],
 "metadata": {
  "kernelspec": {
   "display_name": "Python 2",
   "language": "python",
   "name": "python2"
  },
  "language_info": {
   "codemirror_mode": {
    "name": "ipython",
    "version": 2
   },
   "file_extension": ".py",
   "mimetype": "text/x-python",
   "name": "python",
   "nbconvert_exporter": "python",
   "pygments_lexer": "ipython2",
   "version": "2.7.11"
  }
 },
 "nbformat": 4,
 "nbformat_minor": 0
}
