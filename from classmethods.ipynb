{
 "cells": [
  {
   "cell_type": "markdown",
   "metadata": {},
   "source": [
    "Right now, I've moved some of the constructors to be their own types. I think our weights will be clearer & more consistent if:\n",
    "\n",
    "- W is the most generic type of weights object, and reflects arbitrarily-constructed weights from at least one `neighbor` dictionary.\n",
    "- Rook, Queen, DistanceBand & Kernel, etc, reflect basic types of either `neighbor` construction or `weights` construction. \n",
    "- We can make flyweight classes (like AdaptiveKernel) that just call their parent (Kernel) with special options, and that's fine. "
   ]
  },
  {
   "cell_type": "code",
   "execution_count": 1,
   "metadata": {
    "collapsed": true
   },
   "outputs": [],
   "source": [
    "import pysal as ps"
   ]
  },
  {
   "cell_type": "markdown",
   "metadata": {},
   "source": [
    "I've been doing this cleanup & new work in parallel to `weights`, over in `weights2`. "
   ]
  },
  {
   "cell_type": "code",
   "execution_count": 2,
   "metadata": {
    "collapsed": false
   },
   "outputs": [],
   "source": [
    "from pysal.weights2 import contiguity as cont, distance as dist\n",
    "from pysal.weights2.weights import W as W2"
   ]
  },
  {
   "cell_type": "code",
   "execution_count": 3,
   "metadata": {
    "collapsed": false
   },
   "outputs": [],
   "source": [
    "path = ps.examples.get_path('south.shp')\n",
    "psframe = ps.pdio.read_files(path)\n",
    "filehandler = ps.open(path)"
   ]
  },
  {
   "cell_type": "code",
   "execution_count": 4,
   "metadata": {
    "collapsed": false
   },
   "outputs": [],
   "source": [
    "try:\n",
    "    import shapely.geometry as geom\n",
    "    sh_iterable = [geom.asShape(sh) for sh in psframe.geometry]\n",
    "except ImportError:\n",
    "    from warnings import warn as Warn\n",
    "    Warn('No shapely :(')"
   ]
  },
  {
   "cell_type": "markdown",
   "metadata": {},
   "source": [
    "I'll be showing Rook, but Queen has this, and I'm working on them for Distance methods. "
   ]
  },
  {
   "cell_type": "code",
   "execution_count": 5,
   "metadata": {
    "collapsed": false
   },
   "outputs": [],
   "source": [
    "R1 = cont.Rook.from_iterable(sh_iterable)\n",
    "R2 = cont.Rook.from_dataframe(psframe)\n",
    "R3 = cont.Rook.from_shapefile(path)\n",
    "Rreference = ps.rook_from_shapefile(path)"
   ]
  },
  {
   "cell_type": "code",
   "execution_count": 6,
   "metadata": {
    "collapsed": false
   },
   "outputs": [
    {
     "data": {
      "text/plain": [
       "True"
      ]
     },
     "execution_count": 6,
     "metadata": {},
     "output_type": "execute_result"
    }
   ],
   "source": [
    "R1.neighbors == R2.neighbors == R3.neighbors == Rreference.neighbors"
   ]
  },
  {
   "cell_type": "code",
   "execution_count": 7,
   "metadata": {
    "collapsed": false
   },
   "outputs": [],
   "source": [
    "Q1 = cont.Queen.from_iterable(sh_iterable)\n",
    "Q2 = cont.Queen.from_dataframe(psframe)\n",
    "Q3 = cont.Queen.from_shapefile(path)\n",
    "Qreference = ps.queen_from_shapefile(path)"
   ]
  },
  {
   "cell_type": "code",
   "execution_count": 8,
   "metadata": {
    "collapsed": false
   },
   "outputs": [
    {
     "data": {
      "text/plain": [
       "True"
      ]
     },
     "execution_count": 8,
     "metadata": {},
     "output_type": "execute_result"
    }
   ],
   "source": [
    "Q1.neighbors == Q2.neighbors == Q3.neighbors == Qreference.neighbors"
   ]
  },
  {
   "cell_type": "markdown",
   "metadata": {},
   "source": [
    "The only difference in the weights algorithms is in using ContiguityWeightsPolygons vs. ContiguityWeights_binning. Under the hood, for instance, `Queen.from_shapefile(path)` looks something like:\n",
    "\n",
    "```python\n",
    "@classmethod\n",
    "def from_shapefile(cls, path, **kwargs):\n",
    "    collection = pysal.open(path)\n",
    "    return cls.from_iterable(collection, **kwargs)\n",
    "\n",
    "@classmethod\n",
    "def from_iterable(cls, iterable, **kwargs):\n",
    "    neighbors, ids = buildContiguity(iterable, **kwargs)\n",
    "    return cls(neighbors, id_order=ids)\n",
    "```\n",
    "\n",
    "I've also got a `driver` flag, but right now, I get different results using rtree and ContiguityWeightsPolygons:"
   ]
  },
  {
   "cell_type": "code",
   "execution_count": 10,
   "metadata": {
    "collapsed": false
   },
   "outputs": [],
   "source": [
    "Qrtree = cont.Queen.from_shapefile(path, driver='rtree')"
   ]
  },
  {
   "cell_type": "code",
   "execution_count": 11,
   "metadata": {
    "collapsed": false
   },
   "outputs": [
    {
     "data": {
      "text/plain": [
       "False"
      ]
     },
     "execution_count": 11,
     "metadata": {},
     "output_type": "execute_result"
    }
   ],
   "source": [
    "Qrtree.neighbors == Qreference.neighbors"
   ]
  },
  {
   "cell_type": "markdown",
   "metadata": {},
   "source": [
    "I've also been paying attention to reading weights from file (which I believe is the part of FileIO that won't go away with better GDAL/OGR/Fiona/Geopandas packaging)"
   ]
  },
  {
   "cell_type": "code",
   "execution_count": null,
   "metadata": {
    "collapsed": false
   },
   "outputs": [],
   "source": [
    "w0 = W2.from_file(ps.examples.get_path('columbus.gal'))\n",
    "w1 = W2.from_file(ps.examples.get_path('wmat.mtx'))\n",
    "w2 = W2.from_file(ps.examples.get_path('wmat.dat'))"
   ]
  },
  {
   "cell_type": "markdown",
   "metadata": {},
   "source": [
    "For some reason, the `dat` reads in floats and the `mtx` reads in ints, so straight comparisons don't work yet. "
   ]
  }
 ],
 "metadata": {
  "kernelspec": {
   "display_name": "Python 2",
   "language": "python",
   "name": "python2"
  },
  "language_info": {
   "codemirror_mode": {
    "name": "ipython",
    "version": 2
   },
   "file_extension": ".py",
   "mimetype": "text/x-python",
   "name": "python",
   "nbconvert_exporter": "python",
   "pygments_lexer": "ipython2",
   "version": "2.7.11"
  }
 },
 "nbformat": 4,
 "nbformat_minor": 0
}
