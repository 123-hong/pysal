{
 "cells": [
  {
   "cell_type": "markdown",
   "metadata": {},
   "source": [
    "Right now, I've moved some of the constructors to be their own types. I think our weights will be clearer & more consistent if:\n",
    "\n",
    "- W is the most generic type of weights object, and reflects arbitrarily-constructed weights from at least one `neighbor` dictionary.\n",
    "- Rook, Queen, DistanceBand & Kernel, etc, reflect basic types of either `neighbor` construction or `weights` construction. \n",
    "- We can make flyweight classes (like AdaptiveKernel) that just call their parent (Kernel) with special options, and that's fine. "
   ]
  },
  {
   "cell_type": "code",
   "execution_count": 1,
   "metadata": {
    "collapsed": true
   },
   "outputs": [],
   "source": [
    "import pysal as ps\n",
    "import numpy as np"
   ]
  },
  {
   "cell_type": "markdown",
   "metadata": {},
   "source": [
    "I've been doing this cleanup & new work in parallel to `weights`, over in `weights2`. "
   ]
  },
  {
   "cell_type": "code",
   "execution_count": 2,
   "metadata": {
    "collapsed": false
   },
   "outputs": [],
   "source": [
    "from pysal.weights2 import contiguity as cont, distance as dist\n",
    "from pysal.weights2.weights import W as W2"
   ]
  },
  {
   "cell_type": "code",
   "execution_count": 3,
   "metadata": {
    "collapsed": false
   },
   "outputs": [],
   "source": [
    "path = ps.examples.get_path('south.shp')\n",
    "psframe = ps.pdio.read_files(path)\n",
    "filehandler = ps.open(path)"
   ]
  },
  {
   "cell_type": "code",
   "execution_count": 4,
   "metadata": {
    "collapsed": false
   },
   "outputs": [],
   "source": [
    "try:\n",
    "    import shapely.geometry as geom\n",
    "    sh_iterable = [geom.asShape(sh) for sh in psframe.geometry]\n",
    "except ImportError:\n",
    "    from warnings import warn as Warn\n",
    "    Warn('No shapely :(')"
   ]
  },
  {
   "cell_type": "markdown",
   "metadata": {},
   "source": [
    "### Contiguity Methods"
   ]
  },
  {
   "cell_type": "markdown",
   "metadata": {},
   "source": [
    "I'll be showing Rook, but Queen has this, and I'm working on them for Distance methods. "
   ]
  },
  {
   "cell_type": "code",
   "execution_count": 5,
   "metadata": {
    "collapsed": false
   },
   "outputs": [],
   "source": [
    "R1 = cont.Rook.from_iterable(sh_iterable)\n",
    "R2 = cont.Rook.from_dataframe(psframe)\n",
    "R3 = cont.Rook.from_shapefile(path)\n",
    "Rreference = ps.rook_from_shapefile(path)"
   ]
  },
  {
   "cell_type": "code",
   "execution_count": 6,
   "metadata": {
    "collapsed": false
   },
   "outputs": [
    {
     "data": {
      "text/plain": [
       "True"
      ]
     },
     "execution_count": 6,
     "metadata": {},
     "output_type": "execute_result"
    }
   ],
   "source": [
    "R1.neighbors == R2.neighbors == R3.neighbors == Rreference.neighbors"
   ]
  },
  {
   "cell_type": "code",
   "execution_count": 7,
   "metadata": {
    "collapsed": false
   },
   "outputs": [],
   "source": [
    "Q1 = cont.Queen.from_iterable(sh_iterable)\n",
    "Q2 = cont.Queen.from_dataframe(psframe)\n",
    "Q3 = cont.Queen.from_shapefile(path)\n",
    "Qreference = ps.queen_from_shapefile(path)"
   ]
  },
  {
   "cell_type": "code",
   "execution_count": 8,
   "metadata": {
    "collapsed": false
   },
   "outputs": [
    {
     "data": {
      "text/plain": [
       "True"
      ]
     },
     "execution_count": 8,
     "metadata": {},
     "output_type": "execute_result"
    }
   ],
   "source": [
    "Q1.neighbors == Q2.neighbors == Q3.neighbors == Qreference.neighbors"
   ]
  },
  {
   "cell_type": "markdown",
   "metadata": {},
   "source": [
    "### Distance Methods"
   ]
  },
  {
   "cell_type": "markdown",
   "metadata": {},
   "source": [
    "For these, the `from_iterable` equivalent is `from_array`. So, it's expected that users can get from shapes to a representative point array, if appropriate. I believe just extracting the centroid works for shapely shapes as well."
   ]
  },
  {
   "cell_type": "code",
   "execution_count": 9,
   "metadata": {
    "collapsed": true
   },
   "outputs": [],
   "source": [
    "from pysal.weights2.util import get_points_array"
   ]
  },
  {
   "cell_type": "code",
   "execution_count": 10,
   "metadata": {
    "collapsed": false
   },
   "outputs": [],
   "source": [
    "point_array = psframe.geometry.apply(lambda x : np.array(x.centroid)).values\n",
    "point_array = np.vstack(point_array)"
   ]
  },
  {
   "cell_type": "code",
   "execution_count": 11,
   "metadata": {
    "collapsed": false
   },
   "outputs": [],
   "source": [
    "point_array2 = [np.array(x.centroid) for x in sh_iterable]\n",
    "point_array2 = np.vstack(point_array2)"
   ]
  },
  {
   "cell_type": "code",
   "execution_count": 12,
   "metadata": {
    "collapsed": false
   },
   "outputs": [],
   "source": [
    "point_array3 = get_points_array(psframe.geometry)\n",
    "point_array4 = get_points_array(sh_iterable)\n",
    "point_array5 = get_points_array(filehandler)"
   ]
  },
  {
   "cell_type": "code",
   "execution_count": 13,
   "metadata": {
    "collapsed": true
   },
   "outputs": [],
   "source": [
    "filehandler.seek(0)"
   ]
  },
  {
   "cell_type": "code",
   "execution_count": 14,
   "metadata": {
    "collapsed": false
   },
   "outputs": [],
   "source": [
    "np.testing.assert_allclose(point_array, point_array2)\n",
    "np.testing.assert_allclose(point_array2, point_array3)\n",
    "np.testing.assert_allclose(point_array3, point_array4)\n",
    "np.testing.assert_allclose(point_array4, point_array5)"
   ]
  },
  {
   "cell_type": "code",
   "execution_count": 15,
   "metadata": {
    "collapsed": false
   },
   "outputs": [],
   "source": [
    "DB1 = dist.DistanceBand.from_dataframe(psframe, threshold=5)\n",
    "DB2 = dist.DistanceBand.from_array(point_array, threshold=5)\n",
    "DB3 = dist.DistanceBand.from_shapefile(path, threshold=5)"
   ]
  },
  {
   "cell_type": "code",
   "execution_count": 16,
   "metadata": {
    "collapsed": true
   },
   "outputs": [],
   "source": [
    "DBref = ps.DistanceBand(point_array, 5)"
   ]
  },
  {
   "cell_type": "code",
   "execution_count": 17,
   "metadata": {
    "collapsed": false
   },
   "outputs": [],
   "source": [
    "for a,b,c,d in zip(DB1, DB2, DB3, DBref):\n",
    "    assert a == b\n",
    "    assert b == c\n",
    "    assert c == d"
   ]
  },
  {
   "cell_type": "code",
   "execution_count": 18,
   "metadata": {
    "collapsed": false
   },
   "outputs": [],
   "source": [
    "KW1 = dist.Kernel.from_dataframe(psframe, k=4, function='gaussian')\n",
    "KW2 = dist.Kernel.from_array(point_array, k=4, function='gaussian')\n",
    "KW3 = dist.Kernel.from_shapefile(path, k=4, function='gaussian')\n",
    "KWref = ps.kernelW_from_shapefile(path, k=4, function='gaussian')"
   ]
  },
  {
   "cell_type": "code",
   "execution_count": 19,
   "metadata": {
    "collapsed": true
   },
   "outputs": [],
   "source": [
    "for a,b,c,d in zip(KW1, KW2, KW3, KWref):\n",
    "    assert a == b\n",
    "    assert b == c\n",
    "    assert c == d"
   ]
  },
  {
   "cell_type": "code",
   "execution_count": 20,
   "metadata": {
    "collapsed": false
   },
   "outputs": [],
   "source": [
    "KNN1 = dist.KNN.from_dataframe(psframe, k=4)\n",
    "KNN2 = dist.KNN.from_array(point_array, k=4)\n",
    "KNN3 = dist.KNN.from_shapefile(path, k=4)\n",
    "KNNref = ps.knnW_from_shapefile(path, k=4)"
   ]
  },
  {
   "cell_type": "code",
   "execution_count": 21,
   "metadata": {
    "collapsed": true
   },
   "outputs": [],
   "source": [
    "for a,b,c,d in zip(KNN1, KNN2, KNN3, KNNref):\n",
    "    assert a == b\n",
    "    assert b == c\n",
    "    assert c == d"
   ]
  },
  {
   "cell_type": "markdown",
   "metadata": {},
   "source": [
    "To resolve some of the concerns about multiple KNN queries on an array being inefficient, I did something similar to what I did in `MapClassify`:"
   ]
  },
  {
   "cell_type": "code",
   "execution_count": 22,
   "metadata": {
    "collapsed": false
   },
   "outputs": [],
   "source": [
    "KNN_k9 = KNN1.reweight(k=9, inplace=False) #makes a new W with k=9, but does not recompute the kdtree\n",
    "KNN1.reweight(k=2, inplace=True) #modifies the KNNW in place, changing the number of k from 4 to 2"
   ]
  },
  {
   "cell_type": "code",
   "execution_count": 23,
   "metadata": {
    "collapsed": false
   },
   "outputs": [
    {
     "data": {
      "text/plain": [
       "[(2, 1412)]"
      ]
     },
     "execution_count": 23,
     "metadata": {},
     "output_type": "execute_result"
    }
   ],
   "source": [
    "KNN1.histogram"
   ]
  },
  {
   "cell_type": "code",
   "execution_count": 24,
   "metadata": {
    "collapsed": false
   },
   "outputs": [
    {
     "data": {
      "text/plain": [
       "[(9, 1412)]"
      ]
     },
     "execution_count": 24,
     "metadata": {},
     "output_type": "execute_result"
    }
   ],
   "source": [
    "KNN_k9.histogram"
   ]
  },
  {
   "cell_type": "code",
   "execution_count": 25,
   "metadata": {
    "collapsed": false
   },
   "outputs": [
    {
     "data": {
      "text/plain": [
       "True"
      ]
     },
     "execution_count": 25,
     "metadata": {},
     "output_type": "execute_result"
    }
   ],
   "source": [
    "KNN_k9.kdtree is KNN1.kdtree"
   ]
  },
  {
   "cell_type": "markdown",
   "metadata": {},
   "source": [
    "😊"
   ]
  },
  {
   "cell_type": "markdown",
   "metadata": {},
   "source": [
    "### Confusion about ordering"
   ]
  },
  {
   "cell_type": "markdown",
   "metadata": {},
   "source": [
    "What I'm still a little confused about is the use of `id_order`. For example, if we build weights from a dataframe in memory, we'd probably want the iteration order between the two to be the same. "
   ]
  },
  {
   "cell_type": "code",
   "execution_count": 26,
   "metadata": {
    "collapsed": false
   },
   "outputs": [],
   "source": [
    "Q2o = cont.Queen.from_dataframe(psframe, idVariable='FIPS')"
   ]
  },
  {
   "cell_type": "code",
   "execution_count": 27,
   "metadata": {
    "collapsed": false
   },
   "outputs": [
    {
     "data": {
      "text/plain": [
       "[u'01001', u'01003', u'01005', u'01007', u'01009']"
      ]
     },
     "execution_count": 27,
     "metadata": {},
     "output_type": "execute_result"
    }
   ],
   "source": [
    "Q2o.id_order[0:5]"
   ]
  },
  {
   "cell_type": "code",
   "execution_count": 28,
   "metadata": {
    "collapsed": false
   },
   "outputs": [
    {
     "data": {
      "text/plain": [
       "False"
      ]
     },
     "execution_count": 28,
     "metadata": {},
     "output_type": "execute_result"
    }
   ],
   "source": [
    "Q2o.id_order_set"
   ]
  },
  {
   "cell_type": "markdown",
   "metadata": {},
   "source": [
    "But, using an id column when constructing weights from file removes the sorting on id_order:"
   ]
  },
  {
   "cell_type": "code",
   "execution_count": 29,
   "metadata": {
    "collapsed": true
   },
   "outputs": [],
   "source": [
    "Q2o_ref = ps.queen_from_shapefile(path, idVariable='FIPS')"
   ]
  },
  {
   "cell_type": "code",
   "execution_count": 30,
   "metadata": {
    "collapsed": false,
    "scrolled": true
   },
   "outputs": [
    {
     "data": {
      "text/plain": [
       "[u'54029', u'54009', u'54069', u'54051', u'10003']"
      ]
     },
     "execution_count": 30,
     "metadata": {},
     "output_type": "execute_result"
    }
   ],
   "source": [
    "Q2o_ref.id_order[0:5]"
   ]
  },
  {
   "cell_type": "markdown",
   "metadata": {},
   "source": [
    "Note that still"
   ]
  },
  {
   "cell_type": "code",
   "execution_count": 31,
   "metadata": {
    "collapsed": false
   },
   "outputs": [
    {
     "data": {
      "text/plain": [
       "False"
      ]
     },
     "execution_count": 31,
     "metadata": {},
     "output_type": "execute_result"
    }
   ],
   "source": [
    "Q2o_ref.id_order_set "
   ]
  },
  {
   "cell_type": "markdown",
   "metadata": {},
   "source": [
    "To me, this is confusing, since the docstring would lead you to believe that either:\n",
    "- `id_order` is unspecified, defaults to something like `lexsort(ids)`, and `id_order_set` is `False`\n",
    "- `id_order` is specified arbitrarily, and `id_order_set` is `True`. \n",
    "\n",
    "As I see it, `queen_from_shapefile` sets the id order using `remap_ids` (so default lexicographic ordering is gone), but does not set `id_order_set=True`. This is only problematic because I want the `from_dataframe` and `from_shapefile` to return the same values when we don't reindex the dataframe.\n",
    "\n",
    "To replicate the `from_shapefile` order, `from_dataframe` must be passed something like:"
   ]
  },
  {
   "cell_type": "code",
   "execution_count": 32,
   "metadata": {
    "collapsed": true
   },
   "outputs": [],
   "source": [
    "Q2osort = cont.Queen.from_dataframe(psframe, idVariable='FIPS', id_order=True)"
   ]
  },
  {
   "cell_type": "code",
   "execution_count": 33,
   "metadata": {
    "collapsed": false
   },
   "outputs": [
    {
     "data": {
      "text/plain": [
       "[u'54029', u'54009', u'54069', u'54051', u'10003']"
      ]
     },
     "execution_count": 33,
     "metadata": {},
     "output_type": "execute_result"
    }
   ],
   "source": [
    "Q2osort.id_order[0:5]"
   ]
  },
  {
   "cell_type": "markdown",
   "metadata": {},
   "source": [
    "Which, again, looks like a request to use the column `idVariable` and treat its order as the order the weights should be in. This is currently what `idVariable` does in `from_shapefile`, but doesn't set `id_order_set`."
   ]
  },
  {
   "cell_type": "code",
   "execution_count": 34,
   "metadata": {
    "collapsed": false
   },
   "outputs": [
    {
     "data": {
      "text/plain": [
       "True"
      ]
     },
     "execution_count": 34,
     "metadata": {},
     "output_type": "execute_result"
    }
   ],
   "source": [
    "Q2osort.id_order_set"
   ]
  },
  {
   "cell_type": "code",
   "execution_count": 35,
   "metadata": {
    "collapsed": false
   },
   "outputs": [
    {
     "data": {
      "text/plain": [
       "False"
      ]
     },
     "execution_count": 35,
     "metadata": {},
     "output_type": "execute_result"
    }
   ],
   "source": [
    "Q2o_ref.id_order_set"
   ]
  }
 ],
 "metadata": {
  "kernelspec": {
   "display_name": "Python 2",
   "language": "python",
   "name": "python2"
  },
  "language_info": {
   "codemirror_mode": {
    "name": "ipython",
    "version": 2
   },
   "file_extension": ".py",
   "mimetype": "text/x-python",
   "name": "python",
   "nbconvert_exporter": "python",
   "pygments_lexer": "ipython2",
   "version": "2.7.11"
  }
 },
 "nbformat": 4,
 "nbformat_minor": 0
}
