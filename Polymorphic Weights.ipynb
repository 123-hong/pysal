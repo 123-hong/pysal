{
 "cells": [
  {
   "cell_type": "markdown",
   "metadata": {},
   "source": [
    "This uses the current head of [@ljwolf's pdio branch](https://github.com/ljwolf/pysal/tree/pdio). \n",
    "\n",
    "There are a few simple things we cna do to help our API become a little simpler. This is in absence of using multiple-dispatch. \n",
    "\n",
    "So, to show the new polymorphic weights constructors in action, I'd like to show a decorator I'd like to place in `common`, the `intercept_filepath` decorator."
   ]
  },
  {
   "cell_type": "code",
   "execution_count": 1,
   "metadata": {
    "collapsed": false
   },
   "outputs": [],
   "source": [
    "import pysal as ps"
   ]
  },
  {
   "cell_type": "code",
   "execution_count": 2,
   "metadata": {
    "collapsed": true
   },
   "outputs": [],
   "source": [
    "datapath = ps.examples.get_path('south.shp')"
   ]
  },
  {
   "cell_type": "code",
   "execution_count": 3,
   "metadata": {
    "collapsed": false
   },
   "outputs": [],
   "source": [
    "df = ps.pdio.read_files(datapath)\n",
    "file_handler = ps.open(datapath)"
   ]
  },
  {
   "cell_type": "markdown",
   "metadata": {},
   "source": [
    "This could be used library-wide to enable what might look like multiple dispatch at first, but is, in fact, a simple way to preparse arguments to match the API of the defined function. \n",
    "\n",
    "In short, the `intercept_filepath` decorator intercepts the arguments that are passed to its function. First, it checks the type of the function's first argument. If it's a string, it attempts to open it using `pysal.open` before sending it to the original function. "
   ]
  },
  {
   "cell_type": "code",
   "execution_count": 4,
   "metadata": {
    "collapsed": false
   },
   "outputs": [],
   "source": [
    "from pysal.common import intercept_filepath"
   ]
  },
  {
   "cell_type": "markdown",
   "metadata": {},
   "source": [
    "To show, this is a simple function that expcets a geometry collection:"
   ]
  },
  {
   "cell_type": "code",
   "execution_count": 5,
   "metadata": {
    "collapsed": false
   },
   "outputs": [],
   "source": [
    "def a(coll, k):\n",
    "    \"\"\"\n",
    "    Print the first k centroids from a geometry collection.\n",
    "    \n",
    "    Arguments\n",
    "    -----------\n",
    "    coll    : iterable\n",
    "              a collection of geometries with centroids\n",
    "    k       : int\n",
    "              the number of centroids to print from the start of col\n",
    "    \"\"\"\n",
    "    print([coll[i].centroid for i in range(k)])"
   ]
  },
  {
   "cell_type": "markdown",
   "metadata": {},
   "source": [
    "Undecorated, it will not work if a string is passed:"
   ]
  },
  {
   "cell_type": "code",
   "execution_count": 6,
   "metadata": {
    "collapsed": false
   },
   "outputs": [],
   "source": [
    "#a(datapath, 2) #I will fail if you uncomment me"
   ]
  },
  {
   "cell_type": "markdown",
   "metadata": {},
   "source": [
    "But, will work if a file handler or dataframe column is passed:"
   ]
  },
  {
   "cell_type": "code",
   "execution_count": 7,
   "metadata": {
    "collapsed": false
   },
   "outputs": [
    {
     "name": "stdout",
     "output_type": "stream",
     "text": [
      "[(-80.578701723812, 40.520355179265735)]\n",
      "[(-80.578701723812, 40.520355179265735), (-80.57987548953308, 40.27464887574844), (-80.62260358646088, 40.09987235391358), (-80.66606152758811, 39.86106340922978)]\n"
     ]
    }
   ],
   "source": [
    "a(df.geometry, 1)\n",
    "a(file_handler, 4)"
   ]
  },
  {
   "cell_type": "markdown",
   "metadata": {},
   "source": [
    "But, if we decorate the function, we can preprocess the arugments:"
   ]
  },
  {
   "cell_type": "code",
   "execution_count": 8,
   "metadata": {
    "collapsed": true
   },
   "outputs": [],
   "source": [
    "b = intercept_filepath(a) # decorators are just functions that return functions"
   ]
  },
  {
   "cell_type": "code",
   "execution_count": 9,
   "metadata": {
    "collapsed": false
   },
   "outputs": [
    {
     "name": "stdout",
     "output_type": "stream",
     "text": [
      "pysal/examples/south/south.shp\n",
      "[(-80.578701723812, 40.520355179265735)]\n"
     ]
    }
   ],
   "source": [
    "print(datapath)\n",
    "b(datapath, 1)"
   ]
  },
  {
   "cell_type": "markdown",
   "metadata": {},
   "source": [
    "Internally, `intercept_filepath` looks like:"
   ]
  },
  {
   "cell_type": "markdown",
   "metadata": {},
   "source": [
    "```python\n",
    "def intercept_filepath(f):\n",
    "    \"\"\"\n",
    "    Intercept the first argument of a function if it looks like a string path\n",
    "    \"\"\"\n",
    "    @wraps(f)\n",
    "    def wrapped(*args, **kwargs):\n",
    "        iargs = iter(args)\n",
    "        first = next(iargs)\n",
    "        rest = list(iargs)\n",
    "        if isinstance(first, str):\n",
    "            first = popen(first)\n",
    "        return f(first, *rest, **kwargs)\n",
    "    return wrapped\n",
    "```"
   ]
  },
  {
   "cell_type": "markdown",
   "metadata": {},
   "source": [
    "Since `intercept_filepath` uses `functools.wraps`, we also get free transformation of the docstrings. The signatures will be translated on Python 3.4 and up, but will not be translated in Python 2.7. If this is a problem, we can always document docstrings with args & kwargs separately, so that users can see which are required if they're in Python 2.7."
   ]
  },
  {
   "cell_type": "code",
   "execution_count": 10,
   "metadata": {
    "collapsed": true
   },
   "outputs": [],
   "source": [
    "a?"
   ]
  },
  {
   "cell_type": "code",
   "execution_count": 11,
   "metadata": {
    "collapsed": true
   },
   "outputs": [],
   "source": [
    "b?"
   ]
  },
  {
   "cell_type": "markdown",
   "metadata": {},
   "source": [
    "Using this, we can define a target API that *only* constructs weights from iterables or does regression from numpy arrays. Then, if we decorate that function, we can preparse its arguments to get them in the form the API expects.\n",
    "\n",
    "This is a much cleaner way to do the dispatch-table argument parsing, since we can centralize the dispatch table's elements into one decorator. \n",
    "\n",
    "For example, if our dispatch/preparse table had something like:\n",
    "```python\n",
    "def foo(x):\n",
    "    elif isinstance(x, str):\n",
    "        x = open(x)\n",
    "    do_stuff(x)\n",
    "```\n",
    "we could make it look instead like:\n",
    "```python\n",
    "@intercept_filepath\n",
    "def foo(x):\n",
    "    do_stuff(x)\n",
    "```\n",
    "\n",
    "The most obvious ways this seems to help us is in removing the various `*_from_array`, as well as allowing us to provide spreg-style userchecks to *any* function without cluttering the body of the function. \n",
    "\n",
    "\n",
    "So, in future, this could mean that any functions that we want common things done to preparse or validate input can be done like:\n",
    "```python\n",
    "@intercept_filepath\n",
    "@intercept_dataframe\n",
    "@validate_iterable(Polygon)\n",
    "@enforce_shapelimit(10000)\n",
    "def Rook(polygon_iterable, transformation='r', **kw):\n",
    "    return do_weights()\n",
    "```\n",
    "This lets you clearly separate the body of the function from the preprocessing and also lets us centralize the usercheck code. \n",
    "\n",
    "This could also work for enforcing consistent array shaping/casting rules, but I will be investigating this going foward. "
   ]
  },
  {
   "cell_type": "markdown",
   "metadata": {},
   "source": [
    "### Right now"
   ]
  },
  {
   "cell_type": "markdown",
   "metadata": {},
   "source": [
    "This means that the core of the polymorphic weights stuff is already done:"
   ]
  },
  {
   "cell_type": "code",
   "execution_count": 12,
   "metadata": {
    "collapsed": true
   },
   "outputs": [],
   "source": [
    "from pysal.weights import user2 as newW"
   ]
  },
  {
   "cell_type": "code",
   "execution_count": 13,
   "metadata": {
    "collapsed": false
   },
   "outputs": [],
   "source": [
    "rW0 = ps.rook_from_shapefile(datapath)\n",
    "rW0named = ps.rook_from_shapefile(datapath, idVariable='FIPS')\n",
    "rW0namedsparse = ps.rook_from_shapefile(datapath, idVariable='FIPS', sparse=True)\n",
    "rW1 = newW.Rook(df)\n",
    "rW2 = newW.Rook(file_handler)\n",
    "rW3 = newW.Rook(datapath)\n",
    "rW4 = newW.Rook(datapath, idVariable='FIPS')\n",
    "rW4 = newW.Rook(datapath, idVariable='FIPS', sparse=True)"
   ]
  },
  {
   "cell_type": "markdown",
   "metadata": {},
   "source": [
    "All that's needed from here to ensure that stuff like `idVariable` and `sparse` options unique to the `*_from_shapefile` functions are respected. "
   ]
  },
  {
   "cell_type": "code",
   "execution_count": 14,
   "metadata": {
    "collapsed": false
   },
   "outputs": [],
   "source": [
    "def compare_weights(w0, *ws):\n",
    "    \"\"\"\n",
    "    Compare any number of spatial weights objects for equality.\n",
    "    \n",
    "    Arguments\n",
    "    ---------\n",
    "    *ws      : positional arguments\n",
    "               an arbitrary number of spatial weights objects\n",
    "    \n",
    "    Returns\n",
    "    -------\n",
    "    list of bools denoting whether a weight is \n",
    "    equivalent to the first argument. \n",
    "    \n",
    "    Note\n",
    "    ----\n",
    "    Since equality is transitive, this implies all weights whose results\n",
    "    are True are equivalent to each other. But, each False result\n",
    "    is not necessarily equivalent to other False results. \n",
    "    \"\"\"\n",
    "    passes = [True]\n",
    "    for wi in ws:\n",
    "        this_passes = []\n",
    "        w0_ordered = not all([isinstance(x, int) for x in w0.id_order])\n",
    "        wi_ordered = not all([isinstance(x, int) for x in wi.id_order])\n",
    "        if w0_ordered and not wi_ordered:\n",
    "            for wi_idx in wi.id_order:\n",
    "                w0_idx = w0.id_order[wi_idx]\n",
    "                w0_weights = w0[w0_idx]\n",
    "                wi_weights = wi[wi_idx]\n",
    "\n",
    "                #de-name\n",
    "                for key in w0_weights.keys():\n",
    "                    name_idx = w0.id_order.index(key)\n",
    "                    w0_weights[name_idx] = w0_weights[key]\n",
    "                    del w0_weights[key]\n",
    "                this_passes.append(w0_weights == wi_weights)\n",
    "        elif wi_ordered and not w0_ordered:\n",
    "            this_passes.append(compare_weights(wi, w0))\n",
    "        elif (not w0_ordered) and (not wi_ordered):\n",
    "            for i in w0.id_order:\n",
    "                this_passes.append(w0[i] == wi[i])\n",
    "        else:\n",
    "            this_passes.append(None)\n",
    "        passes.append(all(this_passes))\n",
    "    if len(passes) == 1:\n",
    "        passes = passes[0]\n",
    "    return passes"
   ]
  },
  {
   "cell_type": "code",
   "execution_count": 15,
   "metadata": {
    "collapsed": false
   },
   "outputs": [
    {
     "data": {
      "text/plain": [
       "[True, True, True, True, True]"
      ]
     },
     "execution_count": 15,
     "metadata": {},
     "output_type": "execute_result"
    }
   ],
   "source": [
    "compare_weights(rW0, rW0named, rW2, rW3, rW4)"
   ]
  }
 ],
 "metadata": {
  "kernelspec": {
   "display_name": "Python 2",
   "language": "python",
   "name": "python2"
  },
  "language_info": {
   "codemirror_mode": {
    "name": "ipython",
    "version": 2
   },
   "file_extension": ".py",
   "mimetype": "text/x-python",
   "name": "python",
   "nbconvert_exporter": "python",
   "pygments_lexer": "ipython2",
   "version": "2.7.11"
  }
 },
 "nbformat": 4,
 "nbformat_minor": 0
}
