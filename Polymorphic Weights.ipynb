{
 "cells": [
  {
   "cell_type": "markdown",
   "metadata": {},
   "source": [
    "There are a few simple things we cna do to help our API become a little simpler. This is in absence of using multiple-dispatch. \n",
    "\n",
    "So, to show the new polymorphic weights constructors in action, I'd like to show a decorator I'd like to place in `common`, the `intercept_filepath` decorator."
   ]
  },
  {
   "cell_type": "code",
   "execution_count": 1,
   "metadata": {
    "collapsed": false
   },
   "outputs": [],
   "source": [
    "import pysal as ps"
   ]
  },
  {
   "cell_type": "code",
   "execution_count": 2,
   "metadata": {
    "collapsed": true
   },
   "outputs": [],
   "source": [
    "datapath = ps.examples.get_path('south.shp')"
   ]
  },
  {
   "cell_type": "code",
   "execution_count": 3,
   "metadata": {
    "collapsed": false
   },
   "outputs": [],
   "source": [
    "df = ps.pdio.read_files(datapath)\n",
    "file_handler = ps.open(datapath)"
   ]
  },
  {
   "cell_type": "markdown",
   "metadata": {},
   "source": [
    "This could be used library-wide to enable what might look like multiple dispatch at first, but is, in fact, a simple way to preparse arguments to match the API of the defined function. \n",
    "\n",
    "In short, the `intercept_filepath` decorator intercepts the arguments that are passed to its function. First, it checks the type of the function's first argument. If it's a string, it attempts to open it using `pysal.open` before sending it to the original function. "
   ]
  },
  {
   "cell_type": "code",
   "execution_count": 4,
   "metadata": {
    "collapsed": false
   },
   "outputs": [],
   "source": [
    "from pysal.common import intercept_filepath"
   ]
  },
  {
   "cell_type": "markdown",
   "metadata": {},
   "source": [
    "To show, this is a simple function that expcets a geometry collection:"
   ]
  },
  {
   "cell_type": "code",
   "execution_count": 5,
   "metadata": {
    "collapsed": false
   },
   "outputs": [],
   "source": [
    "def a(coll, k):\n",
    "    \"\"\"\n",
    "    Print the first k centroids from a geometry collection\n",
    "    \"\"\"\n",
    "    print([coll[i].centroid for i in range(k)])"
   ]
  },
  {
   "cell_type": "markdown",
   "metadata": {},
   "source": [
    "Undecorated, it will not work if a string is passed:"
   ]
  },
  {
   "cell_type": "code",
   "execution_count": 6,
   "metadata": {
    "collapsed": false
   },
   "outputs": [],
   "source": [
    "#a(datapath, 2) #I will fail if you uncomment me"
   ]
  },
  {
   "cell_type": "markdown",
   "metadata": {},
   "source": [
    "But, will work if a file handler or dataframe column is passed:"
   ]
  },
  {
   "cell_type": "code",
   "execution_count": 7,
   "metadata": {
    "collapsed": false
   },
   "outputs": [
    {
     "name": "stdout",
     "output_type": "stream",
     "text": [
      "[(-80.578701723812, 40.520355179265735)]\n",
      "[(-80.578701723812, 40.520355179265735), (-80.57987548953308, 40.27464887574844), (-80.62260358646088, 40.09987235391358), (-80.66606152758811, 39.86106340922978)]\n"
     ]
    }
   ],
   "source": [
    "a(df.geometry, 1)\n",
    "a(file_handler, 4)"
   ]
  },
  {
   "cell_type": "markdown",
   "metadata": {},
   "source": [
    "But, if we decorate the function, we can preprocess the arugments:"
   ]
  },
  {
   "cell_type": "code",
   "execution_count": 8,
   "metadata": {
    "collapsed": true
   },
   "outputs": [],
   "source": [
    "a = intercept_filepath(a) # decorators are just functions that return functions"
   ]
  },
  {
   "cell_type": "code",
   "execution_count": 9,
   "metadata": {
    "collapsed": false
   },
   "outputs": [
    {
     "name": "stdout",
     "output_type": "stream",
     "text": [
      "pysal/examples/south/south.shp\n",
      "[(-80.578701723812, 40.520355179265735)]\n"
     ]
    }
   ],
   "source": [
    "print(datapath)\n",
    "a(datapath, 1)"
   ]
  },
  {
   "cell_type": "markdown",
   "metadata": {},
   "source": [
    "Using this, we can define a target API that *only* constructs weights from iterables. Then, if we decorate that function, we can preparse its arguments to get them in the form the API expects.\n",
    "\n",
    "This is a much cleaner way to do the dispatch-table argument parsing, since we can just centralize **all** deployments of the pattern:\n",
    "```python\n",
    "elif isinstance(x, str):\n",
    "    x = open(x)\n",
    "```\n",
    "in the dispatch table. \n",
    "\n",
    "So, in future, this could mean that any API functions that we want to be very polymorphic look something like:\n",
    "\n",
    "```python\n",
    "@intercept_filepath\n",
    "@intercept_dataframe\n",
    "def Rook(polygon_iterable, transformation='r', **kw):\n",
    "    return do_weights()\n",
    "```\n",
    "This could also work for enforcing consistent array shaping/casting rules, but I will be investigating this going foward. "
   ]
  },
  {
   "cell_type": "markdown",
   "metadata": {},
   "source": [
    "### Right now"
   ]
  },
  {
   "cell_type": "markdown",
   "metadata": {},
   "source": [
    "This means that the polymorphic weights stuff is already done:"
   ]
  },
  {
   "cell_type": "code",
   "execution_count": 10,
   "metadata": {
    "collapsed": true
   },
   "outputs": [],
   "source": [
    "from pysal.weights import user2 as newW"
   ]
  },
  {
   "cell_type": "code",
   "execution_count": 12,
   "metadata": {
    "collapsed": false
   },
   "outputs": [],
   "source": [
    "rW0 = ps.rook_from_shapefile(datapath).full()[0]\n",
    "rW1 = newW.Rook(df).full()[0]\n",
    "rW2 = newW.Rook(file_handler).full()[0]\n",
    "rW3 = newW.Rook(datapath).full()[0]"
   ]
  },
  {
   "cell_type": "code",
   "execution_count": 13,
   "metadata": {
    "collapsed": true
   },
   "outputs": [],
   "source": [
    "from numpy.testing import assert_allclose"
   ]
  },
  {
   "cell_type": "code",
   "execution_count": 14,
   "metadata": {
    "collapsed": true
   },
   "outputs": [],
   "source": [
    "assert_allclose(rW0, rW1)\n",
    "assert_allclose(rW0, rW2)\n",
    "assert_allclose(rW0, rW3)"
   ]
  }
 ],
 "metadata": {
  "kernelspec": {
   "display_name": "Python 2",
   "language": "python",
   "name": "python2"
  },
  "language_info": {
   "codemirror_mode": {
    "name": "ipython",
    "version": 2
   },
   "file_extension": ".py",
   "mimetype": "text/x-python",
   "name": "python",
   "nbconvert_exporter": "python",
   "pygments_lexer": "ipython2",
   "version": "2.7.11"
  }
 },
 "nbformat": 4,
 "nbformat_minor": 0
}
