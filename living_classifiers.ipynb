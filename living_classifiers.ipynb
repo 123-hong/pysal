{
 "cells": [
  {
   "cell_type": "markdown",
   "metadata": {},
   "source": [
    "We've talked a lot about making PySAL objects more than containers for the results of a statistical procedure. \n",
    "\n",
    "One way I think we can do this is to focus on methods like `predict`, `find`, `update`, or `reclassify`. \n",
    "\n",
    "So, here, I'll show the way I've implemented a simple API to update map classifiers by defining their `__call__` method. "
   ]
  },
  {
   "cell_type": "code",
   "execution_count": 2,
   "metadata": {
    "collapsed": true
   },
   "outputs": [],
   "source": [
    "import pysal as ps"
   ]
  },
  {
   "cell_type": "markdown",
   "metadata": {},
   "source": [
    "The patch I applied to mapclassify should be in this github branch. To get it, you'll need to `git fetch` my repository and check out the `reclassify` branch. Alternatively, what I added to `Map_Classifier` is so small, it's easy to show:"
   ]
  },
  {
   "cell_type": "markdown",
   "metadata": {},
   "source": [
    "First, I added a call method:\n",
    "    \n",
    "```python\n",
    "def __call__(self, *args, **kwargs):\n",
    "    \"\"\"\n",
    "    This will allow the classifier to be called like a\n",
    "    function *after* instantiation\n",
    "    \"\"\"\n",
    "    if inplace:\n",
    "        self._update(new_data, **kwargs)\n",
    "    else:\n",
    "        new = copy.deepcopy(self)\n",
    "        new._update(new_data, **kwargs)\n",
    "        return new\n",
    "```"
   ]
  },
  {
   "cell_type": "markdown",
   "metadata": {},
   "source": [
    "This will allow us to do something like:\n",
    "```python\n",
    "classifier = pysal.Quantiles(data)\n",
    "classifier(k=4)\n",
    "classifier(k=9)\n",
    "classifier(new_data, inplace=True)\n",
    "```\n",
    "\n",
    "and proceed to interact with the classifier object over and over again. Since there's an inplace toggle (`False` by default), users can choose when to mutate or when to copy.\n",
    "\n",
    "In theory, the `__call__` method can support *all* of the different `__init__` declarations possible. I've defined it this way because most of the mapclassify methods I can think of use a mandatory data argument and optional keyword arguments. The only one that varies from this is `User_Defined`, which I overwrote to handle correctly. \n",
    "\n",
    "The main point here is that this enables users to quickly reclassify and view new classifications *using the object they created!* Thus, a common use case might be something like this:"
   ]
  },
  {
   "cell_type": "code",
   "execution_count": 4,
   "metadata": {
    "collapsed": true
   },
   "outputs": [],
   "source": [
    "df = ps.pdio.read_files(ps.examples.get_path('south.dbf'))"
   ]
  },
  {
   "cell_type": "code",
   "execution_count": 5,
   "metadata": {
    "collapsed": false
   },
   "outputs": [
    {
     "data": {
      "text/html": [
       "<div>\n",
       "<table border=\"1\" class=\"dataframe\">\n",
       "  <thead>\n",
       "    <tr style=\"text-align: right;\">\n",
       "      <th></th>\n",
       "      <th>FIPSNO</th>\n",
       "      <th>NAME</th>\n",
       "      <th>STATE_NAME</th>\n",
       "      <th>STATE_FIPS</th>\n",
       "      <th>CNTY_FIPS</th>\n",
       "      <th>FIPS</th>\n",
       "      <th>STFIPS</th>\n",
       "      <th>COFIPS</th>\n",
       "      <th>SOUTH</th>\n",
       "      <th>HR60</th>\n",
       "      <th>...</th>\n",
       "      <th>BLK90</th>\n",
       "      <th>GI59</th>\n",
       "      <th>GI69</th>\n",
       "      <th>GI79</th>\n",
       "      <th>GI89</th>\n",
       "      <th>FH60</th>\n",
       "      <th>FH70</th>\n",
       "      <th>FH80</th>\n",
       "      <th>FH90</th>\n",
       "      <th>geometry</th>\n",
       "    </tr>\n",
       "  </thead>\n",
       "  <tbody>\n",
       "    <tr>\n",
       "      <th>0</th>\n",
       "      <td>54029</td>\n",
       "      <td>Hancock</td>\n",
       "      <td>West Virginia</td>\n",
       "      <td>54</td>\n",
       "      <td>029</td>\n",
       "      <td>54029</td>\n",
       "      <td>54</td>\n",
       "      <td>29</td>\n",
       "      <td>1</td>\n",
       "      <td>1.682864</td>\n",
       "      <td>...</td>\n",
       "      <td>2.557262</td>\n",
       "      <td>0.223645</td>\n",
       "      <td>0.295377</td>\n",
       "      <td>0.332251</td>\n",
       "      <td>0.363934</td>\n",
       "      <td>9.981297</td>\n",
       "      <td>7.8</td>\n",
       "      <td>9.785797</td>\n",
       "      <td>12.604552</td>\n",
       "      <td>&lt;pysal.cg.shapes.Polygon object at 0x7fc5495eb...</td>\n",
       "    </tr>\n",
       "    <tr>\n",
       "      <th>1</th>\n",
       "      <td>54009</td>\n",
       "      <td>Brooke</td>\n",
       "      <td>West Virginia</td>\n",
       "      <td>54</td>\n",
       "      <td>009</td>\n",
       "      <td>54009</td>\n",
       "      <td>54</td>\n",
       "      <td>9</td>\n",
       "      <td>1</td>\n",
       "      <td>4.607233</td>\n",
       "      <td>...</td>\n",
       "      <td>0.748370</td>\n",
       "      <td>0.220407</td>\n",
       "      <td>0.318453</td>\n",
       "      <td>0.314165</td>\n",
       "      <td>0.350569</td>\n",
       "      <td>10.929337</td>\n",
       "      <td>8.0</td>\n",
       "      <td>10.214990</td>\n",
       "      <td>11.242293</td>\n",
       "      <td>&lt;pysal.cg.shapes.Polygon object at 0x7fc5495eb...</td>\n",
       "    </tr>\n",
       "    <tr>\n",
       "      <th>2</th>\n",
       "      <td>54069</td>\n",
       "      <td>Ohio</td>\n",
       "      <td>West Virginia</td>\n",
       "      <td>54</td>\n",
       "      <td>069</td>\n",
       "      <td>54069</td>\n",
       "      <td>54</td>\n",
       "      <td>69</td>\n",
       "      <td>1</td>\n",
       "      <td>0.974132</td>\n",
       "      <td>...</td>\n",
       "      <td>3.310334</td>\n",
       "      <td>0.272398</td>\n",
       "      <td>0.358454</td>\n",
       "      <td>0.376963</td>\n",
       "      <td>0.390534</td>\n",
       "      <td>15.621643</td>\n",
       "      <td>12.9</td>\n",
       "      <td>14.716681</td>\n",
       "      <td>17.574021</td>\n",
       "      <td>&lt;pysal.cg.shapes.Polygon object at 0x7fc5495eb...</td>\n",
       "    </tr>\n",
       "    <tr>\n",
       "      <th>3</th>\n",
       "      <td>54051</td>\n",
       "      <td>Marshall</td>\n",
       "      <td>West Virginia</td>\n",
       "      <td>54</td>\n",
       "      <td>051</td>\n",
       "      <td>54051</td>\n",
       "      <td>54</td>\n",
       "      <td>51</td>\n",
       "      <td>1</td>\n",
       "      <td>0.876248</td>\n",
       "      <td>...</td>\n",
       "      <td>0.546097</td>\n",
       "      <td>0.227647</td>\n",
       "      <td>0.319580</td>\n",
       "      <td>0.320953</td>\n",
       "      <td>0.377346</td>\n",
       "      <td>11.962834</td>\n",
       "      <td>8.8</td>\n",
       "      <td>8.803253</td>\n",
       "      <td>13.564159</td>\n",
       "      <td>&lt;pysal.cg.shapes.Polygon object at 0x7fc549565...</td>\n",
       "    </tr>\n",
       "    <tr>\n",
       "      <th>4</th>\n",
       "      <td>10003</td>\n",
       "      <td>New Castle</td>\n",
       "      <td>Delaware</td>\n",
       "      <td>10</td>\n",
       "      <td>003</td>\n",
       "      <td>10003</td>\n",
       "      <td>10</td>\n",
       "      <td>3</td>\n",
       "      <td>1</td>\n",
       "      <td>4.228385</td>\n",
       "      <td>...</td>\n",
       "      <td>16.480294</td>\n",
       "      <td>0.256106</td>\n",
       "      <td>0.329678</td>\n",
       "      <td>0.365830</td>\n",
       "      <td>0.332703</td>\n",
       "      <td>12.035714</td>\n",
       "      <td>10.7</td>\n",
       "      <td>15.169480</td>\n",
       "      <td>16.380903</td>\n",
       "      <td>&lt;pysal.cg.shapes.Polygon object at 0x7fc549565...</td>\n",
       "    </tr>\n",
       "  </tbody>\n",
       "</table>\n",
       "<p>5 rows × 70 columns</p>\n",
       "</div>"
      ],
      "text/plain": [
       "   FIPSNO        NAME     STATE_NAME STATE_FIPS CNTY_FIPS   FIPS  STFIPS  \\\n",
       "0   54029     Hancock  West Virginia         54       029  54029      54   \n",
       "1   54009      Brooke  West Virginia         54       009  54009      54   \n",
       "2   54069        Ohio  West Virginia         54       069  54069      54   \n",
       "3   54051    Marshall  West Virginia         54       051  54051      54   \n",
       "4   10003  New Castle       Delaware         10       003  10003      10   \n",
       "\n",
       "   COFIPS  SOUTH      HR60                        ...                          \\\n",
       "0      29      1  1.682864                        ...                           \n",
       "1       9      1  4.607233                        ...                           \n",
       "2      69      1  0.974132                        ...                           \n",
       "3      51      1  0.876248                        ...                           \n",
       "4       3      1  4.228385                        ...                           \n",
       "\n",
       "       BLK90      GI59      GI69      GI79      GI89       FH60  FH70  \\\n",
       "0   2.557262  0.223645  0.295377  0.332251  0.363934   9.981297   7.8   \n",
       "1   0.748370  0.220407  0.318453  0.314165  0.350569  10.929337   8.0   \n",
       "2   3.310334  0.272398  0.358454  0.376963  0.390534  15.621643  12.9   \n",
       "3   0.546097  0.227647  0.319580  0.320953  0.377346  11.962834   8.8   \n",
       "4  16.480294  0.256106  0.329678  0.365830  0.332703  12.035714  10.7   \n",
       "\n",
       "        FH80       FH90                                           geometry  \n",
       "0   9.785797  12.604552  <pysal.cg.shapes.Polygon object at 0x7fc5495eb...  \n",
       "1  10.214990  11.242293  <pysal.cg.shapes.Polygon object at 0x7fc5495eb...  \n",
       "2  14.716681  17.574021  <pysal.cg.shapes.Polygon object at 0x7fc5495eb...  \n",
       "3   8.803253  13.564159  <pysal.cg.shapes.Polygon object at 0x7fc549565...  \n",
       "4  15.169480  16.380903  <pysal.cg.shapes.Polygon object at 0x7fc549565...  \n",
       "\n",
       "[5 rows x 70 columns]"
      ]
     },
     "execution_count": 5,
     "metadata": {},
     "output_type": "execute_result"
    }
   ],
   "source": [
    "df.head()"
   ]
  },
  {
   "cell_type": "code",
   "execution_count": 7,
   "metadata": {
    "collapsed": true
   },
   "outputs": [],
   "source": [
    "data = df['HR60'].values"
   ]
  },
  {
   "cell_type": "code",
   "execution_count": 8,
   "metadata": {
    "collapsed": true
   },
   "outputs": [],
   "source": [
    "classifier = ps.Quantiles(data)"
   ]
  },
  {
   "cell_type": "code",
   "execution_count": 9,
   "metadata": {
    "collapsed": false
   },
   "outputs": [
    {
     "data": {
      "text/plain": [
       "                Quantiles                \n",
       " \n",
       "Lower            Upper              Count\n",
       "=========================================\n",
       "         x[i] <=  2.497               283\n",
       " 2.497 < x[i] <=  5.104               282\n",
       " 5.104 < x[i] <=  7.621               282\n",
       " 7.621 < x[i] <= 10.981               282\n",
       "10.981 < x[i] <= 92.937               283"
      ]
     },
     "execution_count": 9,
     "metadata": {},
     "output_type": "execute_result"
    }
   ],
   "source": [
    "classifier"
   ]
  },
  {
   "cell_type": "markdown",
   "metadata": {},
   "source": [
    "Once estimated, the user can reclassify based on the same API as the constructor:"
   ]
  },
  {
   "cell_type": "code",
   "execution_count": 10,
   "metadata": {
    "collapsed": false
   },
   "outputs": [
    {
     "data": {
      "text/plain": [
       "                Quantiles                \n",
       " \n",
       "Lower            Upper              Count\n",
       "=========================================\n",
       "         x[i] <=  4.265               471\n",
       " 4.265 < x[i] <=  8.679               470\n",
       " 8.679 < x[i] <= 92.937               471"
      ]
     },
     "execution_count": 10,
     "metadata": {},
     "output_type": "execute_result"
    }
   ],
   "source": [
    "classifier(k=3)"
   ]
  },
  {
   "cell_type": "code",
   "execution_count": 11,
   "metadata": {
    "collapsed": false
   },
   "outputs": [
    {
     "data": {
      "text/plain": [
       "                Quantiles                \n",
       " \n",
       "Lower            Upper              Count\n",
       "=========================================\n",
       "         x[i] <=  0.000               180\n",
       " 0.000 < x[i] <=  2.836               134\n",
       " 2.836 < x[i] <=  4.265               157\n",
       " 4.265 < x[i] <=  5.628               157\n",
       " 5.628 < x[i] <=  7.137               156\n",
       " 7.137 < x[i] <=  8.679               157\n",
       " 8.679 < x[i] <= 10.600               157\n",
       "10.600 < x[i] <= 13.924               157\n",
       "13.924 < x[i] <= 92.937               157"
      ]
     },
     "execution_count": 11,
     "metadata": {},
     "output_type": "execute_result"
    }
   ],
   "source": [
    "classifier(k=9)"
   ]
  },
  {
   "cell_type": "markdown",
   "metadata": {},
   "source": [
    "It doesn't mutate the object unless `inplace` is provided and is true:"
   ]
  },
  {
   "cell_type": "code",
   "execution_count": 13,
   "metadata": {
    "collapsed": false
   },
   "outputs": [
    {
     "data": {
      "text/plain": [
       "                Quantiles                \n",
       " \n",
       "Lower            Upper              Count\n",
       "=========================================\n",
       "         x[i] <=  2.497               283\n",
       " 2.497 < x[i] <=  5.104               282\n",
       " 5.104 < x[i] <=  7.621               282\n",
       " 7.621 < x[i] <= 10.981               282\n",
       "10.981 < x[i] <= 92.937               283"
      ]
     },
     "execution_count": 13,
     "metadata": {},
     "output_type": "execute_result"
    }
   ],
   "source": [
    "classifier"
   ]
  },
  {
   "cell_type": "code",
   "execution_count": 14,
   "metadata": {
    "collapsed": true
   },
   "outputs": [],
   "source": [
    "classifier(k=6, inplace=True)"
   ]
  },
  {
   "cell_type": "code",
   "execution_count": 15,
   "metadata": {
    "collapsed": false
   },
   "outputs": [
    {
     "data": {
      "text/plain": [
       "                Quantiles                \n",
       " \n",
       "Lower            Upper              Count\n",
       "=========================================\n",
       "         x[i] <=  1.993               236\n",
       " 1.993 < x[i] <=  4.265               235\n",
       " 4.265 < x[i] <=  6.245               235\n",
       " 6.245 < x[i] <=  8.679               235\n",
       " 8.679 < x[i] <= 11.850               235\n",
       "11.850 < x[i] <= 92.937               236"
      ]
     },
     "execution_count": 15,
     "metadata": {},
     "output_type": "execute_result"
    }
   ],
   "source": [
    "classifier"
   ]
  },
  {
   "cell_type": "markdown",
   "metadata": {},
   "source": [
    "This also enables users to add new data to the classifier. \n",
    "\n",
    "Now, I *bet* there are better updating equations for the different classifiers than reestimating the entire classifier, like there are for [running median problems](https://rhettinger.wordpress.com/tag/running-median/). I anticipated extending this work with more sophisticated updaters than just reclassifying the entire set. This is why I split the `__call__` method from what *really* does the updating:\n",
    "\n",
    "```python\n",
    "def _update(self, data, *args, **kwargs):\n",
    "    if data is not None:\n",
    "        data = np.append(data.flatten(), y)\n",
    "    else:\n",
    "        data = self.y\n",
    "    self.__init__(data, *args, **kwargs) #this is the most naive updater\n",
    "```\n",
    "As the comment denotes, this is the most universally-acceptible updater, hence it's definition in the Map_Classify baseclass. Fortunately, this means that any new classifier defined as a subclass of this gets a very naive in-place reclassification method **for free.** \n",
    "\n",
    "Thus, you can do stuff like:"
   ]
  },
  {
   "cell_type": "code",
   "execution_count": 17,
   "metadata": {
    "collapsed": false
   },
   "outputs": [],
   "source": [
    "new_data = df['HR90'].values"
   ]
  },
  {
   "cell_type": "code",
   "execution_count": 19,
   "metadata": {
    "collapsed": false
   },
   "outputs": [
    {
     "data": {
      "text/plain": [
       "                Quantiles                \n",
       " \n",
       "Lower            Upper              Count\n",
       "=========================================\n",
       "         x[i] <=  3.228               565\n",
       " 3.228 < x[i] <=  5.912               565\n",
       " 5.912 < x[i] <=  8.710               564\n",
       " 8.710 < x[i] <= 12.735               565\n",
       "12.735 < x[i] <= 92.937               565"
      ]
     },
     "execution_count": 19,
     "metadata": {},
     "output_type": "execute_result"
    }
   ],
   "source": [
    "classifier(new_data)"
   ]
  },
  {
   "cell_type": "code",
   "execution_count": 20,
   "metadata": {
    "collapsed": false
   },
   "outputs": [
    {
     "data": {
      "text/plain": [
       "                Quantiles                \n",
       " \n",
       "Lower            Upper              Count\n",
       "=========================================\n",
       "         x[i] <=  0.000               296\n",
       " 0.000 < x[i] <=  2.200               108\n",
       " 2.200 < x[i] <=  3.469               201\n",
       " 3.469 < x[i] <=  4.483               202\n",
       " 4.483 < x[i] <=  5.394               202\n",
       " 5.394 < x[i] <=  6.282               201\n",
       " 6.282 < x[i] <=  7.297               202\n",
       " 7.297 < x[i] <=  8.266               202\n",
       " 8.266 < x[i] <=  9.348               201\n",
       " 9.348 < x[i] <= 10.628               202\n",
       "10.628 < x[i] <= 12.217               202\n",
       "12.217 < x[i] <= 14.603               201\n",
       "14.603 < x[i] <= 18.544               202\n",
       "18.544 < x[i] <= 92.937               202"
      ]
     },
     "execution_count": 20,
     "metadata": {},
     "output_type": "execute_result"
    }
   ],
   "source": [
    "classifier(new_data, k=14)"
   ]
  },
  {
   "cell_type": "code",
   "execution_count": 21,
   "metadata": {
    "collapsed": true
   },
   "outputs": [],
   "source": [
    "classifier(new_data, k=6, inplace=True)"
   ]
  },
  {
   "cell_type": "code",
   "execution_count": 22,
   "metadata": {
    "collapsed": false
   },
   "outputs": [
    {
     "data": {
      "text/plain": [
       "                Quantiles                \n",
       " \n",
       "Lower            Upper              Count\n",
       "=========================================\n",
       "         x[i] <=  2.691               471\n",
       " 2.691 < x[i] <=  5.069               471\n",
       " 5.069 < x[i] <=  7.297               470\n",
       " 7.297 < x[i] <=  9.736               471\n",
       " 9.736 < x[i] <= 13.736               470\n",
       "13.736 < x[i] <= 92.937               471"
      ]
     },
     "execution_count": 22,
     "metadata": {},
     "output_type": "execute_result"
    }
   ],
   "source": [
    "classifier"
   ]
  },
  {
   "cell_type": "markdown",
   "metadata": {},
   "source": [
    "So, this is what I mean by \"responsive\" classes. They should:\n",
    "1. support updating/reuse w/ new data\n",
    "2. support augmentation of initial/init-time options/parameters\n",
    "3. provide `__call__` methods that consistently either `update` or `use`. \n",
    "\n",
    "In map classification, I think `__call__` would be better suited to `find_bin` than `update_bins`. \n",
    "In spatial regression, I think `__call__` would be better suited to `predict` than something else. \n",
    "\n",
    "`__call__` should **never** alias `summary()` methods, which probably belong in `__repr__`, anyway. "
   ]
  },
  {
   "cell_type": "code",
   "execution_count": null,
   "metadata": {
    "collapsed": true
   },
   "outputs": [],
   "source": []
  }
 ],
 "metadata": {
  "kernelspec": {
   "display_name": "Python 2",
   "language": "python",
   "name": "python2"
  },
  "language_info": {
   "codemirror_mode": {
    "name": "ipython",
    "version": 2
   },
   "file_extension": ".py",
   "mimetype": "text/x-python",
   "name": "python",
   "nbconvert_exporter": "python",
   "pygments_lexer": "ipython2",
   "version": "2.7.11"
  }
 },
 "nbformat": 4,
 "nbformat_minor": 0
}
