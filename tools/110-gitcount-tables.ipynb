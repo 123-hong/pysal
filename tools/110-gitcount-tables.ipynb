{
 "cells": [
  {
   "cell_type": "markdown",
   "metadata": {},
   "source": [
    "## PySAL Change Log Statistics: Table Generation\n",
    "\n",
    "This notebook generates the summary statistics for use in the 6-month releases of PySAL, which is now a meta package. \n",
    "\n",
    "It assumes the subpackages have been git cloned in a directory below the location of this notebook. It also requires network connectivity for some of the reporting.\n",
    "\n",
    "Run this notebook after `100-gitcount.ipynb`\n"
   ]
  },
  {
   "cell_type": "code",
   "execution_count": 1,
   "metadata": {},
   "outputs": [],
   "source": [
    "from __future__ import print_function\n",
    "import os\n",
    "import json\n",
    "import re\n",
    "import sys\n",
    "import pandas\n",
    "import subprocess\n",
    "from subprocess import check_output\n",
    "\n",
    "#import yaml\n",
    "from datetime import datetime, timedelta\n",
    "\n",
    "from dateutil.parser import parse\n",
    "import pytz\n",
    "\n",
    "utc=pytz.UTC\n",
    "\n",
    "try:\n",
    "    from urllib import urlopen\n",
    "except:\n",
    "    from urllib.request import urlopen\n",
    "\n",
    "\n"
   ]
  },
  {
   "cell_type": "code",
   "execution_count": 142,
   "metadata": {},
   "outputs": [],
   "source": [
    "PYSAL_RELEASE = '2020-02-09'\n",
    "release_date = datetime.strptime(PYSAL_RELEASE+\" 0:0:0\", \"%Y-%m-%d %H:%M:%S\")"
   ]
  },
  {
   "cell_type": "code",
   "execution_count": 143,
   "metadata": {},
   "outputs": [
    {
     "data": {
      "text/plain": [
       "datetime.datetime(2020, 2, 9, 0, 0)"
      ]
     },
     "execution_count": 143,
     "metadata": {},
     "output_type": "execute_result"
    }
   ],
   "source": [
    "release_date"
   ]
  },
  {
   "cell_type": "code",
   "execution_count": 2,
   "metadata": {},
   "outputs": [],
   "source": [
    "CWD = os.path.abspath(os.path.curdir)"
   ]
  },
  {
   "cell_type": "code",
   "execution_count": 3,
   "metadata": {},
   "outputs": [
    {
     "data": {
      "text/plain": [
       "'/Users/serge/Dropbox/p/pysal/src/pysal/tools'"
      ]
     },
     "execution_count": 3,
     "metadata": {},
     "output_type": "execute_result"
    }
   ],
   "source": [
    "CWD"
   ]
  },
  {
   "cell_type": "code",
   "execution_count": 4,
   "metadata": {},
   "outputs": [
    {
     "data": {
      "text/plain": [
       "datetime.datetime(2019, 7, 29, 0, 0)"
      ]
     },
     "execution_count": 4,
     "metadata": {},
     "output_type": "execute_result"
    }
   ],
   "source": [
    "start_date = '2019-07-29'\n",
    "since_date = '--since=\"{start}\"'.format(start=start_date)\n",
    "since_date\n",
    "since = datetime.strptime(start_date+\" 0:0:0\", \"%Y-%m-%d %H:%M:%S\")\n",
    "since"
   ]
  },
  {
   "cell_type": "code",
   "execution_count": 5,
   "metadata": {},
   "outputs": [],
   "source": [
    "with open('package_versions.txt', 'r') as package_list:\n",
    "    packages = dict([line.strip().split() for line in package_list.readlines()])"
   ]
  },
  {
   "cell_type": "code",
   "execution_count": 6,
   "metadata": {},
   "outputs": [
    {
     "data": {
      "text/plain": [
       "{'libpysal': '4.2.2',\n",
       " 'esda': '2.2.1',\n",
       " 'giddy': '2.3.0',\n",
       " 'inequality': '1.0.0',\n",
       " 'pointpats': '2.1.0',\n",
       " 'segregation': '1.2.0',\n",
       " 'spaghetti': '1.4.1',\n",
       " 'mgwr': '2.1.1',\n",
       " 'spglm': '1.0.7',\n",
       " 'spint': '1.0.6',\n",
       " 'spreg': '1.0.4',\n",
       " 'spvcm': '0.3.0',\n",
       " 'tobler': '0.2.0',\n",
       " 'mapclassify': '2.2.0',\n",
       " 'splot': '1.1.2'}"
      ]
     },
     "execution_count": 6,
     "metadata": {},
     "output_type": "execute_result"
    }
   ],
   "source": [
    "packages"
   ]
  },
  {
   "cell_type": "code",
   "execution_count": 7,
   "metadata": {},
   "outputs": [],
   "source": [
    "import pickle"
   ]
  },
  {
   "cell_type": "code",
   "execution_count": 8,
   "metadata": {},
   "outputs": [],
   "source": [
    "issues_closed = pickle.load(open(\"issues_closed.p\", 'rb'))\n",
    "pulls_closed = pickle.load(open('pulls_closed.p', 'rb'))"
   ]
  },
  {
   "cell_type": "code",
   "execution_count": 9,
   "metadata": {},
   "outputs": [
    {
     "data": {
      "text/plain": [
       "dict"
      ]
     },
     "execution_count": 9,
     "metadata": {},
     "output_type": "execute_result"
    }
   ],
   "source": [
    "type(issues_closed)"
   ]
  },
  {
   "cell_type": "code",
   "execution_count": 10,
   "metadata": {},
   "outputs": [
    {
     "data": {
      "text/plain": [
       "dict_keys(['libpysal', 'esda', 'giddy', 'inequality', 'pointpats', 'segregation', 'spaghetti', 'mgwr', 'spglm', 'spint', 'spreg', 'spvcm', 'tobler', 'mapclassify', 'splot', 'pysal'])"
      ]
     },
     "execution_count": 10,
     "metadata": {},
     "output_type": "execute_result"
    }
   ],
   "source": [
    "issues_closed.keys()"
   ]
  },
  {
   "cell_type": "code",
   "execution_count": 11,
   "metadata": {},
   "outputs": [],
   "source": [
    "from release_info import get_pypi_info, get_github_info, clone_masters"
   ]
  },
  {
   "cell_type": "code",
   "execution_count": 12,
   "metadata": {},
   "outputs": [
    {
     "name": "stdout",
     "output_type": "stream",
     "text": [
      "libpysal 4.2.2\n",
      "git clone --branch master https://github.com/pysal/libpysal.git tmp/libpysal\n",
      "esda 2.2.1\n",
      "git clone --branch master https://github.com/pysal/esda.git tmp/esda\n",
      "giddy 2.3.0\n",
      "git clone --branch master https://github.com/pysal/giddy.git tmp/giddy\n",
      "inequality 1.0.0\n",
      "git clone --branch master https://github.com/pysal/inequality.git tmp/inequality\n",
      "pointpats 2.1.0\n",
      "git clone --branch master https://github.com/pysal/pointpats.git tmp/pointpats\n",
      "segregation 1.2.0\n",
      "git clone --branch master https://github.com/pysal/segregation.git tmp/segregation\n",
      "spaghetti 1.4.1\n",
      "git clone --branch master https://github.com/pysal/spaghetti.git tmp/spaghetti\n",
      "mgwr 2.1.1\n",
      "git clone --branch master https://github.com/pysal/mgwr.git tmp/mgwr\n",
      "spglm 1.0.7\n",
      "git clone --branch master https://github.com/pysal/spglm.git tmp/spglm\n",
      "spint 1.0.6\n",
      "git clone --branch master https://github.com/pysal/spint.git tmp/spint\n",
      "spreg 1.0.4\n",
      "git clone --branch master https://github.com/pysal/spreg.git tmp/spreg\n",
      "spvcm 0.3.0\n",
      "git clone --branch master https://github.com/pysal/spvcm.git tmp/spvcm\n",
      "tobler 0.2.0\n",
      "git clone --branch master https://github.com/pysal/tobler.git tmp/tobler\n",
      "mapclassify 2.2.0\n",
      "git clone --branch master https://github.com/pysal/mapclassify.git tmp/mapclassify\n",
      "splot 1.1.2\n",
      "git clone --branch master https://github.com/pysal/splot.git tmp/splot\n",
      "pysal 2.2.0\n",
      "git clone --branch master https://github.com/pysal/pysal.git tmp/pysal\n"
     ]
    }
   ],
   "source": [
    "clone_masters()"
   ]
  },
  {
   "cell_type": "code",
   "execution_count": 13,
   "metadata": {},
   "outputs": [
    {
     "name": "stdout",
     "output_type": "stream",
     "text": [
      "https://api.github.com/repos/pysal/libpysal/releases/latest\n",
      "https://api.github.com/repos/pysal/esda/releases/latest\n",
      "https://api.github.com/repos/pysal/giddy/releases/latest\n",
      "https://api.github.com/repos/pysal/inequality/releases/latest\n",
      "https://api.github.com/repos/pysal/pointpats/releases/latest\n",
      "https://api.github.com/repos/pysal/segregation/releases/latest\n",
      "https://api.github.com/repos/pysal/spaghetti/releases/latest\n",
      "https://api.github.com/repos/pysal/mgwr/releases/latest\n",
      "https://api.github.com/repos/pysal/spglm/releases/latest\n",
      "https://api.github.com/repos/pysal/spint/releases/latest\n",
      "https://api.github.com/repos/pysal/spreg/releases/latest\n",
      "https://api.github.com/repos/pysal/spvcm/releases/latest\n",
      "https://api.github.com/repos/pysal/tobler/releases/latest\n",
      "https://api.github.com/repos/pysal/mapclassify/releases/latest\n",
      "https://api.github.com/repos/pysal/splot/releases/latest\n",
      "https://api.github.com/repos/pysal/pysal/releases/latest\n"
     ]
    }
   ],
   "source": [
    "github_releases = get_github_info()"
   ]
  },
  {
   "cell_type": "code",
   "execution_count": 14,
   "metadata": {},
   "outputs": [],
   "source": [
    "pypi_releases = get_pypi_info()"
   ]
  },
  {
   "cell_type": "code",
   "execution_count": 15,
   "metadata": {},
   "outputs": [
    {
     "data": {
      "text/plain": [
       "{'version': '2.2.1', 'released': datetime.datetime(2020, 2, 1, 19, 30, 1)}"
      ]
     },
     "execution_count": 15,
     "metadata": {},
     "output_type": "execute_result"
    }
   ],
   "source": [
    "pypi_releases['esda']"
   ]
  },
  {
   "cell_type": "code",
   "execution_count": 16,
   "metadata": {},
   "outputs": [],
   "source": [
    "# only issues closed before or on release date on pypi"
   ]
  },
  {
   "cell_type": "code",
   "execution_count": 17,
   "metadata": {},
   "outputs": [],
   "source": [
    "from datetime import datetime"
   ]
  },
  {
   "cell_type": "code",
   "execution_count": 18,
   "metadata": {},
   "outputs": [],
   "source": [
    "cut_off = pypi_releases['esda']['released']"
   ]
  },
  {
   "cell_type": "code",
   "execution_count": 185,
   "metadata": {},
   "outputs": [],
   "source": [
    "pysal_date = datetime.strptime('2020-02-09T12:00:00Z', '%Y-%m-%dT%H:%M:%SZ')\n",
    "#ISO8601 = \"%Y-%m-%dT%H:%M:%SZ\"\n"
   ]
  },
  {
   "cell_type": "code",
   "execution_count": 186,
   "metadata": {},
   "outputs": [],
   "source": [
    "pysal_rel = {'version': 'v2.2.0',\n",
    "            'release_date': pysal_date}\n",
    "github_releases['pysal'] = pysal_rel"
   ]
  },
  {
   "cell_type": "code",
   "execution_count": 187,
   "metadata": {},
   "outputs": [
    {
     "data": {
      "text/plain": [
       "{'libpysal': {'version': 'v4.2.2',\n",
       "  'url': 'https://api.github.com/repos/pysal/libpysal/tarball/v4.2.2',\n",
       "  'release_date': datetime.datetime(2020, 2, 1, 18, 25, 1)},\n",
       " 'esda': {'version': 'v2.2.1',\n",
       "  'url': 'https://api.github.com/repos/pysal/esda/tarball/v2.2.1',\n",
       "  'release_date': datetime.datetime(2020, 2, 1, 19, 30, 40)},\n",
       " 'giddy': {'version': 'v2.3.0',\n",
       "  'url': 'https://api.github.com/repos/pysal/giddy/tarball/v2.3.0',\n",
       "  'release_date': datetime.datetime(2019, 12, 21, 7, 4, 44)},\n",
       " 'inequality': {'version': 'v1.0.0',\n",
       "  'url': 'https://api.github.com/repos/pysal/inequality/tarball/v1.0.0',\n",
       "  'release_date': datetime.datetime(2018, 10, 31, 22, 28, 18)},\n",
       " 'pointpats': {'version': 'v2.1.0',\n",
       "  'url': 'https://api.github.com/repos/pysal/pointpats/tarball/v2.1.0',\n",
       "  'release_date': datetime.datetime(2019, 7, 2, 5, 21, 33)},\n",
       " 'segregation': {'version': 'v1.2.0',\n",
       "  'url': 'https://api.github.com/repos/pysal/segregation/tarball/v1.2.0',\n",
       "  'release_date': datetime.datetime(2020, 2, 1, 1, 5, 17)},\n",
       " 'spaghetti': {'version': 'v1.4.1',\n",
       "  'url': 'https://api.github.com/repos/pysal/spaghetti/tarball/v1.4.1',\n",
       "  'release_date': datetime.datetime(2020, 1, 26, 0, 35, 48)},\n",
       " 'mgwr': {'version': 'v2.1.1',\n",
       "  'url': 'https://api.github.com/repos/pysal/mgwr/tarball/v2.1.1',\n",
       "  'release_date': datetime.datetime(2019, 7, 18, 18, 42, 36)},\n",
       " 'spglm': {'version': 'v1.0.7',\n",
       "  'url': 'https://api.github.com/repos/pysal/spglm/tarball/v1.0.7',\n",
       "  'release_date': datetime.datetime(2019, 7, 18, 17, 29, 39)},\n",
       " 'spint': {'version': 'v1.0.6',\n",
       "  'url': 'https://api.github.com/repos/pysal/spint/tarball/v1.0.6',\n",
       "  'release_date': datetime.datetime(2019, 7, 23, 0, 51, 26)},\n",
       " 'spreg': {'version': 'v1.1.0',\n",
       "  'url': 'https://api.github.com/repos/pysal/spreg/tarball/v1.1.0',\n",
       "  'release_date': datetime.datetime(2019, 6, 29, 18, 42, 16)},\n",
       " 'spvcm': {'version': 'v0.3.0',\n",
       "  'url': 'https://api.github.com/repos/pysal/spvcm/tarball/v0.3.0',\n",
       "  'release_date': datetime.datetime(2020, 2, 2, 19, 42, 39)},\n",
       " 'tobler': {'version': 'v0.2.0',\n",
       "  'url': 'https://api.github.com/repos/pysal/tobler/tarball/v0.2.0',\n",
       "  'release_date': datetime.datetime(2020, 1, 5, 22, 5, 47)},\n",
       " 'mapclassify': {'version': 'v2.2.0',\n",
       "  'url': 'https://api.github.com/repos/pysal/mapclassify/tarball/v2.2.0',\n",
       "  'release_date': datetime.datetime(2020, 1, 4, 21, 7, 8)},\n",
       " 'splot': {'version': 'v1.1.2',\n",
       "  'url': 'https://api.github.com/repos/pysal/splot/tarball/v1.1.2',\n",
       "  'release_date': datetime.datetime(2020, 1, 18, 20, 53, 26)},\n",
       " 'pysal': {'version': 'v2.2.0',\n",
       "  'release_date': datetime.datetime(2020, 2, 9, 12, 0)}}"
      ]
     },
     "execution_count": 187,
     "metadata": {},
     "output_type": "execute_result"
    }
   ],
   "source": [
    "github_releases"
   ]
  },
  {
   "cell_type": "code",
   "execution_count": 188,
   "metadata": {},
   "outputs": [],
   "source": [
    "packages['pysal'] = '2.2.0'"
   ]
  },
  {
   "cell_type": "code",
   "execution_count": 189,
   "metadata": {},
   "outputs": [
    {
     "name": "stdout",
     "output_type": "stream",
     "text": [
      "libpysal 2020-02-01 18:25:01 65 64 38 37\n",
      "esda 2020-02-01 19:30:40 18 14 14 10\n",
      "giddy 2019-12-21 07:04:44 17 13 12 9\n",
      "inequality 2018-10-31 22:28:18 1 0 1 0\n",
      "pointpats 2019-07-02 05:21:33 6 0 6 0\n",
      "segregation 2020-02-01 01:05:17 23 23 12 12\n",
      "spaghetti 2020-01-26 00:35:48 112 101 66 61\n",
      "mgwr 2019-07-18 18:42:36 1 0 1 0\n",
      "spglm 2019-07-18 17:29:39 1 0 1 0\n",
      "spint 2019-07-23 00:51:26 1 0 1 0\n",
      "spreg 2019-06-29 18:42:16 4 0 3 0\n",
      "spvcm 2020-02-02 19:42:39 2 2 2 2\n",
      "tobler 2020-01-05 22:05:47 43 40 34 31\n",
      "mapclassify 2020-01-04 21:07:08 12 12 9 9\n",
      "splot 2020-01-18 20:53:26 17 17 11 11\n",
      "pysal 2020-02-09 12:00:00 21 21 10 10\n"
     ]
    }
   ],
   "source": [
    "from datetime import datetime\n",
    "datetime.fromtimestamp(0)\n",
    "ISO8601 = \"%Y-%m-%dT%H:%M:%SZ\"\n",
    "\n",
    "\n",
    "final_pulls = {}\n",
    "final_issues = {}\n",
    "for package in packages:\n",
    "    filtered_issues = []\n",
    "    filtered_pulls = []\n",
    "    released = github_releases[package]['release_date']\n",
    "    package_pulls = pulls_closed[package]\n",
    "    package_issues = issues_closed[package]\n",
    "    for issue in package_issues:\n",
    "        #print(issue['number'], issue['title'], issue['closed_at'])\n",
    "        closed = datetime.strptime(issue['closed_at'], ISO8601)\n",
    "        if closed <= released:\n",
    "            filtered_issues.append(issue)\n",
    "    final_issues[package] = filtered_issues\n",
    "    for pull in package_pulls:\n",
    "        #print(pull['number'], pull['title'], pull['closed_at'])\n",
    "        closed = datetime.strptime(pull['closed_at'], ISO8601)\n",
    "        if closed <= released:\n",
    "            filtered_pulls.append(pull)\n",
    "    final_pulls[package] = filtered_pulls\n",
    "    print(package, released, len(package_issues), len(filtered_issues), len(package_pulls),\n",
    "         len(filtered_pulls))"
   ]
  },
  {
   "cell_type": "code",
   "execution_count": 190,
   "metadata": {},
   "outputs": [],
   "source": [
    "issue_details = final_issues\n",
    "pull_details = final_pulls"
   ]
  },
  {
   "cell_type": "code",
   "execution_count": 191,
   "metadata": {},
   "outputs": [
    {
     "data": {
      "text/plain": [
       "{'libpysal': '4.2.2',\n",
       " 'esda': '2.2.1',\n",
       " 'giddy': '2.3.0',\n",
       " 'inequality': '1.0.0',\n",
       " 'pointpats': '2.1.0',\n",
       " 'segregation': '1.2.0',\n",
       " 'spaghetti': '1.4.1',\n",
       " 'mgwr': '2.1.1',\n",
       " 'spglm': '1.0.7',\n",
       " 'spint': '1.0.6',\n",
       " 'spreg': '1.0.4',\n",
       " 'spvcm': '0.3.0',\n",
       " 'tobler': '0.2.0',\n",
       " 'mapclassify': '2.2.0',\n",
       " 'splot': '1.1.2',\n",
       " 'pysal': '2.2.0'}"
      ]
     },
     "execution_count": 191,
     "metadata": {},
     "output_type": "execute_result"
    }
   ],
   "source": [
    "packages"
   ]
  },
  {
   "cell_type": "code",
   "execution_count": 192,
   "metadata": {},
   "outputs": [],
   "source": [
    "github_releases['pysal']['release_date'] = release_date"
   ]
  },
  {
   "cell_type": "code",
   "execution_count": 193,
   "metadata": {},
   "outputs": [
    {
     "data": {
      "text/plain": [
       "datetime.datetime(2020, 2, 9, 12, 0)"
      ]
     },
     "execution_count": 193,
     "metadata": {},
     "output_type": "execute_result"
    }
   ],
   "source": [
    "released"
   ]
  },
  {
   "cell_type": "code",
   "execution_count": 194,
   "metadata": {},
   "outputs": [
    {
     "name": "stdout",
     "output_type": "stream",
     "text": [
      "libpysal 204 202 2020-02-01\n",
      "esda 51 36 2020-02-01\n",
      "giddy 42 31 2019-12-21\n",
      "inequality 1 0 2018-10-31\n",
      "pointpats 25 0 2019-07-02\n",
      "segregation 38 38 2020-02-01\n",
      "spaghetti 348 306 2020-01-26\n",
      "mgwr 5 0 2019-07-18\n",
      "spglm 2 0 2019-07-18\n",
      "spint 7 0 2019-07-23\n",
      "spreg 44 0 2019-06-29\n",
      "spvcm 12 12 2020-02-02\n",
      "tobler 187 173 2020-01-05\n",
      "mapclassify 32 32 2020-01-04\n",
      "splot 42 37 2020-01-18\n",
      "pysal 82 82 2020-02-09\n"
     ]
    }
   ],
   "source": [
    "# commits\n",
    "cmd = ['git', 'log', '--oneline', since_date]\n",
    "\n",
    "activity = {}\n",
    "total_commits = 0\n",
    "tag_dates = {}\n",
    "for subpackage in packages:\n",
    "    released = github_releases[subpackage]['release_date']\n",
    "    tag_date = released.strftime(\"%Y-%m-%d\")\n",
    "    tag_dates[subpackage] = tag_date\n",
    "    #print(tag_date)\n",
    "    #tag_date = tag_dates[subpackage]\n",
    "    os.chdir(CWD)\n",
    "    os.chdir('tmp/{subpackage}'.format(subpackage=subpackage))\n",
    "    cmd_until = cmd + ['--until=\"{tag_date}\"'.format(tag_date=tag_date)]\n",
    "    ncommits = len(check_output(cmd_until).splitlines())\n",
    "    ncommits_total = len(check_output(cmd).splitlines())\n",
    "    print(subpackage, ncommits_total, ncommits, tag_date)\n",
    "    total_commits += ncommits\n",
    "    activity[subpackage] = ncommits"
   ]
  },
  {
   "cell_type": "code",
   "execution_count": null,
   "metadata": {},
   "outputs": [],
   "source": []
  },
  {
   "cell_type": "code",
   "execution_count": 195,
   "metadata": {},
   "outputs": [
    {
     "data": {
      "text/plain": [
       "'/Users/serge/Dropbox/p/pysal/src/pysal/tools'"
      ]
     },
     "execution_count": 195,
     "metadata": {},
     "output_type": "execute_result"
    }
   ],
   "source": [
    "CWD"
   ]
  },
  {
   "cell_type": "code",
   "execution_count": 196,
   "metadata": {},
   "outputs": [
    {
     "name": "stdout",
     "output_type": "stream",
     "text": [
      "libpysal 204 202 2020-02-01\n",
      "esda 51 36 2020-02-01\n",
      "giddy 42 31 2019-12-21\n",
      "inequality 1 0 2018-10-31\n",
      "pointpats 25 0 2019-07-02\n",
      "segregation 38 38 2020-02-01\n",
      "spaghetti 348 306 2020-01-26\n",
      "mgwr 5 0 2019-07-18\n",
      "spglm 2 0 2019-07-18\n",
      "spint 7 0 2019-07-23\n",
      "spreg 44 0 2019-06-29\n",
      "spvcm 12 12 2020-02-02\n",
      "tobler 187 173 2020-01-05\n",
      "mapclassify 32 32 2020-01-04\n",
      "splot 42 37 2020-01-18\n",
      "pysal 82 82 2020-02-09\n"
     ]
    }
   ],
   "source": [
    "# commits\n",
    "cmd = ['git', 'log', '--oneline', since_date]\n",
    "\n",
    "activity = {}\n",
    "total_commits = 0\n",
    "for subpackage in packages:\n",
    "    tag_date = tag_dates[subpackage]\n",
    "    os.chdir(CWD)\n",
    "    os.chdir('tmp/{subpackage}'.format(subpackage=subpackage))\n",
    "    cmd_until = cmd + ['--until=\"{tag_date}\"'.format(tag_date=tag_date)]\n",
    "    ncommits = len(check_output(cmd_until).splitlines())\n",
    "    ncommits_total = len(check_output(cmd).splitlines())\n",
    "    print(subpackage, ncommits_total, ncommits, tag_date)\n",
    "    total_commits += ncommits\n",
    "    activity[subpackage] = ncommits"
   ]
  },
  {
   "cell_type": "code",
   "execution_count": 197,
   "metadata": {},
   "outputs": [
    {
     "data": {
      "text/plain": [
       "['git', 'log', '--oneline', '--since=\"2019-07-29\"', '--until=\"2020-02-09\"']"
      ]
     },
     "execution_count": 197,
     "metadata": {},
     "output_type": "execute_result"
    }
   ],
   "source": [
    "cmd_until"
   ]
  },
  {
   "cell_type": "code",
   "execution_count": 198,
   "metadata": {},
   "outputs": [],
   "source": [
    "identities = {'Levi John Wolf': ('ljwolf', 'Levi John Wolf'),\n",
    "              'Serge Rey': ('Serge Rey', 'Sergio Rey', 'sjsrey', 'serge'),\n",
    "              'Wei Kang': ('Wei Kang', 'weikang9009'),\n",
    "              'Dani Arribas-Bel': ('Dani Arribas-Bel', 'darribas'),\n",
    "              'Antti Härkönen': ( 'antth', 'Antti Härkönen', 'Antti Härkönen', 'Antth'  ),\n",
    "              'Juan C Duque': ('Juan C Duque', \"Juan Duque\"),\n",
    "              'Renan Xavier Cortes': ('Renan Xavier Cortes', 'renanxcortes', 'Renan Xavier Cortes'   ),\n",
    "              'Taylor Oshan': ('Tayloroshan', 'Taylor Oshan', 'TaylorOshan'),\n",
    "              'Tom Gertin': ('@Tomgertin', 'Tom Gertin', '@tomgertin')\n",
    "}\n",
    "\n",
    "def regularize_identity(string):\n",
    "    string = string.decode()\n",
    "    for name, aliases in identities.items():\n",
    "        for alias in aliases:\n",
    "            if alias in string:\n",
    "                string = string.replace(alias, name)\n",
    "    if len(string.split(' '))>1:\n",
    "        string = string.title()\n",
    "    return string.lstrip('* ')"
   ]
  },
  {
   "cell_type": "code",
   "execution_count": 199,
   "metadata": {},
   "outputs": [],
   "source": [
    "author_cmd = ['git', 'log', '--format=* %aN', since_date]"
   ]
  },
  {
   "cell_type": "code",
   "execution_count": 200,
   "metadata": {},
   "outputs": [],
   "source": [
    "author_cmd.append('blank')"
   ]
  },
  {
   "cell_type": "code",
   "execution_count": 201,
   "metadata": {},
   "outputs": [
    {
     "data": {
      "text/plain": [
       "['git', 'log', '--format=* %aN', '--since=\"2019-07-29\"', 'blank']"
      ]
     },
     "execution_count": 201,
     "metadata": {},
     "output_type": "execute_result"
    }
   ],
   "source": [
    "author_cmd"
   ]
  },
  {
   "cell_type": "code",
   "execution_count": 202,
   "metadata": {},
   "outputs": [],
   "source": [
    "from collections import Counter"
   ]
  },
  {
   "cell_type": "code",
   "execution_count": 203,
   "metadata": {},
   "outputs": [
    {
     "data": {
      "text/plain": [
       "{'libpysal': '2020-02-01',\n",
       " 'esda': '2020-02-01',\n",
       " 'giddy': '2019-12-21',\n",
       " 'inequality': '2018-10-31',\n",
       " 'pointpats': '2019-07-02',\n",
       " 'segregation': '2020-02-01',\n",
       " 'spaghetti': '2020-01-26',\n",
       " 'mgwr': '2019-07-18',\n",
       " 'spglm': '2019-07-18',\n",
       " 'spint': '2019-07-23',\n",
       " 'spreg': '2019-06-29',\n",
       " 'spvcm': '2020-02-02',\n",
       " 'tobler': '2020-01-05',\n",
       " 'mapclassify': '2020-01-04',\n",
       " 'splot': '2020-01-18',\n",
       " 'pysal': '2020-02-09'}"
      ]
     },
     "execution_count": 203,
     "metadata": {},
     "output_type": "execute_result"
    }
   ],
   "source": [
    "tag_dates"
   ]
  },
  {
   "cell_type": "code",
   "execution_count": 204,
   "metadata": {},
   "outputs": [
    {
     "name": "stdout",
     "output_type": "stream",
     "text": [
      "['git', 'log', '--format=* %aN', '--since=\"2019-07-29\"', '--until=\"2020-02-02\"']\n",
      "['git', 'log', '--format=* %aN', '--since=\"2019-07-29\"', '--until=\"2020-02-02\"']\n",
      "['git', 'log', '--format=* %aN', '--since=\"2019-07-29\"', '--until=\"2019-12-22\"']\n",
      "['git', 'log', '--format=* %aN', '--since=\"2019-07-29\"', '--until=\"2018-11-01\"']\n",
      "['git', 'log', '--format=* %aN', '--since=\"2019-07-29\"', '--until=\"2019-07-03\"']\n",
      "['git', 'log', '--format=* %aN', '--since=\"2019-07-29\"', '--until=\"2020-02-02\"']\n",
      "['git', 'log', '--format=* %aN', '--since=\"2019-07-29\"', '--until=\"2020-01-27\"']\n",
      "['git', 'log', '--format=* %aN', '--since=\"2019-07-29\"', '--until=\"2019-07-19\"']\n",
      "['git', 'log', '--format=* %aN', '--since=\"2019-07-29\"', '--until=\"2019-07-19\"']\n",
      "['git', 'log', '--format=* %aN', '--since=\"2019-07-29\"', '--until=\"2019-07-24\"']\n",
      "['git', 'log', '--format=* %aN', '--since=\"2019-07-29\"', '--until=\"2019-06-30\"']\n",
      "['git', 'log', '--format=* %aN', '--since=\"2019-07-29\"', '--until=\"2020-02-03\"']\n",
      "['git', 'log', '--format=* %aN', '--since=\"2019-07-29\"', '--until=\"2020-01-06\"']\n",
      "['git', 'log', '--format=* %aN', '--since=\"2019-07-29\"', '--until=\"2020-01-05\"']\n",
      "['git', 'log', '--format=* %aN', '--since=\"2019-07-29\"', '--until=\"2020-01-19\"']\n",
      "['git', 'log', '--format=* %aN', '--since=\"2019-07-29\"', '--until=\"2020-02-10\"']\n"
     ]
    }
   ],
   "source": [
    "authors_global = set()\n",
    "authors = {}\n",
    "global_counter = Counter()\n",
    "counters = dict()\n",
    "cmd = ['git', 'log', '--oneline', since_date]\n",
    "total_commits = 0\n",
    "activity = {}\n",
    "for subpackage in packages:\n",
    "    os.chdir(CWD)\n",
    "    os.chdir('tmp/{subpackage}'.format(subpackage=subpackage))\n",
    "    ncommits = len(check_output(cmd).splitlines())\n",
    "    tag_date = tag_dates[subpackage]\n",
    "    tag_date = (datetime.strptime(tag_date, '%Y-%m-%d') + timedelta(days=1)).strftime('%Y-%m-%d')\n",
    "    author_cmd[-1] = '--until=\"{tag_date}\"'.format(tag_date=tag_date)\n",
    "    #cmd_until = cmd + ['--until=\"{tag_date}\"'.format(tag_date=tag_date)]\n",
    "    print(author_cmd)\n",
    "\n",
    "\n",
    "    all_authors = check_output(author_cmd).splitlines()\n",
    "    counter = Counter([regularize_identity(author) for author in all_authors])\n",
    "    global_counter += counter\n",
    "    counters.update({subpackage: counter})\n",
    "    unique_authors = sorted(set(all_authors))\n",
    "    authors[subpackage] =  unique_authors\n",
    "    authors_global.update(unique_authors)\n",
    "    total_commits += ncommits\n",
    "    activity[subpackage] = ncommits"
   ]
  },
  {
   "cell_type": "code",
   "execution_count": 205,
   "metadata": {},
   "outputs": [
    {
     "data": {
      "text/plain": [
       "Counter({'Serge Rey': 58,\n",
       "         'Eli Knaap': 3,\n",
       "         'Serge': 12,\n",
       "         'James Gaboardi': 6,\n",
       "         'Filipe Fernandes': 3})"
      ]
     },
     "execution_count": 205,
     "metadata": {},
     "output_type": "execute_result"
    }
   ],
   "source": [
    "counter"
   ]
  },
  {
   "cell_type": "code",
   "execution_count": 206,
   "metadata": {},
   "outputs": [
    {
     "data": {
      "text/plain": [
       "{b'* Filipe Fernandes',\n",
       " b'* James Gaboardi',\n",
       " b'* Leonardo Uieda',\n",
       " b'* Levi John Wolf',\n",
       " b'* Martin Fleischmann',\n",
       " b'* Renan Xavier Cortes',\n",
       " b'* Serge',\n",
       " b'* Serge Rey',\n",
       " b'* Sergio Rey',\n",
       " b'* Siddharths8212376',\n",
       " b'* Stefanie Lumnitz',\n",
       " b'* Wei Kang',\n",
       " b'* eli knaap',\n",
       " b'* ljwolf',\n",
       " b'* rahul799',\n",
       " b'* renanxcortes',\n",
       " b'* weikang9009'}"
      ]
     },
     "execution_count": 206,
     "metadata": {},
     "output_type": "execute_result"
    }
   ],
   "source": [
    "authors_global"
   ]
  },
  {
   "cell_type": "code",
   "execution_count": 207,
   "metadata": {},
   "outputs": [
    {
     "data": {
      "text/plain": [
       "{'libpysal': 204,\n",
       " 'esda': 51,\n",
       " 'giddy': 42,\n",
       " 'inequality': 1,\n",
       " 'pointpats': 25,\n",
       " 'segregation': 38,\n",
       " 'spaghetti': 348,\n",
       " 'mgwr': 5,\n",
       " 'spglm': 2,\n",
       " 'spint': 7,\n",
       " 'spreg': 44,\n",
       " 'spvcm': 12,\n",
       " 'tobler': 187,\n",
       " 'mapclassify': 32,\n",
       " 'splot': 42,\n",
       " 'pysal': 82}"
      ]
     },
     "execution_count": 207,
     "metadata": {},
     "output_type": "execute_result"
    }
   ],
   "source": [
    "activity"
   ]
  },
  {
   "cell_type": "code",
   "execution_count": 208,
   "metadata": {},
   "outputs": [
    {
     "data": {
      "text/plain": [
       "{'libpysal': Counter({'Serge Rey': 145,\n",
       "          'Levi John Wolf': 6,\n",
       "          'James Gaboardi': 43,\n",
       "          'Wei Kang': 6,\n",
       "          'Siddharths8212376': 2}),\n",
       " 'esda': Counter({'Serge Rey': 30,\n",
       "          'Eli Knaap': 2,\n",
       "          'Levi John Wolf': 3,\n",
       "          'James Gaboardi': 6,\n",
       "          'Wei Kang': 1}),\n",
       " 'giddy': Counter({'Wei Kang': 26, 'James Gaboardi': 3, 'Serge Rey': 2}),\n",
       " 'inequality': Counter(),\n",
       " 'pointpats': Counter(),\n",
       " 'segregation': Counter({'Eli Knaap': 17,\n",
       "          'James Gaboardi': 2,\n",
       "          'Renan Xavier Cortes': 19}),\n",
       " 'spaghetti': Counter({'James Gaboardi': 305, 'Rahul799': 2}),\n",
       " 'mgwr': Counter(),\n",
       " 'spglm': Counter(),\n",
       " 'spint': Counter(),\n",
       " 'spreg': Counter(),\n",
       " 'spvcm': Counter({'Levi John Wolf': 2, 'Serge Rey': 1, 'James Gaboardi': 9}),\n",
       " 'tobler': Counter({'Serge Rey': 36,\n",
       "          'Eli Knaap': 101,\n",
       "          'Renan Xavier Cortes': 41}),\n",
       " 'mapclassify': Counter({'James Gaboardi': 4,\n",
       "          'Serge Rey': 21,\n",
       "          'Wei Kang': 4,\n",
       "          'Martin Fleischmann': 3}),\n",
       " 'splot': Counter({'Serge Rey': 3,\n",
       "          'Stefanie Lumnitz': 28,\n",
       "          'James Gaboardi': 7,\n",
       "          'Martin Fleischmann': 1,\n",
       "          'Leonardo Uieda': 1,\n",
       "          'Levi John Wolf': 1,\n",
       "          'Wei Kang': 1}),\n",
       " 'pysal': Counter({'Serge Rey': 58,\n",
       "          'Eli Knaap': 3,\n",
       "          'Serge': 12,\n",
       "          'James Gaboardi': 6,\n",
       "          'Filipe Fernandes': 3})}"
      ]
     },
     "execution_count": 208,
     "metadata": {},
     "output_type": "execute_result"
    }
   ],
   "source": [
    "counters"
   ]
  },
  {
   "cell_type": "code",
   "execution_count": 209,
   "metadata": {},
   "outputs": [
    {
     "data": {
      "text/plain": [
       "{'libpysal': Counter({'Serge Rey': 145,\n",
       "          'Levi John Wolf': 6,\n",
       "          'James Gaboardi': 43,\n",
       "          'Wei Kang': 6,\n",
       "          'Siddharths8212376': 2}),\n",
       " 'esda': Counter({'Serge Rey': 30,\n",
       "          'Eli Knaap': 2,\n",
       "          'Levi John Wolf': 3,\n",
       "          'James Gaboardi': 6,\n",
       "          'Wei Kang': 1}),\n",
       " 'giddy': Counter({'Wei Kang': 26, 'James Gaboardi': 3, 'Serge Rey': 2}),\n",
       " 'inequality': Counter(),\n",
       " 'pointpats': Counter(),\n",
       " 'segregation': Counter({'Eli Knaap': 17,\n",
       "          'James Gaboardi': 2,\n",
       "          'Renan Xavier Cortes': 19}),\n",
       " 'spaghetti': Counter({'James Gaboardi': 305, 'Rahul799': 2}),\n",
       " 'mgwr': Counter(),\n",
       " 'spglm': Counter(),\n",
       " 'spint': Counter(),\n",
       " 'spreg': Counter(),\n",
       " 'spvcm': Counter({'Levi John Wolf': 2, 'Serge Rey': 1, 'James Gaboardi': 9}),\n",
       " 'tobler': Counter({'Serge Rey': 36,\n",
       "          'Eli Knaap': 101,\n",
       "          'Renan Xavier Cortes': 41}),\n",
       " 'mapclassify': Counter({'James Gaboardi': 4,\n",
       "          'Serge Rey': 21,\n",
       "          'Wei Kang': 4,\n",
       "          'Martin Fleischmann': 3}),\n",
       " 'splot': Counter({'Serge Rey': 3,\n",
       "          'Stefanie Lumnitz': 28,\n",
       "          'James Gaboardi': 7,\n",
       "          'Martin Fleischmann': 1,\n",
       "          'Leonardo Uieda': 1,\n",
       "          'Levi John Wolf': 1,\n",
       "          'Wei Kang': 1}),\n",
       " 'pysal': Counter({'Serge Rey': 58,\n",
       "          'Eli Knaap': 3,\n",
       "          'Serge': 12,\n",
       "          'James Gaboardi': 6,\n",
       "          'Filipe Fernandes': 3})}"
      ]
     },
     "execution_count": 209,
     "metadata": {},
     "output_type": "execute_result"
    }
   ],
   "source": [
    "counters"
   ]
  },
  {
   "cell_type": "code",
   "execution_count": 210,
   "metadata": {},
   "outputs": [],
   "source": [
    "def get_tag(title, level=\"##\", as_string=True):\n",
    "    words = title.split()\n",
    "    tag = \"-\".join([word.lower() for word in words])\n",
    "    heading = level+\" \"+title\n",
    "    line = \"\\n\\n<a name=\\\"{}\\\"></a>\".format(tag)\n",
    "    lines = [line]\n",
    "    lines.append(heading)\n",
    "    if as_string:\n",
    "        return \"\\n\".join(lines)\n",
    "    else:\n",
    "        return lines"
   ]
  },
  {
   "cell_type": "code",
   "execution_count": 211,
   "metadata": {},
   "outputs": [],
   "source": [
    "subs = issue_details.keys()\n",
    "table = []\n",
    "txt = []\n",
    "lines = get_tag(\"Changes by Package\", as_string=False)\n",
    "\n",
    "for sub in subs:\n",
    "    total= issue_details[sub]\n",
    "    pr = pull_details[sub]\n",
    "    \n",
    "    row = [sub, activity[sub], len(total), len(pr)]\n",
    "    table.append(row)\n",
    "    #line = \"\\n<a name=\\\"{sub}\\\"></a>\".format(sub=sub)\n",
    "    #lines.append(line)\n",
    "    #line = \"### {sub}\".format(sub=sub)\n",
    "    #lines.append(line)\n",
    "    lines.extend(get_tag(sub.lower(), \"###\", as_string=False))\n",
    "    for issue in total:\n",
    "        url = issue['html_url']\n",
    "        title = issue['title']\n",
    "        number = issue['number']\n",
    "        line = \"* [#{number}:]({url}) {title} \".format(title=title,\n",
    "                                                     number=number,\n",
    "                                                     url=url)\n",
    "        lines.append(line)\n",
    "\n"
   ]
  },
  {
   "cell_type": "code",
   "execution_count": 212,
   "metadata": {},
   "outputs": [
    {
     "data": {
      "text/plain": [
       "'* [#1129:](https://github.com/pysal/pysal/pull/1129) Updating for docs on RTD '"
      ]
     },
     "execution_count": 212,
     "metadata": {},
     "output_type": "execute_result"
    }
   ],
   "source": [
    "line"
   ]
  },
  {
   "cell_type": "code",
   "execution_count": 213,
   "metadata": {},
   "outputs": [
    {
     "data": {
      "text/plain": [
       "[['libpysal', 204, 64, 37],\n",
       " ['esda', 51, 14, 10],\n",
       " ['giddy', 42, 13, 9],\n",
       " ['inequality', 1, 0, 0],\n",
       " ['pointpats', 25, 0, 0],\n",
       " ['segregation', 38, 23, 12],\n",
       " ['spaghetti', 348, 101, 61],\n",
       " ['mgwr', 5, 0, 0],\n",
       " ['spglm', 2, 0, 0],\n",
       " ['spint', 7, 0, 0],\n",
       " ['spreg', 44, 0, 0],\n",
       " ['spvcm', 12, 2, 2],\n",
       " ['tobler', 187, 40, 31],\n",
       " ['mapclassify', 32, 12, 9],\n",
       " ['splot', 42, 17, 11],\n",
       " ['pysal', 82, 21, 10]]"
      ]
     },
     "execution_count": 213,
     "metadata": {},
     "output_type": "execute_result"
    }
   ],
   "source": [
    "table"
   ]
  },
  {
   "cell_type": "code",
   "execution_count": 214,
   "metadata": {},
   "outputs": [],
   "source": [
    "os.chdir(CWD)\n",
    "\n",
    "import pandas"
   ]
  },
  {
   "cell_type": "code",
   "execution_count": 215,
   "metadata": {},
   "outputs": [],
   "source": [
    "df = pandas.DataFrame(table, columns=['package', 'commits', 'total issues', 'pulls'])"
   ]
  },
  {
   "cell_type": "code",
   "execution_count": 216,
   "metadata": {},
   "outputs": [
    {
     "data": {
      "text/html": [
       "<div>\n",
       "<style scoped>\n",
       "    .dataframe tbody tr th:only-of-type {\n",
       "        vertical-align: middle;\n",
       "    }\n",
       "\n",
       "    .dataframe tbody tr th {\n",
       "        vertical-align: top;\n",
       "    }\n",
       "\n",
       "    .dataframe thead th {\n",
       "        text-align: right;\n",
       "    }\n",
       "</style>\n",
       "<table border=\"1\" class=\"dataframe\">\n",
       "  <thead>\n",
       "    <tr style=\"text-align: right;\">\n",
       "      <th></th>\n",
       "      <th>package</th>\n",
       "      <th>commits</th>\n",
       "      <th>total issues</th>\n",
       "      <th>pulls</th>\n",
       "    </tr>\n",
       "  </thead>\n",
       "  <tbody>\n",
       "    <tr>\n",
       "      <th>0</th>\n",
       "      <td>libpysal</td>\n",
       "      <td>204</td>\n",
       "      <td>64</td>\n",
       "      <td>37</td>\n",
       "    </tr>\n",
       "    <tr>\n",
       "      <th>1</th>\n",
       "      <td>esda</td>\n",
       "      <td>51</td>\n",
       "      <td>14</td>\n",
       "      <td>10</td>\n",
       "    </tr>\n",
       "    <tr>\n",
       "      <th>2</th>\n",
       "      <td>giddy</td>\n",
       "      <td>42</td>\n",
       "      <td>13</td>\n",
       "      <td>9</td>\n",
       "    </tr>\n",
       "    <tr>\n",
       "      <th>3</th>\n",
       "      <td>inequality</td>\n",
       "      <td>1</td>\n",
       "      <td>0</td>\n",
       "      <td>0</td>\n",
       "    </tr>\n",
       "    <tr>\n",
       "      <th>4</th>\n",
       "      <td>pointpats</td>\n",
       "      <td>25</td>\n",
       "      <td>0</td>\n",
       "      <td>0</td>\n",
       "    </tr>\n",
       "  </tbody>\n",
       "</table>\n",
       "</div>"
      ],
      "text/plain": [
       "      package  commits  total issues  pulls\n",
       "0    libpysal      204            64     37\n",
       "1        esda       51            14     10\n",
       "2       giddy       42            13      9\n",
       "3  inequality        1             0      0\n",
       "4   pointpats       25             0      0"
      ]
     },
     "execution_count": 216,
     "metadata": {},
     "output_type": "execute_result"
    }
   ],
   "source": [
    "df.head()"
   ]
  },
  {
   "cell_type": "code",
   "execution_count": 217,
   "metadata": {},
   "outputs": [],
   "source": [
    "df.sort_values(['commits','pulls'], ascending=False)\\\n",
    "  .to_html('./commit_table.html', index=None)"
   ]
  },
  {
   "cell_type": "code",
   "execution_count": 218,
   "metadata": {},
   "outputs": [
    {
     "data": {
      "text/plain": [
       "package         libpysalesdagiddyinequalitypointpatssegregatio...\n",
       "commits                                                      1122\n",
       "total issues                                                  307\n",
       "pulls                                                         192\n",
       "dtype: object"
      ]
     },
     "execution_count": 218,
     "metadata": {},
     "output_type": "execute_result"
    }
   ],
   "source": [
    "df.sum()"
   ]
  },
  {
   "cell_type": "code",
   "execution_count": 219,
   "metadata": {},
   "outputs": [],
   "source": [
    "contributor_table = pandas.DataFrame.from_dict(counters).fillna(0).astype(int).T"
   ]
  },
  {
   "cell_type": "code",
   "execution_count": 220,
   "metadata": {},
   "outputs": [],
   "source": [
    "contributor_table.to_html('./contributor_table.html')"
   ]
  },
  {
   "cell_type": "code",
   "execution_count": 221,
   "metadata": {},
   "outputs": [
    {
     "data": {
      "text/html": [
       "<div>\n",
       "<style scoped>\n",
       "    .dataframe tbody tr th:only-of-type {\n",
       "        vertical-align: middle;\n",
       "    }\n",
       "\n",
       "    .dataframe tbody tr th {\n",
       "        vertical-align: top;\n",
       "    }\n",
       "\n",
       "    .dataframe thead th {\n",
       "        text-align: right;\n",
       "    }\n",
       "</style>\n",
       "<table border=\"1\" class=\"dataframe\">\n",
       "  <thead>\n",
       "    <tr style=\"text-align: right;\">\n",
       "      <th></th>\n",
       "      <th>commits</th>\n",
       "    </tr>\n",
       "  </thead>\n",
       "  <tbody>\n",
       "    <tr>\n",
       "      <th>Eli Knaap</th>\n",
       "      <td>123</td>\n",
       "    </tr>\n",
       "    <tr>\n",
       "      <th>Filipe Fernandes</th>\n",
       "      <td>3</td>\n",
       "    </tr>\n",
       "    <tr>\n",
       "      <th>James Gaboardi</th>\n",
       "      <td>385</td>\n",
       "    </tr>\n",
       "    <tr>\n",
       "      <th>Leonardo Uieda</th>\n",
       "      <td>1</td>\n",
       "    </tr>\n",
       "    <tr>\n",
       "      <th>Levi John Wolf</th>\n",
       "      <td>12</td>\n",
       "    </tr>\n",
       "    <tr>\n",
       "      <th>Martin Fleischmann</th>\n",
       "      <td>4</td>\n",
       "    </tr>\n",
       "    <tr>\n",
       "      <th>Rahul799</th>\n",
       "      <td>2</td>\n",
       "    </tr>\n",
       "    <tr>\n",
       "      <th>Renan Xavier Cortes</th>\n",
       "      <td>60</td>\n",
       "    </tr>\n",
       "    <tr>\n",
       "      <th>Serge</th>\n",
       "      <td>12</td>\n",
       "    </tr>\n",
       "    <tr>\n",
       "      <th>Serge Rey</th>\n",
       "      <td>296</td>\n",
       "    </tr>\n",
       "    <tr>\n",
       "      <th>Siddharths8212376</th>\n",
       "      <td>2</td>\n",
       "    </tr>\n",
       "    <tr>\n",
       "      <th>Stefanie Lumnitz</th>\n",
       "      <td>28</td>\n",
       "    </tr>\n",
       "    <tr>\n",
       "      <th>Wei Kang</th>\n",
       "      <td>38</td>\n",
       "    </tr>\n",
       "  </tbody>\n",
       "</table>\n",
       "</div>"
      ],
      "text/plain": [
       "                     commits\n",
       "Eli Knaap                123\n",
       "Filipe Fernandes           3\n",
       "James Gaboardi           385\n",
       "Leonardo Uieda             1\n",
       "Levi John Wolf            12\n",
       "Martin Fleischmann         4\n",
       "Rahul799                   2\n",
       "Renan Xavier Cortes       60\n",
       "Serge                     12\n",
       "Serge Rey                296\n",
       "Siddharths8212376          2\n",
       "Stefanie Lumnitz          28\n",
       "Wei Kang                  38"
      ]
     },
     "execution_count": 221,
     "metadata": {},
     "output_type": "execute_result"
    }
   ],
   "source": [
    "totals = contributor_table.sum(axis=0).T\n",
    "totals.sort_index().to_frame('commits')"
   ]
  },
  {
   "cell_type": "code",
   "execution_count": 222,
   "metadata": {},
   "outputs": [],
   "source": [
    "totals = contributor_table.sum(axis=0).T\n",
    "totals.sort_index().to_frame('commits').to_html('./commits_by_person.html')"
   ]
  },
  {
   "cell_type": "code",
   "execution_count": 223,
   "metadata": {},
   "outputs": [
    {
     "data": {
      "text/plain": [
       "Serge Rey              296\n",
       "Levi John Wolf          12\n",
       "James Gaboardi         385\n",
       "Wei Kang                38\n",
       "Siddharths8212376        2\n",
       "Eli Knaap              123\n",
       "Renan Xavier Cortes     60\n",
       "Rahul799                 2\n",
       "Martin Fleischmann       4\n",
       "Stefanie Lumnitz        28\n",
       "Leonardo Uieda           1\n",
       "Serge                   12\n",
       "Filipe Fernandes         3\n",
       "dtype: int64"
      ]
     },
     "execution_count": 223,
     "metadata": {},
     "output_type": "execute_result"
    }
   ],
   "source": [
    "totals"
   ]
  },
  {
   "cell_type": "code",
   "execution_count": 224,
   "metadata": {},
   "outputs": [],
   "source": [
    "n_commits = df.commits.sum()\n",
    "n_issues = df['total issues'].sum()\n",
    "n_pulls = df.pulls.sum()"
   ]
  },
  {
   "cell_type": "code",
   "execution_count": 225,
   "metadata": {},
   "outputs": [
    {
     "data": {
      "text/plain": [
       "1122"
      ]
     },
     "execution_count": 225,
     "metadata": {},
     "output_type": "execute_result"
    }
   ],
   "source": [
    "n_commits"
   ]
  },
  {
   "cell_type": "code",
   "execution_count": 226,
   "metadata": {},
   "outputs": [],
   "source": [
    "#Overall, there were 719 commits that closed 240 issues, together with 105 pull requests across 12 packages since our last release on 2017-11-03.\n",
    "#('{0} Here is a really long '\n",
    "#           'sentence with {1}').format(3, 5))\n",
    "line = ('Overall, there were {n_commits} commits that closed {n_issues} issues,'  \n",
    "    ' together with {n_pulls} pull requests since our last release' \n",
    "        ' on {since_date}.\\n'.format(n_commits=n_commits, n_issues=n_issues,\n",
    "        n_pulls=n_pulls, since_date = start_date))"
   ]
  },
  {
   "cell_type": "code",
   "execution_count": 227,
   "metadata": {},
   "outputs": [
    {
     "data": {
      "text/plain": [
       "'Overall, there were 1122 commits that closed 307 issues, together with 192 pull requests since our last release on 2019-07-29.\\n'"
      ]
     },
     "execution_count": 227,
     "metadata": {},
     "output_type": "execute_result"
    }
   ],
   "source": [
    "line"
   ]
  },
  {
   "cell_type": "markdown",
   "metadata": {},
   "source": [
    "## append html files to end of changes.md with tags for toc"
   ]
  },
  {
   "cell_type": "code",
   "execution_count": 228,
   "metadata": {},
   "outputs": [],
   "source": [
    "with open('changes.md', 'w') as fout:\n",
    "    fout.write(line)\n",
    "    fout.write(\"\\n\".join(lines))\n",
    "    fout.write(get_tag(\"Summary Statistics\"))\n",
    "    \n",
    "    with open('commit_table.html') as table:\n",
    "        table_lines = table.readlines()\n",
    "        title = \"Package Activity\"\n",
    "        fout.write(get_tag(title,\"###\"))\n",
    "        fout.write(\"\\n\")\n",
    "        fout.write(\"\".join(table_lines))\n",
    "                \n",
    "    with open('commits_by_person.html') as table:\n",
    "        table_lines = table.readlines()\n",
    "        title = \"Contributor Activity\"\n",
    "        fout.write(get_tag(title,\"###\"))\n",
    "        fout.write(\"\\n\")\n",
    "        fout.write(\"\".join(table_lines))\n",
    "        \n",
    "    with open('contributor_table.html') as table:\n",
    "        table_lines = table.readlines()\n",
    "        title = \"Contributor by Package Activity\"\n",
    "        fout.write(get_tag(title,\"###\"))\n",
    "        fout.write(\"\\n\")\n",
    "        fout.write(\"\".join(table_lines))"
   ]
  },
  {
   "cell_type": "code",
   "execution_count": null,
   "metadata": {},
   "outputs": [],
   "source": []
  },
  {
   "cell_type": "code",
   "execution_count": null,
   "metadata": {},
   "outputs": [],
   "source": []
  }
 ],
 "metadata": {
  "kernelspec": {
   "display_name": "Python 3",
   "language": "python",
   "name": "python3"
  },
  "language_info": {
   "codemirror_mode": {
    "name": "ipython",
    "version": 3
   },
   "file_extension": ".py",
   "mimetype": "text/x-python",
   "name": "python",
   "nbconvert_exporter": "python",
   "pygments_lexer": "ipython3",
   "version": "3.7.6"
  }
 },
 "nbformat": 4,
 "nbformat_minor": 2
}
