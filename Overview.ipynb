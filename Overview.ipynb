{
 "cells": [
  {
   "cell_type": "code",
   "execution_count": 1,
   "metadata": {
    "collapsed": true
   },
   "outputs": [],
   "source": [
    "import pysal as ps"
   ]
  },
  {
   "cell_type": "markdown",
   "metadata": {},
   "source": [
    "# IO"
   ]
  },
  {
   "cell_type": "markdown",
   "metadata": {},
   "source": [
    "Right now, we can do tabular reading in one of two ways. First is through the `pdio.read_files` command, which only processes shapefile/dbf pairs. "
   ]
  },
  {
   "cell_type": "code",
   "execution_count": 2,
   "metadata": {
    "collapsed": true
   },
   "outputs": [],
   "source": [
    "columbus_shp = ps.examples.get_path('columbus.shp')\n",
    "columbus_dbf = ps.examples.get_path('columbus.dbf')\n",
    "pci = ps.examples.get_path('usjoin.csv')"
   ]
  },
  {
   "cell_type": "code",
   "execution_count": 3,
   "metadata": {
    "collapsed": false
   },
   "outputs": [],
   "source": [
    "df = ps.pdio.read_files(columbus_shp)\n",
    "#ps.pdio.read_files(pci) # will fail"
   ]
  },
  {
   "cell_type": "code",
   "execution_count": 4,
   "metadata": {
    "collapsed": false
   },
   "outputs": [
    {
     "data": {
      "text/html": [
       "<div>\n",
       "<table border=\"1\" class=\"dataframe\">\n",
       "  <thead>\n",
       "    <tr style=\"text-align: right;\">\n",
       "      <th></th>\n",
       "      <th>AREA</th>\n",
       "      <th>PERIMETER</th>\n",
       "      <th>COLUMBUS_</th>\n",
       "      <th>COLUMBUS_I</th>\n",
       "      <th>POLYID</th>\n",
       "      <th>NEIG</th>\n",
       "      <th>HOVAL</th>\n",
       "      <th>INC</th>\n",
       "      <th>CRIME</th>\n",
       "      <th>OPEN</th>\n",
       "      <th>...</th>\n",
       "      <th>DISCBD</th>\n",
       "      <th>X</th>\n",
       "      <th>Y</th>\n",
       "      <th>NSA</th>\n",
       "      <th>NSB</th>\n",
       "      <th>EW</th>\n",
       "      <th>CP</th>\n",
       "      <th>THOUS</th>\n",
       "      <th>NEIGNO</th>\n",
       "      <th>geometry</th>\n",
       "    </tr>\n",
       "  </thead>\n",
       "  <tbody>\n",
       "    <tr>\n",
       "      <th>0</th>\n",
       "      <td>0.309441</td>\n",
       "      <td>2.440629</td>\n",
       "      <td>2</td>\n",
       "      <td>5</td>\n",
       "      <td>1</td>\n",
       "      <td>5</td>\n",
       "      <td>80.467003</td>\n",
       "      <td>19.531</td>\n",
       "      <td>15.725980</td>\n",
       "      <td>2.850747</td>\n",
       "      <td>...</td>\n",
       "      <td>5.03</td>\n",
       "      <td>38.799999</td>\n",
       "      <td>44.070000</td>\n",
       "      <td>1.0</td>\n",
       "      <td>1.0</td>\n",
       "      <td>1.0</td>\n",
       "      <td>0.0</td>\n",
       "      <td>1000.0</td>\n",
       "      <td>1005.0</td>\n",
       "      <td>&lt;pysal.cg.shapes.Polygon object at 0x7eff47e51...</td>\n",
       "    </tr>\n",
       "    <tr>\n",
       "      <th>1</th>\n",
       "      <td>0.259329</td>\n",
       "      <td>2.236939</td>\n",
       "      <td>3</td>\n",
       "      <td>1</td>\n",
       "      <td>2</td>\n",
       "      <td>1</td>\n",
       "      <td>44.567001</td>\n",
       "      <td>21.232</td>\n",
       "      <td>18.801754</td>\n",
       "      <td>5.296720</td>\n",
       "      <td>...</td>\n",
       "      <td>4.27</td>\n",
       "      <td>35.619999</td>\n",
       "      <td>42.380001</td>\n",
       "      <td>1.0</td>\n",
       "      <td>1.0</td>\n",
       "      <td>0.0</td>\n",
       "      <td>0.0</td>\n",
       "      <td>1000.0</td>\n",
       "      <td>1001.0</td>\n",
       "      <td>&lt;pysal.cg.shapes.Polygon object at 0x7eff47e51...</td>\n",
       "    </tr>\n",
       "    <tr>\n",
       "      <th>2</th>\n",
       "      <td>0.192468</td>\n",
       "      <td>2.187547</td>\n",
       "      <td>4</td>\n",
       "      <td>6</td>\n",
       "      <td>3</td>\n",
       "      <td>6</td>\n",
       "      <td>26.350000</td>\n",
       "      <td>15.956</td>\n",
       "      <td>30.626781</td>\n",
       "      <td>4.534649</td>\n",
       "      <td>...</td>\n",
       "      <td>3.89</td>\n",
       "      <td>39.820000</td>\n",
       "      <td>41.180000</td>\n",
       "      <td>1.0</td>\n",
       "      <td>1.0</td>\n",
       "      <td>1.0</td>\n",
       "      <td>0.0</td>\n",
       "      <td>1000.0</td>\n",
       "      <td>1006.0</td>\n",
       "      <td>&lt;pysal.cg.shapes.Polygon object at 0x7eff47e51...</td>\n",
       "    </tr>\n",
       "    <tr>\n",
       "      <th>3</th>\n",
       "      <td>0.083841</td>\n",
       "      <td>1.427635</td>\n",
       "      <td>5</td>\n",
       "      <td>2</td>\n",
       "      <td>4</td>\n",
       "      <td>2</td>\n",
       "      <td>33.200001</td>\n",
       "      <td>4.477</td>\n",
       "      <td>32.387760</td>\n",
       "      <td>0.394427</td>\n",
       "      <td>...</td>\n",
       "      <td>3.70</td>\n",
       "      <td>36.500000</td>\n",
       "      <td>40.520000</td>\n",
       "      <td>1.0</td>\n",
       "      <td>1.0</td>\n",
       "      <td>0.0</td>\n",
       "      <td>0.0</td>\n",
       "      <td>1000.0</td>\n",
       "      <td>1002.0</td>\n",
       "      <td>&lt;pysal.cg.shapes.Polygon object at 0x7eff47e51...</td>\n",
       "    </tr>\n",
       "    <tr>\n",
       "      <th>4</th>\n",
       "      <td>0.488888</td>\n",
       "      <td>2.997133</td>\n",
       "      <td>6</td>\n",
       "      <td>7</td>\n",
       "      <td>5</td>\n",
       "      <td>7</td>\n",
       "      <td>23.225000</td>\n",
       "      <td>11.252</td>\n",
       "      <td>50.731510</td>\n",
       "      <td>0.405664</td>\n",
       "      <td>...</td>\n",
       "      <td>2.83</td>\n",
       "      <td>40.009998</td>\n",
       "      <td>38.000000</td>\n",
       "      <td>1.0</td>\n",
       "      <td>1.0</td>\n",
       "      <td>1.0</td>\n",
       "      <td>0.0</td>\n",
       "      <td>1000.0</td>\n",
       "      <td>1007.0</td>\n",
       "      <td>&lt;pysal.cg.shapes.Polygon object at 0x7eff47e51...</td>\n",
       "    </tr>\n",
       "  </tbody>\n",
       "</table>\n",
       "<p>5 rows × 21 columns</p>\n",
       "</div>"
      ],
      "text/plain": [
       "       AREA  PERIMETER  COLUMBUS_  COLUMBUS_I  POLYID  NEIG      HOVAL  \\\n",
       "0  0.309441   2.440629          2           5       1     5  80.467003   \n",
       "1  0.259329   2.236939          3           1       2     1  44.567001   \n",
       "2  0.192468   2.187547          4           6       3     6  26.350000   \n",
       "3  0.083841   1.427635          5           2       4     2  33.200001   \n",
       "4  0.488888   2.997133          6           7       5     7  23.225000   \n",
       "\n",
       "      INC      CRIME      OPEN  \\\n",
       "0  19.531  15.725980  2.850747   \n",
       "1  21.232  18.801754  5.296720   \n",
       "2  15.956  30.626781  4.534649   \n",
       "3   4.477  32.387760  0.394427   \n",
       "4  11.252  50.731510  0.405664   \n",
       "\n",
       "                         ...                          DISCBD          X  \\\n",
       "0                        ...                            5.03  38.799999   \n",
       "1                        ...                            4.27  35.619999   \n",
       "2                        ...                            3.89  39.820000   \n",
       "3                        ...                            3.70  36.500000   \n",
       "4                        ...                            2.83  40.009998   \n",
       "\n",
       "           Y  NSA  NSB   EW   CP   THOUS  NEIGNO  \\\n",
       "0  44.070000  1.0  1.0  1.0  0.0  1000.0  1005.0   \n",
       "1  42.380001  1.0  1.0  0.0  0.0  1000.0  1001.0   \n",
       "2  41.180000  1.0  1.0  1.0  0.0  1000.0  1006.0   \n",
       "3  40.520000  1.0  1.0  0.0  0.0  1000.0  1002.0   \n",
       "4  38.000000  1.0  1.0  1.0  0.0  1000.0  1007.0   \n",
       "\n",
       "                                            geometry  \n",
       "0  <pysal.cg.shapes.Polygon object at 0x7eff47e51...  \n",
       "1  <pysal.cg.shapes.Polygon object at 0x7eff47e51...  \n",
       "2  <pysal.cg.shapes.Polygon object at 0x7eff47e51...  \n",
       "3  <pysal.cg.shapes.Polygon object at 0x7eff47e51...  \n",
       "4  <pysal.cg.shapes.Polygon object at 0x7eff47e51...  \n",
       "\n",
       "[5 rows x 21 columns]"
      ]
     },
     "execution_count": 4,
     "metadata": {},
     "output_type": "execute_result"
    }
   ],
   "source": [
    "df.head()"
   ]
  },
  {
   "cell_type": "markdown",
   "metadata": {},
   "source": [
    "Also, any of our file handlers that inherit from DataTable now have a `to_df()` method:"
   ]
  },
  {
   "cell_type": "code",
   "execution_count": 5,
   "metadata": {
    "collapsed": false
   },
   "outputs": [],
   "source": [
    "df2 = ps.open(columbus_dbf).to_df()"
   ]
  },
  {
   "cell_type": "markdown",
   "metadata": {},
   "source": [
    "**Remaining: ** option to pair this to_df with a shp2series call"
   ]
  },
  {
   "cell_type": "code",
   "execution_count": 6,
   "metadata": {
    "collapsed": true
   },
   "outputs": [],
   "source": [
    "df2['geometry'] = ps.pdio.shp.shp2series(columbus_shp)"
   ]
  },
  {
   "cell_type": "code",
   "execution_count": 7,
   "metadata": {
    "collapsed": false
   },
   "outputs": [
    {
     "data": {
      "text/html": [
       "<div>\n",
       "<table border=\"1\" class=\"dataframe\">\n",
       "  <thead>\n",
       "    <tr style=\"text-align: right;\">\n",
       "      <th></th>\n",
       "      <th>AREA</th>\n",
       "      <th>PERIMETER</th>\n",
       "      <th>COLUMBUS_</th>\n",
       "      <th>COLUMBUS_I</th>\n",
       "      <th>POLYID</th>\n",
       "      <th>NEIG</th>\n",
       "      <th>HOVAL</th>\n",
       "      <th>INC</th>\n",
       "      <th>CRIME</th>\n",
       "      <th>OPEN</th>\n",
       "      <th>...</th>\n",
       "      <th>DISCBD</th>\n",
       "      <th>X</th>\n",
       "      <th>Y</th>\n",
       "      <th>NSA</th>\n",
       "      <th>NSB</th>\n",
       "      <th>EW</th>\n",
       "      <th>CP</th>\n",
       "      <th>THOUS</th>\n",
       "      <th>NEIGNO</th>\n",
       "      <th>geometry</th>\n",
       "    </tr>\n",
       "  </thead>\n",
       "  <tbody>\n",
       "    <tr>\n",
       "      <th>0</th>\n",
       "      <td>0.309441</td>\n",
       "      <td>2.440629</td>\n",
       "      <td>2</td>\n",
       "      <td>5</td>\n",
       "      <td>1</td>\n",
       "      <td>5</td>\n",
       "      <td>80.467003</td>\n",
       "      <td>19.531</td>\n",
       "      <td>15.725980</td>\n",
       "      <td>2.850747</td>\n",
       "      <td>...</td>\n",
       "      <td>5.03</td>\n",
       "      <td>38.799999</td>\n",
       "      <td>44.070000</td>\n",
       "      <td>1.0</td>\n",
       "      <td>1.0</td>\n",
       "      <td>1.0</td>\n",
       "      <td>0.0</td>\n",
       "      <td>1000.0</td>\n",
       "      <td>1005.0</td>\n",
       "      <td>&lt;pysal.cg.shapes.Polygon object at 0x7eff47bab...</td>\n",
       "    </tr>\n",
       "    <tr>\n",
       "      <th>1</th>\n",
       "      <td>0.259329</td>\n",
       "      <td>2.236939</td>\n",
       "      <td>3</td>\n",
       "      <td>1</td>\n",
       "      <td>2</td>\n",
       "      <td>1</td>\n",
       "      <td>44.567001</td>\n",
       "      <td>21.232</td>\n",
       "      <td>18.801754</td>\n",
       "      <td>5.296720</td>\n",
       "      <td>...</td>\n",
       "      <td>4.27</td>\n",
       "      <td>35.619999</td>\n",
       "      <td>42.380001</td>\n",
       "      <td>1.0</td>\n",
       "      <td>1.0</td>\n",
       "      <td>0.0</td>\n",
       "      <td>0.0</td>\n",
       "      <td>1000.0</td>\n",
       "      <td>1001.0</td>\n",
       "      <td>&lt;pysal.cg.shapes.Polygon object at 0x7eff47bab...</td>\n",
       "    </tr>\n",
       "    <tr>\n",
       "      <th>2</th>\n",
       "      <td>0.192468</td>\n",
       "      <td>2.187547</td>\n",
       "      <td>4</td>\n",
       "      <td>6</td>\n",
       "      <td>3</td>\n",
       "      <td>6</td>\n",
       "      <td>26.350000</td>\n",
       "      <td>15.956</td>\n",
       "      <td>30.626781</td>\n",
       "      <td>4.534649</td>\n",
       "      <td>...</td>\n",
       "      <td>3.89</td>\n",
       "      <td>39.820000</td>\n",
       "      <td>41.180000</td>\n",
       "      <td>1.0</td>\n",
       "      <td>1.0</td>\n",
       "      <td>1.0</td>\n",
       "      <td>0.0</td>\n",
       "      <td>1000.0</td>\n",
       "      <td>1006.0</td>\n",
       "      <td>&lt;pysal.cg.shapes.Polygon object at 0x7eff47bab...</td>\n",
       "    </tr>\n",
       "    <tr>\n",
       "      <th>3</th>\n",
       "      <td>0.083841</td>\n",
       "      <td>1.427635</td>\n",
       "      <td>5</td>\n",
       "      <td>2</td>\n",
       "      <td>4</td>\n",
       "      <td>2</td>\n",
       "      <td>33.200001</td>\n",
       "      <td>4.477</td>\n",
       "      <td>32.387760</td>\n",
       "      <td>0.394427</td>\n",
       "      <td>...</td>\n",
       "      <td>3.70</td>\n",
       "      <td>36.500000</td>\n",
       "      <td>40.520000</td>\n",
       "      <td>1.0</td>\n",
       "      <td>1.0</td>\n",
       "      <td>0.0</td>\n",
       "      <td>0.0</td>\n",
       "      <td>1000.0</td>\n",
       "      <td>1002.0</td>\n",
       "      <td>&lt;pysal.cg.shapes.Polygon object at 0x7eff4e74d...</td>\n",
       "    </tr>\n",
       "    <tr>\n",
       "      <th>4</th>\n",
       "      <td>0.488888</td>\n",
       "      <td>2.997133</td>\n",
       "      <td>6</td>\n",
       "      <td>7</td>\n",
       "      <td>5</td>\n",
       "      <td>7</td>\n",
       "      <td>23.225000</td>\n",
       "      <td>11.252</td>\n",
       "      <td>50.731510</td>\n",
       "      <td>0.405664</td>\n",
       "      <td>...</td>\n",
       "      <td>2.83</td>\n",
       "      <td>40.009998</td>\n",
       "      <td>38.000000</td>\n",
       "      <td>1.0</td>\n",
       "      <td>1.0</td>\n",
       "      <td>1.0</td>\n",
       "      <td>0.0</td>\n",
       "      <td>1000.0</td>\n",
       "      <td>1007.0</td>\n",
       "      <td>&lt;pysal.cg.shapes.Polygon object at 0x7eff47c02...</td>\n",
       "    </tr>\n",
       "  </tbody>\n",
       "</table>\n",
       "<p>5 rows × 21 columns</p>\n",
       "</div>"
      ],
      "text/plain": [
       "       AREA  PERIMETER  COLUMBUS_  COLUMBUS_I  POLYID  NEIG      HOVAL  \\\n",
       "0  0.309441   2.440629          2           5       1     5  80.467003   \n",
       "1  0.259329   2.236939          3           1       2     1  44.567001   \n",
       "2  0.192468   2.187547          4           6       3     6  26.350000   \n",
       "3  0.083841   1.427635          5           2       4     2  33.200001   \n",
       "4  0.488888   2.997133          6           7       5     7  23.225000   \n",
       "\n",
       "      INC      CRIME      OPEN  \\\n",
       "0  19.531  15.725980  2.850747   \n",
       "1  21.232  18.801754  5.296720   \n",
       "2  15.956  30.626781  4.534649   \n",
       "3   4.477  32.387760  0.394427   \n",
       "4  11.252  50.731510  0.405664   \n",
       "\n",
       "                         ...                          DISCBD          X  \\\n",
       "0                        ...                            5.03  38.799999   \n",
       "1                        ...                            4.27  35.619999   \n",
       "2                        ...                            3.89  39.820000   \n",
       "3                        ...                            3.70  36.500000   \n",
       "4                        ...                            2.83  40.009998   \n",
       "\n",
       "           Y  NSA  NSB   EW   CP   THOUS  NEIGNO  \\\n",
       "0  44.070000  1.0  1.0  1.0  0.0  1000.0  1005.0   \n",
       "1  42.380001  1.0  1.0  0.0  0.0  1000.0  1001.0   \n",
       "2  41.180000  1.0  1.0  1.0  0.0  1000.0  1006.0   \n",
       "3  40.520000  1.0  1.0  0.0  0.0  1000.0  1002.0   \n",
       "4  38.000000  1.0  1.0  1.0  0.0  1000.0  1007.0   \n",
       "\n",
       "                                            geometry  \n",
       "0  <pysal.cg.shapes.Polygon object at 0x7eff47bab...  \n",
       "1  <pysal.cg.shapes.Polygon object at 0x7eff47bab...  \n",
       "2  <pysal.cg.shapes.Polygon object at 0x7eff47bab...  \n",
       "3  <pysal.cg.shapes.Polygon object at 0x7eff4e74d...  \n",
       "4  <pysal.cg.shapes.Polygon object at 0x7eff47c02...  \n",
       "\n",
       "[5 rows x 21 columns]"
      ]
     },
     "execution_count": 7,
     "metadata": {},
     "output_type": "execute_result"
    }
   ],
   "source": [
    "df2.head()"
   ]
  },
  {
   "cell_type": "markdown",
   "metadata": {},
   "source": [
    "# Weights "
   ]
  },
  {
   "cell_type": "markdown",
   "metadata": {},
   "source": [
    "Weights now have a new method, `from_file`, that calls to the appropriate reader in PySAL, and `to_WSP`/`from_WSP`.\n",
    "\n",
    "Contigutiy weights & Distance weights classes gain some new classmethods:\n",
    "\n",
    "- (contiguity) `from_iterable`: construct contigutiy weights from an arbitrary iterbale of geo-interfaced shapes\n",
    "- (distance) `from_array`: construct distance weights from an array of points\n",
    "- `from_shapefile`: construct weights from a shapefile \n",
    "- `from_dataframe`: construct weights from a dataframe"
   ]
  },
  {
   "cell_type": "code",
   "execution_count": 8,
   "metadata": {
    "collapsed": false
   },
   "outputs": [],
   "source": [
    "W1 = ps.W.from_file(ps.examples.get_path('columbus.gal'))\n",
    "Wref = ps.open(ps.examples.get_path('columbus.gal')).read()"
   ]
  },
  {
   "cell_type": "code",
   "execution_count": 9,
   "metadata": {
    "collapsed": false
   },
   "outputs": [
    {
     "data": {
      "text/plain": [
       "True"
      ]
     },
     "execution_count": 9,
     "metadata": {},
     "output_type": "execute_result"
    }
   ],
   "source": [
    "Wref.neighbors == W1.neighbors"
   ]
  },
  {
   "cell_type": "markdown",
   "metadata": {},
   "source": [
    "I've added a deprecation error to the constructors in `weights/user.py`, in hopes of transitioning people to using the classmethods.\n",
    "\n",
    "Things that we might not want to transition are things like the threshold stuff. But, I think it might make sense to bake those into the classes, too. Not sure where others think that should go.\n",
    "\n",
    "All of the classmethods are tested in unittests."
   ]
  },
  {
   "cell_type": "code",
   "execution_count": 10,
   "metadata": {
    "collapsed": false
   },
   "outputs": [
    {
     "name": "stderr",
     "output_type": "stream",
     "text": [
      "pysal/weights/Contiguity.py:386: UserWarning: This function is deprecated. Please use the Rook or Queen classes\n",
      "  Warn('This function is deprecated. Please use the Rook or Queen classes')\n"
     ]
    },
    {
     "data": {
      "text/plain": [
       "True"
      ]
     },
     "execution_count": 10,
     "metadata": {},
     "output_type": "execute_result"
    }
   ],
   "source": [
    "R1 = ps.weights.Rook.from_shapefile(columbus_shp)\n",
    "Rref = ps.weights.rook_from_shapefile(columbus_shp)\n",
    "R1.neighbors == Rref.neighbors"
   ]
  },
  {
   "cell_type": "markdown",
   "metadata": {},
   "source": [
    "Notably, I brought in `@jlaura`'s optimized contiguity builder:"
   ]
  },
  {
   "cell_type": "code",
   "execution_count": 11,
   "metadata": {
    "collapsed": false
   },
   "outputs": [
    {
     "name": "stdout",
     "output_type": "stream",
     "text": [
      "\n",
      "    Contiguity for a collection of polygons using high performance\n",
      "    list, set, and dict containers\n",
      "    \n"
     ]
    }
   ],
   "source": [
    "print(ps.weights._contW_lists.ContiguityWeightsLists.__doc__)"
   ]
  },
  {
   "cell_type": "code",
   "execution_count": 12,
   "metadata": {
    "collapsed": false
   },
   "outputs": [
    {
     "name": "stdout",
     "output_type": "stream",
     "text": [
      "100 loops, best of 3: 10.8 ms per loop\n"
     ]
    }
   ],
   "source": [
    "%timeit ps.weights.Queen.from_shapefile(columbus_shp, method='binning')"
   ]
  },
  {
   "cell_type": "code",
   "execution_count": 13,
   "metadata": {
    "collapsed": false
   },
   "outputs": [
    {
     "name": "stdout",
     "output_type": "stream",
     "text": [
      "100 loops, best of 3: 3.08 ms per loop\n"
     ]
    }
   ],
   "source": [
    "%timeit ps.weights.Queen.from_shapefile(columbus_shp, method='lists')"
   ]
  },
  {
   "cell_type": "code",
   "execution_count": 14,
   "metadata": {
    "collapsed": false
   },
   "outputs": [],
   "source": [
    "Qbin = ps.weights.Queen.from_shapefile(columbus_shp, method='binning')\n",
    "Qlist = ps.weights.Queen.from_shapefile(columbus_shp, method='lists')"
   ]
  },
  {
   "cell_type": "markdown",
   "metadata": {},
   "source": [
    "Of course, when we do this, we need to consider the fact that the weights bay be ordered differently."
   ]
  },
  {
   "cell_type": "code",
   "execution_count": 15,
   "metadata": {
    "collapsed": false
   },
   "outputs": [
    {
     "data": {
      "text/plain": [
       "True"
      ]
     },
     "execution_count": 15,
     "metadata": {},
     "output_type": "execute_result"
    }
   ],
   "source": [
    "map(set, Qbin.neighbors.values()) == map(set, Qlist.neighbors.values())"
   ]
  },
  {
   "cell_type": "markdown",
   "metadata": {},
   "source": [
    "The lists implementation is enabled by default."
   ]
  },
  {
   "cell_type": "markdown",
   "metadata": {},
   "source": [
    "Distance weights also get these methods."
   ]
  },
  {
   "cell_type": "code",
   "execution_count": 16,
   "metadata": {
    "collapsed": false
   },
   "outputs": [
    {
     "name": "stdout",
     "output_type": "stream",
     "text": [
      "True\n"
     ]
    }
   ],
   "source": [
    "K1 = ps.weights.Kernel.from_dataframe(df)\n",
    "Kref = ps.weights.kernelW_from_shapefile(columbus_shp)\n",
    "print(K1.neighbors == Kref.neighbors and K1.weights == Kref.weights)"
   ]
  },
  {
   "cell_type": "markdown",
   "metadata": {},
   "source": [
    "Since there was some dissatisfaction with recalculation of the KDTree when using KNN weights, I made them their own class and gave them a special reweight function. This could be applied to Kernel weights as well, or any function that uses the kdtree pattern. "
   ]
  },
  {
   "cell_type": "code",
   "execution_count": 17,
   "metadata": {
    "collapsed": false
   },
   "outputs": [
    {
     "name": "stderr",
     "output_type": "stream",
     "text": [
      "pysal/weights/Distance.py:14: UserWarning: This function is deprecated. Please use pysal.weights.KNN\n",
      "  Warn('This function is deprecated. Please use pysal.weights.KNN')\n"
     ]
    },
    {
     "data": {
      "text/plain": [
       "True"
      ]
     },
     "execution_count": 17,
     "metadata": {},
     "output_type": "execute_result"
    }
   ],
   "source": [
    "KNN = ps.weights.KNN.from_dataframe(df, k=5)\n",
    "KNNref = ps.weights.knnW_from_shapefile(columbus_shp, k=5)\n",
    "KNN.neighbors == KNNref.neighbors"
   ]
  },
  {
   "cell_type": "code",
   "execution_count": 18,
   "metadata": {
    "collapsed": false
   },
   "outputs": [
    {
     "data": {
      "text/plain": [
       "True"
      ]
     },
     "execution_count": 18,
     "metadata": {},
     "output_type": "execute_result"
    }
   ],
   "source": [
    "KNN.reweight(k=9)\n",
    "KNNref = ps.weights.knnW_from_shapefile(columbus_shp, k=9)\n",
    "KNN.neighbors == KNNref.neighbors"
   ]
  },
  {
   "cell_type": "code",
   "execution_count": 19,
   "metadata": {
    "collapsed": true
   },
   "outputs": [],
   "source": [
    "new_data = ps.common.np.random.randint(0,10, size=(10,2))"
   ]
  },
  {
   "cell_type": "code",
   "execution_count": 20,
   "metadata": {
    "collapsed": false
   },
   "outputs": [],
   "source": [
    "new_KNN = KNN.reweight(new_data = new_data, k=12, inplace=False)"
   ]
  },
  {
   "cell_type": "code",
   "execution_count": 21,
   "metadata": {
    "collapsed": false
   },
   "outputs": [
    {
     "name": "stdout",
     "output_type": "stream",
     "text": [
      "([(12, 59)], [(9, 49)])\n"
     ]
    }
   ],
   "source": [
    "print(new_KNN.histogram, KNN.histogram)"
   ]
  },
  {
   "cell_type": "markdown",
   "metadata": {},
   "source": [
    "# Geotable"
   ]
  },
  {
   "cell_type": "markdown",
   "metadata": {},
   "source": [
    "For the following, you'll need Shapely and Geopandas. "
   ]
  },
  {
   "cell_type": "code",
   "execution_count": 22,
   "metadata": {
    "collapsed": true
   },
   "outputs": [],
   "source": [
    "from pysal.contrib.geotable import ops as GIS\n",
    "import pysal.contrib.shapely_ext as she"
   ]
  },
  {
   "cell_type": "markdown",
   "metadata": {},
   "source": [
    "Shapely will be to show the geotable operations, and geopandas will just be to show interop.\n",
    "\n",
    "First, recall the dataframe"
   ]
  },
  {
   "cell_type": "code",
   "execution_count": 23,
   "metadata": {
    "collapsed": false
   },
   "outputs": [
    {
     "data": {
      "text/html": [
       "<div>\n",
       "<table border=\"1\" class=\"dataframe\">\n",
       "  <thead>\n",
       "    <tr style=\"text-align: right;\">\n",
       "      <th></th>\n",
       "      <th>AREA</th>\n",
       "      <th>PERIMETER</th>\n",
       "      <th>COLUMBUS_</th>\n",
       "      <th>COLUMBUS_I</th>\n",
       "      <th>POLYID</th>\n",
       "      <th>NEIG</th>\n",
       "      <th>HOVAL</th>\n",
       "      <th>INC</th>\n",
       "      <th>CRIME</th>\n",
       "      <th>OPEN</th>\n",
       "      <th>...</th>\n",
       "      <th>DISCBD</th>\n",
       "      <th>X</th>\n",
       "      <th>Y</th>\n",
       "      <th>NSA</th>\n",
       "      <th>NSB</th>\n",
       "      <th>EW</th>\n",
       "      <th>CP</th>\n",
       "      <th>THOUS</th>\n",
       "      <th>NEIGNO</th>\n",
       "      <th>geometry</th>\n",
       "    </tr>\n",
       "  </thead>\n",
       "  <tbody>\n",
       "    <tr>\n",
       "      <th>0</th>\n",
       "      <td>0.309441</td>\n",
       "      <td>2.440629</td>\n",
       "      <td>2</td>\n",
       "      <td>5</td>\n",
       "      <td>1</td>\n",
       "      <td>5</td>\n",
       "      <td>80.467003</td>\n",
       "      <td>19.531</td>\n",
       "      <td>15.725980</td>\n",
       "      <td>2.850747</td>\n",
       "      <td>...</td>\n",
       "      <td>5.03</td>\n",
       "      <td>38.799999</td>\n",
       "      <td>44.070000</td>\n",
       "      <td>1.0</td>\n",
       "      <td>1.0</td>\n",
       "      <td>1.0</td>\n",
       "      <td>0.0</td>\n",
       "      <td>1000.0</td>\n",
       "      <td>1005.0</td>\n",
       "      <td>&lt;pysal.cg.shapes.Polygon object at 0x7eff47e51...</td>\n",
       "    </tr>\n",
       "    <tr>\n",
       "      <th>1</th>\n",
       "      <td>0.259329</td>\n",
       "      <td>2.236939</td>\n",
       "      <td>3</td>\n",
       "      <td>1</td>\n",
       "      <td>2</td>\n",
       "      <td>1</td>\n",
       "      <td>44.567001</td>\n",
       "      <td>21.232</td>\n",
       "      <td>18.801754</td>\n",
       "      <td>5.296720</td>\n",
       "      <td>...</td>\n",
       "      <td>4.27</td>\n",
       "      <td>35.619999</td>\n",
       "      <td>42.380001</td>\n",
       "      <td>1.0</td>\n",
       "      <td>1.0</td>\n",
       "      <td>0.0</td>\n",
       "      <td>0.0</td>\n",
       "      <td>1000.0</td>\n",
       "      <td>1001.0</td>\n",
       "      <td>&lt;pysal.cg.shapes.Polygon object at 0x7eff47e51...</td>\n",
       "    </tr>\n",
       "    <tr>\n",
       "      <th>2</th>\n",
       "      <td>0.192468</td>\n",
       "      <td>2.187547</td>\n",
       "      <td>4</td>\n",
       "      <td>6</td>\n",
       "      <td>3</td>\n",
       "      <td>6</td>\n",
       "      <td>26.350000</td>\n",
       "      <td>15.956</td>\n",
       "      <td>30.626781</td>\n",
       "      <td>4.534649</td>\n",
       "      <td>...</td>\n",
       "      <td>3.89</td>\n",
       "      <td>39.820000</td>\n",
       "      <td>41.180000</td>\n",
       "      <td>1.0</td>\n",
       "      <td>1.0</td>\n",
       "      <td>1.0</td>\n",
       "      <td>0.0</td>\n",
       "      <td>1000.0</td>\n",
       "      <td>1006.0</td>\n",
       "      <td>&lt;pysal.cg.shapes.Polygon object at 0x7eff47e51...</td>\n",
       "    </tr>\n",
       "    <tr>\n",
       "      <th>3</th>\n",
       "      <td>0.083841</td>\n",
       "      <td>1.427635</td>\n",
       "      <td>5</td>\n",
       "      <td>2</td>\n",
       "      <td>4</td>\n",
       "      <td>2</td>\n",
       "      <td>33.200001</td>\n",
       "      <td>4.477</td>\n",
       "      <td>32.387760</td>\n",
       "      <td>0.394427</td>\n",
       "      <td>...</td>\n",
       "      <td>3.70</td>\n",
       "      <td>36.500000</td>\n",
       "      <td>40.520000</td>\n",
       "      <td>1.0</td>\n",
       "      <td>1.0</td>\n",
       "      <td>0.0</td>\n",
       "      <td>0.0</td>\n",
       "      <td>1000.0</td>\n",
       "      <td>1002.0</td>\n",
       "      <td>&lt;pysal.cg.shapes.Polygon object at 0x7eff47e51...</td>\n",
       "    </tr>\n",
       "    <tr>\n",
       "      <th>4</th>\n",
       "      <td>0.488888</td>\n",
       "      <td>2.997133</td>\n",
       "      <td>6</td>\n",
       "      <td>7</td>\n",
       "      <td>5</td>\n",
       "      <td>7</td>\n",
       "      <td>23.225000</td>\n",
       "      <td>11.252</td>\n",
       "      <td>50.731510</td>\n",
       "      <td>0.405664</td>\n",
       "      <td>...</td>\n",
       "      <td>2.83</td>\n",
       "      <td>40.009998</td>\n",
       "      <td>38.000000</td>\n",
       "      <td>1.0</td>\n",
       "      <td>1.0</td>\n",
       "      <td>1.0</td>\n",
       "      <td>0.0</td>\n",
       "      <td>1000.0</td>\n",
       "      <td>1007.0</td>\n",
       "      <td>&lt;pysal.cg.shapes.Polygon object at 0x7eff47e51...</td>\n",
       "    </tr>\n",
       "  </tbody>\n",
       "</table>\n",
       "<p>5 rows × 21 columns</p>\n",
       "</div>"
      ],
      "text/plain": [
       "       AREA  PERIMETER  COLUMBUS_  COLUMBUS_I  POLYID  NEIG      HOVAL  \\\n",
       "0  0.309441   2.440629          2           5       1     5  80.467003   \n",
       "1  0.259329   2.236939          3           1       2     1  44.567001   \n",
       "2  0.192468   2.187547          4           6       3     6  26.350000   \n",
       "3  0.083841   1.427635          5           2       4     2  33.200001   \n",
       "4  0.488888   2.997133          6           7       5     7  23.225000   \n",
       "\n",
       "      INC      CRIME      OPEN  \\\n",
       "0  19.531  15.725980  2.850747   \n",
       "1  21.232  18.801754  5.296720   \n",
       "2  15.956  30.626781  4.534649   \n",
       "3   4.477  32.387760  0.394427   \n",
       "4  11.252  50.731510  0.405664   \n",
       "\n",
       "                         ...                          DISCBD          X  \\\n",
       "0                        ...                            5.03  38.799999   \n",
       "1                        ...                            4.27  35.619999   \n",
       "2                        ...                            3.89  39.820000   \n",
       "3                        ...                            3.70  36.500000   \n",
       "4                        ...                            2.83  40.009998   \n",
       "\n",
       "           Y  NSA  NSB   EW   CP   THOUS  NEIGNO  \\\n",
       "0  44.070000  1.0  1.0  1.0  0.0  1000.0  1005.0   \n",
       "1  42.380001  1.0  1.0  0.0  0.0  1000.0  1001.0   \n",
       "2  41.180000  1.0  1.0  1.0  0.0  1000.0  1006.0   \n",
       "3  40.520000  1.0  1.0  0.0  0.0  1000.0  1002.0   \n",
       "4  38.000000  1.0  1.0  1.0  0.0  1000.0  1007.0   \n",
       "\n",
       "                                            geometry  \n",
       "0  <pysal.cg.shapes.Polygon object at 0x7eff47e51...  \n",
       "1  <pysal.cg.shapes.Polygon object at 0x7eff47e51...  \n",
       "2  <pysal.cg.shapes.Polygon object at 0x7eff47e51...  \n",
       "3  <pysal.cg.shapes.Polygon object at 0x7eff47e51...  \n",
       "4  <pysal.cg.shapes.Polygon object at 0x7eff47e51...  \n",
       "\n",
       "[5 rows x 21 columns]"
      ]
     },
     "execution_count": 23,
     "metadata": {},
     "output_type": "execute_result"
    }
   ],
   "source": [
    "df.head()"
   ]
  },
  {
   "cell_type": "markdown",
   "metadata": {},
   "source": [
    "## Interop"
   ]
  },
  {
   "cell_type": "markdown",
   "metadata": {},
   "source": [
    "We can get in and out of geopandas dataframes easily. Right now, since PySAL polygons aren't projected, we clobber crs and spatial index information coming to/from geopandas. \n",
    "\n",
    "In addition, the multipolygon with holes issue is not resolved, and we will generate invalid polygons when processing multipolygons with holes."
   ]
  },
  {
   "cell_type": "code",
   "execution_count": 24,
   "metadata": {
    "collapsed": false
   },
   "outputs": [],
   "source": [
    "gdf = GIS.tabular.to_gdf(df)"
   ]
  },
  {
   "cell_type": "code",
   "execution_count": 25,
   "metadata": {
    "collapsed": false
   },
   "outputs": [
    {
     "data": {
      "text/plain": [
       "geopandas.geodataframe.GeoDataFrame"
      ]
     },
     "execution_count": 25,
     "metadata": {},
     "output_type": "execute_result"
    }
   ],
   "source": [
    "type(gdf)"
   ]
  },
  {
   "cell_type": "code",
   "execution_count": 26,
   "metadata": {
    "collapsed": true
   },
   "outputs": [],
   "source": [
    "df = GIS.tabular.to_df(gdf)"
   ]
  },
  {
   "cell_type": "code",
   "execution_count": 27,
   "metadata": {
    "collapsed": false
   },
   "outputs": [
    {
     "data": {
      "text/plain": [
       "pandas.core.frame.DataFrame"
      ]
     },
     "execution_count": 27,
     "metadata": {},
     "output_type": "execute_result"
    }
   ],
   "source": [
    "type(df)"
   ]
  },
  {
   "cell_type": "code",
   "execution_count": 28,
   "metadata": {
    "collapsed": false
   },
   "outputs": [
    {
     "data": {
      "text/plain": [
       "pysal.cg.shapes.Polygon"
      ]
     },
     "execution_count": 28,
     "metadata": {},
     "output_type": "execute_result"
    }
   ],
   "source": [
    "type(df.geometry[0])"
   ]
  },
  {
   "cell_type": "markdown",
   "metadata": {},
   "source": [
    "I tried to make all of the weights construction operation somewhat monadic. So, consider the following equality:"
   ]
  },
  {
   "cell_type": "code",
   "execution_count": 29,
   "metadata": {
    "collapsed": false
   },
   "outputs": [
    {
     "data": {
      "text/plain": [
       "True"
      ]
     },
     "execution_count": 29,
     "metadata": {},
     "output_type": "execute_result"
    }
   ],
   "source": [
    "(ps.weights.Rook.from_dataframe(gdf).neighbors == \n",
    " ps.weights.Rook.from_dataframe(df).neighbors)"
   ]
  },
  {
   "cell_type": "markdown",
   "metadata": {},
   "source": [
    "I only convert to PySAL shapes if needed, and I do that exactly once: in `from_iterable`. So, all methods \"aim\" at generating an iterable of PySAL shapes. In Haskell-like type notation:\n",
    "\n",
    "`from_shapefile :: string -> File Handler -> Just Polygons  -> W`\n",
    "\n",
    "`from_dataframe :: DataFrame -> Maybe Polygons -> Just Polygons -> W`\n",
    "\n",
    "`from_iterable :: Maybe Polygons -> Just Polygons -> W`\n",
    "\n",
    "`Rook.__init__ :: Just Polygons -> W`\n",
    "\n",
    "So, you can see that the \"higher-level\" constructors are just chained transforms to correctly call `Rook.__init__`. `asShape` does the casting from `Maybe` to `Just`, and only actually *does* anything if it encounters something a polygon that's not a PySAL polygon.\n",
    "\n",
    "This means that, if `asShape` can get it to a PySAL shape, then any iterable can be weighted by `from_iterable`. "
   ]
  },
  {
   "cell_type": "markdown",
   "metadata": {},
   "source": [
    "Now, a good example of the GIS might be the atomic operands. is module contains all of the attributes on PySAL shapes and the atomic `shapely_ext` operations. "
   ]
  },
  {
   "cell_type": "code",
   "execution_count": 30,
   "metadata": {
    "collapsed": false,
    "scrolled": true
   },
   "outputs": [
    {
     "name": "stdout",
     "output_type": "stream",
     "text": [
      "['relate', 'within', 'is_simple', 'bounding_box', 'cascaded_union', 'touches', 'intersection', 'area', 'union', 'segments', 'contains', 'representative_point', 'is_valid', 'symmetric_difference', 'get_attr', 'overlaps', 'unary_union', 'almost_equals', 'envelope', 'crosses', 'bbox', 'difference', 'distance', 'equals_exact', 'bounds', 'project', 'intersects', 'disjoint', 'convex_hull', 'buffer', 'parts', 'centroid', 'boundary', 'perimeter', 'equals', 'is_ring', 'simplify', 'is_empty', 'interpolate', 'has_z', 'to_wkb', 'k', 'holes', 'vertices', 'len', 'length', 'to_wkt']\n"
     ]
    }
   ],
   "source": [
    "print([x for x in GIS.atomic.__dict__ if not x.startswith('_')])"
   ]
  },
  {
   "cell_type": "markdown",
   "metadata": {},
   "source": [
    "All of the `atomic` operations derive from the same pattern:"
   ]
  },
  {
   "cell_type": "code",
   "execution_count": 85,
   "metadata": {
    "collapsed": false
   },
   "outputs": [
    {
     "data": {
      "text/plain": [
       "0    0.309440\n",
       "1    0.259328\n",
       "2    0.192469\n",
       "3    0.083842\n",
       "4    0.488887\n",
       "Name: geometry, dtype: float64"
      ]
     },
     "execution_count": 85,
     "metadata": {},
     "output_type": "execute_result"
    }
   ],
   "source": [
    "GIS.atomic._atomic_op(df.head(), geom_col='geometry', inplace=False, _func=she.area) #, **kw)"
   ]
  },
  {
   "cell_type": "markdown",
   "metadata": {},
   "source": [
    "Everything in `atomic` is done over the geometry column using `df.geometry.apply`. \n",
    "\n",
    "If you're interested in computing a *relational* atomic operation, like something in the DE9IM, you have to specify the `other` shape, which gets passed through the `**kw` to the underlying shapely operation."
   ]
  },
  {
   "cell_type": "code",
   "execution_count": 95,
   "metadata": {
    "collapsed": false
   },
   "outputs": [
    {
     "data": {
      "text/plain": [
       "0    False\n",
       "1     True\n",
       "2     True\n",
       "3    False\n",
       "4    False\n",
       "Name: geometry, dtype: bool"
      ]
     },
     "execution_count": 95,
     "metadata": {},
     "output_type": "execute_result"
    }
   ],
   "source": [
    "GIS.atomic.touches(df.head(), other=df.geometry[0])"
   ]
  },
  {
   "cell_type": "markdown",
   "metadata": {},
   "source": [
    "This would build the basics of how we could do spatial join without using the GEOS ops, if we can make fast indexes & fast touches. "
   ]
  },
  {
   "cell_type": "markdown",
   "metadata": {},
   "source": [
    "But, right now, we can spatial join using geopandas, and get back the pysal frames we need. If you plan on doing a ton of these ops, you should probably keep the frame in GeoPandas."
   ]
  },
  {
   "cell_type": "markdown",
   "metadata": {},
   "source": [
    "First, we'll need to construct a point dataset. I'm doing this now, but if you had a point-based dataset, you could would skip these steps"
   ]
  },
  {
   "cell_type": "code",
   "execution_count": 31,
   "metadata": {
    "collapsed": false
   },
   "outputs": [],
   "source": [
    "df_centroids = df.drop([col for col in df.columns if col not in ['geometry', 'POLYID']],axis=1)"
   ]
  },
  {
   "cell_type": "code",
   "execution_count": 32,
   "metadata": {
    "collapsed": false
   },
   "outputs": [
    {
     "data": {
      "text/html": [
       "<div>\n",
       "<table border=\"1\" class=\"dataframe\">\n",
       "  <thead>\n",
       "    <tr style=\"text-align: right;\">\n",
       "      <th></th>\n",
       "      <th>POLYID</th>\n",
       "      <th>geometry</th>\n",
       "    </tr>\n",
       "  </thead>\n",
       "  <tbody>\n",
       "    <tr>\n",
       "      <th>0</th>\n",
       "      <td>1</td>\n",
       "      <td>&lt;pysal.cg.shapes.Polygon object at 0x7eff46c76...</td>\n",
       "    </tr>\n",
       "    <tr>\n",
       "      <th>1</th>\n",
       "      <td>2</td>\n",
       "      <td>&lt;pysal.cg.shapes.Polygon object at 0x7eff47c02...</td>\n",
       "    </tr>\n",
       "    <tr>\n",
       "      <th>2</th>\n",
       "      <td>3</td>\n",
       "      <td>&lt;pysal.cg.shapes.Polygon object at 0x7eff47bab...</td>\n",
       "    </tr>\n",
       "    <tr>\n",
       "      <th>3</th>\n",
       "      <td>4</td>\n",
       "      <td>&lt;pysal.cg.shapes.Polygon object at 0x7eff40819...</td>\n",
       "    </tr>\n",
       "    <tr>\n",
       "      <th>4</th>\n",
       "      <td>5</td>\n",
       "      <td>&lt;pysal.cg.shapes.Polygon object at 0x7eff4082a...</td>\n",
       "    </tr>\n",
       "  </tbody>\n",
       "</table>\n",
       "</div>"
      ],
      "text/plain": [
       "   POLYID                                           geometry\n",
       "0       1  <pysal.cg.shapes.Polygon object at 0x7eff46c76...\n",
       "1       2  <pysal.cg.shapes.Polygon object at 0x7eff47c02...\n",
       "2       3  <pysal.cg.shapes.Polygon object at 0x7eff47bab...\n",
       "3       4  <pysal.cg.shapes.Polygon object at 0x7eff40819...\n",
       "4       5  <pysal.cg.shapes.Polygon object at 0x7eff4082a..."
      ]
     },
     "execution_count": 32,
     "metadata": {},
     "output_type": "execute_result"
    }
   ],
   "source": [
    "df_centroids.head()"
   ]
  },
  {
   "cell_type": "code",
   "execution_count": 33,
   "metadata": {
    "collapsed": false
   },
   "outputs": [],
   "source": [
    "df_centroids['geometry'] = GIS.atomic.centroid(df_centroids)\n",
    "df_centroids['geometry'] = df_centroids.geometry.apply(ps.cg.Point)\n",
    "df_centroids['special_data'] = ps.common.np.random.normal(0,1,size=(df_centroids.shape[0],1))"
   ]
  },
  {
   "cell_type": "markdown",
   "metadata": {},
   "source": [
    "Now, we can merge the two pandas dataframes with geometry columns by using the `tabular.spatial_join` function, which dispatches to `geopandas.tools.sjoin`. "
   ]
  },
  {
   "cell_type": "code",
   "execution_count": 34,
   "metadata": {
    "collapsed": false
   },
   "outputs": [],
   "source": [
    "joined_df = GIS.tabular.spatial_join(df, df_centroids)"
   ]
  },
  {
   "cell_type": "code",
   "execution_count": 35,
   "metadata": {
    "collapsed": false
   },
   "outputs": [
    {
     "data": {
      "text/plain": [
       "pandas.core.frame.DataFrame"
      ]
     },
     "execution_count": 35,
     "metadata": {},
     "output_type": "execute_result"
    }
   ],
   "source": [
    "type(joined_df)"
   ]
  },
  {
   "cell_type": "code",
   "execution_count": 36,
   "metadata": {
    "collapsed": false
   },
   "outputs": [
    {
     "data": {
      "text/html": [
       "<div>\n",
       "<table border=\"1\" class=\"dataframe\">\n",
       "  <thead>\n",
       "    <tr style=\"text-align: right;\">\n",
       "      <th></th>\n",
       "      <th>geometry</th>\n",
       "      <th>special_data</th>\n",
       "      <th>POLYID_left</th>\n",
       "    </tr>\n",
       "  </thead>\n",
       "  <tbody>\n",
       "    <tr>\n",
       "      <th>0</th>\n",
       "      <td>&lt;pysal.cg.shapes.Polygon object at 0x7eff407d6...</td>\n",
       "      <td>-0.462174</td>\n",
       "      <td>1</td>\n",
       "    </tr>\n",
       "    <tr>\n",
       "      <th>1</th>\n",
       "      <td>&lt;pysal.cg.shapes.Polygon object at 0x7eff407dc...</td>\n",
       "      <td>-0.159133</td>\n",
       "      <td>2</td>\n",
       "    </tr>\n",
       "    <tr>\n",
       "      <th>2</th>\n",
       "      <td>&lt;pysal.cg.shapes.Polygon object at 0x7eff40799...</td>\n",
       "      <td>0.620660</td>\n",
       "      <td>3</td>\n",
       "    </tr>\n",
       "    <tr>\n",
       "      <th>3</th>\n",
       "      <td>&lt;pysal.cg.shapes.Polygon object at 0x7eff40823...</td>\n",
       "      <td>1.512632</td>\n",
       "      <td>4</td>\n",
       "    </tr>\n",
       "    <tr>\n",
       "      <th>4</th>\n",
       "      <td>&lt;pysal.cg.shapes.Polygon object at 0x7eff4080f...</td>\n",
       "      <td>0.089255</td>\n",
       "      <td>5</td>\n",
       "    </tr>\n",
       "  </tbody>\n",
       "</table>\n",
       "</div>"
      ],
      "text/plain": [
       "                                            geometry  special_data  \\\n",
       "0  <pysal.cg.shapes.Polygon object at 0x7eff407d6...     -0.462174   \n",
       "1  <pysal.cg.shapes.Polygon object at 0x7eff407dc...     -0.159133   \n",
       "2  <pysal.cg.shapes.Polygon object at 0x7eff40799...      0.620660   \n",
       "3  <pysal.cg.shapes.Polygon object at 0x7eff40823...      1.512632   \n",
       "4  <pysal.cg.shapes.Polygon object at 0x7eff4080f...      0.089255   \n",
       "\n",
       "   POLYID_left  \n",
       "0            1  \n",
       "1            2  \n",
       "2            3  \n",
       "3            4  \n",
       "4            5  "
      ]
     },
     "execution_count": 36,
     "metadata": {},
     "output_type": "execute_result"
    }
   ],
   "source": [
    "joined_df.head()[['geometry', 'special_data', 'POLYID_left']]"
   ]
  },
  {
   "cell_type": "markdown",
   "metadata": {},
   "source": [
    "### Other semi-Tabular operatoins"
   ]
  },
  {
   "cell_type": "markdown",
   "metadata": {},
   "source": [
    "Reductions, like dissolves, might seem like they should be tabular. And, I think it might be a good idea to have \"cascaded union\" remain in `atomic`, but put wrappers around the reductions in `tabular`. So, something like:"
   ]
  },
  {
   "cell_type": "code",
   "execution_count": 39,
   "metadata": {
    "collapsed": false
   },
   "outputs": [
    {
     "data": {
      "text/plain": [
       "NSB\n",
       "0.0    <pysal.cg.shapes.Polygon object at 0x7eff4073e...\n",
       "1.0    <pysal.cg.shapes.Polygon object at 0x7eff4070c...\n",
       "Name: geometry, dtype: object"
      ]
     },
     "execution_count": 39,
     "metadata": {},
     "output_type": "execute_result"
    }
   ],
   "source": [
    "GIS.atomic.cascaded_union(df.groupby('NSB'))"
   ]
  },
  {
   "cell_type": "markdown",
   "metadata": {},
   "source": [
    "**Remaining:** wrap this and put it in `tabular`."
   ]
  },
  {
   "cell_type": "code",
   "execution_count": 87,
   "metadata": {
    "collapsed": true
   },
   "outputs": [],
   "source": [
    "def dissolve(df, on='', geom_col='geometry', **grouper_kws):\n",
    "    return GIS.atomic.cascaded_union(df.groupby(on, **grouper_kws))"
   ]
  },
  {
   "cell_type": "code",
   "execution_count": 88,
   "metadata": {
    "collapsed": false
   },
   "outputs": [
    {
     "data": {
      "text/plain": [
       "NSB\n",
       "0.0    <pysal.cg.shapes.Polygon object at 0x7eff40473...\n",
       "1.0    <pysal.cg.shapes.Polygon object at 0x7eff403a3...\n",
       "Name: geometry, dtype: object"
      ]
     },
     "execution_count": 88,
     "metadata": {},
     "output_type": "execute_result"
    }
   ],
   "source": [
    "dissolve(df, on='NSB')"
   ]
  },
  {
   "cell_type": "markdown",
   "metadata": {},
   "source": [
    "**Remaining:** implement `cascaded_intersection`, which isn't too difficult, but poses some challenges when considering how to handle the fact that shapely returns an empty geometry collection on an empty intersection, instead of respecting the input shape types. Should be pretty straightforward"
   ]
  },
  {
   "cell_type": "code",
   "execution_count": 89,
   "metadata": {
    "collapsed": true
   },
   "outputs": [],
   "source": [
    "import pysal.contrib.shapely_ext as she\n",
    "def cascaded_intersection(shapes):\n",
    "    iterator = iter(shapes)\n",
    "    outshape = next(iterator)\n",
    "    for i, shape in enumerate(iterator):\n",
    "        print('on shape {}'.format(i))\n",
    "        outshape = she.intersection(outshape, shape)\n",
    "        if outshape.is_empty:\n",
    "            # no further intersections will yield nonempty shapes\n",
    "            return outshape\n",
    "    return outshape"
   ]
  },
  {
   "cell_type": "code",
   "execution_count": 90,
   "metadata": {
    "collapsed": false
   },
   "outputs": [],
   "source": [
    "a,b = df.groupby('NSB').geometry.apply(list)"
   ]
  },
  {
   "cell_type": "code",
   "execution_count": 91,
   "metadata": {
    "collapsed": false
   },
   "outputs": [
    {
     "name": "stdout",
     "output_type": "stream",
     "text": [
      "on shape 0\n",
      "failed! \n",
      "geometrycollection is not supported at this time.\n"
     ]
    }
   ],
   "source": [
    "try:\n",
    "    cascaded_intersection(a)\n",
    "except NotImplementedError as e:\n",
    "    print('failed! \\n{}'.format(e))"
   ]
  },
  {
   "cell_type": "code",
   "execution_count": 92,
   "metadata": {
    "collapsed": true
   },
   "outputs": [],
   "source": [
    "sha = she.shapely.geometry.asShape(a[0])\n",
    "shb = she.shapely.geometry.asShape(a[1])"
   ]
  },
  {
   "cell_type": "code",
   "execution_count": 93,
   "metadata": {
    "collapsed": false
   },
   "outputs": [
    {
     "data": {
      "text/plain": [
       "True"
      ]
     },
     "execution_count": 93,
     "metadata": {},
     "output_type": "execute_result"
    }
   ],
   "source": [
    "sha.intersection(shb).is_empty"
   ]
  },
  {
   "cell_type": "code",
   "execution_count": 94,
   "metadata": {
    "collapsed": false
   },
   "outputs": [
    {
     "data": {
      "text/plain": [
       "shapely.geometry.collection.GeometryCollection"
      ]
     },
     "execution_count": 94,
     "metadata": {},
     "output_type": "execute_result"
    }
   ],
   "source": [
    "type(sha.intersection(shb))"
   ]
  }
 ],
 "metadata": {
  "kernelspec": {
   "display_name": "Python 2",
   "language": "python",
   "name": "python2"
  },
  "language_info": {
   "codemirror_mode": {
    "name": "ipython",
    "version": 2
   },
   "file_extension": ".py",
   "mimetype": "text/x-python",
   "name": "python",
   "nbconvert_exporter": "python",
   "pygments_lexer": "ipython2",
   "version": "2.7.11"
  }
 },
 "nbformat": 4,
 "nbformat_minor": 0
}
