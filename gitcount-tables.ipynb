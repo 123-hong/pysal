{
 "cells": [
  {
   "cell_type": "markdown",
   "metadata": {},
   "source": [
    "## PySAL Change Log Statistics: Table Generation\n",
    "\n",
    "This notebook generates the summary statistics for use in the 6-month releases of PySAL, which is now (2017-07) a meta package. \n",
    "\n",
    "It assumes the subpackages have been git cloned in a directory below the location of this notebook. It also requires network connectivity for some of the reporting.\n",
    "\n",
    "Run this notebook after `gitcount.ipynb`\n"
   ]
  },
  {
   "cell_type": "code",
   "execution_count": 1,
   "metadata": {},
   "outputs": [],
   "source": [
    "from __future__ import print_function\n",
    "import os\n",
    "import json\n",
    "import re\n",
    "import sys\n",
    "import pandas\n",
    "import subprocess\n",
    "from subprocess import check_output\n",
    "\n",
    "import yaml\n",
    "from datetime import datetime, timedelta\n",
    "\n",
    "from dateutil.parser import parse\n",
    "import pytz\n",
    "\n",
    "utc=pytz.UTC"
   ]
  },
  {
   "cell_type": "code",
   "execution_count": 2,
   "metadata": {},
   "outputs": [],
   "source": [
    "from datetime import datetime, timedelta\n",
    "from time import sleep\n",
    "from subprocess import check_output\n",
    "try:\n",
    "    from urllib import urlopen\n",
    "except:\n",
    "    from urllib.request import urlopen\n",
    "\n",
    "import ssl\n",
    "import yaml\n",
    "\n",
    "context = ssl._create_unverified_context()"
   ]
  },
  {
   "cell_type": "code",
   "execution_count": 3,
   "metadata": {},
   "outputs": [],
   "source": [
    "with open('packages.yml') as package_file:\n",
    "    packages = yaml.load(package_file)"
   ]
  },
  {
   "cell_type": "code",
   "execution_count": 4,
   "metadata": {},
   "outputs": [],
   "source": [
    "CWD = os.path.abspath(os.path.curdir)"
   ]
  },
  {
   "cell_type": "code",
   "execution_count": 5,
   "metadata": {},
   "outputs": [
    {
     "data": {
      "text/plain": [
       "'/home/serge/Dropbox/p/pysal/src/pysal'"
      ]
     },
     "execution_count": 5,
     "metadata": {},
     "output_type": "execute_result"
    }
   ],
   "source": [
    "CWD"
   ]
  },
  {
   "cell_type": "markdown",
   "metadata": {},
   "source": [
    "Our last main release was `2017-11-03`:"
   ]
  },
  {
   "cell_type": "code",
   "execution_count": 6,
   "metadata": {},
   "outputs": [
    {
     "data": {
      "text/plain": [
       "datetime.datetime(2017, 11, 3, 0, 0)"
      ]
     },
     "execution_count": 6,
     "metadata": {},
     "output_type": "execute_result"
    }
   ],
   "source": [
    "start_date = '2017-11-03'\n",
    "since_date = '--since=\"{start}\"'.format(start=start_date)\n",
    "since_date\n",
    "since = datetime.strptime(start_date+\" 0:0:0\", \"%Y-%m-%d %H:%M:%S\")\n",
    "since"
   ]
  },
  {
   "cell_type": "code",
   "execution_count": 7,
   "metadata": {},
   "outputs": [],
   "source": [
    "import pickle "
   ]
  },
  {
   "cell_type": "code",
   "execution_count": 8,
   "metadata": {},
   "outputs": [],
   "source": [
    "issue_details = pickle.load( open( \"issue_details.p\", \"rb\" ) )\n",
    "pull_details = pickle.load( open( \"pull_details.p\", \"rb\" ) )\n"
   ]
  },
  {
   "cell_type": "code",
   "execution_count": 9,
   "metadata": {},
   "outputs": [],
   "source": [
    "# get dates of tags\n",
    "with open('subtags', 'r') as tag_name:\n",
    "        tags = tag_name.readlines()\n"
   ]
  },
  {
   "cell_type": "code",
   "execution_count": 10,
   "metadata": {},
   "outputs": [
    {
     "name": "stdout",
     "output_type": "stream",
     "text": [
      "libpysal v4.0.1 2018-10-27\n",
      "esda v2.0.1 2018-11-04\n",
      "giddy v2.0.0 2018-08-26\n",
      "inequality v1.0.0 2018-10-31\n",
      "pointpats V1.1.0 2018-05-17\n",
      "spaghetti v1.1.0 2018-10-31\n",
      "mapclassify v2.0.1 2018-10-28\n",
      "spreg v1.0.4 2018-08-24\n",
      "spglm v1.0.6 2018-10-31\n",
      "spint v1.0.4 2018-11-01\n",
      "mgwr v2.0.1 2018-09-27\n",
      "spvcm 0.2.0 2018-07-23\n"
     ]
    }
   ],
   "source": [
    "tag_dates = {}\n",
    "#root = '/home/serge/Dropbox/p/pysal/src/pysal/tmp/'\n",
    "root = CWD + \"/tmp/\"\n",
    "for record in tags:\n",
    "    pkg, tag = record.strip().split()\n",
    "    tag = tag.split('/')[-1]\n",
    "    pkdir = root+pkg\n",
    "    cmd = \"git log -1 --format=%ai {tag}\".format(tag=tag)\n",
    "    os.chdir(pkdir)\n",
    "    #print(cmd)\n",
    "    result = subprocess.run(cmd, check=True, shell=True, stdout=subprocess.PIPE)\n",
    "    tag_string = result.stdout.decode('utf-8')\n",
    "    tag_date = tag_string.split()[0]\n",
    "    tag_dates[pkg] = tag_date\n",
    "    print(pkg, tag, tag_date)\n",
    "\n",
    "os.chdir(CWD)\n",
    "\n",
    "    "
   ]
  },
  {
   "cell_type": "code",
   "execution_count": 11,
   "metadata": {},
   "outputs": [
    {
     "name": "stdout",
     "output_type": "stream",
     "text": [
      "libpysal 82 79\n",
      "libpysal 60 57\n",
      "esda 33 29\n",
      "esda 22 19\n",
      "giddy 50 38\n",
      "giddy 41 31\n",
      "inequality 11 6\n",
      "inequality 9 5\n",
      "pointpats 12 1\n",
      "pointpats 12 1\n",
      "spaghetti 185 94\n",
      "spaghetti 87 34\n",
      "mapclassify 15 9\n",
      "mapclassify 13 8\n",
      "spreg 11 8\n",
      "spreg 7 6\n",
      "spglm 15 12\n",
      "spglm 11 9\n",
      "spint 14 11\n",
      "spint 11 9\n",
      "mgwr 39 30\n",
      "mgwr 24 16\n",
      "spvcm 3 2\n",
      "spvcm 1 1\n"
     ]
    }
   ],
   "source": [
    "# get issues for a package and filter on tag date\n",
    "\n",
    "\n",
    "for pkg in tag_dates.keys():\n",
    "    issues = issue_details[pkg]\n",
    "    tag_date = utc.localize(parse(tag_dates[pkg]))\n",
    "    keep = []\n",
    "    for issue in issues:\n",
    "        closed = parse(issue['closed_at'])\n",
    "        if closed <= tag_date:\n",
    "            keep.append(issue)\n",
    "    print(pkg, len(issues), len(keep))\n",
    "    issue_details[pkg] = keep\n",
    "    keep = []\n",
    "    pulls = pull_details[pkg]\n",
    "    for pull in pulls:\n",
    "        closed = parse(pull['closed_at'])\n",
    "        if closed <= tag_date:\n",
    "            keep.append(pull)\n",
    "    print(pkg, len(pulls), len(keep)) \n",
    "    pull_details[pkg] = keep\n",
    "        \n",
    "  "
   ]
  },
  {
   "cell_type": "code",
   "execution_count": 12,
   "metadata": {},
   "outputs": [
    {
     "name": "stdout",
     "output_type": "stream",
     "text": [
      "libpysal 276 276\n",
      "esda 80 80\n",
      "giddy 137 134\n",
      "inequality 36 32\n",
      "pointpats 13 8\n",
      "spaghetti 282 282\n",
      "mapclassify 48 48\n",
      "spreg 57 57\n",
      "spglm 70 69\n",
      "spint 57 57\n",
      "mgwr 229 223\n",
      "spvcm 21 20\n"
     ]
    }
   ],
   "source": [
    "# commits\n",
    "cmd = ['git', 'log', '--oneline', since_date]\n",
    "\n",
    "activity = {}\n",
    "total_commits = 0\n",
    "for package in packages:\n",
    "    subpackages = packages[package].split()\n",
    "    for subpackage in subpackages:\n",
    "        tag_date = tag_dates[subpackage]\n",
    "        os.chdir(CWD)\n",
    "        os.chdir('tmp/{subpackage}'.format(subpackage=subpackage))\n",
    "        cmd_until = cmd + ['--until=\"{tag_date}\"'.format(tag_date=tag_date)]\n",
    "        ncommits = len(check_output(cmd_until).splitlines())\n",
    "        ncommits_total = len(check_output(cmd).splitlines())\n",
    "        print(subpackage, ncommits_total, ncommits)\n",
    "        total_commits += ncommits\n",
    "        activity[subpackage] = ncommits"
   ]
  },
  {
   "cell_type": "code",
   "execution_count": 13,
   "metadata": {},
   "outputs": [
    {
     "data": {
      "text/plain": [
       "['git', 'log', '--oneline', '--since=\"2017-11-03\"', '--until=\"2018-07-23\"']"
      ]
     },
     "execution_count": 13,
     "metadata": {},
     "output_type": "execute_result"
    }
   ],
   "source": [
    "cmd_until"
   ]
  },
  {
   "cell_type": "code",
   "execution_count": 14,
   "metadata": {},
   "outputs": [],
   "source": [
    "identities = {'Levi John Wolf': ('ljwolf', 'Levi John Wolf'),\n",
    "              'Serge Rey': ('Serge Rey', 'Sergio Rey', 'sjsrey', 'serge'),\n",
    "              'Wei Kang': ('Wei Kang', 'weikang9009'),\n",
    "              'Dani Arribas-Bel': ('Dani Arribas-Bel', 'darribas')\n",
    "}\n",
    "\n",
    "def regularize_identity(string):\n",
    "    string = string.decode()\n",
    "    for name, aliases in identities.items():\n",
    "        for alias in aliases:\n",
    "            if alias in string:\n",
    "                string = string.replace(alias, name)\n",
    "    if len(string.split(' '))>1:\n",
    "        string = string.title()\n",
    "    return string.lstrip('* ')"
   ]
  },
  {
   "cell_type": "code",
   "execution_count": 15,
   "metadata": {},
   "outputs": [],
   "source": [
    "author_cmd = ['git', 'log', '--format=* %aN', since_date]"
   ]
  },
  {
   "cell_type": "code",
   "execution_count": 16,
   "metadata": {},
   "outputs": [],
   "source": [
    "author_cmd.append('blank')"
   ]
  },
  {
   "cell_type": "code",
   "execution_count": 17,
   "metadata": {},
   "outputs": [
    {
     "data": {
      "text/plain": [
       "['git', 'log', '--format=* %aN', '--since=\"2017-11-03\"', 'blank']"
      ]
     },
     "execution_count": 17,
     "metadata": {},
     "output_type": "execute_result"
    }
   ],
   "source": [
    "author_cmd"
   ]
  },
  {
   "cell_type": "code",
   "execution_count": 18,
   "metadata": {},
   "outputs": [],
   "source": [
    "from collections import Counter"
   ]
  },
  {
   "cell_type": "code",
   "execution_count": 19,
   "metadata": {},
   "outputs": [],
   "source": [
    "authors_global = set()\n",
    "authors = {}\n",
    "global_counter = Counter()\n",
    "counters = dict()\n",
    "cmd = ['git', 'log', '--oneline', since_date]\n",
    "total_commits = 0\n",
    "activity = {}\n",
    "for package in packages:\n",
    "    subpackages = packages[package].split()\n",
    "    for subpackage in subpackages:\n",
    "        os.chdir(CWD)\n",
    "        os.chdir('tmp/{subpackage}'.format(subpackage=subpackage))\n",
    "        ncommits = len(check_output(cmd).splitlines())\n",
    "        \n",
    "        \n",
    "        tag_date = tag_dates[subpackage]\n",
    "        author_cmd[-1] = '--until=\"{tag_date}\"'.format(tag_date=tag_date)\n",
    "        #cmd_until = cmd + ['--until=\"{tag_date}\"'.format(tag_date=tag_date)]\n",
    "\n",
    "        \n",
    "        all_authors = check_output(author_cmd).splitlines()\n",
    "        counter = Counter([regularize_identity(author) for author in all_authors])\n",
    "        global_counter += counter\n",
    "        counters.update({'.'.join((package,subpackage)): counter})\n",
    "        unique_authors = sorted(set(all_authors))\n",
    "        authors[subpackage] =  unique_authors\n",
    "        authors_global.update(unique_authors)\n",
    "        total_commits += ncommits\n",
    "        activity[subpackage] = ncommits"
   ]
  },
  {
   "cell_type": "code",
   "execution_count": 20,
   "metadata": {},
   "outputs": [
    {
     "data": {
      "text/plain": [
       "{b'* Dani Arribas-Bel',\n",
       " b'* James Gaboardi',\n",
       " b'* Levi John Wolf',\n",
       " b'* Philip Kahn',\n",
       " b'* Serge Rey',\n",
       " b'* Sergio Rey',\n",
       " b'* Stefanie Lumnitz',\n",
       " b'* Taylor Oshan',\n",
       " b'* Wei Kang',\n",
       " b'* Ziqi Li',\n",
       " b'* eli knaap',\n",
       " b'* ljwolf',\n",
       " b'* serge',\n",
       " b'* weikang9009'}"
      ]
     },
     "execution_count": 20,
     "metadata": {},
     "output_type": "execute_result"
    }
   ],
   "source": [
    "authors_global"
   ]
  },
  {
   "cell_type": "code",
   "execution_count": 21,
   "metadata": {},
   "outputs": [
    {
     "data": {
      "text/plain": [
       "{'libpysal': 276,\n",
       " 'esda': 80,\n",
       " 'giddy': 137,\n",
       " 'inequality': 36,\n",
       " 'pointpats': 13,\n",
       " 'spaghetti': 282,\n",
       " 'mapclassify': 48,\n",
       " 'spreg': 57,\n",
       " 'spglm': 70,\n",
       " 'spint': 57,\n",
       " 'mgwr': 229,\n",
       " 'spvcm': 21}"
      ]
     },
     "execution_count": 21,
     "metadata": {},
     "output_type": "execute_result"
    }
   ],
   "source": [
    "activity"
   ]
  },
  {
   "cell_type": "code",
   "execution_count": 22,
   "metadata": {},
   "outputs": [
    {
     "data": {
      "text/plain": [
       "{'lib.libpysal': Counter({'Serge Rey': 101,\n",
       "          'Levi John Wolf': 112,\n",
       "          'Wei Kang': 18,\n",
       "          'James Gaboardi': 8,\n",
       "          'Eli Knaap': 12,\n",
       "          'Dani Arribas-Bel': 19,\n",
       "          'Taylor Oshan': 4,\n",
       "          'Stefanie Lumnitz': 2}),\n",
       " 'explore.esda': Counter({'Serge Rey': 50,\n",
       "          'James Gaboardi': 1,\n",
       "          'Wei Kang': 8,\n",
       "          'Levi John Wolf': 11,\n",
       "          'Stefanie Lumnitz': 10}),\n",
       " 'explore.giddy': Counter({'Wei Kang': 103,\n",
       "          'Stefanie Lumnitz': 10,\n",
       "          'Serge Rey': 18,\n",
       "          'Levi John Wolf': 1,\n",
       "          'Eli Knaap': 2}),\n",
       " 'explore.inequality': Counter({'Wei Kang': 11,\n",
       "          'Serge Rey': 20,\n",
       "          'Levi John Wolf': 1}),\n",
       " 'explore.pointpats': Counter({'Serge Rey': 2, 'Levi John Wolf': 6}),\n",
       " 'explore.spaghetti': Counter({'James Gaboardi': 278,\n",
       "          'Levi John Wolf': 3,\n",
       "          'Wei Kang': 1}),\n",
       " 'viz.mapclassify': Counter({'Wei Kang': 23,\n",
       "          'Serge Rey': 22,\n",
       "          'Levi John Wolf': 3}),\n",
       " 'model.spreg': Counter({'Levi John Wolf': 40, 'Serge Rey': 17}),\n",
       " 'model.spglm': Counter({'Taylor Oshan': 60,\n",
       "          'Wei Kang': 1,\n",
       "          'James Gaboardi': 7,\n",
       "          'Levi John Wolf': 1}),\n",
       " 'model.spint': Counter({'Taylor Oshan': 42,\n",
       "          'James Gaboardi': 7,\n",
       "          'Levi John Wolf': 8}),\n",
       " 'model.mgwr': Counter({'Taylor Oshan': 130,\n",
       "          'Wei Kang': 21,\n",
       "          'Philip Kahn': 2,\n",
       "          'James Gaboardi': 9,\n",
       "          'Levi John Wolf': 10,\n",
       "          'Ziqi Li': 51}),\n",
       " 'model.spvcm': Counter({'Levi John Wolf': 20})}"
      ]
     },
     "execution_count": 22,
     "metadata": {},
     "output_type": "execute_result"
    }
   ],
   "source": [
    "counters"
   ]
  },
  {
   "cell_type": "code",
   "execution_count": 23,
   "metadata": {},
   "outputs": [
    {
     "data": {
      "text/plain": [
       "{'lib.libpysal': Counter({'Serge Rey': 101,\n",
       "          'Levi John Wolf': 112,\n",
       "          'Wei Kang': 18,\n",
       "          'James Gaboardi': 8,\n",
       "          'Eli Knaap': 12,\n",
       "          'Dani Arribas-Bel': 19,\n",
       "          'Taylor Oshan': 4,\n",
       "          'Stefanie Lumnitz': 2}),\n",
       " 'explore.esda': Counter({'Serge Rey': 50,\n",
       "          'James Gaboardi': 1,\n",
       "          'Wei Kang': 8,\n",
       "          'Levi John Wolf': 11,\n",
       "          'Stefanie Lumnitz': 10}),\n",
       " 'explore.giddy': Counter({'Wei Kang': 103,\n",
       "          'Stefanie Lumnitz': 10,\n",
       "          'Serge Rey': 18,\n",
       "          'Levi John Wolf': 1,\n",
       "          'Eli Knaap': 2}),\n",
       " 'explore.inequality': Counter({'Wei Kang': 11,\n",
       "          'Serge Rey': 20,\n",
       "          'Levi John Wolf': 1}),\n",
       " 'explore.pointpats': Counter({'Serge Rey': 2, 'Levi John Wolf': 6}),\n",
       " 'explore.spaghetti': Counter({'James Gaboardi': 278,\n",
       "          'Levi John Wolf': 3,\n",
       "          'Wei Kang': 1}),\n",
       " 'viz.mapclassify': Counter({'Wei Kang': 23,\n",
       "          'Serge Rey': 22,\n",
       "          'Levi John Wolf': 3}),\n",
       " 'model.spreg': Counter({'Levi John Wolf': 40, 'Serge Rey': 17}),\n",
       " 'model.spglm': Counter({'Taylor Oshan': 60,\n",
       "          'Wei Kang': 1,\n",
       "          'James Gaboardi': 7,\n",
       "          'Levi John Wolf': 1}),\n",
       " 'model.spint': Counter({'Taylor Oshan': 42,\n",
       "          'James Gaboardi': 7,\n",
       "          'Levi John Wolf': 8}),\n",
       " 'model.mgwr': Counter({'Taylor Oshan': 130,\n",
       "          'Wei Kang': 21,\n",
       "          'Philip Kahn': 2,\n",
       "          'James Gaboardi': 9,\n",
       "          'Levi John Wolf': 10,\n",
       "          'Ziqi Li': 51}),\n",
       " 'model.spvcm': Counter({'Levi John Wolf': 20})}"
      ]
     },
     "execution_count": 23,
     "metadata": {},
     "output_type": "execute_result"
    }
   ],
   "source": [
    "counters"
   ]
  },
  {
   "cell_type": "code",
   "execution_count": 24,
   "metadata": {},
   "outputs": [
    {
     "data": {
      "text/plain": [
       "{'url': 'https://api.github.com/repos/pysal/spvcm/issues/7',\n",
       " 'repository_url': 'https://api.github.com/repos/pysal/spvcm',\n",
       " 'labels_url': 'https://api.github.com/repos/pysal/spvcm/issues/7/labels{/name}',\n",
       " 'comments_url': 'https://api.github.com/repos/pysal/spvcm/issues/7/comments',\n",
       " 'events_url': 'https://api.github.com/repos/pysal/spvcm/issues/7/events',\n",
       " 'html_url': 'https://github.com/pysal/spvcm/pull/7',\n",
       " 'id': 389048162,\n",
       " 'node_id': 'MDExOlB1bGxSZXF1ZXN0MjM3MTQ2ODU4',\n",
       " 'number': 7,\n",
       " 'title': 'change the API to reflect up-to-date libpysal api',\n",
       " 'user': {'login': 'ljwolf',\n",
       "  'id': 2250995,\n",
       "  'node_id': 'MDQ6VXNlcjIyNTA5OTU=',\n",
       "  'avatar_url': 'https://avatars3.githubusercontent.com/u/2250995?v=4',\n",
       "  'gravatar_id': '',\n",
       "  'url': 'https://api.github.com/users/ljwolf',\n",
       "  'html_url': 'https://github.com/ljwolf',\n",
       "  'followers_url': 'https://api.github.com/users/ljwolf/followers',\n",
       "  'following_url': 'https://api.github.com/users/ljwolf/following{/other_user}',\n",
       "  'gists_url': 'https://api.github.com/users/ljwolf/gists{/gist_id}',\n",
       "  'starred_url': 'https://api.github.com/users/ljwolf/starred{/owner}{/repo}',\n",
       "  'subscriptions_url': 'https://api.github.com/users/ljwolf/subscriptions',\n",
       "  'organizations_url': 'https://api.github.com/users/ljwolf/orgs',\n",
       "  'repos_url': 'https://api.github.com/users/ljwolf/repos',\n",
       "  'events_url': 'https://api.github.com/users/ljwolf/events{/privacy}',\n",
       "  'received_events_url': 'https://api.github.com/users/ljwolf/received_events',\n",
       "  'type': 'User',\n",
       "  'site_admin': False},\n",
       " 'labels': [],\n",
       " 'state': 'closed',\n",
       " 'locked': False,\n",
       " 'assignee': None,\n",
       " 'assignees': [],\n",
       " 'milestone': None,\n",
       " 'comments': 1,\n",
       " 'created_at': '2018-12-09T18:09:13Z',\n",
       " 'updated_at': '2018-12-09T18:11:04Z',\n",
       " 'closed_at': '2018-12-09T18:11:04Z',\n",
       " 'author_association': 'MEMBER',\n",
       " 'pull_request': {'url': 'https://api.github.com/repos/pysal/spvcm/pulls/7',\n",
       "  'html_url': 'https://github.com/pysal/spvcm/pull/7',\n",
       "  'diff_url': 'https://github.com/pysal/spvcm/pull/7.diff',\n",
       "  'patch_url': 'https://github.com/pysal/spvcm/pull/7.patch'},\n",
       " 'body': 'This contains some of the changes made by @sjsrey and further backlogged changes to bring spvcm up to date with the `libpysal` api. '}"
      ]
     },
     "execution_count": 24,
     "metadata": {},
     "output_type": "execute_result"
    }
   ],
   "source": [
    "issues[0]"
   ]
  },
  {
   "cell_type": "code",
   "execution_count": 25,
   "metadata": {},
   "outputs": [
    {
     "data": {
      "text/plain": [
       "[{'url': 'https://api.github.com/repos/pysal/spvcm/issues/7',\n",
       "  'repository_url': 'https://api.github.com/repos/pysal/spvcm',\n",
       "  'labels_url': 'https://api.github.com/repos/pysal/spvcm/issues/7/labels{/name}',\n",
       "  'comments_url': 'https://api.github.com/repos/pysal/spvcm/issues/7/comments',\n",
       "  'events_url': 'https://api.github.com/repos/pysal/spvcm/issues/7/events',\n",
       "  'html_url': 'https://github.com/pysal/spvcm/pull/7',\n",
       "  'id': 389048162,\n",
       "  'node_id': 'MDExOlB1bGxSZXF1ZXN0MjM3MTQ2ODU4',\n",
       "  'number': 7,\n",
       "  'title': 'change the API to reflect up-to-date libpysal api',\n",
       "  'user': {'login': 'ljwolf',\n",
       "   'id': 2250995,\n",
       "   'node_id': 'MDQ6VXNlcjIyNTA5OTU=',\n",
       "   'avatar_url': 'https://avatars3.githubusercontent.com/u/2250995?v=4',\n",
       "   'gravatar_id': '',\n",
       "   'url': 'https://api.github.com/users/ljwolf',\n",
       "   'html_url': 'https://github.com/ljwolf',\n",
       "   'followers_url': 'https://api.github.com/users/ljwolf/followers',\n",
       "   'following_url': 'https://api.github.com/users/ljwolf/following{/other_user}',\n",
       "   'gists_url': 'https://api.github.com/users/ljwolf/gists{/gist_id}',\n",
       "   'starred_url': 'https://api.github.com/users/ljwolf/starred{/owner}{/repo}',\n",
       "   'subscriptions_url': 'https://api.github.com/users/ljwolf/subscriptions',\n",
       "   'organizations_url': 'https://api.github.com/users/ljwolf/orgs',\n",
       "   'repos_url': 'https://api.github.com/users/ljwolf/repos',\n",
       "   'events_url': 'https://api.github.com/users/ljwolf/events{/privacy}',\n",
       "   'received_events_url': 'https://api.github.com/users/ljwolf/received_events',\n",
       "   'type': 'User',\n",
       "   'site_admin': False},\n",
       "  'labels': [],\n",
       "  'state': 'closed',\n",
       "  'locked': False,\n",
       "  'assignee': None,\n",
       "  'assignees': [],\n",
       "  'milestone': None,\n",
       "  'comments': 1,\n",
       "  'created_at': '2018-12-09T18:09:13Z',\n",
       "  'updated_at': '2018-12-09T18:11:04Z',\n",
       "  'closed_at': '2018-12-09T18:11:04Z',\n",
       "  'author_association': 'MEMBER',\n",
       "  'pull_request': {'url': 'https://api.github.com/repos/pysal/spvcm/pulls/7',\n",
       "   'html_url': 'https://github.com/pysal/spvcm/pull/7',\n",
       "   'diff_url': 'https://github.com/pysal/spvcm/pull/7.diff',\n",
       "   'patch_url': 'https://github.com/pysal/spvcm/pull/7.patch'},\n",
       "  'body': 'This contains some of the changes made by @sjsrey and further backlogged changes to bring spvcm up to date with the `libpysal` api. '},\n",
       " {'url': 'https://api.github.com/repos/pysal/spvcm/issues/2',\n",
       "  'repository_url': 'https://api.github.com/repos/pysal/spvcm',\n",
       "  'labels_url': 'https://api.github.com/repos/pysal/spvcm/issues/2/labels{/name}',\n",
       "  'comments_url': 'https://api.github.com/repos/pysal/spvcm/issues/2/comments',\n",
       "  'events_url': 'https://api.github.com/repos/pysal/spvcm/issues/2/events',\n",
       "  'html_url': 'https://github.com/pysal/spvcm/issues/2',\n",
       "  'id': 322260033,\n",
       "  'node_id': 'MDU6SXNzdWUzMjIyNjAwMzM=',\n",
       "  'number': 2,\n",
       "  'title': 'Test failures in effective size & geweke diagnostics',\n",
       "  'user': {'login': 'ljwolf',\n",
       "   'id': 2250995,\n",
       "   'node_id': 'MDQ6VXNlcjIyNTA5OTU=',\n",
       "   'avatar_url': 'https://avatars3.githubusercontent.com/u/2250995?v=4',\n",
       "   'gravatar_id': '',\n",
       "   'url': 'https://api.github.com/users/ljwolf',\n",
       "   'html_url': 'https://github.com/ljwolf',\n",
       "   'followers_url': 'https://api.github.com/users/ljwolf/followers',\n",
       "   'following_url': 'https://api.github.com/users/ljwolf/following{/other_user}',\n",
       "   'gists_url': 'https://api.github.com/users/ljwolf/gists{/gist_id}',\n",
       "   'starred_url': 'https://api.github.com/users/ljwolf/starred{/owner}{/repo}',\n",
       "   'subscriptions_url': 'https://api.github.com/users/ljwolf/subscriptions',\n",
       "   'organizations_url': 'https://api.github.com/users/ljwolf/orgs',\n",
       "   'repos_url': 'https://api.github.com/users/ljwolf/repos',\n",
       "   'events_url': 'https://api.github.com/users/ljwolf/events{/privacy}',\n",
       "   'received_events_url': 'https://api.github.com/users/ljwolf/received_events',\n",
       "   'type': 'User',\n",
       "   'site_admin': False},\n",
       "  'labels': [],\n",
       "  'state': 'closed',\n",
       "  'locked': False,\n",
       "  'assignee': None,\n",
       "  'assignees': [],\n",
       "  'milestone': None,\n",
       "  'comments': 0,\n",
       "  'created_at': '2018-05-11T11:14:10Z',\n",
       "  'updated_at': '2018-07-14T20:16:34Z',\n",
       "  'closed_at': '2018-07-14T20:16:34Z',\n",
       "  'author_association': 'MEMBER',\n",
       "  'body': 'anything that relies on statsmodels spectral variance estimation is failing currently. '},\n",
       " {'url': 'https://api.github.com/repos/pysal/spvcm/issues/3',\n",
       "  'repository_url': 'https://api.github.com/repos/pysal/spvcm',\n",
       "  'labels_url': 'https://api.github.com/repos/pysal/spvcm/issues/3/labels{/name}',\n",
       "  'comments_url': 'https://api.github.com/repos/pysal/spvcm/issues/3/comments',\n",
       "  'events_url': 'https://api.github.com/repos/pysal/spvcm/issues/3/events',\n",
       "  'html_url': 'https://github.com/pysal/spvcm/pull/3',\n",
       "  'id': 325847115,\n",
       "  'node_id': 'MDExOlB1bGxSZXF1ZXN0MTkwMDg0MjY4',\n",
       "  'number': 3,\n",
       "  'title': 'update plotting and diagnostics for pandas deprecation',\n",
       "  'user': {'login': 'ljwolf',\n",
       "   'id': 2250995,\n",
       "   'node_id': 'MDQ6VXNlcjIyNTA5OTU=',\n",
       "   'avatar_url': 'https://avatars3.githubusercontent.com/u/2250995?v=4',\n",
       "   'gravatar_id': '',\n",
       "   'url': 'https://api.github.com/users/ljwolf',\n",
       "   'html_url': 'https://github.com/ljwolf',\n",
       "   'followers_url': 'https://api.github.com/users/ljwolf/followers',\n",
       "   'following_url': 'https://api.github.com/users/ljwolf/following{/other_user}',\n",
       "   'gists_url': 'https://api.github.com/users/ljwolf/gists{/gist_id}',\n",
       "   'starred_url': 'https://api.github.com/users/ljwolf/starred{/owner}{/repo}',\n",
       "   'subscriptions_url': 'https://api.github.com/users/ljwolf/subscriptions',\n",
       "   'organizations_url': 'https://api.github.com/users/ljwolf/orgs',\n",
       "   'repos_url': 'https://api.github.com/users/ljwolf/repos',\n",
       "   'events_url': 'https://api.github.com/users/ljwolf/events{/privacy}',\n",
       "   'received_events_url': 'https://api.github.com/users/ljwolf/received_events',\n",
       "   'type': 'User',\n",
       "   'site_admin': False},\n",
       "  'labels': [],\n",
       "  'state': 'closed',\n",
       "  'locked': False,\n",
       "  'assignee': None,\n",
       "  'assignees': [],\n",
       "  'milestone': None,\n",
       "  'comments': 0,\n",
       "  'created_at': '2018-05-23T19:43:07Z',\n",
       "  'updated_at': '2018-05-23T20:13:26Z',\n",
       "  'closed_at': '2018-05-23T20:13:26Z',\n",
       "  'author_association': 'MEMBER',\n",
       "  'pull_request': {'url': 'https://api.github.com/repos/pysal/spvcm/pulls/3',\n",
       "   'html_url': 'https://github.com/pysal/spvcm/pull/3',\n",
       "   'diff_url': 'https://github.com/pysal/spvcm/pull/3.diff',\n",
       "   'patch_url': 'https://github.com/pysal/spvcm/pull/3.patch'},\n",
       "  'body': 'This swaps out `pd.rolling_apply[mean]` for alternatives that are available in current pandas. '}]"
      ]
     },
     "execution_count": 25,
     "metadata": {},
     "output_type": "execute_result"
    }
   ],
   "source": [
    "issues"
   ]
  },
  {
   "cell_type": "code",
   "execution_count": 26,
   "metadata": {},
   "outputs": [],
   "source": [
    "subs = issue_details.keys()\n",
    "table = []\n",
    "for sub in subs:\n",
    "    total= issue_details[sub]\n",
    "    pr = pull_details[sub]\n",
    "    \n",
    "    row = [sub, activity[sub], len(total), len(pr)]\n",
    "    table.append(row)"
   ]
  },
  {
   "cell_type": "code",
   "execution_count": 27,
   "metadata": {},
   "outputs": [
    {
     "data": {
      "text/plain": [
       "[['libpysal', 276, 79, 57],\n",
       " ['esda', 80, 29, 19],\n",
       " ['giddy', 137, 38, 31],\n",
       " ['inequality', 36, 6, 5],\n",
       " ['pointpats', 13, 1, 1],\n",
       " ['spaghetti', 282, 94, 34],\n",
       " ['mapclassify', 48, 9, 8],\n",
       " ['spreg', 57, 8, 6],\n",
       " ['spglm', 70, 12, 9],\n",
       " ['spint', 57, 11, 9],\n",
       " ['mgwr', 229, 30, 16],\n",
       " ['spvcm', 21, 2, 1]]"
      ]
     },
     "execution_count": 27,
     "metadata": {},
     "output_type": "execute_result"
    }
   ],
   "source": [
    "table"
   ]
  },
  {
   "cell_type": "code",
   "execution_count": 28,
   "metadata": {},
   "outputs": [],
   "source": [
    "os.chdir(CWD)\n",
    "\n",
    "import pandas"
   ]
  },
  {
   "cell_type": "code",
   "execution_count": 29,
   "metadata": {},
   "outputs": [],
   "source": [
    "df = pandas.DataFrame(table, columns=['package', 'commits', 'total issues', 'pulls'])"
   ]
  },
  {
   "cell_type": "code",
   "execution_count": 30,
   "metadata": {},
   "outputs": [],
   "source": [
    "df.sort_values(['commits','pulls'], ascending=False)\\\n",
    "  .to_html('./commit_table.html', index=None)"
   ]
  },
  {
   "cell_type": "code",
   "execution_count": 31,
   "metadata": {},
   "outputs": [
    {
     "data": {
      "text/plain": [
       "package         libpysalesdagiddyinequalitypointpatsspaghettim...\n",
       "commits                                                      1306\n",
       "total issues                                                  319\n",
       "pulls                                                         196\n",
       "dtype: object"
      ]
     },
     "execution_count": 31,
     "metadata": {},
     "output_type": "execute_result"
    }
   ],
   "source": [
    "df.sum()"
   ]
  },
  {
   "cell_type": "code",
   "execution_count": 32,
   "metadata": {},
   "outputs": [],
   "source": [
    "contributor_table = pandas.DataFrame.from_dict(counters).fillna(0).astype(int).T"
   ]
  },
  {
   "cell_type": "code",
   "execution_count": 33,
   "metadata": {},
   "outputs": [],
   "source": [
    "contributor_table.to_html('./contributor_table.html')"
   ]
  },
  {
   "cell_type": "code",
   "execution_count": 34,
   "metadata": {},
   "outputs": [
    {
     "data": {
      "text/html": [
       "<div>\n",
       "<style scoped>\n",
       "    .dataframe tbody tr th:only-of-type {\n",
       "        vertical-align: middle;\n",
       "    }\n",
       "\n",
       "    .dataframe tbody tr th {\n",
       "        vertical-align: top;\n",
       "    }\n",
       "\n",
       "    .dataframe thead th {\n",
       "        text-align: right;\n",
       "    }\n",
       "</style>\n",
       "<table border=\"1\" class=\"dataframe\">\n",
       "  <thead>\n",
       "    <tr style=\"text-align: right;\">\n",
       "      <th></th>\n",
       "      <th>commits</th>\n",
       "    </tr>\n",
       "  </thead>\n",
       "  <tbody>\n",
       "    <tr>\n",
       "      <th>Dani Arribas-Bel</th>\n",
       "      <td>19</td>\n",
       "    </tr>\n",
       "    <tr>\n",
       "      <th>Eli Knaap</th>\n",
       "      <td>14</td>\n",
       "    </tr>\n",
       "    <tr>\n",
       "      <th>James Gaboardi</th>\n",
       "      <td>310</td>\n",
       "    </tr>\n",
       "    <tr>\n",
       "      <th>Levi John Wolf</th>\n",
       "      <td>216</td>\n",
       "    </tr>\n",
       "    <tr>\n",
       "      <th>Philip Kahn</th>\n",
       "      <td>2</td>\n",
       "    </tr>\n",
       "    <tr>\n",
       "      <th>Serge Rey</th>\n",
       "      <td>230</td>\n",
       "    </tr>\n",
       "    <tr>\n",
       "      <th>Stefanie Lumnitz</th>\n",
       "      <td>22</td>\n",
       "    </tr>\n",
       "    <tr>\n",
       "      <th>Taylor Oshan</th>\n",
       "      <td>236</td>\n",
       "    </tr>\n",
       "    <tr>\n",
       "      <th>Wei Kang</th>\n",
       "      <td>186</td>\n",
       "    </tr>\n",
       "    <tr>\n",
       "      <th>Ziqi Li</th>\n",
       "      <td>51</td>\n",
       "    </tr>\n",
       "  </tbody>\n",
       "</table>\n",
       "</div>"
      ],
      "text/plain": [
       "                  commits\n",
       "Dani Arribas-Bel       19\n",
       "Eli Knaap              14\n",
       "James Gaboardi        310\n",
       "Levi John Wolf        216\n",
       "Philip Kahn             2\n",
       "Serge Rey             230\n",
       "Stefanie Lumnitz       22\n",
       "Taylor Oshan          236\n",
       "Wei Kang              186\n",
       "Ziqi Li                51"
      ]
     },
     "execution_count": 34,
     "metadata": {},
     "output_type": "execute_result"
    }
   ],
   "source": [
    "totals = contributor_table.sum(axis=0).T\n",
    "totals.sort_index().to_frame('commits')"
   ]
  },
  {
   "cell_type": "code",
   "execution_count": null,
   "metadata": {},
   "outputs": [],
   "source": []
  }
 ],
 "metadata": {
  "kernelspec": {
   "display_name": "Python 3",
   "language": "python",
   "name": "python3"
  },
  "language_info": {
   "codemirror_mode": {
    "name": "ipython",
    "version": 3
   },
   "file_extension": ".py",
   "mimetype": "text/x-python",
   "name": "python",
   "nbconvert_exporter": "python",
   "pygments_lexer": "ipython3",
   "version": "3.7.1"
  }
 },
 "nbformat": 4,
 "nbformat_minor": 2
}
