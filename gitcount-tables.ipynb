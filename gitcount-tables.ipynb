{
 "cells": [
  {
   "cell_type": "markdown",
   "metadata": {},
   "source": [
    "## PySAL Change Log Statistics: Table Generation\n",
    "\n",
    "This notebook generates the summary statistics for use in the 6-month releases of PySAL, which is now (2017-07) a meta package. \n",
    "\n",
    "It assumes the subpackages have been git cloned in a directory below the location of this notebook. It also requires network connectivity for some of the reporting.\n",
    "\n",
    "Run this notebook after `gitcount.ipynb`\n"
   ]
  },
  {
   "cell_type": "code",
   "execution_count": 1,
   "metadata": {},
   "outputs": [],
   "source": [
    "from __future__ import print_function\n",
    "import os\n",
    "import json\n",
    "import re\n",
    "import sys\n",
    "import pandas\n",
    "import subprocess\n",
    "from subprocess import check_output\n",
    "\n",
    "import yaml\n",
    "from datetime import datetime, timedelta\n",
    "\n",
    "from dateutil.parser import parse\n",
    "import pytz\n",
    "\n",
    "utc=pytz.UTC"
   ]
  },
  {
   "cell_type": "code",
   "execution_count": 2,
   "metadata": {},
   "outputs": [],
   "source": [
    "from datetime import datetime, timedelta\n",
    "from time import sleep\n",
    "from subprocess import check_output\n",
    "try:\n",
    "    from urllib import urlopen\n",
    "except:\n",
    "    from urllib.request import urlopen\n",
    "\n",
    "import ssl\n",
    "import yaml\n",
    "\n",
    "context = ssl._create_unverified_context()"
   ]
  },
  {
   "cell_type": "code",
   "execution_count": 3,
   "metadata": {},
   "outputs": [
    {
     "name": "stderr",
     "output_type": "stream",
     "text": [
      "/home/serge/anaconda3/envs/pysaldev/lib/python3.7/site-packages/ipykernel_launcher.py:2: YAMLLoadWarning: calling yaml.load() without Loader=... is deprecated, as the default Loader is unsafe. Please read https://msg.pyyaml.org/load for full details.\n",
      "  \n"
     ]
    }
   ],
   "source": [
    "with open('packages.yml') as package_file:\n",
    "    packages = yaml.load(package_file)"
   ]
  },
  {
   "cell_type": "code",
   "execution_count": 4,
   "metadata": {},
   "outputs": [],
   "source": [
    "CWD = os.path.abspath(os.path.curdir)"
   ]
  },
  {
   "cell_type": "code",
   "execution_count": 5,
   "metadata": {},
   "outputs": [
    {
     "data": {
      "text/plain": [
       "'/home/serge/Dropbox/p/pysal/src/pysal'"
      ]
     },
     "execution_count": 5,
     "metadata": {},
     "output_type": "execute_result"
    }
   ],
   "source": [
    "CWD"
   ]
  },
  {
   "cell_type": "markdown",
   "metadata": {},
   "source": [
    "Our last main release was `2019-01-30`:"
   ]
  },
  {
   "cell_type": "code",
   "execution_count": 6,
   "metadata": {},
   "outputs": [
    {
     "data": {
      "text/plain": [
       "datetime.datetime(2019, 1, 30, 0, 0)"
      ]
     },
     "execution_count": 6,
     "metadata": {},
     "output_type": "execute_result"
    }
   ],
   "source": [
    "start_date = '2019-01-30'\n",
    "since_date = '--since=\"{start}\"'.format(start=start_date)\n",
    "since_date\n",
    "since = datetime.strptime(start_date+\" 0:0:0\", \"%Y-%m-%d %H:%M:%S\")\n",
    "since"
   ]
  },
  {
   "cell_type": "code",
   "execution_count": 7,
   "metadata": {},
   "outputs": [],
   "source": [
    "import pickle "
   ]
  },
  {
   "cell_type": "code",
   "execution_count": 8,
   "metadata": {},
   "outputs": [],
   "source": [
    "issue_details = pickle.load( open( \"issue_details.p\", \"rb\" ) )\n",
    "pull_details = pickle.load( open( \"pull_details.p\", \"rb\" ) )\n"
   ]
  },
  {
   "cell_type": "code",
   "execution_count": 9,
   "metadata": {},
   "outputs": [],
   "source": [
    "# get dates of tags\n",
    "with open('subtags', 'r') as tag_name:\n",
    "        tags = tag_name.readlines()\n"
   ]
  },
  {
   "cell_type": "code",
   "execution_count": 10,
   "metadata": {},
   "outputs": [
    {
     "name": "stdout",
     "output_type": "stream",
     "text": [
      "libpysal v4.1.0 2019-07-01\n",
      "esda v2.1.1 2019-07-01\n",
      "giddy v2.2.0 2019-06-20\n",
      "inequality v1.0.0 2018-10-31\n",
      "pointpats v2.1.0 2019-07-01\n",
      "spaghetti v1.3 2019-05-21\n",
      "mapclassify v2.1.1 2019-06-28\n",
      "spreg v1.1.0 2019-06-29\n",
      "segregation 1.1.1 2019-07-19\n",
      "spglm v1.0.7 2019-07-18\n",
      "spint v1.0.5 2019-01-04\n",
      "splot v1.1.1 2019-07-13\n",
      "mgwr v2.1.1 2019-07-18\n",
      "spvcm v0.2.1post1 2019-01-04\n"
     ]
    }
   ],
   "source": [
    "tag_dates = {}\n",
    "#root = '/home/serge/Dropbox/p/pysal/src/pysal/tmp/'\n",
    "root = CWD + \"/tmp/\"\n",
    "for record in tags:\n",
    "    pkg, tag = record.strip().split()\n",
    "    tag = tag.split('/')[-1]\n",
    "    pkdir = root+pkg\n",
    "    cmd = \"git log -1 --format=%ai {tag}\".format(tag=tag)\n",
    "    os.chdir(pkdir)\n",
    "    #print(cmd)\n",
    "    result = subprocess.run(cmd, check=True, shell=True, stdout=subprocess.PIPE)\n",
    "    tag_string = result.stdout.decode('utf-8')\n",
    "    tag_date = tag_string.split()[0]\n",
    "    tag_dates[pkg] = tag_date\n",
    "    print(pkg, tag, tag_date)\n",
    "\n",
    "os.chdir(CWD)\n",
    "\n",
    "    "
   ]
  },
  {
   "cell_type": "code",
   "execution_count": 11,
   "metadata": {},
   "outputs": [
    {
     "name": "stdout",
     "output_type": "stream",
     "text": [
      "libpysal 35 26\n",
      "libpysal 17 11\n",
      "esda 28 9\n",
      "esda 17 7\n",
      "giddy 23 13\n",
      "giddy 19 10\n",
      "inequality 1 0\n",
      "inequality 1 0\n",
      "pointpats 11 7\n",
      "pointpats 11 7\n",
      "spaghetti 52 40\n",
      "spaghetti 26 21\n",
      "mapclassify 16 15\n",
      "mapclassify 13 12\n",
      "spreg 6 3\n",
      "spreg 3 1\n",
      "segregation 106 105\n",
      "segregation 79 78\n",
      "spglm 5 3\n",
      "spglm 5 3\n",
      "spint 0 0\n",
      "spint 0 0\n",
      "splot 28 25\n",
      "splot 19 16\n",
      "mgwr 19 15\n",
      "mgwr 10 7\n",
      "spvcm 0 0\n",
      "spvcm 0 0\n"
     ]
    }
   ],
   "source": [
    "# get issues for a package and filter on tag date\n",
    "\n",
    "\n",
    "for pkg in tag_dates.keys():\n",
    "    issues = issue_details[pkg]\n",
    "    tag_date = utc.localize(parse(tag_dates[pkg]))\n",
    "    keep = []\n",
    "    for issue in issues:\n",
    "        closed = parse(issue['closed_at'])\n",
    "        if closed <= tag_date:\n",
    "            keep.append(issue)\n",
    "    print(pkg, len(issues), len(keep))\n",
    "    issue_details[pkg] = keep\n",
    "    keep = []\n",
    "    pulls = pull_details[pkg]\n",
    "    for pull in pulls:\n",
    "        closed = parse(pull['closed_at'])\n",
    "        if closed <= tag_date:\n",
    "            keep.append(pull)\n",
    "    print(pkg, len(pulls), len(keep)) \n",
    "    pull_details[pkg] = keep\n",
    "        \n",
    "  "
   ]
  },
  {
   "cell_type": "code",
   "execution_count": 12,
   "metadata": {},
   "outputs": [
    {
     "name": "stdout",
     "output_type": "stream",
     "text": [
      "libpysal 80 80 2019-07-01\n",
      "esda 67 67 2019-07-01\n",
      "giddy 32 32 2019-06-20\n",
      "inequality 0 0 2018-10-31\n",
      "pointpats 25 20 2019-07-01\n",
      "spaghetti 120 120 2019-05-21\n",
      "segregation 456 456 2019-07-19\n",
      "mapclassify 43 43 2019-06-28\n",
      "splot 95 95 2019-07-13\n",
      "spreg 16 16 2019-06-29\n",
      "spglm 14 14 2019-07-18\n",
      "spint 0 0 2019-01-04\n",
      "mgwr 44 44 2019-07-18\n",
      "spvcm 0 0 2019-01-04\n"
     ]
    }
   ],
   "source": [
    "# commits\n",
    "cmd = ['git', 'log', '--oneline', since_date]\n",
    "\n",
    "activity = {}\n",
    "total_commits = 0\n",
    "for package in packages:\n",
    "    subpackages = packages[package].split()\n",
    "    for subpackage in subpackages:\n",
    "        tag_date = tag_dates[subpackage]\n",
    "        os.chdir(CWD)\n",
    "        os.chdir('tmp/{subpackage}'.format(subpackage=subpackage))\n",
    "        cmd_until = cmd + ['--until=\"{tag_date}\"'.format(tag_date=tag_date)]\n",
    "        ncommits = len(check_output(cmd_until).splitlines())\n",
    "        ncommits_total = len(check_output(cmd).splitlines())\n",
    "        print(subpackage, ncommits_total, ncommits, tag_date)\n",
    "        total_commits += ncommits\n",
    "        activity[subpackage] = ncommits"
   ]
  },
  {
   "cell_type": "code",
   "execution_count": 13,
   "metadata": {},
   "outputs": [
    {
     "data": {
      "text/plain": [
       "['git', 'log', '--oneline', '--since=\"2019-01-30\"', '--until=\"2019-01-04\"']"
      ]
     },
     "execution_count": 13,
     "metadata": {},
     "output_type": "execute_result"
    }
   ],
   "source": [
    "cmd_until"
   ]
  },
  {
   "cell_type": "code",
   "execution_count": 14,
   "metadata": {},
   "outputs": [],
   "source": [
    "identities = {'Levi John Wolf': ('ljwolf', 'Levi John Wolf'),\n",
    "              'Serge Rey': ('Serge Rey', 'Sergio Rey', 'sjsrey', 'serge'),\n",
    "              'Wei Kang': ('Wei Kang', 'weikang9009'),\n",
    "              'Dani Arribas-Bel': ('Dani Arribas-Bel', 'darribas'),\n",
    "              'Antti Härkönen': ( 'antth', 'Antti Härkönen', 'Antti Härkönen', 'Antth'  ),\n",
    "              'Juan C Duque': ('Juan C Duque', \"Juan Duque\"),\n",
    "              'Renan Xavier Cortes': ('Renan Xavier Cortes', 'renanxcortes', 'Renan Xavier Cortes'   ),\n",
    "              'Taylor Oshan': ('Tayloroshan', 'Taylor Oshan', 'TaylorOshan'),\n",
    "              'Tom Gertin': ('@Tomgertin', 'Tom Gertin', '@tomgertin')\n",
    "}\n",
    "\n",
    "def regularize_identity(string):\n",
    "    string = string.decode()\n",
    "    for name, aliases in identities.items():\n",
    "        for alias in aliases:\n",
    "            if alias in string:\n",
    "                string = string.replace(alias, name)\n",
    "    if len(string.split(' '))>1:\n",
    "        string = string.title()\n",
    "    return string.lstrip('* ')"
   ]
  },
  {
   "cell_type": "code",
   "execution_count": 15,
   "metadata": {},
   "outputs": [],
   "source": [
    "author_cmd = ['git', 'log', '--format=* %aN', since_date]"
   ]
  },
  {
   "cell_type": "code",
   "execution_count": 16,
   "metadata": {},
   "outputs": [],
   "source": [
    "author_cmd.append('blank')"
   ]
  },
  {
   "cell_type": "code",
   "execution_count": 17,
   "metadata": {},
   "outputs": [
    {
     "data": {
      "text/plain": [
       "['git', 'log', '--format=* %aN', '--since=\"2019-01-30\"', 'blank']"
      ]
     },
     "execution_count": 17,
     "metadata": {},
     "output_type": "execute_result"
    }
   ],
   "source": [
    "author_cmd"
   ]
  },
  {
   "cell_type": "code",
   "execution_count": 18,
   "metadata": {},
   "outputs": [],
   "source": [
    "from collections import Counter"
   ]
  },
  {
   "cell_type": "code",
   "execution_count": 19,
   "metadata": {},
   "outputs": [],
   "source": [
    "authors_global = set()\n",
    "authors = {}\n",
    "global_counter = Counter()\n",
    "counters = dict()\n",
    "cmd = ['git', 'log', '--oneline', since_date]\n",
    "total_commits = 0\n",
    "activity = {}\n",
    "for package in packages:\n",
    "    subpackages = packages[package].split()\n",
    "    for subpackage in subpackages:\n",
    "        os.chdir(CWD)\n",
    "        os.chdir('tmp/{subpackage}'.format(subpackage=subpackage))\n",
    "        ncommits = len(check_output(cmd).splitlines())\n",
    "        \n",
    "        \n",
    "        tag_date = tag_dates[subpackage]\n",
    "        author_cmd[-1] = '--until=\"{tag_date}\"'.format(tag_date=tag_date)\n",
    "        #cmd_until = cmd + ['--until=\"{tag_date}\"'.format(tag_date=tag_date)]\n",
    "\n",
    "        \n",
    "        all_authors = check_output(author_cmd).splitlines()\n",
    "        counter = Counter([regularize_identity(author) for author in all_authors])\n",
    "        global_counter += counter\n",
    "        counters.update({'.'.join((package,subpackage)): counter})\n",
    "        unique_authors = sorted(set(all_authors))\n",
    "        authors[subpackage] =  unique_authors\n",
    "        authors_global.update(unique_authors)\n",
    "        total_commits += ncommits\n",
    "        activity[subpackage] = ncommits"
   ]
  },
  {
   "cell_type": "code",
   "execution_count": 20,
   "metadata": {},
   "outputs": [
    {
     "data": {
      "text/plain": [
       "{b'* @tomgertin',\n",
       " b'* Antti H\\xc3\\xa4rk\\xc3\\xb6nen',\n",
       " b'* Dani Arribas-Bel',\n",
       " b'* Elliott Sales de Andrade',\n",
       " b'* Filipe Fernandes',\n",
       " b'* James Gaboardi',\n",
       " b'* Juan C Duque',\n",
       " b'* Juan Duque',\n",
       " b'* Levi John Wolf',\n",
       " b'* Martin Fleischmann',\n",
       " b'* Renan Xavier Cortes',\n",
       " b'* Serge Rey',\n",
       " b'* Sergio Rey',\n",
       " b'* Stefanie Lumnitz',\n",
       " b'* Taylor Oshan',\n",
       " b'* TaylorOshan',\n",
       " b'* Wei Kang',\n",
       " b'* Ziqi Li',\n",
       " b'* antth',\n",
       " b'* eli knaap',\n",
       " b'* ljwolf',\n",
       " b'* renanxcortes',\n",
       " b'* serge',\n",
       " b'* weikang9009'}"
      ]
     },
     "execution_count": 20,
     "metadata": {},
     "output_type": "execute_result"
    }
   ],
   "source": [
    "authors_global"
   ]
  },
  {
   "cell_type": "code",
   "execution_count": 21,
   "metadata": {},
   "outputs": [
    {
     "data": {
      "text/plain": [
       "{'libpysal': 80,\n",
       " 'esda': 67,\n",
       " 'giddy': 32,\n",
       " 'inequality': 0,\n",
       " 'pointpats': 25,\n",
       " 'spaghetti': 120,\n",
       " 'segregation': 456,\n",
       " 'mapclassify': 43,\n",
       " 'splot': 95,\n",
       " 'spreg': 16,\n",
       " 'spglm': 14,\n",
       " 'spint': 0,\n",
       " 'mgwr': 44,\n",
       " 'spvcm': 0}"
      ]
     },
     "execution_count": 21,
     "metadata": {},
     "output_type": "execute_result"
    }
   ],
   "source": [
    "activity"
   ]
  },
  {
   "cell_type": "code",
   "execution_count": 22,
   "metadata": {},
   "outputs": [
    {
     "data": {
      "text/plain": [
       "{'lib.libpysal': Counter({'Serge Rey': 14,\n",
       "          'Wei Kang': 6,\n",
       "          'James Gaboardi': 54,\n",
       "          'Martin Fleischmann': 3,\n",
       "          'Elliott Sales De Andrade': 2,\n",
       "          'Levi John Wolf': 1}),\n",
       " 'explore.esda': Counter({'Serge Rey': 18,\n",
       "          'James Gaboardi': 3,\n",
       "          'Filipe Fernandes': 3,\n",
       "          'Wei Kang': 16,\n",
       "          'Levi John Wolf': 14,\n",
       "          'Juan C Duque': 8,\n",
       "          'Dani Arribas-Bel': 5}),\n",
       " 'explore.giddy': Counter({'Wei Kang': 27, 'James Gaboardi': 5}),\n",
       " 'explore.inequality': Counter(),\n",
       " 'explore.pointpats': Counter({'Wei Kang': 18,\n",
       "          'James Gaboardi': 1,\n",
       "          'Serge Rey': 1}),\n",
       " 'explore.spaghetti': Counter({'James Gaboardi': 97,\n",
       "          'Wei Kang': 21,\n",
       "          'Levi John Wolf': 1,\n",
       "          'Tom Gertin': 1}),\n",
       " 'explore.segregation': Counter({'Renan Xavier Cortes': 349,\n",
       "          'Eli Knaap': 94,\n",
       "          'Antti Härkönen': 4,\n",
       "          'Wei Kang': 3,\n",
       "          'James Gaboardi': 4,\n",
       "          'Serge Rey': 2}),\n",
       " 'viz.mapclassify': Counter({'Serge Rey': 41, 'Wei Kang': 2}),\n",
       " 'viz.splot': Counter({'Serge Rey': 1,\n",
       "          'Stefanie Lumnitz': 63,\n",
       "          'Levi John Wolf': 1,\n",
       "          'Wei Kang': 13,\n",
       "          'James Gaboardi': 9,\n",
       "          'Renan Xavier Cortes': 8}),\n",
       " 'model.spreg': Counter({'Serge Rey': 9,\n",
       "          'James Gaboardi': 2,\n",
       "          'Wei Kang': 4,\n",
       "          'Levi John Wolf': 1}),\n",
       " 'model.spglm': Counter({'Taylor Oshan': 5, 'Wei Kang': 9}),\n",
       " 'model.spint': Counter(),\n",
       " 'model.mgwr': Counter({'Taylor Oshan': 4, 'Wei Kang': 16, 'Ziqi Li': 24}),\n",
       " 'model.spvcm': Counter()}"
      ]
     },
     "execution_count": 22,
     "metadata": {},
     "output_type": "execute_result"
    }
   ],
   "source": [
    "counters"
   ]
  },
  {
   "cell_type": "code",
   "execution_count": 23,
   "metadata": {},
   "outputs": [
    {
     "data": {
      "text/plain": [
       "{'lib.libpysal': Counter({'Serge Rey': 14,\n",
       "          'Wei Kang': 6,\n",
       "          'James Gaboardi': 54,\n",
       "          'Martin Fleischmann': 3,\n",
       "          'Elliott Sales De Andrade': 2,\n",
       "          'Levi John Wolf': 1}),\n",
       " 'explore.esda': Counter({'Serge Rey': 18,\n",
       "          'James Gaboardi': 3,\n",
       "          'Filipe Fernandes': 3,\n",
       "          'Wei Kang': 16,\n",
       "          'Levi John Wolf': 14,\n",
       "          'Juan C Duque': 8,\n",
       "          'Dani Arribas-Bel': 5}),\n",
       " 'explore.giddy': Counter({'Wei Kang': 27, 'James Gaboardi': 5}),\n",
       " 'explore.inequality': Counter(),\n",
       " 'explore.pointpats': Counter({'Wei Kang': 18,\n",
       "          'James Gaboardi': 1,\n",
       "          'Serge Rey': 1}),\n",
       " 'explore.spaghetti': Counter({'James Gaboardi': 97,\n",
       "          'Wei Kang': 21,\n",
       "          'Levi John Wolf': 1,\n",
       "          'Tom Gertin': 1}),\n",
       " 'explore.segregation': Counter({'Renan Xavier Cortes': 349,\n",
       "          'Eli Knaap': 94,\n",
       "          'Antti Härkönen': 4,\n",
       "          'Wei Kang': 3,\n",
       "          'James Gaboardi': 4,\n",
       "          'Serge Rey': 2}),\n",
       " 'viz.mapclassify': Counter({'Serge Rey': 41, 'Wei Kang': 2}),\n",
       " 'viz.splot': Counter({'Serge Rey': 1,\n",
       "          'Stefanie Lumnitz': 63,\n",
       "          'Levi John Wolf': 1,\n",
       "          'Wei Kang': 13,\n",
       "          'James Gaboardi': 9,\n",
       "          'Renan Xavier Cortes': 8}),\n",
       " 'model.spreg': Counter({'Serge Rey': 9,\n",
       "          'James Gaboardi': 2,\n",
       "          'Wei Kang': 4,\n",
       "          'Levi John Wolf': 1}),\n",
       " 'model.spglm': Counter({'Taylor Oshan': 5, 'Wei Kang': 9}),\n",
       " 'model.spint': Counter(),\n",
       " 'model.mgwr': Counter({'Taylor Oshan': 4, 'Wei Kang': 16, 'Ziqi Li': 24}),\n",
       " 'model.spvcm': Counter()}"
      ]
     },
     "execution_count": 23,
     "metadata": {},
     "output_type": "execute_result"
    }
   ],
   "source": [
    "counters"
   ]
  },
  {
   "cell_type": "code",
   "execution_count": 24,
   "metadata": {},
   "outputs": [],
   "source": [
    "def get_tag(title, level=\"##\", as_string=True):\n",
    "    words = title.split()\n",
    "    tag = \"-\".join([word.lower() for word in words])\n",
    "    heading = level+\" \"+title\n",
    "    line = \"\\n\\n<a name=\\\"{}\\\"></a>\".format(tag)\n",
    "    lines = [line]\n",
    "    lines.append(heading)\n",
    "    if as_string:\n",
    "        return \"\\n\".join(lines)\n",
    "    else:\n",
    "        return lines"
   ]
  },
  {
   "cell_type": "code",
   "execution_count": 29,
   "metadata": {},
   "outputs": [],
   "source": [
    "subs = issue_details.keys()\n",
    "table = []\n",
    "txt = []\n",
    "lines = get_tag(\"Changes by Package\", as_string=False)\n",
    "\n",
    "for sub in subs:\n",
    "    total= issue_details[sub]\n",
    "    pr = pull_details[sub]\n",
    "    \n",
    "    row = [sub, activity[sub], len(total), len(pr)]\n",
    "    table.append(row)\n",
    "    #line = \"\\n<a name=\\\"{sub}\\\"></a>\".format(sub=sub)\n",
    "    #lines.append(line)\n",
    "    #line = \"### {sub}\".format(sub=sub)\n",
    "    #lines.append(line)\n",
    "    lines.extend(get_tag(sub.lower(), \"###\", as_string=False))\n",
    "    for issue in total:\n",
    "        url = issue['html_url']\n",
    "        title = issue['title']\n",
    "        number = issue['number']\n",
    "        line = \"* [#{number}:]({url}) {title} \".format(title=title,\n",
    "                                                     number=number,\n",
    "                                                     url=url)\n",
    "        lines.append(line)\n",
    "\n"
   ]
  },
  {
   "cell_type": "code",
   "execution_count": 30,
   "metadata": {},
   "outputs": [
    {
     "data": {
      "text/plain": [
       "'* [#41:](https://github.com/pysal/mgwr/pull/41) Memory optimization '"
      ]
     },
     "execution_count": 30,
     "metadata": {},
     "output_type": "execute_result"
    }
   ],
   "source": [
    "line"
   ]
  },
  {
   "cell_type": "code",
   "execution_count": 31,
   "metadata": {},
   "outputs": [
    {
     "data": {
      "text/plain": [
       "[['libpysal', 80, 26, 11],\n",
       " ['esda', 67, 9, 7],\n",
       " ['giddy', 32, 13, 10],\n",
       " ['inequality', 0, 0, 0],\n",
       " ['pointpats', 25, 7, 7],\n",
       " ['spaghetti', 120, 40, 21],\n",
       " ['segregation', 456, 105, 78],\n",
       " ['mapclassify', 43, 15, 12],\n",
       " ['splot', 95, 25, 16],\n",
       " ['spreg', 16, 3, 1],\n",
       " ['spglm', 14, 3, 3],\n",
       " ['spint', 0, 0, 0],\n",
       " ['mgwr', 44, 15, 7],\n",
       " ['spvcm', 0, 0, 0]]"
      ]
     },
     "execution_count": 31,
     "metadata": {},
     "output_type": "execute_result"
    }
   ],
   "source": [
    "table"
   ]
  },
  {
   "cell_type": "code",
   "execution_count": 32,
   "metadata": {},
   "outputs": [],
   "source": [
    "os.chdir(CWD)\n",
    "\n",
    "import pandas"
   ]
  },
  {
   "cell_type": "code",
   "execution_count": 33,
   "metadata": {},
   "outputs": [],
   "source": [
    "df = pandas.DataFrame(table, columns=['package', 'commits', 'total issues', 'pulls'])"
   ]
  },
  {
   "cell_type": "code",
   "execution_count": 34,
   "metadata": {},
   "outputs": [],
   "source": [
    "df.sort_values(['commits','pulls'], ascending=False)\\\n",
    "  .to_html('./commit_table.html', index=None)"
   ]
  },
  {
   "cell_type": "code",
   "execution_count": 35,
   "metadata": {},
   "outputs": [
    {
     "data": {
      "text/plain": [
       "package         libpysalesdagiddyinequalitypointpatsspaghettis...\n",
       "commits                                                       992\n",
       "total issues                                                  261\n",
       "pulls                                                         173\n",
       "dtype: object"
      ]
     },
     "execution_count": 35,
     "metadata": {},
     "output_type": "execute_result"
    }
   ],
   "source": [
    "df.sum()"
   ]
  },
  {
   "cell_type": "code",
   "execution_count": 36,
   "metadata": {},
   "outputs": [],
   "source": [
    "contributor_table = pandas.DataFrame.from_dict(counters).fillna(0).astype(int).T"
   ]
  },
  {
   "cell_type": "code",
   "execution_count": 37,
   "metadata": {},
   "outputs": [],
   "source": [
    "contributor_table.to_html('./contributor_table.html')"
   ]
  },
  {
   "cell_type": "code",
   "execution_count": 38,
   "metadata": {},
   "outputs": [
    {
     "data": {
      "text/html": [
       "<div>\n",
       "<style scoped>\n",
       "    .dataframe tbody tr th:only-of-type {\n",
       "        vertical-align: middle;\n",
       "    }\n",
       "\n",
       "    .dataframe tbody tr th {\n",
       "        vertical-align: top;\n",
       "    }\n",
       "\n",
       "    .dataframe thead th {\n",
       "        text-align: right;\n",
       "    }\n",
       "</style>\n",
       "<table border=\"1\" class=\"dataframe\">\n",
       "  <thead>\n",
       "    <tr style=\"text-align: right;\">\n",
       "      <th></th>\n",
       "      <th>commits</th>\n",
       "    </tr>\n",
       "  </thead>\n",
       "  <tbody>\n",
       "    <tr>\n",
       "      <th>Antti Härkönen</th>\n",
       "      <td>4</td>\n",
       "    </tr>\n",
       "    <tr>\n",
       "      <th>Dani Arribas-Bel</th>\n",
       "      <td>5</td>\n",
       "    </tr>\n",
       "    <tr>\n",
       "      <th>Eli Knaap</th>\n",
       "      <td>94</td>\n",
       "    </tr>\n",
       "    <tr>\n",
       "      <th>Elliott Sales De Andrade</th>\n",
       "      <td>2</td>\n",
       "    </tr>\n",
       "    <tr>\n",
       "      <th>Filipe Fernandes</th>\n",
       "      <td>3</td>\n",
       "    </tr>\n",
       "    <tr>\n",
       "      <th>James Gaboardi</th>\n",
       "      <td>175</td>\n",
       "    </tr>\n",
       "    <tr>\n",
       "      <th>Juan C Duque</th>\n",
       "      <td>8</td>\n",
       "    </tr>\n",
       "    <tr>\n",
       "      <th>Levi John Wolf</th>\n",
       "      <td>18</td>\n",
       "    </tr>\n",
       "    <tr>\n",
       "      <th>Martin Fleischmann</th>\n",
       "      <td>3</td>\n",
       "    </tr>\n",
       "    <tr>\n",
       "      <th>Renan Xavier Cortes</th>\n",
       "      <td>357</td>\n",
       "    </tr>\n",
       "    <tr>\n",
       "      <th>Serge Rey</th>\n",
       "      <td>86</td>\n",
       "    </tr>\n",
       "    <tr>\n",
       "      <th>Stefanie Lumnitz</th>\n",
       "      <td>63</td>\n",
       "    </tr>\n",
       "    <tr>\n",
       "      <th>Taylor Oshan</th>\n",
       "      <td>9</td>\n",
       "    </tr>\n",
       "    <tr>\n",
       "      <th>Tom Gertin</th>\n",
       "      <td>1</td>\n",
       "    </tr>\n",
       "    <tr>\n",
       "      <th>Wei Kang</th>\n",
       "      <td>135</td>\n",
       "    </tr>\n",
       "    <tr>\n",
       "      <th>Ziqi Li</th>\n",
       "      <td>24</td>\n",
       "    </tr>\n",
       "  </tbody>\n",
       "</table>\n",
       "</div>"
      ],
      "text/plain": [
       "                          commits\n",
       "Antti Härkönen                  4\n",
       "Dani Arribas-Bel                5\n",
       "Eli Knaap                      94\n",
       "Elliott Sales De Andrade        2\n",
       "Filipe Fernandes                3\n",
       "James Gaboardi                175\n",
       "Juan C Duque                    8\n",
       "Levi John Wolf                 18\n",
       "Martin Fleischmann              3\n",
       "Renan Xavier Cortes           357\n",
       "Serge Rey                      86\n",
       "Stefanie Lumnitz               63\n",
       "Taylor Oshan                    9\n",
       "Tom Gertin                      1\n",
       "Wei Kang                      135\n",
       "Ziqi Li                        24"
      ]
     },
     "execution_count": 38,
     "metadata": {},
     "output_type": "execute_result"
    }
   ],
   "source": [
    "totals = contributor_table.sum(axis=0).T\n",
    "totals.sort_index().to_frame('commits')"
   ]
  },
  {
   "cell_type": "code",
   "execution_count": 39,
   "metadata": {},
   "outputs": [],
   "source": [
    "totals = contributor_table.sum(axis=0).T\n",
    "totals.sort_index().to_frame('commits').to_html('./commits_by_person.html')"
   ]
  },
  {
   "cell_type": "code",
   "execution_count": 40,
   "metadata": {},
   "outputs": [
    {
     "data": {
      "text/plain": [
       "Antti Härkönen                4\n",
       "Dani Arribas-Bel              5\n",
       "Eli Knaap                    94\n",
       "Elliott Sales De Andrade      2\n",
       "Filipe Fernandes              3\n",
       "James Gaboardi              175\n",
       "Juan C Duque                  8\n",
       "Levi John Wolf               18\n",
       "Martin Fleischmann            3\n",
       "Renan Xavier Cortes         357\n",
       "Serge Rey                    86\n",
       "Stefanie Lumnitz             63\n",
       "Taylor Oshan                  9\n",
       "Tom Gertin                    1\n",
       "Wei Kang                    135\n",
       "Ziqi Li                      24\n",
       "dtype: int64"
      ]
     },
     "execution_count": 40,
     "metadata": {},
     "output_type": "execute_result"
    }
   ],
   "source": [
    "totals"
   ]
  },
  {
   "cell_type": "code",
   "execution_count": 41,
   "metadata": {},
   "outputs": [],
   "source": [
    "n_commits = df.commits.sum()\n",
    "n_issues = df['total issues'].sum()\n",
    "n_pulls = df.pulls.sum()"
   ]
  },
  {
   "cell_type": "code",
   "execution_count": 42,
   "metadata": {},
   "outputs": [
    {
     "data": {
      "text/plain": [
       "992"
      ]
     },
     "execution_count": 42,
     "metadata": {},
     "output_type": "execute_result"
    }
   ],
   "source": [
    "n_commits"
   ]
  },
  {
   "cell_type": "code",
   "execution_count": 43,
   "metadata": {},
   "outputs": [],
   "source": [
    "#Overall, there were 719 commits that closed 240 issues, together with 105 pull requests across 12 packages since our last release on 2017-11-03.\n",
    "#('{0} Here is a really long '\n",
    "#           'sentence with {1}').format(3, 5))\n",
    "line = ('Overall, there were {n_commits} commits that closed {n_issues} issues,'  \n",
    "    ' together with {n_pulls} pull requests since our last release' \n",
    "        ' on {since_date}.\\n'.format(n_commits=n_commits, n_issues=n_issues,\n",
    "        n_pulls=n_pulls, since_date = start_date))"
   ]
  },
  {
   "cell_type": "code",
   "execution_count": 44,
   "metadata": {},
   "outputs": [
    {
     "data": {
      "text/plain": [
       "'Overall, there were 992 commits that closed 261 issues, together with 173 pull requests since our last release on 2019-01-30.\\n'"
      ]
     },
     "execution_count": 44,
     "metadata": {},
     "output_type": "execute_result"
    }
   ],
   "source": [
    "line"
   ]
  },
  {
   "cell_type": "markdown",
   "metadata": {},
   "source": [
    "## append html files to end of changes.md with tags for toc"
   ]
  },
  {
   "cell_type": "code",
   "execution_count": 45,
   "metadata": {},
   "outputs": [],
   "source": [
    "with open('changes.md', 'w') as fout:\n",
    "    fout.write(line)\n",
    "    fout.write(\"\\n\".join(lines))\n",
    "    fout.write(get_tag(\"Summary Statistics\"))\n",
    "    \n",
    "    with open('commit_table.html') as table:\n",
    "        table_lines = table.readlines()\n",
    "        title = \"Package Activity\"\n",
    "        fout.write(get_tag(title,\"###\"))\n",
    "        fout.write(\"\\n\")\n",
    "        fout.write(\"\".join(table_lines))\n",
    "                \n",
    "    with open('commits_by_person.html') as table:\n",
    "        table_lines = table.readlines()\n",
    "        title = \"Contributor Activity\"\n",
    "        fout.write(get_tag(title,\"###\"))\n",
    "        fout.write(\"\\n\")\n",
    "        fout.write(\"\".join(table_lines))\n",
    "        \n",
    "    with open('contributor_table.html') as table:\n",
    "        table_lines = table.readlines()\n",
    "        title = \"Contributor by Package Activity\"\n",
    "        fout.write(get_tag(title,\"###\"))\n",
    "        fout.write(\"\\n\")\n",
    "        fout.write(\"\".join(table_lines))"
   ]
  },
  {
   "cell_type": "code",
   "execution_count": null,
   "metadata": {},
   "outputs": [],
   "source": []
  },
  {
   "cell_type": "code",
   "execution_count": null,
   "metadata": {},
   "outputs": [],
   "source": []
  },
  {
   "cell_type": "code",
   "execution_count": null,
   "metadata": {},
   "outputs": [],
   "source": []
  }
 ],
 "metadata": {
  "kernelspec": {
   "display_name": "Python 3",
   "language": "python",
   "name": "python3"
  },
  "language_info": {
   "codemirror_mode": {
    "name": "ipython",
    "version": 3
   },
   "file_extension": ".py",
   "mimetype": "text/x-python",
   "name": "python",
   "nbconvert_exporter": "python",
   "pygments_lexer": "ipython3",
   "version": "3.7.3"
  }
 },
 "nbformat": 4,
 "nbformat_minor": 2
}
