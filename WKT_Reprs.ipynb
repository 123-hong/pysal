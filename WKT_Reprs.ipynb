{
 "cells": [
  {
   "cell_type": "code",
   "execution_count": 1,
   "metadata": {
    "collapsed": true
   },
   "outputs": [],
   "source": [
    "import pysal as ps\n",
    "import numpy as np"
   ]
  },
  {
   "cell_type": "code",
   "execution_count": 2,
   "metadata": {
    "collapsed": false
   },
   "outputs": [],
   "source": [
    "df = ps.pdio.read_files(ps.examples.get_path('columbus.shp'))[['geometry', 'INC', 'HOVAL', 'CRIME']]"
   ]
  },
  {
   "cell_type": "markdown",
   "metadata": {},
   "source": [
    "This used to look like:"
   ]
  },
  {
   "cell_type": "markdown",
   "metadata": {},
   "source": [
    "<img src='./old_repr.png'>"
   ]
  },
  {
   "cell_type": "markdown",
   "metadata": {},
   "source": [
    "now it's:"
   ]
  },
  {
   "cell_type": "code",
   "execution_count": 3,
   "metadata": {
    "collapsed": false
   },
   "outputs": [
    {
     "data": {
      "text/html": [
       "<div>\n",
       "<table border=\"1\" class=\"dataframe\">\n",
       "  <thead>\n",
       "    <tr style=\"text-align: right;\">\n",
       "      <th></th>\n",
       "      <th>geometry</th>\n",
       "      <th>INC</th>\n",
       "      <th>HOVAL</th>\n",
       "      <th>CRIME</th>\n",
       "    </tr>\n",
       "  </thead>\n",
       "  <tbody>\n",
       "    <tr>\n",
       "      <th>0</th>\n",
       "      <td>POLYGON ((8.6241292953491 14.2369804382324, 8....</td>\n",
       "      <td>19.531</td>\n",
       "      <td>80.467003</td>\n",
       "      <td>15.725980</td>\n",
       "    </tr>\n",
       "    <tr>\n",
       "      <th>1</th>\n",
       "      <td>POLYGON ((8.2527904510498 14.2369403839111, 8....</td>\n",
       "      <td>21.232</td>\n",
       "      <td>44.567001</td>\n",
       "      <td>18.801754</td>\n",
       "    </tr>\n",
       "    <tr>\n",
       "      <th>2</th>\n",
       "      <td>POLYGON ((8.6533050537109 14.0080900192261, 8....</td>\n",
       "      <td>15.956</td>\n",
       "      <td>26.350000</td>\n",
       "      <td>30.626781</td>\n",
       "    </tr>\n",
       "    <tr>\n",
       "      <th>3</th>\n",
       "      <td>POLYGON ((8.4594993591309 13.8203496932983, 8....</td>\n",
       "      <td>4.477</td>\n",
       "      <td>33.200001</td>\n",
       "      <td>32.387760</td>\n",
       "    </tr>\n",
       "    <tr>\n",
       "      <th>4</th>\n",
       "      <td>POLYGON ((8.6852741241455 13.6395196914673, 8....</td>\n",
       "      <td>11.252</td>\n",
       "      <td>23.225000</td>\n",
       "      <td>50.731510</td>\n",
       "    </tr>\n",
       "  </tbody>\n",
       "</table>\n",
       "</div>"
      ],
      "text/plain": [
       "                                            geometry     INC      HOVAL  \\\n",
       "0  POLYGON ((8.6241292953491 14.2369804382324, 8....  19.531  80.467003   \n",
       "1  POLYGON ((8.2527904510498 14.2369403839111, 8....  21.232  44.567001   \n",
       "2  POLYGON ((8.6533050537109 14.0080900192261, 8....  15.956  26.350000   \n",
       "3  POLYGON ((8.4594993591309 13.8203496932983, 8....   4.477  33.200001   \n",
       "4  POLYGON ((8.6852741241455 13.6395196914673, 8....  11.252  23.225000   \n",
       "\n",
       "       CRIME  \n",
       "0  15.725980  \n",
       "1  18.801754  \n",
       "2  30.626781  \n",
       "3  32.387760  \n",
       "4  50.731510  "
      ]
     },
     "execution_count": 3,
     "metadata": {},
     "output_type": "execute_result"
    }
   ],
   "source": [
    "df.head()"
   ]
  },
  {
   "cell_type": "markdown",
   "metadata": {},
   "source": [
    "This can get read/written using default pandas plaintext tools"
   ]
  },
  {
   "cell_type": "code",
   "execution_count": 4,
   "metadata": {
    "collapsed": true
   },
   "outputs": [],
   "source": [
    "df.to_csv('./test.csv', index=False)"
   ]
  },
  {
   "cell_type": "code",
   "execution_count": 5,
   "metadata": {
    "collapsed": true
   },
   "outputs": [],
   "source": [
    "import pandas as pd"
   ]
  },
  {
   "cell_type": "code",
   "execution_count": 6,
   "metadata": {
    "collapsed": true
   },
   "outputs": [],
   "source": [
    "df2 = pd.read_csv('./test.csv')"
   ]
  },
  {
   "cell_type": "code",
   "execution_count": 7,
   "metadata": {
    "collapsed": false
   },
   "outputs": [
    {
     "data": {
      "text/html": [
       "<div>\n",
       "<table border=\"1\" class=\"dataframe\">\n",
       "  <thead>\n",
       "    <tr style=\"text-align: right;\">\n",
       "      <th></th>\n",
       "      <th>geometry</th>\n",
       "      <th>INC</th>\n",
       "      <th>HOVAL</th>\n",
       "      <th>CRIME</th>\n",
       "    </tr>\n",
       "  </thead>\n",
       "  <tbody>\n",
       "    <tr>\n",
       "      <th>0</th>\n",
       "      <td>POLYGON ((8.6241292953491 14.2369804382324, 8....</td>\n",
       "      <td>19.531</td>\n",
       "      <td>80.467003</td>\n",
       "      <td>15.725980</td>\n",
       "    </tr>\n",
       "    <tr>\n",
       "      <th>1</th>\n",
       "      <td>POLYGON ((8.2527904510498 14.2369403839111, 8....</td>\n",
       "      <td>21.232</td>\n",
       "      <td>44.567001</td>\n",
       "      <td>18.801754</td>\n",
       "    </tr>\n",
       "    <tr>\n",
       "      <th>2</th>\n",
       "      <td>POLYGON ((8.6533050537109 14.0080900192261, 8....</td>\n",
       "      <td>15.956</td>\n",
       "      <td>26.350000</td>\n",
       "      <td>30.626781</td>\n",
       "    </tr>\n",
       "    <tr>\n",
       "      <th>3</th>\n",
       "      <td>POLYGON ((8.4594993591309 13.8203496932983, 8....</td>\n",
       "      <td>4.477</td>\n",
       "      <td>33.200001</td>\n",
       "      <td>32.387760</td>\n",
       "    </tr>\n",
       "    <tr>\n",
       "      <th>4</th>\n",
       "      <td>POLYGON ((8.6852741241455 13.6395196914673, 8....</td>\n",
       "      <td>11.252</td>\n",
       "      <td>23.225000</td>\n",
       "      <td>50.731510</td>\n",
       "    </tr>\n",
       "  </tbody>\n",
       "</table>\n",
       "</div>"
      ],
      "text/plain": [
       "                                            geometry     INC      HOVAL  \\\n",
       "0  POLYGON ((8.6241292953491 14.2369804382324, 8....  19.531  80.467003   \n",
       "1  POLYGON ((8.2527904510498 14.2369403839111, 8....  21.232  44.567001   \n",
       "2  POLYGON ((8.6533050537109 14.0080900192261, 8....  15.956  26.350000   \n",
       "3  POLYGON ((8.4594993591309 13.8203496932983, 8....   4.477  33.200001   \n",
       "4  POLYGON ((8.6852741241455 13.6395196914673, 8....  11.252  23.225000   \n",
       "\n",
       "       CRIME  \n",
       "0  15.725980  \n",
       "1  18.801754  \n",
       "2  30.626781  \n",
       "3  32.387760  \n",
       "4  50.731510  "
      ]
     },
     "execution_count": 7,
     "metadata": {},
     "output_type": "execute_result"
    }
   ],
   "source": [
    "df2.head()"
   ]
  },
  {
   "cell_type": "code",
   "execution_count": 8,
   "metadata": {
    "collapsed": false
   },
   "outputs": [
    {
     "data": {
      "text/plain": [
       "(str,\n",
       " 'POLYGON ((8.6241292953491 14.2369804382324, 8.5597000122070 14.7424497604370, 8.8094520568848 14.7344303131104, 8.8084125518799 14.6365203857422, 8.9193048477173 14.6385002136230, 9.0871381759644 14.6304903030396, 9.0999650955200 14.2448301315308, 9.0150470733643 14.2418403625488, 9.0089511871338 13.9950599670410, 8.8181400299072 14.0020503997803, 8.6533050537109 14.0080900192261, 8.6429023742676 14.0897102355957, 8.6325922012329 14.1705904006958, 8.6258258819580 14.2236700057983, 8.6241292953491 14.2369804382324))')"
      ]
     },
     "execution_count": 8,
     "metadata": {},
     "output_type": "execute_result"
    }
   ],
   "source": [
    "type(df2.geometry[0]), df2.geometry[0]"
   ]
  },
  {
   "cell_type": "markdown",
   "metadata": {},
   "source": [
    "But, it won't automatically convert if so. To do this, we need to actually tell `pandas` to parse the WKT column. This isn't that hard, but I will smooth this out:"
   ]
  },
  {
   "cell_type": "code",
   "execution_count": 9,
   "metadata": {
    "collapsed": true
   },
   "outputs": [],
   "source": [
    "parser = ps.core.IOHandlers.wkt.WKTParser().fromWKT\n",
    "df2['geometry'] = df2.geometry.apply(ps.core.IOHandlers.wkt.WKTParser().fromWKT)"
   ]
  },
  {
   "cell_type": "code",
   "execution_count": 10,
   "metadata": {
    "collapsed": false
   },
   "outputs": [
    {
     "data": {
      "text/plain": [
       "(pysal.cg.shapes.Polygon,\n",
       " POLYGON ((8.6241292953491 14.2369804382324, 8.5597000122070 14.7424497604370, ...)"
      ]
     },
     "execution_count": 10,
     "metadata": {},
     "output_type": "execute_result"
    }
   ],
   "source": [
    "type(df2.geometry[0]), df2.geometry[0]"
   ]
  },
  {
   "cell_type": "code",
   "execution_count": 11,
   "metadata": {
    "collapsed": false
   },
   "outputs": [],
   "source": [
    "np.testing.assert_allclose(df2.geometry[0].vertices, df.geometry[0].vertices)"
   ]
  },
  {
   "cell_type": "markdown",
   "metadata": {},
   "source": [
    "Still to do on this:\n",
    "\n",
    "0. Repeated use of WKT causes coordinate drift, especially if decisions about how things are truncated change. So, if possible, we should try to use wkb, meaning...\n",
    "1. I need to implement `__reduce__` methods for binary serialization.\n",
    "2. Implement `to_dataframe` from standard pysal filehandlers\n",
    "3. Add multipolygon to wkt parsing."
   ]
  },
  {
   "cell_type": "code",
   "execution_count": null,
   "metadata": {
    "collapsed": true
   },
   "outputs": [],
   "source": [
    "ps.open('columbus.dbf').to_dataframe(); ps.pdio.read_files()"
   ]
  },
  {
   "cell_type": "code",
   "execution_count": 14,
   "metadata": {
    "collapsed": false
   },
   "outputs": [
    {
     "data": {
      "text/plain": [
       "LINESTRING (8.62413 14.23698, 8.55970 14.74245, ..."
      ]
     },
     "execution_count": 14,
     "metadata": {},
     "output_type": "execute_result"
    }
   ],
   "source": [
    "ps.cg.Chain(df.geometry[0].vertices)ma"
   ]
  },
  {
   "cell_type": "code",
   "execution_count": 16,
   "metadata": {
    "collapsed": false
   },
   "outputs": [],
   "source": [
    "df.geometry[0]._precision = 5"
   ]
  },
  {
   "cell_type": "code",
   "execution_count": 17,
   "metadata": {
    "collapsed": false
   },
   "outputs": [
    {
     "data": {
      "text/plain": [
       "POLYGON ((8.62413 14.23698, 8.55970 14.74245, ..."
      ]
     },
     "execution_count": 17,
     "metadata": {},
     "output_type": "execute_result"
    }
   ],
   "source": [
    "df.geometry[0]"
   ]
  },
  {
   "cell_type": "code",
   "execution_count": 18,
   "metadata": {
    "collapsed": true
   },
   "outputs": [],
   "source": [
    "mps = ps.open(ps.examples.get_path('Polygon.shp')).read()"
   ]
  },
  {
   "cell_type": "code",
   "execution_count": 19,
   "metadata": {
    "collapsed": false
   },
   "outputs": [
    {
     "data": {
      "text/plain": [
       "MULTIPOLYGON (((-0.0108093977040866 -0.2582597347495280, -0.0074876647089110 -0.2549380017543524, ..."
      ]
     },
     "execution_count": 19,
     "metadata": {},
     "output_type": "execute_result"
    }
   ],
   "source": [
    "mps[0]"
   ]
  },
  {
   "cell_type": "code",
   "execution_count": 20,
   "metadata": {
    "collapsed": false
   },
   "outputs": [
    {
     "data": {
      "text/plain": [
       "POLYGON ((0.053964395701836 -0.312653112545527, 0.051473095955455 -0.352513908487634, ..."
      ]
     },
     "execution_count": 20,
     "metadata": {},
     "output_type": "execute_result"
    }
   ],
   "source": [
    "mps[1]"
   ]
  },
  {
   "cell_type": "code",
   "execution_count": null,
   "metadata": {
    "collapsed": true
   },
   "outputs": [],
   "source": []
  }
 ],
 "metadata": {
  "kernelspec": {
   "display_name": "Python 2",
   "language": "python",
   "name": "python2"
  },
  "language_info": {
   "codemirror_mode": {
    "name": "ipython",
    "version": 2
   },
   "file_extension": ".py",
   "mimetype": "text/x-python",
   "name": "python",
   "nbconvert_exporter": "python",
   "pygments_lexer": "ipython2",
   "version": "2.7.11"
  }
 },
 "nbformat": 4,
 "nbformat_minor": 0
}
