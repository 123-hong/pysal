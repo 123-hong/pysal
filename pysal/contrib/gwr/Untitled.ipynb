{
 "cells": [
  {
   "cell_type": "code",
   "execution_count": 1,
   "metadata": {
    "collapsed": false
   },
   "outputs": [],
   "source": [
    "import numpy as np\n",
    "import pandas as pd\n",
    "import pysal as ps\n",
    "\n",
    "\n",
    "\n",
    "from sel_bw import Sel_BW\n",
    "from gwr import GWR\n",
    "from pysal.contrib.glm.family import Poisson\n",
    "\n",
    "from pysal.contrib.glm.glm import GLM\n",
    "import statsmodels.api as sm\n",
    "from pysal.contrib.glm.family import Poisson"
   ]
  },
  {
   "cell_type": "code",
   "execution_count": 2,
   "metadata": {
    "collapsed": false
   },
   "outputs": [],
   "source": [
    "data = ps.open(ps.examples.get_path('Tokyomortality.csv'), 'rU')\n",
    "y = np.array(data.by_col('db2564')).reshape((-1,1))\n",
    "a = np.array(data.by_col('OCC_TEC')).reshape((-1,1))\n",
    "b = np.array(data.by_col('OWNH')).reshape((-1,1))\n",
    "c = np.array(data.by_col('POP65')).reshape((-1,1))\n",
    "d = np.array(data.by_col('UNEMP')).reshape((-1,1))\n",
    "off = np.array(data.by_col('eb2564')).reshape((-1,1))\n",
    "\n",
    "X = np.hstack([a,b,c,d])\n",
    "\n",
    "\n",
    "#Coordinates for calibration points\n",
    "u = data.by_col('X_CENTROID')\n",
    "v = data.by_col('Y_CENTROID')\n",
    "coords = zip(u,v)"
   ]
  },
  {
   "cell_type": "code",
   "execution_count": 3,
   "metadata": {
    "collapsed": false
   },
   "outputs": [
    {
     "name": "stdout",
     "output_type": "stream",
     "text": [
      "50 131.0 262 181.0\n",
      "384.603733031 373.549743374 392.320553232 384.604416054\n",
      "50 100.0 181.0 131.0\n",
      "384.603733031 367.10202563 384.604416054 373.549743374\n",
      "50 81.0 131.0 100.0\n",
      "384.603733031 366.208356318 373.549743374 367.10202563\n",
      "50 69.0 100.0 81.0\n",
      "384.603733031 369.801895208 367.10202563 366.208356318\n",
      "69.0 81.0 100.0 88.0\n",
      "369.801895208 366.208356318 367.10202563 366.193692867\n",
      "81.0 88.0 100.0 93.0\n",
      "366.208356318 366.193692867 367.10202563 365.878533889\n",
      "88.0 93.0 100.0 95.0\n",
      "366.193692867 365.878533889 367.10202563 365.472810347\n",
      "93.0 95.0 100.0 97.0\n",
      "365.878533889 365.472810347 367.10202563 366.121785738\n",
      "93.0 95.0 97.0 95.0\n",
      "365.878533889 365.472810347 366.121785738 365.472810347\n",
      "95.0\n"
     ]
    }
   ],
   "source": [
    "#Instantiate bandwidth selection class - bisquare NN (adaptive)\n",
    "sel = Sel_BW(coords, y, X, family=Poisson(), offset=off, kernel='bisquare', fixed=False)\n",
    "\n",
    "#Find optimal bandwidth by minimizing AICc using golden section search algorithm\n",
    "bw = sel.search(criterion='AICc')\n",
    "print bw"
   ]
  },
  {
   "cell_type": "code",
   "execution_count": 180,
   "metadata": {
    "collapsed": false
   },
   "outputs": [],
   "source": [
    "model = GWR(coords, y, X, bw = 100, family=Poisson(), kernel='bisquare', fixed=False)\n",
    "results = model.fit()"
   ]
  },
  {
   "cell_type": "code",
   "execution_count": 194,
   "metadata": {
    "collapsed": false
   },
   "outputs": [
    {
     "data": {
      "text/plain": [
       "0.037879032722249337"
      ]
     },
     "execution_count": 194,
     "metadata": {},
     "output_type": "execute_result"
    }
   ],
   "source": [
    "np.mean(results.params[:,4])"
   ]
  },
  {
   "cell_type": "code",
   "execution_count": 183,
   "metadata": {
    "collapsed": true
   },
   "outputs": [],
   "source": [
    "endog = results.y\n",
    "mu = results.mu"
   ]
  },
  {
   "cell_type": "code",
   "execution_count": 184,
   "metadata": {
    "collapsed": false
   },
   "outputs": [],
   "source": [
    "poiss=Poisson()"
   ]
  },
  {
   "cell_type": "code",
   "execution_count": 201,
   "metadata": {
    "collapsed": false
   },
   "outputs": [
    {
     "data": {
      "text/plain": [
       "17812.783000857915"
      ]
     },
     "execution_count": 201,
     "metadata": {},
     "output_type": "execute_result"
    }
   ],
   "source": [
    "np.sum(poiss.resid_dev(endog, mu)**2)"
   ]
  },
  {
   "cell_type": "code",
   "execution_count": 202,
   "metadata": {
    "collapsed": false
   },
   "outputs": [
    {
     "data": {
      "text/plain": [
       "17812.783000857915"
      ]
     },
     "execution_count": 202,
     "metadata": {},
     "output_type": "execute_result"
    }
   ],
   "source": [
    "#deviance\n",
    "np.sum(results.resid_deviance**2)"
   ]
  },
  {
   "cell_type": "code",
   "execution_count": 204,
   "metadata": {
    "collapsed": false
   },
   "outputs": [
    {
     "data": {
      "text/plain": [
       "1250.1936048172699"
      ]
     },
     "execution_count": 204,
     "metadata": {},
     "output_type": "execute_result"
    }
   ],
   "source": [
    "np.sum(results.resid_response)"
   ]
  },
  {
   "cell_type": "code",
   "execution_count": 207,
   "metadata": {
    "collapsed": false
   },
   "outputs": [
    {
     "data": {
      "text/plain": [
       "2405.6405533701632"
      ]
     },
     "execution_count": 207,
     "metadata": {},
     "output_type": "execute_result"
    }
   ],
   "source": [
    "np.sqrt(np.sum((endog-mu)**2))"
   ]
  },
  {
   "cell_type": "code",
   "execution_count": 208,
   "metadata": {
    "collapsed": false
   },
   "outputs": [
    {
     "data": {
      "text/plain": [
       "25.269614576713266"
      ]
     },
     "execution_count": 208,
     "metadata": {},
     "output_type": "execute_result"
    }
   ],
   "source": [
    "results.tr_S"
   ]
  },
  {
   "cell_type": "code",
   "execution_count": 209,
   "metadata": {
    "collapsed": false
   },
   "outputs": [
    {
     "data": {
      "text/plain": [
       "18.476243776687351"
      ]
     },
     "execution_count": 209,
     "metadata": {},
     "output_type": "execute_result"
    }
   ],
   "source": [
    "results.tr_STS"
   ]
  },
  {
   "cell_type": "code",
   "execution_count": 213,
   "metadata": {
    "collapsed": false
   },
   "outputs": [
    {
     "data": {
      "text/plain": [
       "51975.146607441435"
      ]
     },
     "execution_count": 213,
     "metadata": {},
     "output_type": "execute_result"
    }
   ],
   "source": [
    "results.null_deviance"
   ]
  },
  {
   "cell_type": "code",
   "execution_count": 216,
   "metadata": {
    "collapsed": false
   },
   "outputs": [
    {
     "data": {
      "text/plain": [
       "0.6572826790582327"
      ]
     },
     "execution_count": 216,
     "metadata": {},
     "output_type": "execute_result"
    }
   ],
   "source": [
    "#percent dev global\n",
    "1 - 17812.783000857915/51975.146607441435"
   ]
  },
  {
   "cell_type": "code",
   "execution_count": 3,
   "metadata": {
    "collapsed": true
   },
   "outputs": [],
   "source": [
    "model = GWR(coords, y, X, bw = 100, family=Poisson(), offset=off, kernel='bisquare', fixed=False)\n",
    "results = model.fit()"
   ]
  },
  {
   "cell_type": "code",
   "execution_count": 4,
   "metadata": {
    "collapsed": true
   },
   "outputs": [],
   "source": [
    "endog = results.y\n",
    "mu = results.mu"
   ]
  },
  {
   "cell_type": "code",
   "execution_count": 5,
   "metadata": {
    "collapsed": false
   },
   "outputs": [
    {
     "data": {
      "text/plain": [
       "311.23890351589222"
      ]
     },
     "execution_count": 5,
     "metadata": {},
     "output_type": "execute_result"
    }
   ],
   "source": [
    "np.sum(results.resid_deviance**2)"
   ]
  },
  {
   "cell_type": "code",
   "execution_count": 6,
   "metadata": {
    "collapsed": false
   },
   "outputs": [
    {
     "data": {
      "text/plain": [
       "960.24335197964797"
      ]
     },
     "execution_count": 6,
     "metadata": {},
     "output_type": "execute_result"
    }
   ],
   "source": [
    "results.null_deviance"
   ]
  },
  {
   "cell_type": "code",
   "execution_count": 7,
   "metadata": {
    "collapsed": false
   },
   "outputs": [
    {
     "data": {
      "text/plain": [
       "-1755788.3078350087"
      ]
     },
     "execution_count": 7,
     "metadata": {},
     "output_type": "execute_result"
    }
   ],
   "source": [
    "1 - 1685985010.3257794/960.24335197979872"
   ]
  },
  {
   "cell_type": "code",
   "execution_count": 8,
   "metadata": {
    "collapsed": true
   },
   "outputs": [],
   "source": [
    "p = Poisson()"
   ]
  },
  {
   "cell_type": "code",
   "execution_count": 9,
   "metadata": {
    "collapsed": false
   },
   "outputs": [
    {
     "ename": "TypeError",
     "evalue": "predict() takes exactly 2 arguments (1 given)",
     "output_type": "error",
     "traceback": [
      "\u001b[0;31m---------------------------------------------------------------------------\u001b[0m",
      "\u001b[0;31mTypeError\u001b[0m                                 Traceback (most recent call last)",
      "\u001b[0;32m<ipython-input-9-dff729091dc7>\u001b[0m in \u001b[0;36m<module>\u001b[0;34m()\u001b[0m\n\u001b[0;32m----> 1\u001b[0;31m \u001b[0mp\u001b[0m\u001b[0;34m.\u001b[0m\u001b[0mpredict\u001b[0m\u001b[0;34m(\u001b[0m\u001b[0;34m)\u001b[0m\u001b[0;34m\u001b[0m\u001b[0m\n\u001b[0m",
      "\u001b[0;31mTypeError\u001b[0m: predict() takes exactly 2 arguments (1 given)"
     ]
    }
   ],
   "source": [
    "p.predict()"
   ]
  },
  {
   "cell_type": "code",
   "execution_count": 38,
   "metadata": {
    "collapsed": false
   },
   "outputs": [],
   "source": [
    "model = GWR(coords, y, X, bw = 100, family=Poisson(), kernel='bisquare', fixed=False)\n",
    "results = model.fit()"
   ]
  },
  {
   "cell_type": "code",
   "execution_count": 39,
   "metadata": {
    "collapsed": true
   },
   "outputs": [],
   "source": [
    "endog = results.y\n",
    "mu = results.mu"
   ]
  },
  {
   "cell_type": "code",
   "execution_count": 40,
   "metadata": {
    "collapsed": false
   },
   "outputs": [
    {
     "data": {
      "text/plain": [
       "17812.783000857915"
      ]
     },
     "execution_count": 40,
     "metadata": {},
     "output_type": "execute_result"
    }
   ],
   "source": [
    "np.sum(results.resid_deviance**2)"
   ]
  },
  {
   "cell_type": "code",
   "execution_count": 13,
   "metadata": {
    "collapsed": false
   },
   "outputs": [
    {
     "data": {
      "text/plain": [
       "960.24335197964797"
      ]
     },
     "execution_count": 13,
     "metadata": {},
     "output_type": "execute_result"
    }
   ],
   "source": [
    "results.null_deviance"
   ]
  },
  {
   "cell_type": "code",
   "execution_count": 14,
   "metadata": {
    "collapsed": false
   },
   "outputs": [
    {
     "data": {
      "text/plain": [
       "0.6758749718243414"
      ]
     },
     "execution_count": 14,
     "metadata": {},
     "output_type": "execute_result"
    }
   ],
   "source": [
    "1 - 311.23890351589222/960.24335197964797"
   ]
  },
  {
   "cell_type": "code",
   "execution_count": 15,
   "metadata": {
    "collapsed": false
   },
   "outputs": [
    {
     "data": {
      "text/plain": [
       "0.038574755754217045"
      ]
     },
     "execution_count": 15,
     "metadata": {},
     "output_type": "execute_result"
    }
   ],
   "source": [
    "np.mean(results.params[:,0])"
   ]
  },
  {
   "cell_type": "code",
   "execution_count": 16,
   "metadata": {
    "collapsed": false
   },
   "outputs": [
    {
     "data": {
      "text/plain": [
       "-2.1326067277287399"
      ]
     },
     "execution_count": 16,
     "metadata": {},
     "output_type": "execute_result"
    }
   ],
   "source": [
    "np.mean(results.params[:,1])"
   ]
  },
  {
   "cell_type": "code",
   "execution_count": 17,
   "metadata": {
    "collapsed": false
   },
   "outputs": [
    {
     "data": {
      "text/plain": [
       "-0.27583401958630227"
      ]
     },
     "execution_count": 17,
     "metadata": {},
     "output_type": "execute_result"
    }
   ],
   "source": [
    "np.mean(results.params[:,2])"
   ]
  },
  {
   "cell_type": "code",
   "execution_count": 18,
   "metadata": {
    "collapsed": false
   },
   "outputs": [
    {
     "data": {
      "text/plain": [
       "2.1695786445970224"
      ]
     },
     "execution_count": 18,
     "metadata": {},
     "output_type": "execute_result"
    }
   ],
   "source": [
    "np.mean(results.params[:,3])"
   ]
  },
  {
   "cell_type": "code",
   "execution_count": 19,
   "metadata": {
    "collapsed": false
   },
   "outputs": [
    {
     "data": {
      "text/plain": [
       "0.047531701914650559"
      ]
     },
     "execution_count": 19,
     "metadata": {},
     "output_type": "execute_result"
    }
   ],
   "source": [
    "np.mean(results.params[:,4])"
   ]
  },
  {
   "cell_type": "code",
   "execution_count": 20,
   "metadata": {
    "collapsed": false
   },
   "outputs": [
    {
     "data": {
      "text/plain": [
       "25.144338923628634"
      ]
     },
     "execution_count": 20,
     "metadata": {},
     "output_type": "execute_result"
    }
   ],
   "source": [
    "results.tr_S"
   ]
  },
  {
   "cell_type": "code",
   "execution_count": 21,
   "metadata": {
    "collapsed": false
   },
   "outputs": [
    {
     "data": {
      "text/plain": [
       "array([[ 0.43016643],\n",
       "       [ 0.33026011],\n",
       "       [ 0.62595706],\n",
       "       [ 0.25783817],\n",
       "       [ 0.46695582],\n",
       "       [ 0.68493002],\n",
       "       [ 0.42742899],\n",
       "       [ 0.56336641],\n",
       "       [ 0.34302246],\n",
       "       [ 0.57220432],\n",
       "       [ 0.52745075],\n",
       "       [ 0.51999517],\n",
       "       [ 0.52623063],\n",
       "       [ 0.62077062],\n",
       "       [ 0.64281782],\n",
       "       [ 0.57124744],\n",
       "       [ 0.59457248],\n",
       "       [ 0.43012915],\n",
       "       [ 0.34986756],\n",
       "       [ 0.57506562],\n",
       "       [ 0.53182861],\n",
       "       [ 0.27369578],\n",
       "       [ 0.29485494],\n",
       "       [ 0.33848467],\n",
       "       [ 0.31398008],\n",
       "       [ 0.35946826],\n",
       "       [ 0.28403823],\n",
       "       [ 0.35006974],\n",
       "       [ 0.34976115],\n",
       "       [ 0.63791352],\n",
       "       [ 0.65684674],\n",
       "       [ 0.69702563],\n",
       "       [ 0.30474449],\n",
       "       [ 0.32272632],\n",
       "       [ 0.30816438],\n",
       "       [ 0.28242651],\n",
       "       [ 0.27528065],\n",
       "       [ 0.28716499],\n",
       "       [ 0.36203311],\n",
       "       [ 0.26533797],\n",
       "       [ 0.73862704],\n",
       "       [ 0.6651594 ],\n",
       "       [ 0.56432469],\n",
       "       [ 0.28685119],\n",
       "       [ 0.47576471],\n",
       "       [ 0.31966388],\n",
       "       [ 0.343784  ],\n",
       "       [ 0.27167496],\n",
       "       [ 0.59850864],\n",
       "       [ 0.56188162],\n",
       "       [ 0.38911635],\n",
       "       [ 0.31786988],\n",
       "       [ 0.30217143],\n",
       "       [ 0.40381335],\n",
       "       [ 0.62075815],\n",
       "       [ 0.75959212],\n",
       "       [ 0.70305432],\n",
       "       [ 0.72547085],\n",
       "       [ 0.71212302],\n",
       "       [ 0.3894472 ],\n",
       "       [ 0.74556859],\n",
       "       [ 0.66253434],\n",
       "       [ 0.61749302],\n",
       "       [ 0.69797701],\n",
       "       [ 0.62891855],\n",
       "       [ 0.33316338],\n",
       "       [ 0.39720584],\n",
       "       [ 0.31364029],\n",
       "       [ 0.77625036],\n",
       "       [ 0.54603638],\n",
       "       [ 0.47302769],\n",
       "       [ 0.77444958],\n",
       "       [ 0.45184773],\n",
       "       [ 0.29382098],\n",
       "       [ 0.38702101],\n",
       "       [ 0.31336287],\n",
       "       [ 0.33203646],\n",
       "       [ 0.42315548],\n",
       "       [ 0.27721949],\n",
       "       [ 0.47027258],\n",
       "       [ 0.51550479],\n",
       "       [ 0.31297759],\n",
       "       [ 0.30104533],\n",
       "       [ 0.30272628],\n",
       "       [ 0.26857768],\n",
       "       [ 0.27229949],\n",
       "       [ 0.272762  ],\n",
       "       [ 0.28833754],\n",
       "       [ 0.28062347],\n",
       "       [ 0.28902928],\n",
       "       [ 0.27584038],\n",
       "       [ 0.29001189],\n",
       "       [ 0.27345937],\n",
       "       [ 0.2690978 ],\n",
       "       [ 0.26395575],\n",
       "       [ 0.26566268],\n",
       "       [ 0.26280369],\n",
       "       [ 0.25979621],\n",
       "       [ 0.2641424 ],\n",
       "       [ 0.33379593],\n",
       "       [ 0.28074107],\n",
       "       [ 0.30549172],\n",
       "       [ 0.33510766],\n",
       "       [ 0.3476602 ],\n",
       "       [ 0.46628334],\n",
       "       [ 0.43382512],\n",
       "       [ 0.35411656],\n",
       "       [ 0.36349196],\n",
       "       [ 0.37997527],\n",
       "       [ 0.46024461],\n",
       "       [ 0.66012005],\n",
       "       [ 0.72671321],\n",
       "       [ 0.54926958],\n",
       "       [ 0.76956113],\n",
       "       [ 0.81829124],\n",
       "       [ 0.81658577],\n",
       "       [ 0.76114003],\n",
       "       [ 0.79478328],\n",
       "       [ 0.62412681],\n",
       "       [ 0.71519485],\n",
       "       [ 0.67770624],\n",
       "       [ 0.74978817],\n",
       "       [ 0.71000165],\n",
       "       [ 0.82264246],\n",
       "       [ 0.74334057],\n",
       "       [ 0.74460828],\n",
       "       [ 0.74799783],\n",
       "       [ 0.79381404],\n",
       "       [ 0.73049956],\n",
       "       [ 0.80289383],\n",
       "       [ 0.75060371],\n",
       "       [ 0.76607084],\n",
       "       [ 0.820051  ],\n",
       "       [ 0.76720599],\n",
       "       [ 0.763327  ],\n",
       "       [ 0.72448822],\n",
       "       [ 0.43782468],\n",
       "       [ 0.76692171],\n",
       "       [ 0.7201261 ],\n",
       "       [ 0.70187916],\n",
       "       [ 0.73304512],\n",
       "       [ 0.78297958],\n",
       "       [ 0.74790534],\n",
       "       [ 0.71252898],\n",
       "       [ 0.68168883],\n",
       "       [ 0.71172829],\n",
       "       [ 0.7001981 ],\n",
       "       [ 0.6999041 ],\n",
       "       [ 0.70686266],\n",
       "       [ 0.68887004],\n",
       "       [ 0.69291053],\n",
       "       [ 0.68658751],\n",
       "       [ 0.68710764],\n",
       "       [ 0.69325256],\n",
       "       [ 0.70749566],\n",
       "       [ 0.69786365],\n",
       "       [ 0.70444399],\n",
       "       [ 0.73156864],\n",
       "       [ 0.71793335],\n",
       "       [ 0.80060507],\n",
       "       [ 0.80482775],\n",
       "       [ 0.8047395 ],\n",
       "       [ 0.7919475 ],\n",
       "       [ 0.79413338],\n",
       "       [ 0.79815691],\n",
       "       [ 0.80126922],\n",
       "       [ 0.80912677],\n",
       "       [ 0.80628263],\n",
       "       [ 0.80079865],\n",
       "       [ 0.80514558],\n",
       "       [ 0.78440357],\n",
       "       [ 0.79755607],\n",
       "       [ 0.77506062],\n",
       "       [ 0.76280193],\n",
       "       [ 0.78276732],\n",
       "       [ 0.77264177],\n",
       "       [ 0.79118765],\n",
       "       [ 0.75015322],\n",
       "       [ 0.72851836],\n",
       "       [ 0.78250786],\n",
       "       [ 0.79963653],\n",
       "       [ 0.81365584],\n",
       "       [ 0.39594298],\n",
       "       [ 0.47597644],\n",
       "       [ 0.6977872 ],\n",
       "       [ 0.70765329],\n",
       "       [ 0.34277685],\n",
       "       [ 0.58377051],\n",
       "       [ 0.44171433],\n",
       "       [ 0.71341631],\n",
       "       [ 0.64781132],\n",
       "       [ 0.62095676],\n",
       "       [ 0.56758034],\n",
       "       [ 0.49413077],\n",
       "       [ 0.52857651],\n",
       "       [ 0.53808995],\n",
       "       [ 0.51910027],\n",
       "       [ 0.64085674],\n",
       "       [ 0.66329427],\n",
       "       [ 0.41347607],\n",
       "       [ 0.75031852],\n",
       "       [ 0.47879737],\n",
       "       [ 0.57548959],\n",
       "       [ 0.60718237],\n",
       "       [ 0.44184281],\n",
       "       [ 0.57693073],\n",
       "       [ 0.64264002],\n",
       "       [ 0.38447006],\n",
       "       [ 0.38653863],\n",
       "       [ 0.40191696],\n",
       "       [ 0.34942032],\n",
       "       [ 0.34525741],\n",
       "       [ 0.31934065],\n",
       "       [ 0.29688507],\n",
       "       [ 0.79824872],\n",
       "       [ 0.78903662],\n",
       "       [ 0.78828865],\n",
       "       [ 0.79101183],\n",
       "       [ 0.78418315],\n",
       "       [ 0.78031864],\n",
       "       [ 0.78390717],\n",
       "       [ 0.78207869],\n",
       "       [ 0.7873446 ],\n",
       "       [ 0.76941036],\n",
       "       [ 0.77907989],\n",
       "       [ 0.7639245 ],\n",
       "       [ 0.75740145],\n",
       "       [ 0.74834963],\n",
       "       [ 0.77490638],\n",
       "       [ 0.75849096],\n",
       "       [ 0.80033171],\n",
       "       [ 0.80159511],\n",
       "       [ 0.79716266],\n",
       "       [ 0.78451866],\n",
       "       [ 0.73293021],\n",
       "       [ 0.76713945],\n",
       "       [ 0.6942468 ],\n",
       "       [ 0.77787586],\n",
       "       [ 0.70784199],\n",
       "       [ 0.77037429],\n",
       "       [ 0.75070984],\n",
       "       [ 0.73910748],\n",
       "       [ 0.77602186],\n",
       "       [ 0.61620645],\n",
       "       [ 0.77305543],\n",
       "       [ 0.62704762],\n",
       "       [ 0.65893407],\n",
       "       [ 0.73223689],\n",
       "       [ 0.67221316],\n",
       "       [ 0.71084532],\n",
       "       [ 0.7008013 ],\n",
       "       [ 0.72875226],\n",
       "       [ 0.77529063],\n",
       "       [ 0.72516212],\n",
       "       [ 0.70574536],\n",
       "       [ 0.69421301],\n",
       "       [ 0.56630133],\n",
       "       [ 0.55922444],\n",
       "       [ 0.48078085],\n",
       "       [ 0.44574596],\n",
       "       [ 0.36822325],\n",
       "       [ 0.35025897]])"
      ]
     },
     "execution_count": 21,
     "metadata": {},
     "output_type": "execute_result"
    }
   ],
   "source": [
    "results.pDev\n"
   ]
  },
  {
   "cell_type": "code",
   "execution_count": 22,
   "metadata": {
    "collapsed": false
   },
   "outputs": [
    {
     "data": {
      "text/plain": [
       "506.85090181046797"
      ]
     },
     "execution_count": 22,
     "metadata": {},
     "output_type": "execute_result"
    }
   ],
   "source": [
    "results.deviance"
   ]
  },
  {
   "cell_type": "code",
   "execution_count": 23,
   "metadata": {
    "collapsed": false
   },
   "outputs": [
    {
     "data": {
      "text/plain": [
       "0.47216411260172875"
      ]
     },
     "execution_count": 23,
     "metadata": {},
     "output_type": "execute_result"
    }
   ],
   "source": [
    "results.D2"
   ]
  },
  {
   "cell_type": "code",
   "execution_count": 24,
   "metadata": {
    "collapsed": false
   },
   "outputs": [
    {
     "data": {
      "text/plain": [
       "0.47216411260172875"
      ]
     },
     "execution_count": 24,
     "metadata": {},
     "output_type": "execute_result"
    }
   ],
   "source": [
    "1 - results.deviance/results.null_deviance"
   ]
  },
  {
   "cell_type": "code",
   "execution_count": 25,
   "metadata": {
    "collapsed": false
   },
   "outputs": [
    {
     "data": {
      "text/plain": [
       "array([  6.05510307e-06])"
      ]
     },
     "execution_count": 25,
     "metadata": {},
     "output_type": "execute_result"
    }
   ],
   "source": [
    "(29.03125779 / (24641.32003671*off[0]))"
   ]
  },
  {
   "cell_type": "code",
   "execution_count": 26,
   "metadata": {
    "collapsed": false
   },
   "outputs": [
    {
     "data": {
      "text/plain": [
       "5569.04212701"
      ]
     },
     "execution_count": 26,
     "metadata": {},
     "output_type": "execute_result"
    }
   ],
   "source": [
    "5569.04212701 "
   ]
  },
  {
   "cell_type": "code",
   "execution_count": 27,
   "metadata": {
    "collapsed": false
   },
   "outputs": [
    {
     "data": {
      "text/plain": [
       "24641.32003671"
      ]
     },
     "execution_count": 27,
     "metadata": {},
     "output_type": "execute_result"
    }
   ],
   "source": [
    "24641.32003671"
   ]
  },
  {
   "cell_type": "code",
   "execution_count": 28,
   "metadata": {
    "collapsed": false
   },
   "outputs": [
    {
     "data": {
      "text/plain": [
       "array([ 4794510.92218274])"
      ]
     },
     "execution_count": 28,
     "metadata": {},
     "output_type": "execute_result"
    }
   ],
   "source": [
    "24641.32003671*off[0]"
   ]
  },
  {
   "cell_type": "code",
   "execution_count": 29,
   "metadata": {
    "collapsed": false
   },
   "outputs": [
    {
     "data": {
      "text/plain": [
       "6.048583572064847e-06"
      ]
     },
     "execution_count": 29,
     "metadata": {},
     "output_type": "execute_result"
    }
   ],
   "source": [
    "29.0/4794510.92218274"
   ]
  },
  {
   "cell_type": "code",
   "execution_count": 30,
   "metadata": {
    "collapsed": false
   },
   "outputs": [
    {
     "data": {
      "text/plain": [
       "0.4727272727272728"
      ]
     },
     "execution_count": 30,
     "metadata": {},
     "output_type": "execute_result"
    }
   ],
   "source": [
    "1 - 29.0/55.0"
   ]
  },
  {
   "cell_type": "code",
   "execution_count": 31,
   "metadata": {
    "collapsed": false
   },
   "outputs": [
    {
     "data": {
      "text/plain": [
       "15.063515038994053"
      ]
     },
     "execution_count": 31,
     "metadata": {},
     "output_type": "execute_result"
    }
   ],
   "source": [
    "np.sqrt(226.90948533)"
   ]
  },
  {
   "cell_type": "code",
   "execution_count": 32,
   "metadata": {
    "collapsed": false
   },
   "outputs": [
    {
     "data": {
      "text/plain": [
       "5.4245511949226097"
      ]
     },
     "execution_count": 32,
     "metadata": {},
     "output_type": "execute_result"
    }
   ],
   "source": [
    "np.log(226.90948533)"
   ]
  },
  {
   "cell_type": "code",
   "execution_count": 33,
   "metadata": {
    "collapsed": false
   },
   "outputs": [
    {
     "data": {
      "text/plain": [
       "array([ 1380.95019592])"
      ]
     },
     "execution_count": 33,
     "metadata": {},
     "output_type": "execute_result"
    }
   ],
   "source": [
    "np.log(off[0])*262"
   ]
  },
  {
   "cell_type": "code",
   "execution_count": 34,
   "metadata": {
    "collapsed": false
   },
   "outputs": [
    {
     "data": {
      "text/plain": [
       "array([ 194.572])"
      ]
     },
     "execution_count": 34,
     "metadata": {},
     "output_type": "execute_result"
    }
   ],
   "source": [
    "off[0]"
   ]
  },
  {
   "cell_type": "code",
   "execution_count": 35,
   "metadata": {
    "collapsed": false
   },
   "outputs": [
    {
     "data": {
      "text/plain": [
       "3165.1392554611975"
      ]
     },
     "execution_count": 35,
     "metadata": {},
     "output_type": "execute_result"
    }
   ],
   "source": [
    "np.sqrt(194.572)*226.90948533"
   ]
  },
  {
   "cell_type": "code",
   "execution_count": 36,
   "metadata": {
    "collapsed": false
   },
   "outputs": [
    {
     "data": {
      "text/plain": [
       "2.2920010184382913"
      ]
     },
     "execution_count": 36,
     "metadata": {},
     "output_type": "execute_result"
    }
   ],
   "source": [
    "3165.1392554611975/1380.95019592"
   ]
  },
  {
   "cell_type": "code",
   "execution_count": 39,
   "metadata": {
    "collapsed": false
   },
   "outputs": [
    {
     "data": {
      "text/plain": [
       "1.6094379124341003"
      ]
     },
     "execution_count": 39,
     "metadata": {},
     "output_type": "execute_result"
    }
   ],
   "source": [
    "np.log(50.0/10.0)"
   ]
  },
  {
   "cell_type": "code",
   "execution_count": 40,
   "metadata": {
    "collapsed": false
   },
   "outputs": [
    {
     "data": {
      "text/plain": [
       "(1, 262)"
      ]
     },
     "execution_count": 40,
     "metadata": {},
     "output_type": "execute_result"
    }
   ],
   "source": [
    "off.T.shape"
   ]
  },
  {
   "cell_type": "code",
   "execution_count": 41,
   "metadata": {
    "collapsed": false
   },
   "outputs": [
    {
     "data": {
      "text/plain": [
       "array([[  190.06917864],\n",
       "       [   93.53236823],\n",
       "       [   81.20774348],\n",
       "       [   57.0423558 ],\n",
       "       [   74.95401072],\n",
       "       [  105.81678877],\n",
       "       [   72.65543293],\n",
       "       [   75.98696656],\n",
       "       [  172.4538383 ],\n",
       "       [   26.41484263],\n",
       "       [   25.69625776],\n",
       "       [   59.04198744],\n",
       "       [   30.8276243 ],\n",
       "       [   19.59342348],\n",
       "       [   23.68289502],\n",
       "       [   17.2950085 ],\n",
       "       [   29.0480221 ],\n",
       "       [   35.4390572 ],\n",
       "       [   16.87182786],\n",
       "       [   39.5106317 ],\n",
       "       [   20.31001868],\n",
       "       [   41.87214   ],\n",
       "       [   15.53526158],\n",
       "       [   38.19182403],\n",
       "       [   64.61527256],\n",
       "       [   14.97473326],\n",
       "       [   49.37698912],\n",
       "       [   26.88300774],\n",
       "       [   44.29063128],\n",
       "       [   40.98442075],\n",
       "       [   44.26696663],\n",
       "       [   26.27290623],\n",
       "       [  122.11383778],\n",
       "       [   28.99510474],\n",
       "       [   18.19343483],\n",
       "       [   18.68051609],\n",
       "       [   43.02791862],\n",
       "       [   37.31565455],\n",
       "       [  397.93739897],\n",
       "       [  219.01749013],\n",
       "       [  673.43098269],\n",
       "       [  558.61763316],\n",
       "       [  572.81528433],\n",
       "       [  121.41696153],\n",
       "       [  372.95335711],\n",
       "       [  109.83537511],\n",
       "       [   84.8725991 ],\n",
       "       [  108.29750176],\n",
       "       [  155.82096012],\n",
       "       [  254.19289705],\n",
       "       [  193.20197161],\n",
       "       [   86.11968223],\n",
       "       [   95.58427111],\n",
       "       [  267.31283821],\n",
       "       [  106.44906297],\n",
       "       [  310.40704787],\n",
       "       [  391.48341301],\n",
       "       [  113.41678778],\n",
       "       [  139.02234463],\n",
       "       [  170.542753  ],\n",
       "       [  102.28262095],\n",
       "       [  144.53800261],\n",
       "       [   83.31323933],\n",
       "       [   76.26052372],\n",
       "       [  186.89294753],\n",
       "       [   95.92486072],\n",
       "       [   86.97668413],\n",
       "       [   79.80733503],\n",
       "       [  114.8836456 ],\n",
       "       [  129.11920761],\n",
       "       [   93.73987567],\n",
       "       [  166.83760292],\n",
       "       [   79.20830516],\n",
       "       [  102.7026011 ],\n",
       "       [   76.3327991 ],\n",
       "       [   61.02874213],\n",
       "       [   66.11799771],\n",
       "       [   33.02764899],\n",
       "       [   35.36948237],\n",
       "       [   49.37615392],\n",
       "       [   45.16801674],\n",
       "       [   48.94152032],\n",
       "       [   20.54581038],\n",
       "       [    6.51452474],\n",
       "       [   17.55622664],\n",
       "       [   26.81732183],\n",
       "       [   54.8476034 ],\n",
       "       [   14.22171233],\n",
       "       [    7.89228717],\n",
       "       [   30.19723193],\n",
       "       [   29.02555428],\n",
       "       [   22.45697949],\n",
       "       [    9.28675005],\n",
       "       [   11.8616869 ],\n",
       "       [   17.10534321],\n",
       "       [   42.4273889 ],\n",
       "       [   18.73163492],\n",
       "       [   16.57219495],\n",
       "       [   57.00290845],\n",
       "       [   28.88820733],\n",
       "       [    6.14690118],\n",
       "       [   13.44248611],\n",
       "       [   16.8247798 ],\n",
       "       [   22.73545053],\n",
       "       [   46.99612484],\n",
       "       [   55.12843239],\n",
       "       [   32.92059459],\n",
       "       [   31.85609895],\n",
       "       [   36.76669438],\n",
       "       [   55.80318113],\n",
       "       [   33.72851396],\n",
       "       [   64.1153778 ],\n",
       "       [   51.53973968],\n",
       "       [ 1080.55541531],\n",
       "       [  564.8897014 ],\n",
       "       [  739.58038938],\n",
       "       [  205.44432852],\n",
       "       [  597.0072009 ],\n",
       "       [  165.07669906],\n",
       "       [  130.34776971],\n",
       "       [  115.248475  ],\n",
       "       [  189.89640375],\n",
       "       [   75.36680577],\n",
       "       [  191.41290611],\n",
       "       [  390.93725424],\n",
       "       [  366.99109643],\n",
       "       [  182.89067439],\n",
       "       [  212.86484528],\n",
       "       [  151.85986725],\n",
       "       [  130.65874729],\n",
       "       [  153.6648727 ],\n",
       "       [  104.53727901],\n",
       "       [  123.16661186],\n",
       "       [   93.35968835],\n",
       "       [   70.18591927],\n",
       "       [   79.41956495],\n",
       "       [   39.25154792],\n",
       "       [   54.404904  ],\n",
       "       [   25.36809244],\n",
       "       [   57.3118999 ],\n",
       "       [   16.55558387],\n",
       "       [   42.6834859 ],\n",
       "       [   45.00022349],\n",
       "       [    8.94804205],\n",
       "       [   28.11397812],\n",
       "       [   61.11481159],\n",
       "       [   44.09645446],\n",
       "       [   42.36394749],\n",
       "       [   25.77634156],\n",
       "       [   10.18957445],\n",
       "       [   22.729008  ],\n",
       "       [   31.01658531],\n",
       "       [   17.89654763],\n",
       "       [   23.69626551],\n",
       "       [   16.27538327],\n",
       "       [   22.57329838],\n",
       "       [   27.34840596],\n",
       "       [   17.11777552],\n",
       "       [   24.1938381 ],\n",
       "       [   66.52852905],\n",
       "       [  127.2648847 ],\n",
       "       [  254.74699122],\n",
       "       [  455.89489011],\n",
       "       [  252.68453569],\n",
       "       [  366.67314817],\n",
       "       [  435.52796307],\n",
       "       [  710.41731831],\n",
       "       [  558.35573517],\n",
       "       [  354.78597838],\n",
       "       [ 1098.33181521],\n",
       "       [ 1030.0215612 ],\n",
       "       [  290.44488598],\n",
       "       [  470.82039793],\n",
       "       [  707.23392263],\n",
       "       [  422.75672084],\n",
       "       [  667.52073726],\n",
       "       [  391.16633833],\n",
       "       [  830.18378493],\n",
       "       [  900.2723001 ],\n",
       "       [ 1185.47351668],\n",
       "       [  792.52717015],\n",
       "       [  941.5006847 ],\n",
       "       [  618.9754942 ],\n",
       "       [  231.90875393],\n",
       "       [  172.95205145],\n",
       "       [  222.60404162],\n",
       "       [  166.64201374],\n",
       "       [  269.42041747],\n",
       "       [  155.71288142],\n",
       "       [  270.04312671],\n",
       "       [  461.49618091],\n",
       "       [  132.22779644],\n",
       "       [  213.61904345],\n",
       "       [  201.26285575],\n",
       "       [  195.91617958],\n",
       "       [  119.96093804],\n",
       "       [   82.63175711],\n",
       "       [  105.99526968],\n",
       "       [  140.04749297],\n",
       "       [   87.85103751],\n",
       "       [  105.58479107],\n",
       "       [  112.75791031],\n",
       "       [  104.67115126],\n",
       "       [  163.86629502],\n",
       "       [  107.79448237],\n",
       "       [  147.22947268],\n",
       "       [   73.60820611],\n",
       "       [   70.60475913],\n",
       "       [   64.56378373],\n",
       "       [   45.54320348],\n",
       "       [   20.65461453],\n",
       "       [   31.15736222],\n",
       "       [    8.84036352],\n",
       "       [   19.88243255],\n",
       "       [  395.67239078],\n",
       "       [  320.00422371],\n",
       "       [  149.44118433],\n",
       "       [  271.27867691],\n",
       "       [  380.37595215],\n",
       "       [  299.87621229],\n",
       "       [  242.14819242],\n",
       "       [  250.76437253],\n",
       "       [  371.57999601],\n",
       "       [  282.83496466],\n",
       "       [  278.61889031],\n",
       "       [  344.62990812],\n",
       "       [  431.56263989],\n",
       "       [  183.53201565],\n",
       "       [  148.59121041],\n",
       "       [  182.2486688 ],\n",
       "       [  463.13735947],\n",
       "       [  262.75223259],\n",
       "       [  232.09115314],\n",
       "       [  215.26934494],\n",
       "       [  194.25030886],\n",
       "       [  201.46384621],\n",
       "       [  139.18776477],\n",
       "       [  747.49703221],\n",
       "       [  360.99089878],\n",
       "       [  247.86537292],\n",
       "       [  463.28622981],\n",
       "       [  287.85232599],\n",
       "       [   94.76895836],\n",
       "       [  689.85361547],\n",
       "       [   98.30525429],\n",
       "       [  177.86858084],\n",
       "       [  219.90738902],\n",
       "       [  271.42143753],\n",
       "       [  103.89620572],\n",
       "       [  126.2357166 ],\n",
       "       [  136.34072319],\n",
       "       [  100.30740096],\n",
       "       [   44.38210098],\n",
       "       [   60.57505158],\n",
       "       [   45.58781218],\n",
       "       [   41.70980699],\n",
       "       [   53.79376724],\n",
       "       [    5.73237064],\n",
       "       [   24.16523363],\n",
       "       [   32.6750329 ],\n",
       "       [   14.91448435],\n",
       "       [   13.80614015]])"
      ]
     },
     "execution_count": 41,
     "metadata": {},
     "output_type": "execute_result"
    }
   ],
   "source": [
    "results.predy"
   ]
  },
  {
   "cell_type": "code",
   "execution_count": 22,
   "metadata": {
    "collapsed": false
   },
   "outputs": [],
   "source": [
    "y = results.y\n",
    "y_bar = results.y_bar\n",
    "off = results.offset\n",
    "off = np.tile(off, results.n).T\n",
    "dev = np.zeros(shape=(results.n,1))\n",
    "ones = np.ones(shape=(results.n,1))\n",
    "for i in range(results.n):\n",
    "    w_i= np.reshape(np.array(results.W[i]), (-1, 1))    \n",
    "    for j in range(results.n):\n",
    "        if results.y[j] <> 0:   \n",
    "            dev[i] += 2.0 * w_i[j] * (y[j] * np.log(y[j]/(y_bar[i]*off[i][j])) - (y[j] - y_bar[i] * off[i][j])) \n",
    "\n",
    "   "
   ]
  },
  {
   "cell_type": "code",
   "execution_count": 23,
   "metadata": {
    "collapsed": false
   },
   "outputs": [
    {
     "data": {
      "text/plain": [
       "array([[  50.94690717],\n",
       "       [  42.57890767],\n",
       "       [  83.15005169],\n",
       "       [  37.54430812],\n",
       "       [  61.02893105],\n",
       "       [ 102.5744406 ],\n",
       "       [  53.37424174],\n",
       "       [  70.5096139 ],\n",
       "       [  45.48661326],\n",
       "       [  71.91318024],\n",
       "       [  62.55781096],\n",
       "       [  63.17846518],\n",
       "       [  66.34242779],\n",
       "       [  86.61759467],\n",
       "       [  92.20701906],\n",
       "       [  71.14175569],\n",
       "       [  76.96016263],\n",
       "       [  45.25039539],\n",
       "       [  43.06369959],\n",
       "       [  74.78828441],\n",
       "       [  69.63270524],\n",
       "       [  39.14031342],\n",
       "       [  42.01086486],\n",
       "       [  46.98943887],\n",
       "       [  41.57988749],\n",
       "       [  46.06724957],\n",
       "       [  38.94700839],\n",
       "       [  47.73836483],\n",
       "       [  46.29434271],\n",
       "       [  87.53421897],\n",
       "       [  93.95778009],\n",
       "       [ 107.99701754],\n",
       "       [  50.16682434],\n",
       "       [  44.38180847],\n",
       "       [  52.4386031 ],\n",
       "       [  53.07167132],\n",
       "       [  51.64081815],\n",
       "       [  50.6018793 ],\n",
       "       [  67.29900395],\n",
       "       [  60.76571918],\n",
       "       [ 140.0903085 ],\n",
       "       [ 105.05146583],\n",
       "       [  73.04023476],\n",
       "       [  57.84445173],\n",
       "       [  94.30895603],\n",
       "       [  82.08613516],\n",
       "       [  49.64653747],\n",
       "       [  70.27919137],\n",
       "       [  73.97717306],\n",
       "       [  65.17991148],\n",
       "       [  84.47561198],\n",
       "       [  53.79474513],\n",
       "       [  56.84252112],\n",
       "       [  48.91226399],\n",
       "       [  91.85886462],\n",
       "       [ 145.32768253],\n",
       "       [ 103.29742141],\n",
       "       [ 144.87752884],\n",
       "       [ 140.35563712],\n",
       "       [  88.0795766 ],\n",
       "       [ 145.3363141 ],\n",
       "       [ 129.86772747],\n",
       "       [ 105.30433947],\n",
       "       [ 148.04094862],\n",
       "       [ 126.22395129],\n",
       "       [  49.96178562],\n",
       "       [  49.10842505],\n",
       "       [  53.78024692],\n",
       "       [ 160.30266406],\n",
       "       [  83.78533472],\n",
       "       [  73.4445186 ],\n",
       "       [ 155.55499697],\n",
       "       [  49.68627763],\n",
       "       [  73.11556541],\n",
       "       [  46.86506797],\n",
       "       [  76.69034787],\n",
       "       [  82.50957851],\n",
       "       [  47.41926788],\n",
       "       [  61.25811135],\n",
       "       [  80.39184789],\n",
       "       [  90.14971274],\n",
       "       [  82.81745712],\n",
       "       [  80.03520866],\n",
       "       [  73.09709023],\n",
       "       [  70.78517246],\n",
       "       [  73.03351748],\n",
       "       [  71.1186751 ],\n",
       "       [  74.49563654],\n",
       "       [  74.37013841],\n",
       "       [  56.5202993 ],\n",
       "       [  63.34847936],\n",
       "       [  77.6376226 ],\n",
       "       [  67.84013893],\n",
       "       [  65.18770142],\n",
       "       [  66.0996169 ],\n",
       "       [  52.72778064],\n",
       "       [  64.72926317],\n",
       "       [  61.50166209],\n",
       "       [  64.45241797],\n",
       "       [  52.45916402],\n",
       "       [  59.04695047],\n",
       "       [  56.78830976],\n",
       "       [  43.86814064],\n",
       "       [  44.75818189],\n",
       "       [  54.97019597],\n",
       "       [  49.34219208],\n",
       "       [  47.08476524],\n",
       "       [  46.89583847],\n",
       "       [  49.09522575],\n",
       "       [  56.05544628],\n",
       "       [  84.00788126],\n",
       "       [ 117.25338145],\n",
       "       [  69.36446067],\n",
       "       [ 147.47215132],\n",
       "       [ 190.85527895],\n",
       "       [ 177.88581895],\n",
       "       [ 147.21477468],\n",
       "       [ 170.82975609],\n",
       "       [  81.71926789],\n",
       "       [ 119.14740558],\n",
       "       [ 106.36895795],\n",
       "       [ 141.09130836],\n",
       "       [ 128.04904033],\n",
       "       [ 171.18309076],\n",
       "       [ 125.32742633],\n",
       "       [ 121.63336023],\n",
       "       [ 134.42879863],\n",
       "       [ 147.74642873],\n",
       "       [ 123.93674028],\n",
       "       [ 175.85833827],\n",
       "       [ 130.74709123],\n",
       "       [ 160.14941249],\n",
       "       [ 194.66600972],\n",
       "       [ 146.09305837],\n",
       "       [ 133.79012081],\n",
       "       [ 135.97171938],\n",
       "       [  54.08644816],\n",
       "       [ 140.71402074],\n",
       "       [ 129.80523117],\n",
       "       [ 123.56709765],\n",
       "       [ 122.62902921],\n",
       "       [ 147.53234261],\n",
       "       [ 123.50283123],\n",
       "       [ 113.17502588],\n",
       "       [ 103.92180349],\n",
       "       [ 123.99475123],\n",
       "       [ 120.16315714],\n",
       "       [ 125.30756123],\n",
       "       [ 129.63787297],\n",
       "       [ 115.53819854],\n",
       "       [ 121.30635593],\n",
       "       [ 117.09287641],\n",
       "       [ 117.98544206],\n",
       "       [  95.8890025 ],\n",
       "       [ 105.8691985 ],\n",
       "       [ 102.81092523],\n",
       "       [ 115.20847986],\n",
       "       [ 121.42012421],\n",
       "       [ 111.95548056],\n",
       "       [ 237.28018231],\n",
       "       [ 233.6178442 ],\n",
       "       [ 244.67368295],\n",
       "       [ 233.07639011],\n",
       "       [ 209.80419072],\n",
       "       [ 211.53135001],\n",
       "       [ 206.60735355],\n",
       "       [ 215.08017623],\n",
       "       [ 263.61922747],\n",
       "       [ 267.41771731],\n",
       "       [ 277.17069261],\n",
       "       [ 245.84141625],\n",
       "       [ 242.55117002],\n",
       "       [ 221.30446198],\n",
       "       [ 226.14685289],\n",
       "       [ 209.90680893],\n",
       "       [ 185.78303111],\n",
       "       [ 201.72905159],\n",
       "       [ 177.45125564],\n",
       "       [ 183.44776178],\n",
       "       [ 174.00240105],\n",
       "       [ 181.97862771],\n",
       "       [ 199.47947188],\n",
       "       [  77.09570889],\n",
       "       [  95.38102323],\n",
       "       [ 175.79187196],\n",
       "       [ 182.85277683],\n",
       "       [  83.82891304],\n",
       "       [ 117.2396364 ],\n",
       "       [  89.45374514],\n",
       "       [ 189.92282622],\n",
       "       [ 148.2570298 ],\n",
       "       [ 135.47300759],\n",
       "       [ 118.08320043],\n",
       "       [  94.60056024],\n",
       "       [ 105.56528148],\n",
       "       [ 105.87926684],\n",
       "       [  98.18602045],\n",
       "       [ 141.02486597],\n",
       "       [ 151.03303473],\n",
       "       [  88.96015817],\n",
       "       [ 218.80012946],\n",
       "       [  94.91450166],\n",
       "       [ 111.90133844],\n",
       "       [ 129.29674285],\n",
       "       [  91.68724853],\n",
       "       [ 114.73792766],\n",
       "       [ 136.86084001],\n",
       "       [  78.6390663 ],\n",
       "       [  84.22262533],\n",
       "       [  86.10183652],\n",
       "       [  75.3221957 ],\n",
       "       [  72.36546151],\n",
       "       [  61.09434533],\n",
       "       [  59.9111032 ],\n",
       "       [ 318.0988732 ],\n",
       "       [ 323.73733509],\n",
       "       [ 321.70839204],\n",
       "       [ 315.98636959],\n",
       "       [ 317.70657605],\n",
       "       [ 314.73677872],\n",
       "       [ 309.18542912],\n",
       "       [ 290.85984979],\n",
       "       [ 308.34590468],\n",
       "       [ 291.07016341],\n",
       "       [ 304.26473483],\n",
       "       [ 290.1383592 ],\n",
       "       [ 263.71956078],\n",
       "       [ 271.14480596],\n",
       "       [ 284.37980539],\n",
       "       [ 283.61654476],\n",
       "       [ 284.58291068],\n",
       "       [ 298.48069473],\n",
       "       [ 291.83712708],\n",
       "       [ 265.56566413],\n",
       "       [ 204.81378516],\n",
       "       [ 246.8295899 ],\n",
       "       [ 168.5621468 ],\n",
       "       [ 241.74580707],\n",
       "       [ 192.18798915],\n",
       "       [ 270.9168479 ],\n",
       "       [ 260.26151884],\n",
       "       [ 229.55566009],\n",
       "       [ 267.4896288 ],\n",
       "       [ 136.5950365 ],\n",
       "       [ 205.37735761],\n",
       "       [ 123.20715662],\n",
       "       [ 168.31610086],\n",
       "       [ 245.66369029],\n",
       "       [ 168.03817954],\n",
       "       [ 215.08088396],\n",
       "       [ 211.30027515],\n",
       "       [ 239.94254843],\n",
       "       [ 256.61678163],\n",
       "       [ 221.19422337],\n",
       "       [ 176.2493377 ],\n",
       "       [ 157.14078762],\n",
       "       [ 114.62822121],\n",
       "       [ 105.50721475],\n",
       "       [  88.82504144],\n",
       "       [  72.72862865],\n",
       "       [  65.82060301],\n",
       "       [  60.82277766]])"
      ]
     },
     "execution_count": 23,
     "metadata": {},
     "output_type": "execute_result"
    }
   ],
   "source": [
    "dev"
   ]
  },
  {
   "cell_type": "code",
   "execution_count": 27,
   "metadata": {
    "collapsed": false
   },
   "outputs": [],
   "source": [
    "W = results.W\n",
    "y = results.y\n",
    "y_bar = results.y_bar\n",
    "off = results.offset.T\n",
    "#off = np.tile(off, results.n).T\n",
    "dev = np.sum(2.0*W*(y*np.log(y/(y_bar*off))-(y-y_bar*off)),axis=1)\n"
   ]
  },
  {
   "cell_type": "code",
   "execution_count": 28,
   "metadata": {
    "collapsed": false
   },
   "outputs": [
    {
     "data": {
      "text/plain": [
       "array([[  50.94690717],\n",
       "       [  42.57890767],\n",
       "       [  83.15005169],\n",
       "       [  37.54430812],\n",
       "       [  61.02893105],\n",
       "       [ 102.5744406 ],\n",
       "       [  53.37424174],\n",
       "       [  70.5096139 ],\n",
       "       [  45.48661326],\n",
       "       [  71.91318024],\n",
       "       [  62.55781096],\n",
       "       [  63.17846518],\n",
       "       [  66.34242779],\n",
       "       [  86.61759467],\n",
       "       [  92.20701906],\n",
       "       [  71.14175569],\n",
       "       [  76.96016263],\n",
       "       [  45.25039539],\n",
       "       [  43.06369959],\n",
       "       [  74.78828441],\n",
       "       [  69.63270524],\n",
       "       [  39.14031342],\n",
       "       [  42.01086486],\n",
       "       [  46.98943887],\n",
       "       [  41.57988749],\n",
       "       [  46.06724957],\n",
       "       [  38.94700839],\n",
       "       [  47.73836483],\n",
       "       [  46.29434271],\n",
       "       [  87.53421897],\n",
       "       [  93.95778009],\n",
       "       [ 107.99701754],\n",
       "       [  50.16682434],\n",
       "       [  44.38180847],\n",
       "       [  52.4386031 ],\n",
       "       [  53.07167132],\n",
       "       [  51.64081815],\n",
       "       [  50.6018793 ],\n",
       "       [  67.29900395],\n",
       "       [  60.76571918],\n",
       "       [ 140.0903085 ],\n",
       "       [ 105.05146583],\n",
       "       [  73.04023476],\n",
       "       [  57.84445173],\n",
       "       [  94.30895603],\n",
       "       [  82.08613516],\n",
       "       [  49.64653747],\n",
       "       [  70.27919137],\n",
       "       [  73.97717306],\n",
       "       [  65.17991148],\n",
       "       [  84.47561198],\n",
       "       [  53.79474513],\n",
       "       [  56.84252112],\n",
       "       [  48.91226399],\n",
       "       [  91.85886462],\n",
       "       [ 145.32768253],\n",
       "       [ 103.29742141],\n",
       "       [ 144.87752884],\n",
       "       [ 140.35563712],\n",
       "       [  88.0795766 ],\n",
       "       [ 145.3363141 ],\n",
       "       [ 129.86772747],\n",
       "       [ 105.30433947],\n",
       "       [ 148.04094862],\n",
       "       [ 126.22395129],\n",
       "       [  49.96178562],\n",
       "       [  49.10842505],\n",
       "       [  53.78024692],\n",
       "       [ 160.30266406],\n",
       "       [  83.78533472],\n",
       "       [  73.4445186 ],\n",
       "       [ 155.55499697],\n",
       "       [  49.68627763],\n",
       "       [  73.11556541],\n",
       "       [  46.86506797],\n",
       "       [  76.69034787],\n",
       "       [  82.50957851],\n",
       "       [  47.41926788],\n",
       "       [  61.25811135],\n",
       "       [  80.39184789],\n",
       "       [  90.14971274],\n",
       "       [  82.81745712],\n",
       "       [  80.03520866],\n",
       "       [  73.09709023],\n",
       "       [  70.78517246],\n",
       "       [  73.03351748],\n",
       "       [  71.1186751 ],\n",
       "       [  74.49563654],\n",
       "       [  74.37013841],\n",
       "       [  56.5202993 ],\n",
       "       [  63.34847936],\n",
       "       [  77.6376226 ],\n",
       "       [  67.84013893],\n",
       "       [  65.18770142],\n",
       "       [  66.0996169 ],\n",
       "       [  52.72778064],\n",
       "       [  64.72926317],\n",
       "       [  61.50166209],\n",
       "       [  64.45241797],\n",
       "       [  52.45916402],\n",
       "       [  59.04695047],\n",
       "       [  56.78830976],\n",
       "       [  43.86814064],\n",
       "       [  44.75818189],\n",
       "       [  54.97019597],\n",
       "       [  49.34219208],\n",
       "       [  47.08476524],\n",
       "       [  46.89583847],\n",
       "       [  49.09522575],\n",
       "       [  56.05544628],\n",
       "       [  84.00788126],\n",
       "       [ 117.25338145],\n",
       "       [  69.36446067],\n",
       "       [ 147.47215132],\n",
       "       [ 190.85527895],\n",
       "       [ 177.88581895],\n",
       "       [ 147.21477468],\n",
       "       [ 170.82975609],\n",
       "       [  81.71926789],\n",
       "       [ 119.14740558],\n",
       "       [ 106.36895795],\n",
       "       [ 141.09130836],\n",
       "       [ 128.04904033],\n",
       "       [ 171.18309076],\n",
       "       [ 125.32742633],\n",
       "       [ 121.63336023],\n",
       "       [ 134.42879863],\n",
       "       [ 147.74642873],\n",
       "       [ 123.93674028],\n",
       "       [ 175.85833827],\n",
       "       [ 130.74709123],\n",
       "       [ 160.14941249],\n",
       "       [ 194.66600972],\n",
       "       [ 146.09305837],\n",
       "       [ 133.79012081],\n",
       "       [ 135.97171938],\n",
       "       [  54.08644816],\n",
       "       [ 140.71402074],\n",
       "       [ 129.80523117],\n",
       "       [ 123.56709765],\n",
       "       [ 122.62902921],\n",
       "       [ 147.53234261],\n",
       "       [ 123.50283123],\n",
       "       [ 113.17502588],\n",
       "       [ 103.92180349],\n",
       "       [ 123.99475123],\n",
       "       [ 120.16315714],\n",
       "       [ 125.30756123],\n",
       "       [ 129.63787297],\n",
       "       [ 115.53819854],\n",
       "       [ 121.30635593],\n",
       "       [ 117.09287641],\n",
       "       [ 117.98544206],\n",
       "       [  95.8890025 ],\n",
       "       [ 105.8691985 ],\n",
       "       [ 102.81092523],\n",
       "       [ 115.20847986],\n",
       "       [ 121.42012421],\n",
       "       [ 111.95548056],\n",
       "       [ 237.28018231],\n",
       "       [ 233.6178442 ],\n",
       "       [ 244.67368295],\n",
       "       [ 233.07639011],\n",
       "       [ 209.80419072],\n",
       "       [ 211.53135001],\n",
       "       [ 206.60735355],\n",
       "       [ 215.08017623],\n",
       "       [ 263.61922747],\n",
       "       [ 267.41771731],\n",
       "       [ 277.17069261],\n",
       "       [ 245.84141625],\n",
       "       [ 242.55117002],\n",
       "       [ 221.30446198],\n",
       "       [ 226.14685289],\n",
       "       [ 209.90680893],\n",
       "       [ 185.78303111],\n",
       "       [ 201.72905159],\n",
       "       [ 177.45125564],\n",
       "       [ 183.44776178],\n",
       "       [ 174.00240105],\n",
       "       [ 181.97862771],\n",
       "       [ 199.47947188],\n",
       "       [  77.09570889],\n",
       "       [  95.38102323],\n",
       "       [ 175.79187196],\n",
       "       [ 182.85277683],\n",
       "       [  83.82891304],\n",
       "       [ 117.2396364 ],\n",
       "       [  89.45374514],\n",
       "       [ 189.92282622],\n",
       "       [ 148.2570298 ],\n",
       "       [ 135.47300759],\n",
       "       [ 118.08320043],\n",
       "       [  94.60056024],\n",
       "       [ 105.56528148],\n",
       "       [ 105.87926684],\n",
       "       [  98.18602045],\n",
       "       [ 141.02486597],\n",
       "       [ 151.03303473],\n",
       "       [  88.96015817],\n",
       "       [ 218.80012946],\n",
       "       [  94.91450166],\n",
       "       [ 111.90133844],\n",
       "       [ 129.29674285],\n",
       "       [  91.68724853],\n",
       "       [ 114.73792766],\n",
       "       [ 136.86084001],\n",
       "       [  78.6390663 ],\n",
       "       [  84.22262533],\n",
       "       [  86.10183652],\n",
       "       [  75.3221957 ],\n",
       "       [  72.36546151],\n",
       "       [  61.09434533],\n",
       "       [  59.9111032 ],\n",
       "       [ 318.0988732 ],\n",
       "       [ 323.73733509],\n",
       "       [ 321.70839204],\n",
       "       [ 315.98636959],\n",
       "       [ 317.70657605],\n",
       "       [ 314.73677872],\n",
       "       [ 309.18542912],\n",
       "       [ 290.85984979],\n",
       "       [ 308.34590468],\n",
       "       [ 291.07016341],\n",
       "       [ 304.26473483],\n",
       "       [ 290.1383592 ],\n",
       "       [ 263.71956078],\n",
       "       [ 271.14480596],\n",
       "       [ 284.37980539],\n",
       "       [ 283.61654476],\n",
       "       [ 284.58291068],\n",
       "       [ 298.48069473],\n",
       "       [ 291.83712708],\n",
       "       [ 265.56566413],\n",
       "       [ 204.81378516],\n",
       "       [ 246.8295899 ],\n",
       "       [ 168.5621468 ],\n",
       "       [ 241.74580707],\n",
       "       [ 192.18798915],\n",
       "       [ 270.9168479 ],\n",
       "       [ 260.26151884],\n",
       "       [ 229.55566009],\n",
       "       [ 267.4896288 ],\n",
       "       [ 136.5950365 ],\n",
       "       [ 205.37735761],\n",
       "       [ 123.20715662],\n",
       "       [ 168.31610086],\n",
       "       [ 245.66369029],\n",
       "       [ 168.03817954],\n",
       "       [ 215.08088396],\n",
       "       [ 211.30027515],\n",
       "       [ 239.94254843],\n",
       "       [ 256.61678163],\n",
       "       [ 221.19422337],\n",
       "       [ 176.2493377 ],\n",
       "       [ 157.14078762],\n",
       "       [ 114.62822121],\n",
       "       [ 105.50721475],\n",
       "       [  88.82504144],\n",
       "       [  72.72862865],\n",
       "       [  65.82060301],\n",
       "       [  60.82277766]])"
      ]
     },
     "execution_count": 28,
     "metadata": {},
     "output_type": "execute_result"
    }
   ],
   "source": [
    "dev.reshape((-1,1))"
   ]
  },
  {
   "cell_type": "code",
   "execution_count": 30,
   "metadata": {
    "collapsed": false
   },
   "outputs": [
    {
     "data": {
      "text/plain": [
       "(1, 262)"
      ]
     },
     "execution_count": 30,
     "metadata": {},
     "output_type": "execute_result"
    }
   ],
   "source": [
    "off.shape"
   ]
  },
  {
   "cell_type": "code",
   "execution_count": 10,
   "metadata": {
    "collapsed": false
   },
   "outputs": [],
   "source": [
    "import numpy as np\n",
    "a = np.array([1,2,3,4,5]).reshape((-1,1))"
   ]
  },
  {
   "cell_type": "code",
   "execution_count": 14,
   "metadata": {
    "collapsed": false
   },
   "outputs": [
    {
     "data": {
      "text/plain": [
       "array([[1, 2, 3, 4, 5],\n",
       "       [1, 2, 3, 4, 5],\n",
       "       [1, 2, 3, 4, 5],\n",
       "       [1, 2, 3, 4, 5],\n",
       "       [1, 2, 3, 4, 5]])"
      ]
     },
     "execution_count": 14,
     "metadata": {},
     "output_type": "execute_result"
    }
   ],
   "source": [
    "np.repeat(a, 5).reshape((5,5)).T"
   ]
  },
  {
   "cell_type": "code",
   "execution_count": 13,
   "metadata": {
    "collapsed": false
   },
   "outputs": [
    {
     "data": {
      "text/plain": [
       "array([[1, 2, 3, 4, 5],\n",
       "       [1, 2, 3, 4, 5],\n",
       "       [1, 2, 3, 4, 5],\n",
       "       [1, 2, 3, 4, 5],\n",
       "       [1, 2, 3, 4, 5]])"
      ]
     },
     "execution_count": 13,
     "metadata": {},
     "output_type": "execute_result"
    }
   ],
   "source": [
    "np.tile(a,5).T"
   ]
  },
  {
   "cell_type": "code",
   "execution_count": 41,
   "metadata": {
    "collapsed": false
   },
   "outputs": [
    {
     "data": {
      "text/plain": [
       "array([[ 0.66940126],\n",
       "       [ 0.46403708],\n",
       "       [ 0.65013845],\n",
       "       [ 0.60508427],\n",
       "       [ 0.65902707],\n",
       "       [ 0.67508485],\n",
       "       [ 0.60692175],\n",
       "       [ 0.66331638],\n",
       "       [ 0.66323473],\n",
       "       [ 0.62246625],\n",
       "       [ 0.62994048],\n",
       "       [ 0.65792454],\n",
       "       [ 0.69106137],\n",
       "       [ 0.61944707],\n",
       "       [ 0.61696325],\n",
       "       [ 0.60708189],\n",
       "       [ 0.59875195],\n",
       "       [ 0.6337771 ],\n",
       "       [ 0.66215957],\n",
       "       [ 0.69554237],\n",
       "       [ 0.68387309],\n",
       "       [ 0.57578604],\n",
       "       [ 0.61385305],\n",
       "       [ 0.62211011],\n",
       "       [ 0.49106667],\n",
       "       [ 0.49355418],\n",
       "       [ 0.53219217],\n",
       "       [ 0.58197842],\n",
       "       [ 0.53913841],\n",
       "       [ 0.67372522],\n",
       "       [ 0.67220985],\n",
       "       [ 0.6361894 ],\n",
       "       [ 0.4024205 ],\n",
       "       [ 0.4319478 ],\n",
       "       [ 0.40143185],\n",
       "       [ 0.38584074],\n",
       "       [ 0.37762007],\n",
       "       [ 0.38751958],\n",
       "       [ 0.20663525],\n",
       "       [ 0.36875511],\n",
       "       [ 0.39420301],\n",
       "       [ 0.36082954],\n",
       "       [ 0.36558913],\n",
       "       [ 0.38412196],\n",
       "       [ 0.18068839],\n",
       "       [ 0.22551107],\n",
       "       [ 0.41715602],\n",
       "       [ 0.3340524 ],\n",
       "       [ 0.4682434 ],\n",
       "       [ 0.51397337],\n",
       "       [ 0.16927454],\n",
       "       [ 0.40379938],\n",
       "       [ 0.36748747],\n",
       "       [ 0.33039591],\n",
       "       [ 0.33842957],\n",
       "       [ 0.45655462],\n",
       "       [ 0.51428707],\n",
       "       [ 0.35610571],\n",
       "       [ 0.32505088],\n",
       "       [ 0.15341449],\n",
       "       [ 0.39031874],\n",
       "       [ 0.28445188],\n",
       "       [ 0.27759567],\n",
       "       [ 0.29546413],\n",
       "       [ 0.25857072],\n",
       "       [ 0.33426991],\n",
       "       [ 0.43832234],\n",
       "       [ 0.34778793],\n",
       "       [ 0.46938817],\n",
       "       [ 0.25098217],\n",
       "       [ 0.22804282],\n",
       "       [ 0.51853995],\n",
       "       [ 0.41471919],\n",
       "       [ 0.25532319],\n",
       "       [ 0.48975926],\n",
       "       [ 0.21429383],\n",
       "       [ 0.18235785],\n",
       "       [ 0.38377139],\n",
       "       [ 0.37018385],\n",
       "       [ 0.2134714 ],\n",
       "       [ 0.224211  ],\n",
       "       [ 0.24044981],\n",
       "       [ 0.27940235],\n",
       "       [ 0.26843038],\n",
       "       [ 0.34866116],\n",
       "       [ 0.34202408],\n",
       "       [ 0.33967584],\n",
       "       [ 0.31173676],\n",
       "       [ 0.32970992],\n",
       "       [ 0.28555767],\n",
       "       [ 0.34480997],\n",
       "       [ 0.29677638],\n",
       "       [ 0.33271789],\n",
       "       [ 0.36314373],\n",
       "       [ 0.35905475],\n",
       "       [ 0.37340217],\n",
       "       [ 0.35561265],\n",
       "       [ 0.3533886 ],\n",
       "       [ 0.34510148],\n",
       "       [ 0.39707979],\n",
       "       [ 0.37805899],\n",
       "       [ 0.38279036],\n",
       "       [ 0.44629154],\n",
       "       [ 0.44086023],\n",
       "       [ 0.48587717],\n",
       "       [ 0.43497233],\n",
       "       [ 0.39062728],\n",
       "       [ 0.45926961],\n",
       "       [ 0.44470465],\n",
       "       [ 0.51878193],\n",
       "       [ 0.56728343],\n",
       "       [ 0.57246183],\n",
       "       [ 0.562138  ],\n",
       "       [ 0.56604136],\n",
       "       [ 0.44845119],\n",
       "       [ 0.53842372],\n",
       "       [ 0.43497122],\n",
       "       [ 0.53766655],\n",
       "       [ 0.61956288],\n",
       "       [ 0.56495678],\n",
       "       [ 0.59240495],\n",
       "       [ 0.58956236],\n",
       "       [ 0.57626108],\n",
       "       [ 0.51753534],\n",
       "       [ 0.64240713],\n",
       "       [ 0.53537187],\n",
       "       [ 0.59812903],\n",
       "       [ 0.58590416],\n",
       "       [ 0.65108625],\n",
       "       [ 0.56373523],\n",
       "       [ 0.45193202],\n",
       "       [ 0.36824626],\n",
       "       [ 0.33931598],\n",
       "       [ 0.57963061],\n",
       "       [ 0.46164781],\n",
       "       [ 0.58101518],\n",
       "       [ 0.56001389],\n",
       "       [ 0.6307211 ],\n",
       "       [ 0.59118816],\n",
       "       [ 0.58583556],\n",
       "       [ 0.60097718],\n",
       "       [ 0.61242773],\n",
       "       [ 0.61964981],\n",
       "       [ 0.61228747],\n",
       "       [ 0.61514329],\n",
       "       [ 0.57116408],\n",
       "       [ 0.57587183],\n",
       "       [ 0.58169453],\n",
       "       [ 0.58180128],\n",
       "       [ 0.57828063],\n",
       "       [ 0.58090109],\n",
       "       [ 0.58077775],\n",
       "       [ 0.58423815],\n",
       "       [ 0.55292048],\n",
       "       [ 0.55301538],\n",
       "       [ 0.55719565],\n",
       "       [ 0.56895294],\n",
       "       [ 0.55532503],\n",
       "       [ 0.55016805],\n",
       "       [ 0.3093087 ],\n",
       "       [ 0.30340094],\n",
       "       [ 0.28714847],\n",
       "       [ 0.309978  ],\n",
       "       [ 0.31757537],\n",
       "       [ 0.32871413],\n",
       "       [ 0.33954088],\n",
       "       [ 0.30577846],\n",
       "       [ 0.26896407],\n",
       "       [ 0.27504945],\n",
       "       [ 0.25782472],\n",
       "       [ 0.26332889],\n",
       "       [ 0.29249394],\n",
       "       [ 0.30606156],\n",
       "       [ 0.293782  ],\n",
       "       [ 0.31973344],\n",
       "       [ 0.33902888],\n",
       "       [ 0.34301071],\n",
       "       [ 0.32414668],\n",
       "       [ 0.29804038],\n",
       "       [ 0.37923997],\n",
       "       [ 0.40421713],\n",
       "       [ 0.36104334],\n",
       "       [ 0.20299108],\n",
       "       [ 0.16084023],\n",
       "       [ 0.25853836],\n",
       "       [ 0.24952875],\n",
       "       [ 0.2142991 ],\n",
       "       [ 0.1780146 ],\n",
       "       [ 0.16621705],\n",
       "       [ 0.23134592],\n",
       "       [ 0.18093167],\n",
       "       [ 0.21098774],\n",
       "       [ 0.19531384],\n",
       "       [ 0.16479686],\n",
       "       [ 0.18710838],\n",
       "       [ 0.17139542],\n",
       "       [ 0.1577507 ],\n",
       "       [ 0.23669849],\n",
       "       [ 0.25418394],\n",
       "       [ 0.17512286],\n",
       "       [ 0.23234038],\n",
       "       [ 0.15756654],\n",
       "       [ 0.22681179],\n",
       "       [ 0.22925807],\n",
       "       [ 0.15719863],\n",
       "       [ 0.16658168],\n",
       "       [ 0.17322432],\n",
       "       [ 0.17557496],\n",
       "       [ 0.1665559 ],\n",
       "       [ 0.14946868],\n",
       "       [ 0.20953542],\n",
       "       [ 0.22924359],\n",
       "       [ 0.26362115],\n",
       "       [ 0.28456111],\n",
       "       [ 0.23658397],\n",
       "       [ 0.2178085 ],\n",
       "       [ 0.21885819],\n",
       "       [ 0.23096372],\n",
       "       [ 0.22615356],\n",
       "       [ 0.21698876],\n",
       "       [ 0.23729703],\n",
       "       [ 0.24809212],\n",
       "       [ 0.21878581],\n",
       "       [ 0.23897139],\n",
       "       [ 0.23629718],\n",
       "       [ 0.21728489],\n",
       "       [ 0.19523151],\n",
       "       [ 0.22978316],\n",
       "       [ 0.24467904],\n",
       "       [ 0.24303639],\n",
       "       [ 0.25527191],\n",
       "       [ 0.23887614],\n",
       "       [ 0.23811699],\n",
       "       [ 0.22579299],\n",
       "       [ 0.20452741],\n",
       "       [ 0.20242569],\n",
       "       [ 0.17067685],\n",
       "       [ 0.26735246],\n",
       "       [ 0.29168964],\n",
       "       [ 0.25549203],\n",
       "       [ 0.26364645],\n",
       "       [ 0.27503794],\n",
       "       [ 0.25820357],\n",
       "       [ 0.21060961],\n",
       "       [ 0.27542847],\n",
       "       [ 0.30496583],\n",
       "       [ 0.27398523],\n",
       "       [ 0.23490899],\n",
       "       [ 0.29132148],\n",
       "       [ 0.2644613 ],\n",
       "       [ 0.24612873],\n",
       "       [ 0.2536568 ],\n",
       "       [ 0.26304176],\n",
       "       [ 0.27674942],\n",
       "       [ 0.29782614],\n",
       "       [ 0.30329234],\n",
       "       [ 0.24994978],\n",
       "       [ 0.28481479],\n",
       "       [ 0.22443137],\n",
       "       [ 0.28119362],\n",
       "       [ 0.25179731],\n",
       "       [ 0.2698818 ]])"
      ]
     },
     "execution_count": 41,
     "metadata": {},
     "output_type": "execute_result"
    }
   ],
   "source": [
    "results.localR2"
   ]
  },
  {
   "cell_type": "code",
   "execution_count": 42,
   "metadata": {
    "collapsed": false
   },
   "outputs": [
    {
     "data": {
      "text/plain": [
       "array([[ 0.7622257 ],\n",
       "       [ 0.62726133],\n",
       "       [ 0.77419007],\n",
       "       [ 0.71605921],\n",
       "       [ 0.76272344],\n",
       "       [ 0.77958809],\n",
       "       [ 0.72425869],\n",
       "       [ 0.7764643 ],\n",
       "       [ 0.75561805],\n",
       "       [ 0.76097283],\n",
       "       [ 0.75953811],\n",
       "       [ 0.77018387],\n",
       "       [ 0.7860378 ],\n",
       "       [ 0.76306605],\n",
       "       [ 0.76259748],\n",
       "       [ 0.75475836],\n",
       "       [ 0.75386888],\n",
       "       [ 0.74529201],\n",
       "       [ 0.74950488],\n",
       "       [ 0.79104197],\n",
       "       [ 0.78212027],\n",
       "       [ 0.70326867],\n",
       "       [ 0.72582176],\n",
       "       [ 0.7345218 ],\n",
       "       [ 0.64767963],\n",
       "       [ 0.65192509],\n",
       "       [ 0.67518191],\n",
       "       [ 0.71140936],\n",
       "       [ 0.68319375],\n",
       "       [ 0.77176012],\n",
       "       [ 0.78203163],\n",
       "       [ 0.76655557],\n",
       "       [ 0.57700787],\n",
       "       [ 0.5941938 ],\n",
       "       [ 0.57843592],\n",
       "       [ 0.56492852],\n",
       "       [ 0.5593949 ],\n",
       "       [ 0.56543827],\n",
       "       [ 0.34548077],\n",
       "       [ 0.55825802],\n",
       "       [ 0.42685125],\n",
       "       [ 0.40917966],\n",
       "       [ 0.45998372],\n",
       "       [ 0.56967809],\n",
       "       [ 0.23127793],\n",
       "       [ 0.44983068],\n",
       "       [ 0.59639948],\n",
       "       [ 0.53678567],\n",
       "       [ 0.56895971],\n",
       "       [ 0.6270125 ],\n",
       "       [ 0.28710368],\n",
       "       [ 0.58341695],\n",
       "       [ 0.56294232],\n",
       "       [ 0.48853669],\n",
       "       [ 0.39754931],\n",
       "       [ 0.5030488 ],\n",
       "       [ 0.5862047 ],\n",
       "       [ 0.38320782],\n",
       "       [ 0.34734619],\n",
       "       [ 0.27776209],\n",
       "       [ 0.42047667],\n",
       "       [ 0.31006061],\n",
       "       [ 0.31289294],\n",
       "       [ 0.31563389],\n",
       "       [ 0.28580185],\n",
       "       [ 0.52235633],\n",
       "       [ 0.60913999],\n",
       "       [ 0.54298214],\n",
       "       [ 0.52038127],\n",
       "       [ 0.298698  ],\n",
       "       [ 0.3025127 ],\n",
       "       [ 0.58330884],\n",
       "       [ 0.56853535],\n",
       "       [ 0.46360812],\n",
       "       [ 0.64638527],\n",
       "       [ 0.41718395],\n",
       "       [ 0.38922933],\n",
       "       [ 0.54685727],\n",
       "       [ 0.56293381],\n",
       "       [ 0.27817141],\n",
       "       [ 0.26910288],\n",
       "       [ 0.46568167],\n",
       "       [ 0.50646336],\n",
       "       [ 0.49815553],\n",
       "       [ 0.54896897],\n",
       "       [ 0.54581384],\n",
       "       [ 0.54811882],\n",
       "       [ 0.53392787],\n",
       "       [ 0.53874961],\n",
       "       [ 0.48075741],\n",
       "       [ 0.54551334],\n",
       "       [ 0.51094453],\n",
       "       [ 0.5503482 ],\n",
       "       [ 0.55798479],\n",
       "       [ 0.55444483],\n",
       "       [ 0.55574991],\n",
       "       [ 0.5532803 ],\n",
       "       [ 0.55266465],\n",
       "       [ 0.55280157],\n",
       "       [ 0.58400909],\n",
       "       [ 0.56549919],\n",
       "       [ 0.57333598],\n",
       "       [ 0.61098643],\n",
       "       [ 0.61264766],\n",
       "       [ 0.62813055],\n",
       "       [ 0.59504728],\n",
       "       [ 0.57920737],\n",
       "       [ 0.62794806],\n",
       "       [ 0.61669011],\n",
       "       [ 0.65572673],\n",
       "       [ 0.6570745 ],\n",
       "       [ 0.65155704],\n",
       "       [ 0.67697274],\n",
       "       [ 0.72473306],\n",
       "       [ 0.52211638],\n",
       "       [ 0.64749704],\n",
       "       [ 0.57420813],\n",
       "       [ 0.61675414],\n",
       "       [ 0.71714588],\n",
       "       [ 0.74954239],\n",
       "       [ 0.7557384 ],\n",
       "       [ 0.74543969],\n",
       "       [ 0.75643459],\n",
       "       [ 0.63246041],\n",
       "       [ 0.7354405 ],\n",
       "       [ 0.70794028],\n",
       "       [ 0.68237136],\n",
       "       [ 0.71767193],\n",
       "       [ 0.76236446],\n",
       "       [ 0.66633451],\n",
       "       [ 0.60718756],\n",
       "       [ 0.4867727 ],\n",
       "       [ 0.38619397],\n",
       "       [ 0.73406035],\n",
       "       [ 0.60827335],\n",
       "       [ 0.75253087],\n",
       "       [ 0.68940701],\n",
       "       [ 0.73864084],\n",
       "       [ 0.75357744],\n",
       "       [ 0.75565509],\n",
       "       [ 0.75098949],\n",
       "       [ 0.72809402],\n",
       "       [ 0.75223224],\n",
       "       [ 0.75742332],\n",
       "       [ 0.76120189],\n",
       "       [ 0.75435753],\n",
       "       [ 0.75921072],\n",
       "       [ 0.76013202],\n",
       "       [ 0.75703475],\n",
       "       [ 0.76002531],\n",
       "       [ 0.75923127],\n",
       "       [ 0.75929463],\n",
       "       [ 0.75741154],\n",
       "       [ 0.74986874],\n",
       "       [ 0.74222047],\n",
       "       [ 0.75139782],\n",
       "       [ 0.75596257],\n",
       "       [ 0.73461101],\n",
       "       [ 0.73499113],\n",
       "       [ 0.325957  ],\n",
       "       [ 0.31939715],\n",
       "       [ 0.30172611],\n",
       "       [ 0.32761834],\n",
       "       [ 0.33331104],\n",
       "       [ 0.34767563],\n",
       "       [ 0.36274207],\n",
       "       [ 0.32420853],\n",
       "       [ 0.28271569],\n",
       "       [ 0.29337847],\n",
       "       [ 0.27273803],\n",
       "       [ 0.28790507],\n",
       "       [ 0.31119546],\n",
       "       [ 0.32667224],\n",
       "       [ 0.31805696],\n",
       "       [ 0.33619915],\n",
       "       [ 0.35616951],\n",
       "       [ 0.36348842],\n",
       "       [ 0.34118569],\n",
       "       [ 0.31946847],\n",
       "       [ 0.40511876],\n",
       "       [ 0.44220948],\n",
       "       [ 0.40184046],\n",
       "       [ 0.33684987],\n",
       "       [ 0.2264131 ],\n",
       "       [ 0.28726562],\n",
       "       [ 0.27991721],\n",
       "       [ 0.40147153],\n",
       "       [ 0.21494692],\n",
       "       [ 0.2592335 ],\n",
       "       [ 0.26299815],\n",
       "       [ 0.24723631],\n",
       "       [ 0.24390191],\n",
       "       [ 0.23107501],\n",
       "       [ 0.23962657],\n",
       "       [ 0.22457667],\n",
       "       [ 0.21125672],\n",
       "       [ 0.20504304],\n",
       "       [ 0.26633883],\n",
       "       [ 0.28219842],\n",
       "       [ 0.29031559],\n",
       "       [ 0.26158283],\n",
       "       [ 0.20932089],\n",
       "       [ 0.257279  ],\n",
       "       [ 0.25953815],\n",
       "       [ 0.23862918],\n",
       "       [ 0.22150706],\n",
       "       [ 0.20745004],\n",
       "       [ 0.31741113],\n",
       "       [ 0.30375588],\n",
       "       [ 0.2644513 ],\n",
       "       [ 0.38725387],\n",
       "       [ 0.40680908],\n",
       "       [ 0.45448288],\n",
       "       [ 0.50236159],\n",
       "       [ 0.26052711],\n",
       "       [ 0.24974088],\n",
       "       [ 0.25539415],\n",
       "       [ 0.26843807],\n",
       "       [ 0.27034351],\n",
       "       [ 0.25907957],\n",
       "       [ 0.28594474],\n",
       "       [ 0.30144871],\n",
       "       [ 0.24600655],\n",
       "       [ 0.29773538],\n",
       "       [ 0.28908212],\n",
       "       [ 0.26684066],\n",
       "       [ 0.23138022],\n",
       "       [ 0.29084559],\n",
       "       [ 0.30374188],\n",
       "       [ 0.30644331],\n",
       "       [ 0.27519203],\n",
       "       [ 0.25820433],\n",
       "       [ 0.25830301],\n",
       "       [ 0.24966155],\n",
       "       [ 0.23492851],\n",
       "       [ 0.22941462],\n",
       "       [ 0.20449614],\n",
       "       [ 0.32702919],\n",
       "       [ 0.3827121 ],\n",
       "       [ 0.31970768],\n",
       "       [ 0.33659397],\n",
       "       [ 0.3546473 ],\n",
       "       [ 0.31891259],\n",
       "       [ 0.30427879],\n",
       "       [ 0.34162245],\n",
       "       [ 0.41387123],\n",
       "       [ 0.37225663],\n",
       "       [ 0.30375178],\n",
       "       [ 0.38973153],\n",
       "       [ 0.34823307],\n",
       "       [ 0.3270798 ],\n",
       "       [ 0.32979346],\n",
       "       [ 0.32462059],\n",
       "       [ 0.36019882],\n",
       "       [ 0.39058222],\n",
       "       [ 0.399367  ],\n",
       "       [ 0.36387397],\n",
       "       [ 0.40363328],\n",
       "       [ 0.34748297],\n",
       "       [ 0.41682773],\n",
       "       [ 0.40064911],\n",
       "       [ 0.4243712 ]])"
      ]
     },
     "execution_count": 42,
     "metadata": {},
     "output_type": "execute_result"
    }
   ],
   "source": [
    "results.pDev"
   ]
  },
  {
   "cell_type": "code",
   "execution_count": null,
   "metadata": {
    "collapsed": true
   },
   "outputs": [],
   "source": []
  }
 ],
 "metadata": {
  "anaconda-cloud": {},
  "kernelspec": {
   "display_name": "Python [gwr_offset]",
   "language": "python",
   "name": "Python [gwr_offset]"
  },
  "language_info": {
   "codemirror_mode": {
    "name": "ipython",
    "version": 2
   },
   "file_extension": ".py",
   "mimetype": "text/x-python",
   "name": "python",
   "nbconvert_exporter": "python",
   "pygments_lexer": "ipython2",
   "version": "2.7.12"
  }
 },
 "nbformat": 4,
 "nbformat_minor": 0
}
