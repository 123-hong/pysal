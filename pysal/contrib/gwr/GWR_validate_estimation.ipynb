{
 "cells": [
  {
   "cell_type": "code",
   "execution_count": 1,
   "metadata": {
    "collapsed": false
   },
   "outputs": [],
   "source": [
    "import numpy as np\n",
    "import pysal\n",
    "import os\n",
    "os.chdir('/Users/toshan/projects/GIS596//pysal/pysal/contrib/gwr')\n",
    "from glm import GLM\n",
    "from gwr import GWR\n",
    "from sel_bw import Sel_BW\n",
    "import pandas as pd"
   ]
  },
  {
   "cell_type": "code",
   "execution_count": 2,
   "metadata": {
    "collapsed": false
   },
   "outputs": [],
   "source": [
    "#Gaussian data (columbus dataset)\n",
    "db = pysal.open(pysal.examples.get_path('columbus.dbf'),'r')\n",
    "y = np.array(db.by_col(\"HOVAL\"))\n",
    "y = np.reshape(y, (49,1))\n",
    "X = []\n",
    "X.append(db.by_col(\"INC\"))\n",
    "X.append(db.by_col(\"CRIME\"))\n",
    "X = np.array(X).T\n",
    "x_coord = db.by_col('X')\n",
    "y_coord = db.by_col('Y')\n",
    "coords = np.array(zip(x_coord, y_coord))"
   ]
  },
  {
   "cell_type": "code",
   "execution_count": 3,
   "metadata": {
    "collapsed": false
   },
   "outputs": [],
   "source": [
    "Gaussian_adapt_bisqaure = GWR(coords, y, X, 20, family = 'Gaussian', fixed=False, kernel='bisquare')"
   ]
  },
  {
   "cell_type": "code",
   "execution_count": 4,
   "metadata": {
    "collapsed": false
   },
   "outputs": [
    {
     "data": {
      "text/plain": [
       "array([[  6.70386652e+01,   2.75763599e-01,  -9.09212068e-01],\n",
       "       [  6.75892378e+01,   1.61907101e-01,  -8.19406368e-01],\n",
       "       [  6.19776461e+01,   3.33979852e-01,  -8.29717883e-01],\n",
       "       [  6.65355970e+01,   1.15469575e-01,  -7.80006842e-01],\n",
       "       [  3.81988860e+01,   5.89924460e-01,  -3.63327589e-01],\n",
       "       [  4.59407383e+01,   9.67522535e-01,  -5.66577554e-01],\n",
       "       [  6.78198156e+01,   1.07851591e-01,  -7.29758672e-01],\n",
       "       [  6.53564479e+01,   3.29592532e-02,  -7.12934558e-01],\n",
       "       [  1.63600608e+01,   2.31536338e+00,  -2.31012849e-01],\n",
       "       [  4.02776655e+01,   1.17407303e+00,  -2.60557378e-01],\n",
       "       [  4.26964600e+01,   2.35416973e+00,  -7.01030687e-01],\n",
       "       [  4.58245390e+01,   2.64050102e+00,  -7.96008102e-01],\n",
       "       [  5.37055359e+01,   1.98545849e+00,  -8.06499329e-01],\n",
       "       [  4.68285832e+01,   2.88255991e+00,  -8.41349088e-01],\n",
       "       [  2.34836787e+00,   3.45803674e+00,  -1.86271095e-01],\n",
       "       [  2.53002722e+01,   3.55705278e+00,  -5.87925342e-01],\n",
       "       [  4.08268450e+01,   1.03568870e+00,  -2.32359151e-01],\n",
       "       [  3.82428325e+01,   3.07057467e+00,  -7.27652240e-01],\n",
       "       [  4.31061607e+01,   3.06070137e+00,  -8.07043984e-01],\n",
       "       [  3.44227310e+01,   1.30105264e+00,  -3.44562773e-01],\n",
       "       [  6.63036635e+00,   2.29717177e+00,  -2.65408552e-02],\n",
       "       [ -4.95415912e+00,   2.90806675e+00,   7.43132013e-02],\n",
       "       [  4.32491259e+01,   8.59718916e-01,  -3.31046052e-01],\n",
       "       [  3.22135329e+01,   2.62939507e+00,  -5.58667514e-01],\n",
       "       [  1.81357953e+01,   3.00919739e+00,  -4.00733986e-01],\n",
       "       [  3.68705037e+00,   2.67037414e+00,  -9.10549193e-02],\n",
       "       [ -1.27433482e+01,   2.95973381e+00,   1.96370103e-01],\n",
       "       [  1.37191881e+01,   1.27515036e+00,  -1.99776899e-02],\n",
       "       [  2.08619868e+01,   1.62135699e+00,  -2.11548967e-01],\n",
       "       [  3.06508580e+01,   1.76990161e+00,  -4.01331932e-01],\n",
       "       [  3.56714488e+01,   5.85314811e-01,  -2.38250606e-01],\n",
       "       [  3.07013662e+01,   1.19480374e+00,  -2.65991653e-01],\n",
       "       [ -1.86653966e+01,   3.02400940e+00,   2.84420343e-01],\n",
       "       [  1.75915960e+01,   1.26651374e+00,  -3.35461150e-02],\n",
       "       [ -8.84850538e+00,   2.50825515e+00,   1.64272313e-01],\n",
       "       [  3.27532084e+01,   7.87658342e-01,  -2.52799800e-01],\n",
       "       [  1.44777225e+01,   1.63976841e+00,  -1.05438729e-01],\n",
       "       [  1.08498587e+01,   1.32783998e+00,   2.07874190e-02],\n",
       "       [  4.09702217e+01,   5.48073133e-01,  -3.92625000e-01],\n",
       "       [  9.17777355e+00,   1.89309072e+00,  -9.48592397e-02],\n",
       "       [  2.00866571e+01,   1.49990266e+00,  -1.74603966e-01],\n",
       "       [  2.74745238e+01,   1.01779069e+00,  -2.25251598e-01],\n",
       "       [  8.73403400e+00,   1.42179208e+00,   3.87773337e-02],\n",
       "       [ -4.23994173e+00,   2.19764795e+00,   1.20289456e-01],\n",
       "       [  7.44668123e+00,   1.53088773e+00,   3.51918180e-02],\n",
       "       [  3.66472152e+01,   7.34386388e-01,  -3.59298296e-01],\n",
       "       [  7.05211512e+00,   1.91153286e+00,  -6.18946097e-02],\n",
       "       [  5.79465374e+00,   1.56323246e+00,   6.04987434e-02],\n",
       "       [ -1.61006979e+00,   1.95903626e+00,   1.13954555e-01]])"
      ]
     },
     "execution_count": 4,
     "metadata": {},
     "output_type": "execute_result"
    }
   ],
   "source": [
    "results = Gaussian_adapt_bisqaure.fit()\n",
    "results.betas"
   ]
  },
  {
   "cell_type": "code",
   "execution_count": 5,
   "metadata": {
    "collapsed": false
   },
   "outputs": [],
   "source": [
    "Gaussian_adapt_bisqaure = GWR(coords, y, X, 20, family = 'Gaussian', fixed=False, kernel='bisquare')\n",
    "Gaussian_fixed_bisqaure = GWR(coords, y, X, 20, family = 'Gaussian', fixed=True, kernel='bisquare')\n",
    "\n",
    "Gaussian_adapt_gaussian = GWR(coords, y, X, 20, family = 'Gaussian', fixed=False, kernel='gaussian')\n",
    "Gaussian_fixed_gaussian = GWR(coords, y, X, 20, family = 'Gaussian', fixed=True, kernel='gaussian')\n",
    "\n",
    "Gaussian_adapt_exponential = GWR(coords, y, X, 20, family = 'Gaussian', fixed=False, kernel='exponential')\n",
    "Gaussian_fixed_exponential = GWR(coords, y, X, 20, family = 'Gaussian', fixed=True, kernel='exponential')"
   ]
  },
  {
   "cell_type": "code",
   "execution_count": 6,
   "metadata": {
    "collapsed": false
   },
   "outputs": [],
   "source": [
    "Gaussian_adapt_bisqaure_betas = Gaussian_adapt_bisqaure.fit().betas\n",
    "Gaussian_fixed_bisqaure_betas = Gaussian_fixed_bisqaure.fit().betas\n",
    "\n",
    "Gaussian_adapt_gaussian_betas = Gaussian_adapt_gaussian.fit().betas\n",
    "Gaussian_fixed_gaussian_betas = Gaussian_fixed_gaussian.fit().betas\n",
    "\n",
    "Gaussian_adapt_exponential_betas = Gaussian_adapt_exponential.fit().betas\n",
    "Gaussian_fixed_exponential_betas = Gaussian_fixed_exponential.fit().betas"
   ]
  },
  {
   "cell_type": "code",
   "execution_count": 7,
   "metadata": {
    "collapsed": false
   },
   "outputs": [
    {
     "name": "stdout",
     "output_type": "stream",
     "text": [
      "[-18.66539664   0.03295925  -0.90921207]\n",
      "[ 67.81981559   3.55705278   0.28442034]\n"
     ]
    }
   ],
   "source": [
    "print Gaussian_adapt_bisqaure_betas.min(axis=0) # R - [-18.67000, 0.03296, -0.90920]\n",
    "print Gaussian_adapt_bisqaure_betas.max(axis=0) # R - [67.8200, 3.5570, 0.2844]"
   ]
  },
  {
   "cell_type": "code",
   "execution_count": 8,
   "metadata": {
    "collapsed": false
   },
   "outputs": [
    {
     "name": "stdout",
     "output_type": "stream",
     "text": [
      "[ 17.04432385   0.11620188  -0.70556914]\n",
      "[ 58.64394425   1.6233218   -0.12592344]\n"
     ]
    }
   ],
   "source": [
    "print Gaussian_fixed_bisqaure_betas.min(axis=0) # R - [17.0400, 0.1162, -0.7056]\n",
    "print Gaussian_fixed_bisqaure_betas.max(axis=0) # R - [58.6400, 1.6230, -0.1259]"
   ]
  },
  {
   "cell_type": "code",
   "execution_count": 9,
   "metadata": {
    "collapsed": false
   },
   "outputs": [
    {
     "name": "stdout",
     "output_type": "stream",
     "text": [
      "[ 23.02000323   0.39128173  -0.623395  ]\n",
      "[ 55.29020353   1.51138408  -0.2097182 ]\n"
     ]
    }
   ],
   "source": [
    "print Gaussian_adapt_gaussian_betas.min(axis=0) # R - [23.0200, 0.3913, -0.6234]\n",
    "print Gaussian_adapt_gaussian_betas.max(axis=0) # R - [55.2900, 1.5110, -0.2097]"
   ]
  },
  {
   "cell_type": "code",
   "execution_count": 10,
   "metadata": {
    "collapsed": false
   },
   "outputs": [
    {
     "name": "stdout",
     "output_type": "stream",
     "text": [
      "[ 41.345534     0.56565342  -0.52668753]\n",
      "[ 49.26969564   0.81660591  -0.42548594]\n"
     ]
    }
   ],
   "source": [
    "print Gaussian_fixed_gaussian_betas.min(axis=0) # R - [41.3500, 0.5657, -0.5267]\n",
    "print Gaussian_fixed_gaussian_betas.max(axis=0) # R - [49.2700, 0.8166, -0.4255]"
   ]
  },
  {
   "cell_type": "code",
   "execution_count": 11,
   "metadata": {
    "collapsed": false
   },
   "outputs": [
    {
     "name": "stdout",
     "output_type": "stream",
     "text": [
      "[ 26.92346229   0.19476172  -0.6378932 ]\n",
      "[ 59.43019197   1.37456823  -0.24984853]\n"
     ]
    }
   ],
   "source": [
    "print Gaussian_adapt_exponential_betas.min(axis=0) # - R [26.9200, 0.1948, -0.6379]\n",
    "print Gaussian_adapt_exponential_betas.max(axis=0) # - R [59.4300, 1.3750, -0.2498]"
   ]
  },
  {
   "cell_type": "code",
   "execution_count": 12,
   "metadata": {
    "collapsed": false
   },
   "outputs": [
    {
     "name": "stdout",
     "output_type": "stream",
     "text": [
      "[ 38.57033004   0.41290491  -0.56602362]\n",
      "[ 52.87708079   0.87818724  -0.39075504]\n"
     ]
    }
   ],
   "source": [
    "print Gaussian_fixed_exponential_betas.min(axis=0) # R - [38.5700, 0.4129, -0.5660]\n",
    "print Gaussian_fixed_exponential_betas.max(axis=0) # R - [52.8800, 0.8782, -0.3908]"
   ]
  },
  {
   "cell_type": "code",
   "execution_count": null,
   "metadata": {
    "collapsed": false
   },
   "outputs": [],
   "source": []
  },
  {
   "cell_type": "code",
   "execution_count": 13,
   "metadata": {
    "collapsed": false
   },
   "outputs": [],
   "source": [
    "y = np.round(y)"
   ]
  },
  {
   "cell_type": "code",
   "execution_count": 21,
   "metadata": {
    "collapsed": false
   },
   "outputs": [],
   "source": [
    "Poisson_adapt_bisqaure = GWR(coords, y, X, 45, family = 'Poisson', fixed=False, kernel='bisquare')\n",
    "Poisson_fixed_bisqaure = GWR(coords, y, X, 21.59945, family = 'Poisson', fixed=True, kernel='bisquare')\n",
    "\n",
    "Poisson_adapt_gaussian = GWR(coords, y, X, 25, family = 'Poisson', fixed=False, kernel='gaussian')\n",
    "Poisson_fixed_gaussian = GWR(coords, y, X, 9.650319, family = 'Poisson', fixed=True, kernel='gaussian')\n",
    "\n",
    "Poisson_adapt_exponential = GWR(coords, y, X, 25, family = 'Poisson', fixed=False, kernel='exponential')\n",
    "Poisson_fixed_exponential = GWR(coords, y, X, 5.13043, family = 'Poisson', fixed=True, kernel='exponential')\n",
    "\n"
   ]
  },
  {
   "cell_type": "code",
   "execution_count": 22,
   "metadata": {
    "collapsed": false
   },
   "outputs": [],
   "source": [
    "Poisson_adapt_bisqaure_betas = Poisson_adapt_bisqaure.fit().betas\n",
    "Poisson_fixed_bisqaure_betas = Poisson_fixed_bisqaure.fit().betas\n",
    "\n",
    "Poisson_adapt_gaussian_betas = Poisson_adapt_gaussian.fit().betas\n",
    "Poisson_fixed_gaussian_betas = Poisson_fixed_gaussian.fit().betas\n",
    "\n",
    "Poisson_adapt_exponential_betas = Poisson_adapt_exponential.fit().betas\n",
    "Poisson_fixed_exponential_betas = Poisson_fixed_exponential.fit().betas\n"
   ]
  },
  {
   "cell_type": "code",
   "execution_count": 23,
   "metadata": {
    "collapsed": false
   },
   "outputs": [
    {
     "name": "stdout",
     "output_type": "stream",
     "text": [
      "[ 2.82938626  0.00449929 -0.01745889]\n",
      "[  4.12681268e+00   4.67421257e-02  -4.70631158e-04]\n"
     ]
    }
   ],
   "source": [
    "print Poisson_adapt_bisqaure_betas.min(axis=0) # R - [2.866000, 0.004344, -0.017490]\n",
    "print Poisson_adapt_bisqaure_betas.max(axis=0) # R - [4.1280, 0.0456, -0.0009]"
   ]
  },
  {
   "cell_type": "code",
   "execution_count": 24,
   "metadata": {
    "collapsed": false
   },
   "outputs": [
    {
     "name": "stdout",
     "output_type": "stream",
     "text": [
      "[  3.28772908e+00   3.06862567e-03  -1.70188218e-02]\n",
      "[ 4.11026967  0.03240893 -0.00553341]\n"
     ]
    }
   ],
   "source": [
    "print Poisson_fixed_bisqaure_betas.min(axis=0) # R - [3.292000, 0.002915, -0.017100]\n",
    "print Poisson_fixed_bisqaure_betas.max(axis=0) # R - [4.1150, 0.0323, -0.0055]"
   ]
  },
  {
   "cell_type": "code",
   "execution_count": 25,
   "metadata": {
    "collapsed": false
   },
   "outputs": [
    {
     "name": "stdout",
     "output_type": "stream",
     "text": [
      "[ 3.51957244  0.00912422 -0.01555608]\n",
      "[ 4.03607667  0.02559906 -0.00893505]\n"
     ]
    }
   ],
   "source": [
    "print Poisson_adapt_gaussian_betas.min(axis=0) # R - [3.549000, 0.009156, -0.015570]\n",
    "print Poisson_adapt_gaussian_betas.max(axis=0) # R - [4.0380, 0.0248, -0.0093]"
   ]
  },
  {
   "cell_type": "code",
   "execution_count": 26,
   "metadata": {
    "collapsed": false
   },
   "outputs": [
    {
     "name": "stdout",
     "output_type": "stream",
     "text": [
      "[ 3.48963233  0.00702306 -0.01659919]\n",
      "[ 4.09648988  0.02588597 -0.00822654]\n"
     ]
    }
   ],
   "source": [
    "print Poisson_fixed_gaussian_betas.min(axis=0) # R - [3.51400, 0.00699, -0.01665 ]\n",
    "print Poisson_fixed_gaussian_betas.max(axis=0) # R - [4.0990, 0.0251, -0.0085]"
   ]
  },
  {
   "cell_type": "code",
   "execution_count": 174,
   "metadata": {
    "collapsed": false
   },
   "outputs": [
    {
     "name": "stdout",
     "output_type": "stream",
     "text": [
      "[ 3.53577505  0.00588311 -0.01605733]\n",
      "[ 4.10825814  0.02458137 -0.00937449]\n"
     ]
    }
   ],
   "source": [
    "print Poisson_adapt_exponential_betas.min(axis=0) # R - [3.577000, 0.005922, -0.016070]\n",
    "print Poisson_adapt_exponential_betas.max(axis=0) # R - [4.1090, 0.0232, -0.0099]"
   ]
  },
  {
   "cell_type": "code",
   "execution_count": 175,
   "metadata": {
    "collapsed": false
   },
   "outputs": [
    {
     "name": "stdout",
     "output_type": "stream",
     "text": [
      "[  3.11787614e+00   2.83238961e-03  -1.96323204e-02]\n",
      "[ 4.24950552  0.03704991 -0.00426979]\n"
     ]
    }
   ],
   "source": [
    "print Poisson_fixed_exponential_betas.min(axis=0) # R - [3.206000, 0.003129, -0.019580]\n",
    "print Poisson_fixed_exponential_betas.max(axis=0) # R - [4.2790, 0.0341, -0.0054]"
   ]
  },
  {
   "cell_type": "code",
   "execution_count": 30,
   "metadata": {
    "collapsed": false
   },
   "outputs": [],
   "source": [
    "#logistic data\n",
    "londonhp = pd.read_csv('/Users/toshan/projects/londonhp.csv')\n",
    "coords = zip(londonhp['coords.x1'], londonhp['coords.x2'])\n",
    "y = londonhp['BATH2'].values\n",
    "y = np.reshape(y, (316,1))\n",
    "X = londonhp['FLOORSZ'].values\n",
    "X = np.reshape(X, (316,1))"
   ]
  },
  {
   "cell_type": "code",
   "execution_count": 32,
   "metadata": {
    "collapsed": false
   },
   "outputs": [],
   "source": [
    "logistic_adapt_bisqaure = GWR(coords, y, X, 158, family = 'logistic', fixed=False, kernel='bisquare')\n",
    "logistic_fixed_bisqaure = GWR(coords, y, X, 45292.61, family = 'logistic', fixed=True, kernel='bisquare')\n",
    "\n",
    "logistic_adapt_gaussian = GWR(coords, y, X, 275, family = 'logistic', fixed=False, kernel='gaussian')\n",
    "logistic_fixed_gaussian = GWR(coords, y, X, 45172.44, family = 'logistic', fixed=True, kernel='gaussian')\n",
    "\n",
    "logistic_adapt_exponential = GWR(coords, y, X, 273, family = 'logistic', fixed=False, kernel='exponential')\n",
    "logistic_fixed_exponential = GWR(coords, y, X, 45172.44, family = 'logistic', fixed=True, kernel='exponential')\n"
   ]
  },
  {
   "cell_type": "code",
   "execution_count": 33,
   "metadata": {
    "collapsed": true
   },
   "outputs": [],
   "source": [
    "logistic_adapt_bisqaure_betas = logistic_adapt_bisqaure.fit().betas\n",
    "logistic_fixed_bisqaure_betas = logistic_fixed_bisqaure.fit().betas\n",
    "\n",
    "logistic_adapt_gaussian_betas = logistic_adapt_gaussian.fit().betas\n",
    "logistic_fixed_gaussian_betas = logistic_fixed_gaussian.fit().betas\n",
    "\n",
    "logistic_adapt_exponential_betas = logistic_adapt_exponential.fit().betas\n",
    "logistic_fixed_exponential_betas = logistic_fixed_exponential.fit().betas"
   ]
  },
  {
   "cell_type": "code",
   "execution_count": 41,
   "metadata": {
    "collapsed": false
   },
   "outputs": [
    {
     "name": "stdout",
     "output_type": "stream",
     "text": [
      "[-12.41878011   0.0128016 ]\n",
      "[-3.23982143  0.08240862]\n"
     ]
    }
   ],
   "source": [
    "print logistic_adapt_bisqaure_betas.min(axis=0) # R - [-9.08200, 0.01249]\n",
    "print logistic_adapt_bisqaure_betas.max(axis=0) # R - [-3.1330, 0.0589]"
   ]
  },
  {
   "cell_type": "code",
   "execution_count": 42,
   "metadata": {
    "collapsed": false
   },
   "outputs": [
    {
     "name": "stdout",
     "output_type": "stream",
     "text": [
      "[-6.19693558  0.02378626]\n",
      "[-4.65522095  0.03561591]\n"
     ]
    }
   ],
   "source": [
    "print logistic_fixed_bisqaure_betas.min(axis=0) # R - [-6.08400, 0.02345]\n",
    "print logistic_fixed_bisqaure_betas.max(axis=0) # R - [-4.5960, 0.0348]"
   ]
  },
  {
   "cell_type": "code",
   "execution_count": 43,
   "metadata": {
    "collapsed": false
   },
   "outputs": [
    {
     "name": "stdout",
     "output_type": "stream",
     "text": [
      "[-5.60821994  0.0264057 ]\n",
      "[-5.0388266   0.03093707]\n"
     ]
    }
   ],
   "source": [
    "print logistic_adapt_gaussian_betas.min(axis=0) # R - [-5.58800, 0.02630]\n",
    "print logistic_adapt_gaussian_betas.max(axis=0) # R - [-5.0230, 0.0308]"
   ]
  },
  {
   "cell_type": "code",
   "execution_count": 44,
   "metadata": {
    "collapsed": false
   },
   "outputs": [
    {
     "name": "stdout",
     "output_type": "stream",
     "text": [
      "[-5.47883357  0.02751334]\n",
      "[-5.15534536  0.02990821]\n"
     ]
    }
   ],
   "source": [
    "print logistic_fixed_gaussian_betas.min(axis=0) # R - [-5.47400, 0.02761]\n",
    "print logistic_fixed_gaussian_betas.max(axis=0) # R - [-5.1820, 0.0299]"
   ]
  },
  {
   "cell_type": "code",
   "execution_count": 45,
   "metadata": {
    "collapsed": false
   },
   "outputs": [
    {
     "name": "stdout",
     "output_type": "stream",
     "text": [
      "[-5.80518578  0.02433976]\n",
      "[-4.73220017  0.03265618]\n"
     ]
    }
   ],
   "source": [
    "print logistic_adapt_exponential_betas.min(axis=0) # R - [-5.74600, 0.02393]\n",
    "print logistic_adapt_exponential_betas.max(axis=0) # R - [-4.6690, 0.0322]"
   ]
  },
  {
   "cell_type": "code",
   "execution_count": 46,
   "metadata": {
    "collapsed": false
   },
   "outputs": [
    {
     "name": "stdout",
     "output_type": "stream",
     "text": [
      "[-5.64633884  0.02610508]\n",
      "[-5.00030119  0.03143528]\n"
     ]
    }
   ],
   "source": [
    "print logistic_fixed_exponential_betas.min(axis=0) # R - [-5.62000, 0.02601]\n",
    "print logistic_fixed_exponential_betas.max(axis=0) # R - [-4.9810, 0.0312]"
   ]
  },
  {
   "cell_type": "code",
   "execution_count": null,
   "metadata": {
    "collapsed": true
   },
   "outputs": [],
   "source": []
  }
 ],
 "metadata": {
  "kernelspec": {
   "display_name": "Python 2",
   "language": "python",
   "name": "python2"
  },
  "language_info": {
   "codemirror_mode": {
    "name": "ipython",
    "version": 2
   },
   "file_extension": ".py",
   "mimetype": "text/x-python",
   "name": "python",
   "nbconvert_exporter": "python",
   "pygments_lexer": "ipython2",
   "version": "2.7.9"
  }
 },
 "nbformat": 4,
 "nbformat_minor": 0
}
