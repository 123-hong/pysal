{
 "cells": [
  {
   "cell_type": "code",
   "execution_count": 1,
   "metadata": {
    "collapsed": false
   },
   "outputs": [],
   "source": [
    "import numpy as np\n",
    "import pysal\n",
    "import os\n",
    "os.chdir('/Users/toshan/dev/pysal/pysal/contrib/glm')\n",
    "\n",
    "from family import Gaussian, Binomial, Poisson\n",
    "os.chdir('/Users/toshan/dev/pysal/pysal/contrib/gwr')\n",
    "from gwr import GWR\n",
    "from sel_bw import Sel_BW\n",
    "import pandas as pd"
   ]
  },
  {
   "cell_type": "code",
   "execution_count": 2,
   "metadata": {
    "collapsed": false
   },
   "outputs": [],
   "source": [
    "#Gaussian data (columbus dataset)\n",
    "\n",
    "db = pysal.open(pysal.examples.get_path('columbus.dbf'),'r')\n",
    "y = np.array(db.by_col(\"HOVAL\"))\n",
    "y = np.reshape(y, (49,1))\n",
    "X = []\n",
    "X.append(db.by_col(\"INC\"))\n",
    "X.append(db.by_col(\"CRIME\"))\n",
    "X = np.array(X).T\n",
    "x_coord = db.by_col('X')\n",
    "y_coord = db.by_col('Y')\n",
    "coords = np.array(zip(x_coord, y_coord))"
   ]
  },
  {
   "cell_type": "code",
   "execution_count": 3,
   "metadata": {
    "collapsed": false
   },
   "outputs": [],
   "source": [
    "#Instantiate Gaussian GWR model with fixed bisquare kernel\n",
    "\n",
    "Gaussian_adapt_bisqaure = GWR(coords, y, X, 20, family=Gaussian(), fixed=False, kernel='bisquare')"
   ]
  },
  {
   "cell_type": "code",
   "execution_count": 102,
   "metadata": {
    "collapsed": false
   },
   "outputs": [
    {
     "data": {
      "text/plain": [
       "array([[  6.70386652e+01,   2.75763599e-01,  -9.09212068e-01],\n",
       "       [  6.75892378e+01,   1.61907101e-01,  -8.19406368e-01],\n",
       "       [  6.19776461e+01,   3.33979852e-01,  -8.29717883e-01],\n",
       "       [  6.65355970e+01,   1.15469575e-01,  -7.80006842e-01],\n",
       "       [  3.81988860e+01,   5.89924460e-01,  -3.63327589e-01],\n",
       "       [  4.59407383e+01,   9.67522535e-01,  -5.66577554e-01],\n",
       "       [  6.78198156e+01,   1.07851591e-01,  -7.29758672e-01],\n",
       "       [  6.53564479e+01,   3.29592532e-02,  -7.12934558e-01],\n",
       "       [  1.63600608e+01,   2.31536338e+00,  -2.31012849e-01],\n",
       "       [  4.02776655e+01,   1.17407303e+00,  -2.60557378e-01],\n",
       "       [  4.26964600e+01,   2.35416973e+00,  -7.01030687e-01],\n",
       "       [  4.58245390e+01,   2.64050102e+00,  -7.96008102e-01],\n",
       "       [  5.37055359e+01,   1.98545849e+00,  -8.06499329e-01],\n",
       "       [  4.68285832e+01,   2.88255991e+00,  -8.41349088e-01],\n",
       "       [  2.34836787e+00,   3.45803674e+00,  -1.86271095e-01],\n",
       "       [  2.53002722e+01,   3.55705278e+00,  -5.87925342e-01],\n",
       "       [  4.08268450e+01,   1.03568870e+00,  -2.32359151e-01],\n",
       "       [  3.82428325e+01,   3.07057467e+00,  -7.27652240e-01],\n",
       "       [  4.31061607e+01,   3.06070137e+00,  -8.07043984e-01],\n",
       "       [  3.44227310e+01,   1.30105264e+00,  -3.44562773e-01],\n",
       "       [  6.63036635e+00,   2.29717177e+00,  -2.65408552e-02],\n",
       "       [ -4.95415912e+00,   2.90806675e+00,   7.43132013e-02],\n",
       "       [  4.32491259e+01,   8.59718916e-01,  -3.31046052e-01],\n",
       "       [  3.22135329e+01,   2.62939507e+00,  -5.58667514e-01],\n",
       "       [  1.81357953e+01,   3.00919739e+00,  -4.00733986e-01],\n",
       "       [  3.68705037e+00,   2.67037414e+00,  -9.10549193e-02],\n",
       "       [ -1.27433482e+01,   2.95973381e+00,   1.96370103e-01],\n",
       "       [  1.37191881e+01,   1.27515036e+00,  -1.99776899e-02],\n",
       "       [  2.08619868e+01,   1.62135699e+00,  -2.11548967e-01],\n",
       "       [  3.06508580e+01,   1.76990161e+00,  -4.01331932e-01],\n",
       "       [  3.56714488e+01,   5.85314811e-01,  -2.38250606e-01],\n",
       "       [  3.07013662e+01,   1.19480374e+00,  -2.65991653e-01],\n",
       "       [ -1.86653966e+01,   3.02400940e+00,   2.84420343e-01],\n",
       "       [  1.75915960e+01,   1.26651374e+00,  -3.35461150e-02],\n",
       "       [ -8.84850538e+00,   2.50825515e+00,   1.64272313e-01],\n",
       "       [  3.27532084e+01,   7.87658342e-01,  -2.52799800e-01],\n",
       "       [  1.44777225e+01,   1.63976841e+00,  -1.05438729e-01],\n",
       "       [  1.08498587e+01,   1.32783998e+00,   2.07874190e-02],\n",
       "       [  4.09702217e+01,   5.48073133e-01,  -3.92625000e-01],\n",
       "       [  9.17777355e+00,   1.89309072e+00,  -9.48592397e-02],\n",
       "       [  2.00866571e+01,   1.49990266e+00,  -1.74603966e-01],\n",
       "       [  2.74745238e+01,   1.01779069e+00,  -2.25251598e-01],\n",
       "       [  8.73403400e+00,   1.42179208e+00,   3.87773337e-02],\n",
       "       [ -4.23994173e+00,   2.19764795e+00,   1.20289456e-01],\n",
       "       [  7.44668123e+00,   1.53088773e+00,   3.51918180e-02],\n",
       "       [  3.66472152e+01,   7.34386388e-01,  -3.59298296e-01],\n",
       "       [  7.05211512e+00,   1.91153286e+00,  -6.18946097e-02],\n",
       "       [  5.79465374e+00,   1.56323246e+00,   6.04987434e-02],\n",
       "       [ -1.61006979e+00,   1.95903626e+00,   1.13954555e-01]])"
      ]
     },
     "execution_count": 102,
     "metadata": {},
     "output_type": "execute_result"
    }
   ],
   "source": [
    "#Fit model, and check out local coefficents \n",
    "\n",
    "results = Gaussian_adapt_bisqaure.fit()\n",
    "results.params"
   ]
  },
  {
   "cell_type": "code",
   "execution_count": 103,
   "metadata": {
    "collapsed": false
   },
   "outputs": [],
   "source": [
    "#Instantiate Gaussian GWR models for both fixed and dadaptive bandwidths using bisqaure, gaussian or exponential kernels\n",
    "\n",
    "Gaussian_adapt_bisqaure = GWR(coords, y, X, 20, family=Gaussian(), fixed=False, kernel='bisquare')\n",
    "Gaussian_fixed_bisqaure = GWR(coords, y, X, 20, family=Gaussian(), fixed=True, kernel='bisquare')\n",
    "\n",
    "Gaussian_adapt_gaussian = GWR(coords, y, X, 20, family=Gaussian(), fixed=False, kernel='gaussian')\n",
    "Gaussian_fixed_gaussian = GWR(coords, y, X, 20, family=Gaussian(), fixed=True, kernel='gaussian')\n",
    "\n",
    "Gaussian_adapt_exponential = GWR(coords, y, X, 20, family=Gaussian(), fixed=False, kernel='exponential')\n",
    "Gaussian_fixed_exponential = GWR(coords, y, X, 20, family=Gaussian(), fixed=True, kernel='exponential')"
   ]
  },
  {
   "cell_type": "code",
   "execution_count": 106,
   "metadata": {
    "collapsed": false
   },
   "outputs": [],
   "source": [
    "#Fit coefficients for each model; extract coefficients\n",
    "\n",
    "Gaussian_adapt_bisqaure_betas = Gaussian_adapt_bisqaure.fit().params\n",
    "Gaussian_fixed_bisqaure_betas = Gaussian_fixed_bisqaure.fit().params\n",
    "\n",
    "Gaussian_adapt_gaussian_betas = Gaussian_adapt_gaussian.fit().params\n",
    "Gaussian_fixed_gaussian_betas = Gaussian_fixed_gaussian.fit().params\n",
    "\n",
    "Gaussian_adapt_exponential_betas = Gaussian_adapt_exponential.fit().params\n",
    "Gaussian_fixed_exponential_betas = Gaussian_fixed_exponential.fit().params"
   ]
  },
  {
   "cell_type": "code",
   "execution_count": 107,
   "metadata": {
    "collapsed": false
   },
   "outputs": [
    {
     "name": "stdout",
     "output_type": "stream",
     "text": [
      "[-18.66539664   0.03295925  -0.90921207]\n",
      "[ 67.81981559   3.55705278   0.28442034]\n"
     ]
    }
   ],
   "source": [
    "#Check min and max coefficient values  with those from GWModel in R\n",
    "#Gaussian; adaptive bisquare\n",
    "\n",
    "print Gaussian_adapt_bisqaure_betas.min(axis=0) # R - [-18.67000, 0.03296, -0.90920]\n",
    "print Gaussian_adapt_bisqaure_betas.max(axis=0) # R - [67.8200, 3.5570, 0.2844]"
   ]
  },
  {
   "cell_type": "code",
   "execution_count": 108,
   "metadata": {
    "collapsed": false
   },
   "outputs": [
    {
     "name": "stdout",
     "output_type": "stream",
     "text": [
      "[ 17.04432385   0.11620188  -0.70556914]\n",
      "[ 58.64394425   1.6233218   -0.12592344]\n"
     ]
    }
   ],
   "source": [
    "#Check min and max coefficient values  with those from GWModel in R\n",
    "#Gaussian; fixed bisquare\n",
    "\n",
    "print Gaussian_fixed_bisqaure_betas.min(axis=0) # R - [17.0400, 0.1162, -0.7056]\n",
    "print Gaussian_fixed_bisqaure_betas.max(axis=0) # R - [58.6400, 1.6230, -0.1259]"
   ]
  },
  {
   "cell_type": "code",
   "execution_count": 109,
   "metadata": {
    "collapsed": false
   },
   "outputs": [
    {
     "name": "stdout",
     "output_type": "stream",
     "text": [
      "[ 23.02000323   0.39128173  -0.623395  ]\n",
      "[ 55.29020353   1.51138408  -0.2097182 ]\n"
     ]
    }
   ],
   "source": [
    "#Check min and max coefficient values  with those from GWModel in R\n",
    "#Gaussian; adaptive Gaussian\n",
    "\n",
    "print Gaussian_adapt_gaussian_betas.min(axis=0) # R - [23.0200, 0.3913, -0.6234]\n",
    "print Gaussian_adapt_gaussian_betas.max(axis=0) # R - [55.2900, 1.5110, -0.2097]"
   ]
  },
  {
   "cell_type": "code",
   "execution_count": 110,
   "metadata": {
    "collapsed": false
   },
   "outputs": [
    {
     "name": "stdout",
     "output_type": "stream",
     "text": [
      "[ 41.345534     0.56565342  -0.52668753]\n",
      "[ 49.26969564   0.81660591  -0.42548594]\n"
     ]
    }
   ],
   "source": [
    "#Check min and max coefficient values  with those from GWModel in R\n",
    "#Gaussian; fixed Gaussian\n",
    "\n",
    "print Gaussian_fixed_gaussian_betas.min(axis=0) # R - [41.3500, 0.5657, -0.5267]\n",
    "print Gaussian_fixed_gaussian_betas.max(axis=0) # R - [49.2700, 0.8166, -0.4255]"
   ]
  },
  {
   "cell_type": "code",
   "execution_count": 111,
   "metadata": {
    "collapsed": false
   },
   "outputs": [
    {
     "name": "stdout",
     "output_type": "stream",
     "text": [
      "[ 26.92346229   0.19476172  -0.6378932 ]\n",
      "[ 59.43019197   1.37456823  -0.24984853]\n"
     ]
    }
   ],
   "source": [
    "#Check min and max coefficient values  with those from GWModel in R\n",
    "#Gaussian; adaptive exponential\n",
    "\n",
    "print Gaussian_adapt_exponential_betas.min(axis=0) # - R [26.9200, 0.1948, -0.6379]\n",
    "print Gaussian_adapt_exponential_betas.max(axis=0) # - R [59.4300, 1.3750, -0.2498]"
   ]
  },
  {
   "cell_type": "code",
   "execution_count": 112,
   "metadata": {
    "collapsed": false
   },
   "outputs": [
    {
     "name": "stdout",
     "output_type": "stream",
     "text": [
      "[ 38.57033004   0.41290491  -0.56602362]\n",
      "[ 52.87708079   0.87818724  -0.39075504]\n"
     ]
    }
   ],
   "source": [
    "#Check min and max coefficient values  with those from GWModel in R\n",
    "#Gaussian; fixed exponential\n",
    "\n",
    "print Gaussian_fixed_exponential_betas.min(axis=0) # R - [38.5700, 0.4129, -0.5660]\n",
    "print Gaussian_fixed_exponential_betas.max(axis=0) # R - [52.8800, 0.8782, -0.3908]"
   ]
  },
  {
   "cell_type": "code",
   "execution_count": 113,
   "metadata": {
    "collapsed": false
   },
   "outputs": [],
   "source": [
    "#convert Y into integer data for Poisson models\n",
    "\n",
    "y = np.round(y)"
   ]
  },
  {
   "cell_type": "code",
   "execution_count": 114,
   "metadata": {
    "collapsed": false
   },
   "outputs": [],
   "source": [
    "#Instantiate Poisson GWR models for both fixed and dadaptive bandwidths using bisqaure, gaussian or exponential kernels\n",
    "\n",
    "Poisson_adapt_bisqaure = GWR(coords, y, X, 45, family = Poisson(), fixed=False, kernel='bisquare')\n",
    "Poisson_fixed_bisqaure = GWR(coords, y, X, 21.59945, family = Poisson(), fixed=True, kernel='bisquare')\n",
    "\n",
    "Poisson_adapt_gaussian = GWR(coords, y, X, 25, family = Poisson(), fixed=False, kernel='gaussian')\n",
    "Poisson_fixed_gaussian = GWR(coords, y, X, 9.650319, family = Poisson(), fixed=True, kernel='gaussian')\n",
    "\n",
    "Poisson_adapt_exponential = GWR(coords, y, X, 25, family = Poisson(), fixed=False, kernel='exponential')\n",
    "Poisson_fixed_exponential = GWR(coords, y, X, 5.13043, family = Poisson(), fixed=True, kernel='exponential')\n",
    "\n"
   ]
  },
  {
   "cell_type": "code",
   "execution_count": 115,
   "metadata": {
    "collapsed": false
   },
   "outputs": [],
   "source": [
    "#Fit coefficients for each model; extract coefficients\n",
    "\n",
    "Poisson_adapt_bisqaure_betas = Poisson_adapt_bisqaure.fit().params\n",
    "Poisson_fixed_bisqaure_betas = Poisson_fixed_bisqaure.fit().params\n",
    "\n",
    "Poisson_adapt_gaussian_betas = Poisson_adapt_gaussian.fit().params\n",
    "Poisson_fixed_gaussian_betas = Poisson_fixed_gaussian.fit().params\n",
    "\n",
    "Poisson_adapt_exponential_betas = Poisson_adapt_exponential.fit().params\n",
    "Poisson_fixed_exponential_betas = Poisson_fixed_exponential.fit().params\n"
   ]
  },
  {
   "cell_type": "code",
   "execution_count": 116,
   "metadata": {
    "collapsed": false
   },
   "outputs": [
    {
     "name": "stdout",
     "output_type": "stream",
     "text": [
      "[ 2.82933952  0.00449942 -0.01745933]\n",
      "[  4.12679797e+00   4.67432738e-02  -4.70670075e-04]\n"
     ]
    }
   ],
   "source": [
    "#Check min and max coefficient values  with those from GWModel in R\n",
    "#Poisson; adaptive bisquare\n",
    "\n",
    "print Poisson_adapt_bisqaure_betas.min(axis=0) # R - [2.866000, 0.004344, -0.017490]\n",
    "print Poisson_adapt_bisqaure_betas.max(axis=0) # R - [4.1280, 0.0456, -0.0009]"
   ]
  },
  {
   "cell_type": "code",
   "execution_count": 117,
   "metadata": {
    "collapsed": false
   },
   "outputs": [
    {
     "name": "stdout",
     "output_type": "stream",
     "text": [
      "[  3.28769774e+00   3.06871720e-03  -1.70192553e-02]\n",
      "[ 4.11025492  0.03240957 -0.00553361]\n"
     ]
    }
   ],
   "source": [
    "#Check min and max coefficient values  with those from GWModel in R\n",
    "#Poisson; fixed bisquare\n",
    "\n",
    "print Poisson_fixed_bisqaure_betas.min(axis=0) # R - [3.292000, 0.002915, -0.017100]\n",
    "print Poisson_fixed_bisqaure_betas.max(axis=0) # R - [4.1150, 0.0323, -0.0055]"
   ]
  },
  {
   "cell_type": "code",
   "execution_count": 118,
   "metadata": {
    "collapsed": false
   },
   "outputs": [
    {
     "name": "stdout",
     "output_type": "stream",
     "text": [
      "[ 3.51954647  0.00912442 -0.0155565 ]\n",
      "[ 4.0360612   0.02559954 -0.00893534]\n"
     ]
    }
   ],
   "source": [
    "#Check min and max coefficient values  with those from GWModel in R\n",
    "#Poisson; adaptive Gaussian\n",
    "\n",
    "print Poisson_adapt_gaussian_betas.min(axis=0) # R - [3.549000, 0.009156, -0.015570]\n",
    "print Poisson_adapt_gaussian_betas.max(axis=0) # R - [4.0380, 0.0248, -0.0093]"
   ]
  },
  {
   "cell_type": "code",
   "execution_count": 119,
   "metadata": {
    "collapsed": false
   },
   "outputs": [
    {
     "name": "stdout",
     "output_type": "stream",
     "text": [
      "[ 3.48960593  0.00702321 -0.01659962]\n",
      "[ 4.09647504  0.02588646 -0.00822681]\n"
     ]
    }
   ],
   "source": [
    "#Check min and max coefficient values  with those from GWModel in R\n",
    "#Poisson; fixed Gaussian\n",
    "\n",
    "print Poisson_fixed_gaussian_betas.min(axis=0) # R - [3.51400, 0.00699, -0.01665 ]\n",
    "print Poisson_fixed_gaussian_betas.max(axis=0) # R - [4.0990, 0.0251, -0.0085]"
   ]
  },
  {
   "cell_type": "code",
   "execution_count": 120,
   "metadata": {
    "collapsed": false
   },
   "outputs": [
    {
     "name": "stdout",
     "output_type": "stream",
     "text": [
      "[ 3.53577516  0.00588311 -0.01605733]\n",
      "[ 4.10825814  0.02458137 -0.00937449]\n"
     ]
    }
   ],
   "source": [
    "#Check min and max coefficient values  with those from GWModel in R\n",
    "#Poisson; adaptive exponential\n",
    "\n",
    "print Poisson_adapt_exponential_betas.min(axis=0) # R - [3.577000, 0.005922, -0.016070]\n",
    "print Poisson_adapt_exponential_betas.max(axis=0) # R - [4.1090, 0.0232, -0.0099]"
   ]
  },
  {
   "cell_type": "code",
   "execution_count": 21,
   "metadata": {
    "collapsed": false
   },
   "outputs": [
    {
     "name": "stdout",
     "output_type": "stream",
     "text": [
      "[  3.11787614e+00   2.83238961e-03  -1.96323204e-02]\n",
      "[ 4.24950552  0.03704991 -0.00426979]\n"
     ]
    }
   ],
   "source": [
    "#Check min and max coefficient values  with those from GWModel in R\n",
    "#Poisson; fixed exponential\n",
    "\n",
    "print Poisson_fixed_exponential_betas.min(axis=0) # R - [3.206000, 0.003129, -0.019580]\n",
    "print Poisson_fixed_exponential_betas.max(axis=0) # R - [4.2790, 0.0341, -0.0054]"
   ]
  },
  {
   "cell_type": "code",
   "execution_count": 43,
   "metadata": {
    "collapsed": false
   },
   "outputs": [],
   "source": [
    "#Load binary data for binomial/logistic model\n",
    "\n",
    "londonhp = pd.read_csv('/Users/toshan/projects/londonhp.csv')\n",
    "#londonhp = pd.read_csv('/Users/qszhao/Dropbox/pysal/pysal/contrib/gwr/londonhp.csv')\n",
    "coords = zip(londonhp['coords.x1'], londonhp['coords.x2'])\n",
    "y = londonhp['BATH2'].values\n",
    "y = np.reshape(y, (316,1))\n",
    "X = londonhp['FLOORSZ'].values\n",
    "X = np.reshape(X, (316,1))"
   ]
  },
  {
   "cell_type": "code",
   "execution_count": 23,
   "metadata": {
    "collapsed": false
   },
   "outputs": [],
   "source": [
    "#Instantiate Poisson GWR models for both fixed and dadaptive bandwidths using bisqaure, gaussian or exponential kernels\n",
    "\n",
    "logistic_adapt_bisqaure = GWR(coords, y, X, 158, family = Binomial(), fixed=False, kernel='bisquare')\n",
    "logistic_fixed_bisqaure = GWR(coords, y, X, 45292.61, family = Binomial(), fixed=True, kernel='bisquare')\n",
    "\n",
    "logistic_adapt_gaussian = GWR(coords, y, X, 275, family = Binomial(), fixed=False, kernel='gaussian')\n",
    "logistic_fixed_gaussian = GWR(coords, y, X, 45172.44, family = Binomial(), fixed=True, kernel='gaussian')\n",
    "\n",
    "logistic_adapt_exponential = GWR(coords, y, X, 273, family = Binomial(), fixed=False, kernel='exponential')\n",
    "logistic_fixed_exponential = GWR(coords, y, X, 45172.44, family = Binomial(), fixed=True, kernel='exponential')\n"
   ]
  },
  {
   "cell_type": "code",
   "execution_count": 24,
   "metadata": {
    "collapsed": true
   },
   "outputs": [],
   "source": [
    "#Fit coefficients for each model; extract coefficients\n",
    "\n",
    "logistic_adapt_bisqaure_betas = logistic_adapt_bisqaure.fit().betas\n",
    "logistic_fixed_bisqaure_betas = logistic_fixed_bisqaure.fit().betas\n",
    "\n",
    "logistic_adapt_gaussian_betas = logistic_adapt_gaussian.fit().betas\n",
    "logistic_fixed_gaussian_betas = logistic_fixed_gaussian.fit().betas\n",
    "\n",
    "logistic_adapt_exponential_betas = logistic_adapt_exponential.fit().betas\n",
    "logistic_fixed_exponential_betas = logistic_fixed_exponential.fit().betas"
   ]
  },
  {
   "cell_type": "code",
   "execution_count": 25,
   "metadata": {
    "collapsed": false
   },
   "outputs": [
    {
     "name": "stdout",
     "output_type": "stream",
     "text": [
      "[-12.41852536   0.0128016 ]\n",
      "[-3.23982143  0.08240689]\n"
     ]
    }
   ],
   "source": [
    "#Check min and max coefficient values  with those from GWModel in R\n",
    "#Binomial; adapt bisquare\n",
    "\n",
    "print logistic_adapt_bisqaure_betas.min(axis=0) # R - [-9.08200, 0.01249]\n",
    "print logistic_adapt_bisqaure_betas.max(axis=0) # R - [-3.1330, 0.0589]"
   ]
  },
  {
   "cell_type": "code",
   "execution_count": 26,
   "metadata": {
    "collapsed": false
   },
   "outputs": [
    {
     "name": "stdout",
     "output_type": "stream",
     "text": [
      "[-6.19693579  0.02378626]\n",
      "[-4.65522095  0.03561591]\n"
     ]
    }
   ],
   "source": [
    "#Check min and max coefficient values  with those from GWModel in R\n",
    "#Binomial; fixed bisquare\n",
    "\n",
    "print logistic_fixed_bisqaure_betas.min(axis=0) # R - [-6.08400, 0.02345]\n",
    "print logistic_fixed_bisqaure_betas.max(axis=0) # R - [-4.5960, 0.0348]"
   ]
  },
  {
   "cell_type": "code",
   "execution_count": 27,
   "metadata": {
    "collapsed": false
   },
   "outputs": [
    {
     "name": "stdout",
     "output_type": "stream",
     "text": [
      "[-5.60821994  0.0264057 ]\n",
      "[-5.03882661  0.03093707]\n"
     ]
    }
   ],
   "source": [
    "#Check min and max coefficient values  with those from GWModel in R\n",
    "#Poisson; adaptive Gaussian\n",
    "\n",
    "print logistic_adapt_gaussian_betas.min(axis=0) # R - [-5.58800, 0.02630]\n",
    "print logistic_adapt_gaussian_betas.max(axis=0) # R - [-5.0230, 0.0308]"
   ]
  },
  {
   "cell_type": "code",
   "execution_count": 28,
   "metadata": {
    "collapsed": false
   },
   "outputs": [
    {
     "name": "stdout",
     "output_type": "stream",
     "text": [
      "[-5.47883357  0.02764312]\n",
      "[-5.18638926  0.02990821]\n"
     ]
    }
   ],
   "source": [
    "#Check min and max coefficient values  with those from GWModel in R\n",
    "#Binomial; fixed Gaussian\n",
    "\n",
    "print logistic_fixed_gaussian_betas.min(axis=0) # R - [-5.47400, 0.02761]\n",
    "print logistic_fixed_gaussian_betas.max(axis=0) # R - [-5.1820, 0.0299]"
   ]
  },
  {
   "cell_type": "code",
   "execution_count": 29,
   "metadata": {
    "collapsed": false
   },
   "outputs": [
    {
     "name": "stdout",
     "output_type": "stream",
     "text": [
      "[-5.80518578  0.02433976]\n",
      "[-4.73220017  0.03265618]\n"
     ]
    }
   ],
   "source": [
    "#Check min and max coefficient values  with those from GWModel in R\n",
    "#Binomial; adaptive exponential\n",
    "\n",
    "print logistic_adapt_exponential_betas.min(axis=0) # R - [-5.74600, 0.02393]\n",
    "print logistic_adapt_exponential_betas.max(axis=0) # R - [-4.6690, 0.0322]"
   ]
  },
  {
   "cell_type": "code",
   "execution_count": 30,
   "metadata": {
    "collapsed": false
   },
   "outputs": [
    {
     "name": "stdout",
     "output_type": "stream",
     "text": [
      "[-5.64633884  0.02610508]\n",
      "[-5.00030119  0.03143528]\n"
     ]
    }
   ],
   "source": [
    "#Check min and max coefficient values  with those from GWModel in R\n",
    "#Binomial; fixed exponential\n",
    "\n",
    "print logistic_fixed_exponential_betas.min(axis=0) # R - [-5.62000, 0.02601]\n",
    "print logistic_fixed_exponential_betas.max(axis=0) # R - [-4.9810, 0.0312]"
   ]
  },
  {
   "cell_type": "code",
   "execution_count": 48,
   "metadata": {
    "collapsed": false
   },
   "outputs": [],
   "source": [
    "bw = Sel_BW(coords, y, X, [], family=Binomial(), fixed=False, kernel='bisquare')"
   ]
  },
  {
   "cell_type": "code",
   "execution_count": 50,
   "metadata": {
    "collapsed": false
   },
   "outputs": [
    {
     "name": "stdout",
     "output_type": "stream",
     "text": [
      "28.944609303\n",
      "28.6662266164\n",
      "28.4694226436\n",
      "28.6662266164\n"
     ]
    },
    {
     "data": {
      "text/plain": [
       "158.0"
      ]
     },
     "execution_count": 50,
     "metadata": {},
     "output_type": "execute_result"
    }
   ],
   "source": [
    "bw.search(criterion='CV', bw_min = 156, bw_max=160)"
   ]
  },
  {
   "cell_type": "code",
   "execution_count": 2,
   "metadata": {
    "collapsed": false
   },
   "outputs": [],
   "source": [
    "tokyo = pd.read_csv('/Users/toshan/Dropbox/dev/GWR4/tokyo/tokyomortality.csv')\n",
    "y = tokyo.db2564.values.reshape((-1,1))\n",
    "X = np.hstack([tokyo.POP65.values.reshape((-1,1)), tokyo.UNEMP.values.reshape((-1,1)), tokyo.OCC_TEC.values.reshape((-1,1)), tokyo.OWNH.values.reshape((-1,1))])\n",
    "off = tokyo.eb2564.values.reshape((-1,1))\n",
    "coords = np.array(zip(tokyo.X_CENTROID, tokyo.Y_CENTROID))"
   ]
  },
  {
   "cell_type": "code",
   "execution_count": 3,
   "metadata": {
    "collapsed": true
   },
   "outputs": [],
   "source": [
    "bw = Sel_BW(coords, y, X, [], family=Poisson(), y_off=off, kernel='bisquare', fixed=False)"
   ]
  },
  {
   "cell_type": "code",
   "execution_count": 4,
   "metadata": {
    "collapsed": false
   },
   "outputs": [
    {
     "name": "stdout",
     "output_type": "stream",
     "text": [
      "bisquare\n",
      "True\n",
      "50 262\n",
      "0.0\n",
      "0.0\n",
      "0.0\n",
      "0.0\n"
     ]
    }
   ],
   "source": [
    "test = bw.search(criterion='AICc_GLM')"
   ]
  },
  {
   "cell_type": "code",
   "execution_count": 5,
   "metadata": {
    "collapsed": false
   },
   "outputs": [
    {
     "data": {
      "text/plain": [
       "(131.0, 12.329411764705883, [(131.0, 12.329411764705883)])"
      ]
     },
     "execution_count": 5,
     "metadata": {},
     "output_type": "execute_result"
    }
   ],
   "source": [
    "bw.bw"
   ]
  },
  {
   "cell_type": "code",
   "execution_count": 9,
   "metadata": {
    "collapsed": true
   },
   "outputs": [],
   "source": [
    "Gaussian_adapt_bisqaure\n",
    "results = Gaussian_adapt_bisqaure.fit()"
   ]
  },
  {
   "cell_type": "code",
   "execution_count": 6,
   "metadata": {
    "collapsed": false
   },
   "outputs": [
    {
     "data": {
      "text/plain": [
       "-200.37418882030795"
      ]
     },
     "execution_count": 6,
     "metadata": {},
     "output_type": "execute_result"
    }
   ],
   "source": [
    "results.logll"
   ]
  },
  {
   "cell_type": "code",
   "execution_count": 7,
   "metadata": {
    "collapsed": false
   },
   "outputs": [
    {
     "data": {
      "text/plain": [
       "array([ 2.67950687,  0.01102215, -0.03634082])"
      ]
     },
     "execution_count": 7,
     "metadata": {},
     "output_type": "execute_result"
    }
   ],
   "source": [
    "results.t_stat[0,:]"
   ]
  },
  {
   "cell_type": "code",
   "execution_count": 9,
   "metadata": {
    "collapsed": false
   },
   "outputs": [
    {
     "data": {
      "text/plain": [
       "array([ 40.38590407,   0.16612745,  -0.54773393])"
      ]
     },
     "execution_count": 9,
     "metadata": {},
     "output_type": "execute_result"
    }
   ],
   "source": [
    "results.tvalues[0,:]"
   ]
  },
  {
   "cell_type": "code",
   "execution_count": 7,
   "metadata": {
    "collapsed": false
   },
   "outputs": [
    {
     "data": {
      "text/plain": [
       "array([ 1.65995207])"
      ]
     },
     "execution_count": 7,
     "metadata": {},
     "output_type": "execute_result"
    }
   ],
   "source": [
    "results.bse"
   ]
  },
  {
   "cell_type": "code",
   "execution_count": 11,
   "metadata": {
    "collapsed": false
   },
   "outputs": [
    {
     "data": {
      "text/plain": [
       "382.32470023243638"
      ]
     },
     "execution_count": 11,
     "metadata": {},
     "output_type": "execute_result"
    }
   ],
   "source": [
    "results.aic"
   ]
  },
  {
   "cell_type": "code",
   "execution_count": 25,
   "metadata": {
    "collapsed": false
   },
   "outputs": [
    {
     "name": "stdout",
     "output_type": "stream",
     "text": [
      "-193.88830326\n",
      "-189.763289177\n"
     ]
    }
   ],
   "source": [
    "print results.llf\n",
    "print results.logll"
   ]
  },
  {
   "cell_type": "code",
   "execution_count": 10,
   "metadata": {
    "collapsed": false
   },
   "outputs": [
    {
     "data": {
      "text/plain": [
       "array([ 22.34064978, -11.05357146, -15.54504076,  -8.5898789 ,\n",
       "        -3.17955878, -17.93037269,   6.40022603,  -1.20998488,\n",
       "         2.57152564,  49.01645992,   3.0819557 ,  -7.31812136,\n",
       "         6.71184874,  15.36501248,  -9.43949273,  -1.38173279,\n",
       "        -0.65772588,  13.26104187,  -4.06376536,   6.49767353,\n",
       "       -10.06813136,  -1.15112351,  -7.06650036,   4.95017631,\n",
       "        -1.13195162,  -1.24652977,   4.44585929,   0.25035649,\n",
       "        10.41470731,  -5.11453264,  -9.57507632,  -7.94077088,\n",
       "         0.33667207,  -7.26920695,  -2.72765268,  -7.59669733,\n",
       "         5.3936923 ,  -4.01468821,  -3.99749412,  -2.16371067,\n",
       "        -7.99408542,  -5.75999657,  -3.47932813,  -2.65735155,\n",
       "        -2.37434457,  31.93527967,   0.94642035,   0.92687514,  -1.98068235])"
      ]
     },
     "execution_count": 10,
     "metadata": {},
     "output_type": "execute_result"
    }
   ],
   "source": [
    "results.u"
   ]
  },
  {
   "cell_type": "code",
   "execution_count": 21,
   "metadata": {
    "collapsed": false
   },
   "outputs": [
    {
     "name": "stdout",
     "output_type": "stream",
     "text": [
      "[  1.09691694e+09] [ 40842.85940702]\n",
      "[  1.09687610e+09]\n"
     ]
    }
   ],
   "source": [
    "r2 = (results.TSS - results.RSS)/results.TSS\n",
    "\n",
    "print results.TSS[0], results.RSS[0]\n",
    "print results.TSS[0] - results.RSS[0]"
   ]
  },
  {
   "cell_type": "code",
   "execution_count": 29,
   "metadata": {
    "collapsed": true
   },
   "outputs": [],
   "source": [
    "os.chdir('/Users/toshan/dev/pysal/pysal/contrib/gwr/examples/georgia')\n",
    "data = pysal.open('georgia/GData_utm.csv')\n",
    "coords = zip(data.by_col('X'), data.by_col('Y'))\n",
    "y = np.array(data.by_col('PctBach')).reshape((-1,1))\n",
    "rural  = np.array(data.by_col('PctRural')).reshape((-1,1))\n",
    "pov = np.array(data.by_col('PctPov')).reshape((-1,1)) \n",
    "black = np.array(data.by_col('PctBlack')).reshape((-1,1))\n",
    "X = np.hstack([rural, pov, black])\n"
   ]
  },
  {
   "cell_type": "code",
   "execution_count": 30,
   "metadata": {
    "collapsed": false
   },
   "outputs": [],
   "source": [
    "model = GWR(coords, y, X, 209267.689, family=Gaussian(), fixed=True, kernel='bisquare').fit()"
   ]
  },
  {
   "cell_type": "code",
   "execution_count": 31,
   "metadata": {
    "collapsed": false
   },
   "outputs": [
    {
     "data": {
      "text/plain": [
       "2012.5639251354789"
      ]
     },
     "execution_count": 31,
     "metadata": {},
     "output_type": "execute_result"
    }
   ],
   "source": [
    "model.utu"
   ]
  },
  {
   "cell_type": "code",
   "execution_count": 5,
   "metadata": {
    "collapsed": false
   },
   "outputs": [
    {
     "data": {
      "text/plain": [
       "array([[ 2.61392525,  0.02253418,  0.12315202,  0.0538287 ],\n",
       "       [ 2.85100388,  0.02393733,  0.13479555,  0.05738473],\n",
       "       [ 2.73823514,  0.02322302,  0.12682592,  0.05789803],\n",
       "       [ 2.59435705,  0.02330475,  0.13341192,  0.06062406],\n",
       "       [ 1.44097525,  0.01615044,  0.08697448,  0.03981027],\n",
       "       [ 1.62141227,  0.02095444,  0.13444197,  0.04322644],\n",
       "       [ 1.51840353,  0.01908222,  0.12323235,  0.03983134],\n",
       "       [ 1.90866092,  0.02238803,  0.14491758,  0.04894839],\n",
       "       [ 2.29304153,  0.01921761,  0.10286162,  0.04175925],\n",
       "       [ 2.74220389,  0.02279747,  0.13260245,  0.05283194],\n",
       "       [ 1.37549611,  0.01552426,  0.08432588,  0.03898453],\n",
       "       [ 1.66250237,  0.01702207,  0.08358805,  0.03894966],\n",
       "       [ 3.53674843,  0.02899009,  0.16651941,  0.08587273],\n",
       "       [ 3.42665347,  0.02744305,  0.16760371,  0.06478423],\n",
       "       [ 3.26502347,  0.0282637 ,  0.16705917,  0.06879721],\n",
       "       [ 2.56411371,  0.02458994,  0.14159617,  0.05091403],\n",
       "       [ 2.52223901,  0.02383723,  0.12723882,  0.05195074],\n",
       "       [ 1.35607275,  0.01614867,  0.09716542,  0.03831177],\n",
       "       [ 2.53998594,  0.02282955,  0.12971951,  0.06280888],\n",
       "       [ 4.084949  ,  0.03252197,  0.19216666,  0.09432195],\n",
       "       [ 2.26969956,  0.02221448,  0.11994608,  0.04575694],\n",
       "       [ 1.59728504,  0.02027662,  0.13932784,  0.04805069],\n",
       "       [ 2.79380245,  0.0376508 ,  0.21972173,  0.10043058],\n",
       "       [ 3.74181692,  0.03139142,  0.18267417,  0.08886621],\n",
       "       [ 3.73567271,  0.03190017,  0.18918392,  0.08042021],\n",
       "       [ 1.79600228,  0.01934506,  0.10998951,  0.05866031],\n",
       "       [ 2.28135552,  0.0313409 ,  0.1933778 ,  0.07352826],\n",
       "       [ 1.74766944,  0.02056932,  0.13327473,  0.04285668],\n",
       "       [ 1.50797635,  0.01910068,  0.12235951,  0.04122611],\n",
       "       [ 2.70791633,  0.0237426 ,  0.1399356 ,  0.06972034],\n",
       "       [ 1.43979884,  0.01734909,  0.11074028,  0.03878704],\n",
       "       [ 3.51747146,  0.03061304,  0.17637519,  0.07916846],\n",
       "       [ 1.62642702,  0.01920607,  0.1252523 ,  0.04034129],\n",
       "       [ 2.65150954,  0.02190479,  0.12055137,  0.0508079 ],\n",
       "       [ 2.71628197,  0.0234016 ,  0.13757499,  0.05575582],\n",
       "       [ 2.42312853,  0.02387878,  0.12432311,  0.04992563],\n",
       "       [ 2.91787683,  0.02436687,  0.1452573 ,  0.057121  ],\n",
       "       [ 1.47246342,  0.01829485,  0.12001189,  0.04468423],\n",
       "       [ 1.39314666,  0.01594004,  0.08643974,  0.04058787],\n",
       "       [ 2.00583354,  0.01859668,  0.09305818,  0.04392302],\n",
       "       [ 3.02268619,  0.04233859,  0.2518753 ,  0.11342909],\n",
       "       [ 1.72455652,  0.02078808,  0.13473906,  0.04311293],\n",
       "       [ 3.42405184,  0.02861162,  0.17851852,  0.07494961],\n",
       "       [ 1.47570767,  0.01782151,  0.11430528,  0.03807659],\n",
       "       [ 1.93219149,  0.01809371,  0.08955762,  0.03863398],\n",
       "       [ 1.77502432,  0.01775624,  0.0869594 ,  0.04243776],\n",
       "       [ 2.35200024,  0.02138305,  0.11645272,  0.05439555],\n",
       "       [ 1.58177322,  0.01898491,  0.12555284,  0.04180234],\n",
       "       [ 2.93778409,  0.02555951,  0.15247993,  0.07204087],\n",
       "       [ 4.04339824,  0.034599  ,  0.20044216,  0.08571937],\n",
       "       [ 3.0482007 ,  0.02792654,  0.16977254,  0.06377365],\n",
       "       [ 1.71786943,  0.0215549 ,  0.13366626,  0.04564643],\n",
       "       [ 2.1485817 ,  0.02095615,  0.10689388,  0.04439846],\n",
       "       [ 2.54643287,  0.0237878 ,  0.1349705 ,  0.05116916],\n",
       "       [ 2.31530349,  0.02700589,  0.16467415,  0.06850063],\n",
       "       [ 1.43825909,  0.01742895,  0.11143363,  0.04039322],\n",
       "       [ 2.04198288,  0.02614663,  0.17110254,  0.05788981],\n",
       "       [ 1.63136349,  0.01974643,  0.12780882,  0.04019224],\n",
       "       [ 1.66631071,  0.02207263,  0.13931801,  0.04557469],\n",
       "       [ 1.51764706,  0.01815922,  0.11771181,  0.03908948],\n",
       "       [ 2.09937007,  0.02448118,  0.15227496,  0.05819737],\n",
       "       [ 1.85965718,  0.01965181,  0.09997217,  0.04476452],\n",
       "       [ 3.88280712,  0.03106177,  0.1772712 ,  0.09110313],\n",
       "       [ 2.11017415,  0.02547387,  0.15751294,  0.05995597],\n",
       "       [ 3.29900618,  0.02743449,  0.16897938,  0.06934106],\n",
       "       [ 1.48294953,  0.01762184,  0.10503672,  0.04062983],\n",
       "       [ 1.53815928,  0.01876734,  0.1210576 ,  0.03866131],\n",
       "       [ 1.76850724,  0.02274984,  0.14594481,  0.0473399 ],\n",
       "       [ 1.62568956,  0.02036242,  0.13150339,  0.04170134],\n",
       "       [ 1.54966426,  0.01740065,  0.09389587,  0.04134626],\n",
       "       [ 1.77077352,  0.02212274,  0.15341485,  0.04953703],\n",
       "       [ 1.52141884,  0.01873567,  0.11930239,  0.05781595],\n",
       "       [ 1.74954868,  0.02287375,  0.14198967,  0.04714651],\n",
       "       [ 1.51670413,  0.02018126,  0.13855599,  0.05334961],\n",
       "       [ 1.39319549,  0.01678014,  0.10478734,  0.038451  ],\n",
       "       [ 1.58963981,  0.01674482,  0.08344918,  0.03994386],\n",
       "       [ 2.35782658,  0.01969883,  0.10724965,  0.04386448],\n",
       "       [ 1.55067561,  0.01979082,  0.12758702,  0.04119744],\n",
       "       [ 1.36479616,  0.01623003,  0.09709087,  0.03814258],\n",
       "       [ 2.37561435,  0.02046497,  0.10954767,  0.04543925],\n",
       "       [ 2.03137716,  0.02064195,  0.10222531,  0.04621397],\n",
       "       [ 2.38237793,  0.0230022 ,  0.1232705 ,  0.04849005],\n",
       "       [ 1.94847966,  0.01949807,  0.09320534,  0.04285636],\n",
       "       [ 1.36509745,  0.01553863,  0.08665379,  0.03870536],\n",
       "       [ 1.3499133 ,  0.0160681 ,  0.09531812,  0.03995554],\n",
       "       [ 3.14771647,  0.02681002,  0.15742704,  0.06377013],\n",
       "       [ 1.88645044,  0.01846455,  0.08884011,  0.04003646],\n",
       "       [ 2.13708326,  0.01987755,  0.10230956,  0.05083155],\n",
       "       [ 3.3097518 ,  0.02802665,  0.16338837,  0.07086241],\n",
       "       [ 2.12044361,  0.0224614 ,  0.12735987,  0.04738647],\n",
       "       [ 3.32831956,  0.02778223,  0.15972601,  0.07380946],\n",
       "       [ 3.52138538,  0.02940666,  0.17428193,  0.06957278],\n",
       "       [ 1.79644141,  0.02170504,  0.1409417 ,  0.04602914],\n",
       "       [ 2.00453527,  0.02094384,  0.11125306,  0.04593708],\n",
       "       [ 3.71516062,  0.03051108,  0.17301386,  0.08565669],\n",
       "       [ 1.59795227,  0.01717527,  0.08695928,  0.04359398],\n",
       "       [ 1.58578406,  0.02055262,  0.13066911,  0.04354947],\n",
       "       [ 1.6636907 ,  0.01818582,  0.09824009,  0.05174235],\n",
       "       [ 1.41200589,  0.01756365,  0.11227839,  0.04805162],\n",
       "       [ 3.03639875,  0.02638961,  0.15871687,  0.07150461],\n",
       "       [ 2.74323208,  0.02437668,  0.14270314,  0.06083397],\n",
       "       [ 1.3391848 ,  0.01563527,  0.09010443,  0.03879744],\n",
       "       [ 2.12572661,  0.01979984,  0.10236332,  0.04195378],\n",
       "       [ 1.41321346,  0.01707946,  0.10427124,  0.03912787],\n",
       "       [ 2.37226961,  0.02873912,  0.1700203 ,  0.07372255],\n",
       "       [ 1.65294953,  0.01890283,  0.1126117 ,  0.05819447],\n",
       "       [ 1.40654126,  0.01710936,  0.10742356,  0.03819902],\n",
       "       [ 1.48179556,  0.01853722,  0.11788938,  0.04059436],\n",
       "       [ 1.56729829,  0.01931329,  0.12101587,  0.04285399],\n",
       "       [ 1.74475798,  0.02058327,  0.13633701,  0.04441675],\n",
       "       [ 1.45508607,  0.01612898,  0.0839595 ,  0.04020829],\n",
       "       [ 1.84896928,  0.02166099,  0.13906991,  0.04667309],\n",
       "       [ 3.13170962,  0.02629656,  0.14802256,  0.07430467],\n",
       "       [ 1.3724306 ,  0.01659192,  0.10166395,  0.0422069 ],\n",
       "       [ 1.88401459,  0.02318081,  0.15734946,  0.0505523 ],\n",
       "       [ 1.83151451,  0.01770661,  0.08702948,  0.039466  ],\n",
       "       [ 1.4084497 ,  0.01642204,  0.09454981,  0.03921495],\n",
       "       [ 2.46185235,  0.02250087,  0.13134092,  0.06830043],\n",
       "       [ 1.99928145,  0.0247689 ,  0.15909011,  0.05320392],\n",
       "       [ 2.33803819,  0.02172267,  0.12099751,  0.06260796],\n",
       "       [ 2.48780639,  0.02385706,  0.12370904,  0.05117908],\n",
       "       [ 1.4389398 ,  0.01750233,  0.11166855,  0.03805673],\n",
       "       [ 1.74014013,  0.01821087,  0.09306741,  0.04905263],\n",
       "       [ 2.67546756,  0.0255388 ,  0.14675287,  0.05369149],\n",
       "       [ 3.61709753,  0.03033309,  0.19165935,  0.08397057],\n",
       "       [ 1.38067707,  0.016612  ,  0.10263164,  0.03958465],\n",
       "       [ 1.7235624 ,  0.02282293,  0.14384569,  0.04694181],\n",
       "       [ 2.03761237,  0.02048194,  0.11443113,  0.06152419],\n",
       "       [ 1.8838594 ,  0.01873504,  0.09367525,  0.04907684],\n",
       "       [ 1.43818269,  0.01706842,  0.09947322,  0.04783437],\n",
       "       [ 1.62930188,  0.01842387,  0.10413937,  0.0423462 ],\n",
       "       [ 2.42467527,  0.02253876,  0.12442646,  0.04904616],\n",
       "       [ 1.46637128,  0.01673623,  0.09047532,  0.0444153 ],\n",
       "       [ 2.26200472,  0.01915235,  0.10142121,  0.04072039],\n",
       "       [ 2.18009284,  0.02055916,  0.10844617,  0.05598224],\n",
       "       [ 3.31302066,  0.02702173,  0.16537621,  0.06595482],\n",
       "       [ 2.42116773,  0.02060478,  0.11503445,  0.04768631],\n",
       "       [ 2.20575901,  0.02089273,  0.11064916,  0.04440182],\n",
       "       [ 2.09547049,  0.02476221,  0.16193817,  0.05679938],\n",
       "       [ 2.04916509,  0.0197403 ,  0.09810923,  0.0418493 ],\n",
       "       [ 1.47838845,  0.01952175,  0.13201311,  0.05685334],\n",
       "       [ 2.20258429,  0.01920402,  0.10112876,  0.04448693],\n",
       "       [ 1.46935377,  0.01597134,  0.08256633,  0.03920504],\n",
       "       [ 1.99249212,  0.0235749 ,  0.15318781,  0.05344889],\n",
       "       [ 1.3742118 ,  0.01635338,  0.09507274,  0.04318095],\n",
       "       [ 2.57410276,  0.03560253,  0.21026354,  0.08987946],\n",
       "       [ 1.45470417,  0.01797343,  0.11498616,  0.03884675],\n",
       "       [ 3.41709454,  0.02930393,  0.16800821,  0.08314684],\n",
       "       [ 1.79302935,  0.01931396,  0.10179089,  0.04406451],\n",
       "       [ 1.78055391,  0.01867641,  0.09045366,  0.04294734],\n",
       "       [ 3.32664825,  0.02747477,  0.15655325,  0.0775478 ],\n",
       "       [ 2.01083832,  0.01987715,  0.10488345,  0.05641842],\n",
       "       [ 2.11310983,  0.01907955,  0.09767516,  0.04009682],\n",
       "       [ 1.78798339,  0.0222321 ,  0.1445546 ,  0.0468625 ],\n",
       "       [ 2.55401214,  0.03279914,  0.18945947,  0.08612594],\n",
       "       [ 2.09341172,  0.01842618,  0.09468538,  0.04058531],\n",
       "       [ 1.7353277 ,  0.01999601,  0.11949032,  0.04426871],\n",
       "       [ 1.54644441,  0.0166245 ,  0.08421218,  0.04024834],\n",
       "       [ 2.35817512,  0.02088331,  0.11481035,  0.04999258]])"
      ]
     },
     "execution_count": 5,
     "metadata": {},
     "output_type": "execute_result"
    }
   ],
   "source": [
    "model.bse"
   ]
  },
  {
   "cell_type": "code",
   "execution_count": 2,
   "metadata": {
    "collapsed": false
   },
   "outputs": [],
   "source": [
    "os.chdir('/Users/toshan/dev/pysal/pysal/contrib/gwr/examples/tokyo')\n",
    "data = pysal.open('tokyo/tokyomortality.csv', mode='rU')\n",
    "coords = zip(data.by_col('X_CENTROID'), data.by_col('Y_CENTROID'))\n",
    "y = np.array(data.by_col('db2564')).reshape((-1,1))\n",
    "off = np.array(data.by_col('eb2564')).reshape((-1,1))\n",
    "OCC  = np.array(data.by_col('OCC_TEC')).reshape((-1,1))\n",
    "OWN = np.array(data.by_col('OWNH')).reshape((-1,1)) \n",
    "POP = np.array(data.by_col('POP65')).reshape((-1,1))\n",
    "UNEMP = np.array(data.by_col('UNEMP')).reshape((-1,1))\n",
    "X = np.hstack([OCC,OWN,POP,UNEMP])\n"
   ]
  },
  {
   "cell_type": "code",
   "execution_count": 3,
   "metadata": {
    "collapsed": false
   },
   "outputs": [
    {
     "ename": "ValueError",
     "evalue": "operands could not be broadcast together with shapes (262,5) (262,) ",
     "output_type": "error",
     "traceback": [
      "\u001b[0;31m---------------------------------------------------------------------------\u001b[0m",
      "\u001b[0;31mValueError\u001b[0m                                Traceback (most recent call last)",
      "\u001b[0;32m<ipython-input-3-d500e9167b95>\u001b[0m in \u001b[0;36m<module>\u001b[0;34m()\u001b[0m\n\u001b[1;32m      1\u001b[0m \u001b[0mmodel\u001b[0m \u001b[0;34m=\u001b[0m \u001b[0mGWR\u001b[0m\u001b[0;34m(\u001b[0m\u001b[0mcoords\u001b[0m\u001b[0;34m,\u001b[0m \u001b[0my\u001b[0m\u001b[0;34m,\u001b[0m \u001b[0mX\u001b[0m\u001b[0;34m,\u001b[0m \u001b[0;36m26029.625\u001b[0m\u001b[0;34m,\u001b[0m \u001b[0mfamily\u001b[0m\u001b[0;34m=\u001b[0m\u001b[0mPoisson\u001b[0m\u001b[0;34m(\u001b[0m\u001b[0;34m)\u001b[0m\u001b[0;34m,\u001b[0m \u001b[0mfixed\u001b[0m\u001b[0;34m=\u001b[0m\u001b[0mTrue\u001b[0m\u001b[0;34m,\u001b[0m \u001b[0mkernel\u001b[0m\u001b[0;34m=\u001b[0m\u001b[0;34m'bisquare'\u001b[0m\u001b[0;34m,\u001b[0m \u001b[0msigma2_v1\u001b[0m\u001b[0;34m=\u001b[0m\u001b[0mTrue\u001b[0m\u001b[0;34m)\u001b[0m\u001b[0;34m\u001b[0m\u001b[0m\n\u001b[0;32m----> 2\u001b[0;31m \u001b[0mmodel\u001b[0m \u001b[0;34m=\u001b[0m \u001b[0mmodel\u001b[0m\u001b[0;34m.\u001b[0m\u001b[0mfit\u001b[0m\u001b[0;34m(\u001b[0m\u001b[0;34m)\u001b[0m\u001b[0;34m\u001b[0m\u001b[0m\n\u001b[0m",
      "\u001b[0;32mgwr.py\u001b[0m in \u001b[0;36mfit\u001b[0;34m(self, ini_params, tol, max_iter, solve)\u001b[0m\n",
      "\u001b[0;31mValueError\u001b[0m: operands could not be broadcast together with shapes (262,5) (262,) "
     ]
    }
   ],
   "source": [
    "model = GWR(coords, y, X, 26029.625, family=Poisson(), fixed=True, kernel='bisquare', sigma2_v1=True)\n",
    "model = model.fit()"
   ]
  },
  {
   "cell_type": "code",
   "execution_count": 4,
   "metadata": {
    "collapsed": false
   },
   "outputs": [
    {
     "data": {
      "text/plain": [
       "array([[ 0.37835376,  0.70215902,  0.17153834,  1.02289713,  0.05057966],\n",
       "       [ 0.16562405,  0.74770613,  0.17754943,  0.61585974,  0.02751086],\n",
       "       [ 0.15859374,  0.37276704,  0.08706239,  0.5509769 ,  0.03337558],\n",
       "       ..., \n",
       "       [ 0.22266591,  0.60257794,  0.23749188,  0.66509624,  0.02649677],\n",
       "       [ 0.15380346,  0.35686261,  0.08616235,  0.4558456 ,  0.02435527],\n",
       "       [ 0.24764401,  0.58658112,  0.121654  ,  0.70182014,  0.03659281]])"
      ]
     },
     "execution_count": 4,
     "metadata": {},
     "output_type": "execute_result"
    }
   ],
   "source": [
    "model.bse"
   ]
  },
  {
   "cell_type": "code",
   "execution_count": 8,
   "metadata": {
    "collapsed": false
   },
   "outputs": [
    {
     "data": {
      "text/plain": [
       "0.48125019674153835"
      ]
     },
     "execution_count": 8,
     "metadata": {},
     "output_type": "execute_result"
    }
   ],
   "source": [
    "\n",
    "np.trace((model.S**2))"
   ]
  },
  {
   "cell_type": "code",
   "execution_count": 27,
   "metadata": {
    "collapsed": false
   },
   "outputs": [
    {
     "data": {
      "text/plain": [
       "0.8980047540699142"
      ]
     },
     "execution_count": 27,
     "metadata": {},
     "output_type": "execute_result"
    }
   ],
   "source": [
    "model.tr_STS"
   ]
  },
  {
   "cell_type": "code",
   "execution_count": 28,
   "metadata": {
    "collapsed": false
   },
   "outputs": [
    {
     "data": {
      "text/plain": [
       "15889.152719905622"
      ]
     },
     "execution_count": 28,
     "metadata": {},
     "output_type": "execute_result"
    }
   ],
   "source": [
    "model.deviance"
   ]
  },
  {
   "cell_type": "code",
   "execution_count": 8,
   "metadata": {
    "collapsed": false
   },
   "outputs": [
    {
     "data": {
      "text/plain": [
       "1923837.4110855805"
      ]
     },
     "execution_count": 8,
     "metadata": {},
     "output_type": "execute_result"
    }
   ],
   "source": [
    "np.sum(np.dot(model.u, model.u.T))"
   ]
  },
  {
   "cell_type": "code",
   "execution_count": 9,
   "metadata": {
    "collapsed": false
   },
   "outputs": [
    {
     "data": {
      "text/plain": [
       "17056.768351373827"
      ]
     },
     "execution_count": 9,
     "metadata": {},
     "output_type": "execute_result"
    }
   ],
   "source": [
    "np.sum(model.sig2)"
   ]
  },
  {
   "cell_type": "code",
   "execution_count": 5,
   "metadata": {
    "collapsed": false
   },
   "outputs": [
    {
     "data": {
      "text/plain": [
       "7.8902803571196287"
      ]
     },
     "execution_count": 5,
     "metadata": {},
     "output_type": "execute_result"
    }
   ],
   "source": [
    "model.tr_S"
   ]
  },
  {
   "cell_type": "code",
   "execution_count": 6,
   "metadata": {
    "collapsed": false
   },
   "outputs": [
    {
     "data": {
      "text/plain": [
       "0.8980047540699142"
      ]
     },
     "execution_count": 6,
     "metadata": {},
     "output_type": "execute_result"
    }
   ],
   "source": [
    "np.trace(np.dot(model.S.T, model.S))"
   ]
  },
  {
   "cell_type": "code",
   "execution_count": 21,
   "metadata": {
    "collapsed": false
   },
   "outputs": [
    {
     "data": {
      "text/plain": [
       "array([ 1.   ,  0.126,  0.606,  0.104,  2.865])"
      ]
     },
     "execution_count": 21,
     "metadata": {},
     "output_type": "execute_result"
    }
   ],
   "source": [
    "model.X[0]"
   ]
  },
  {
   "cell_type": "code",
   "execution_count": 22,
   "metadata": {
    "collapsed": false
   },
   "outputs": [
    {
     "ename": "AttributeError",
     "evalue": "'GWRResults' object has no attribute 'z'",
     "output_type": "error",
     "traceback": [
      "\u001b[0;31m---------------------------------------------------------------------------\u001b[0m",
      "\u001b[0;31mAttributeError\u001b[0m                            Traceback (most recent call last)",
      "\u001b[0;32m<ipython-input-22-2a2188d3b1e6>\u001b[0m in \u001b[0;36m<module>\u001b[0;34m()\u001b[0m\n\u001b[0;32m----> 1\u001b[0;31m \u001b[0mmodel\u001b[0m\u001b[0;34m.\u001b[0m\u001b[0mz\u001b[0m\u001b[0;34m\u001b[0m\u001b[0m\n\u001b[0m",
      "\u001b[0;31mAttributeError\u001b[0m: 'GWRResults' object has no attribute 'z'"
     ]
    }
   ],
   "source": [
    "model.z"
   ]
  },
  {
   "cell_type": "code",
   "execution_count": 14,
   "metadata": {
    "collapsed": false
   },
   "outputs": [
    {
     "ename": "ValueError",
     "evalue": "shapes (262,1) and (262,5) not aligned: 1 (dim 1) != 262 (dim 0)",
     "output_type": "error",
     "traceback": [
      "\u001b[0;31m---------------------------------------------------------------------------\u001b[0m",
      "\u001b[0;31mValueError\u001b[0m                                Traceback (most recent call last)",
      "\u001b[0;32m<ipython-input-14-fb50c55d1911>\u001b[0m in \u001b[0;36m<module>\u001b[0;34m()\u001b[0m\n\u001b[0;32m----> 1\u001b[0;31m \u001b[0mnp\u001b[0m\u001b[0;34m.\u001b[0m\u001b[0mdot\u001b[0m\u001b[0;34m(\u001b[0m\u001b[0mmodel\u001b[0m\u001b[0;34m.\u001b[0m\u001b[0mX\u001b[0m\u001b[0;34m.\u001b[0m\u001b[0mT\u001b[0m\u001b[0;34m,\u001b[0m \u001b[0mnp\u001b[0m\u001b[0;34m.\u001b[0m\u001b[0mdot\u001b[0m\u001b[0;34m(\u001b[0m\u001b[0mmodel\u001b[0m\u001b[0;34m.\u001b[0m\u001b[0mW\u001b[0m\u001b[0;34m,\u001b[0m \u001b[0mnp\u001b[0m\u001b[0;34m.\u001b[0m\u001b[0mdot\u001b[0m\u001b[0;34m(\u001b[0m\u001b[0mmodel\u001b[0m\u001b[0;34m.\u001b[0m\u001b[0mw\u001b[0m\u001b[0;34m,\u001b[0m \u001b[0mmodel\u001b[0m\u001b[0;34m.\u001b[0m\u001b[0mX\u001b[0m\u001b[0;34m)\u001b[0m\u001b[0;34m)\u001b[0m\u001b[0;34m)\u001b[0m\u001b[0;34m\u001b[0m\u001b[0m\n\u001b[0m",
      "\u001b[0;31mValueError\u001b[0m: shapes (262,1) and (262,5) not aligned: 1 (dim 1) != 262 (dim 0)"
     ]
    }
   ],
   "source": [
    "np.dot(model.X.T, np.dot(model.W, np.dot(model.w, model.X)))"
   ]
  },
  {
   "cell_type": "code",
   "execution_count": 29,
   "metadata": {
    "collapsed": false
   },
   "outputs": [],
   "source": [
    "XTW = np.dot(model.X.T, model.W)"
   ]
  },
  {
   "cell_type": "code",
   "execution_count": 30,
   "metadata": {
    "collapsed": true
   },
   "outputs": [],
   "source": [
    "XTWw = np.dot(XTW, model.w)"
   ]
  },
  {
   "cell_type": "code",
   "execution_count": 33,
   "metadata": {
    "collapsed": false
   },
   "outputs": [],
   "source": [
    "XTWwX = np.dot(model.X, XTWw)"
   ]
  },
  {
   "cell_type": "code",
   "execution_count": 35,
   "metadata": {
    "collapsed": false
   },
   "outputs": [
    {
     "data": {
      "text/plain": [
       "(262, 1)"
      ]
     },
     "execution_count": 35,
     "metadata": {},
     "output_type": "execute_result"
    }
   ],
   "source": [
    "XTWwX.shape"
   ]
  },
  {
   "cell_type": "code",
   "execution_count": 37,
   "metadata": {
    "collapsed": false
   },
   "outputs": [],
   "source": [
    "Ww = np.dot(model.W, model.w)"
   ]
  },
  {
   "cell_type": "code",
   "execution_count": 39,
   "metadata": {
    "collapsed": false
   },
   "outputs": [],
   "source": [
    "XtX = np.dot(model.X.T, model.X)"
   ]
  },
  {
   "cell_type": "code",
   "execution_count": 45,
   "metadata": {
    "collapsed": false
   },
   "outputs": [
    {
     "ename": "ValueError",
     "evalue": "shapes (5,5) and (262,1) not aligned: 5 (dim 1) != 262 (dim 0)",
     "output_type": "error",
     "traceback": [
      "\u001b[0;31m---------------------------------------------------------------------------\u001b[0m",
      "\u001b[0;31mValueError\u001b[0m                                Traceback (most recent call last)",
      "\u001b[0;32m<ipython-input-45-af49b9dd12ea>\u001b[0m in \u001b[0;36m<module>\u001b[0;34m()\u001b[0m\n\u001b[0;32m----> 1\u001b[0;31m \u001b[0mnp\u001b[0m\u001b[0;34m.\u001b[0m\u001b[0mdot\u001b[0m\u001b[0;34m(\u001b[0m\u001b[0mXtX\u001b[0m\u001b[0;34m,\u001b[0m \u001b[0mmodel\u001b[0m\u001b[0;34m.\u001b[0m\u001b[0mw\u001b[0m\u001b[0;34m)\u001b[0m\u001b[0;34m\u001b[0m\u001b[0m\n\u001b[0m",
      "\u001b[0;31mValueError\u001b[0m: shapes (5,5) and (262,1) not aligned: 5 (dim 1) != 262 (dim 0)"
     ]
    }
   ],
   "source": [
    "np.dot(XtX, model.w)"
   ]
  },
  {
   "cell_type": "code",
   "execution_count": 10,
   "metadata": {
    "collapsed": false
   },
   "outputs": [
    {
     "data": {
      "text/plain": [
       "array([  0.00000000e+00,   0.00000000e+00,   0.00000000e+00,\n",
       "         0.00000000e+00,   0.00000000e+00,   0.00000000e+00,\n",
       "         0.00000000e+00,   0.00000000e+00,   0.00000000e+00,\n",
       "         0.00000000e+00,   0.00000000e+00,   0.00000000e+00,\n",
       "         0.00000000e+00,   0.00000000e+00,   0.00000000e+00,\n",
       "         0.00000000e+00,   0.00000000e+00,   0.00000000e+00,\n",
       "         0.00000000e+00,   0.00000000e+00,   0.00000000e+00,\n",
       "         0.00000000e+00,   0.00000000e+00,   0.00000000e+00,\n",
       "         0.00000000e+00,   0.00000000e+00,   0.00000000e+00,\n",
       "         0.00000000e+00,   0.00000000e+00,   0.00000000e+00,\n",
       "         0.00000000e+00,   0.00000000e+00,   0.00000000e+00,\n",
       "         0.00000000e+00,   0.00000000e+00,   0.00000000e+00,\n",
       "         0.00000000e+00,   0.00000000e+00,   0.00000000e+00,\n",
       "         0.00000000e+00,   0.00000000e+00,   0.00000000e+00,\n",
       "         0.00000000e+00,   0.00000000e+00,   0.00000000e+00,\n",
       "         0.00000000e+00,   0.00000000e+00,   0.00000000e+00,\n",
       "         0.00000000e+00,   0.00000000e+00,   0.00000000e+00,\n",
       "         0.00000000e+00,   0.00000000e+00,   0.00000000e+00,\n",
       "         0.00000000e+00,   0.00000000e+00,   0.00000000e+00,\n",
       "         0.00000000e+00,   0.00000000e+00,   0.00000000e+00,\n",
       "         0.00000000e+00,   0.00000000e+00,   0.00000000e+00,\n",
       "         0.00000000e+00,   0.00000000e+00,   0.00000000e+00,\n",
       "         0.00000000e+00,   0.00000000e+00,   0.00000000e+00,\n",
       "         0.00000000e+00,   0.00000000e+00,   0.00000000e+00,\n",
       "         0.00000000e+00,   0.00000000e+00,   0.00000000e+00,\n",
       "         0.00000000e+00,   0.00000000e+00,   0.00000000e+00,\n",
       "         0.00000000e+00,   0.00000000e+00,   0.00000000e+00,\n",
       "         0.00000000e+00,   0.00000000e+00,   0.00000000e+00,\n",
       "         0.00000000e+00,   0.00000000e+00,   0.00000000e+00,\n",
       "         0.00000000e+00,   0.00000000e+00,   0.00000000e+00,\n",
       "         0.00000000e+00,   0.00000000e+00,   0.00000000e+00,\n",
       "         0.00000000e+00,   0.00000000e+00,   0.00000000e+00,\n",
       "         0.00000000e+00,   0.00000000e+00,   0.00000000e+00,\n",
       "         0.00000000e+00,   0.00000000e+00,   0.00000000e+00,\n",
       "         0.00000000e+00,   0.00000000e+00,   0.00000000e+00,\n",
       "         0.00000000e+00,   0.00000000e+00,   0.00000000e+00,\n",
       "         0.00000000e+00,   0.00000000e+00,   0.00000000e+00,\n",
       "         0.00000000e+00,   0.00000000e+00,   0.00000000e+00,\n",
       "         0.00000000e+00,   0.00000000e+00,   0.00000000e+00,\n",
       "         0.00000000e+00,   0.00000000e+00,   0.00000000e+00,\n",
       "         0.00000000e+00,   0.00000000e+00,   0.00000000e+00,\n",
       "         0.00000000e+00,   0.00000000e+00,   0.00000000e+00,\n",
       "         0.00000000e+00,   0.00000000e+00,   0.00000000e+00,\n",
       "         0.00000000e+00,   0.00000000e+00,   0.00000000e+00,\n",
       "         0.00000000e+00,   0.00000000e+00,   0.00000000e+00,\n",
       "         0.00000000e+00,   0.00000000e+00,   0.00000000e+00,\n",
       "         0.00000000e+00,   0.00000000e+00,   0.00000000e+00,\n",
       "         0.00000000e+00,   0.00000000e+00,   0.00000000e+00,\n",
       "         0.00000000e+00,   0.00000000e+00,   0.00000000e+00,\n",
       "         0.00000000e+00,   0.00000000e+00,   0.00000000e+00,\n",
       "         0.00000000e+00,   0.00000000e+00,   0.00000000e+00,\n",
       "         0.00000000e+00,   0.00000000e+00,   0.00000000e+00,\n",
       "         0.00000000e+00,   0.00000000e+00,   0.00000000e+00,\n",
       "         0.00000000e+00,   0.00000000e+00,   0.00000000e+00,\n",
       "         0.00000000e+00,   0.00000000e+00,   0.00000000e+00,\n",
       "         0.00000000e+00,   0.00000000e+00,   0.00000000e+00,\n",
       "         0.00000000e+00,   0.00000000e+00,   0.00000000e+00,\n",
       "         0.00000000e+00,   0.00000000e+00,   0.00000000e+00,\n",
       "         0.00000000e+00,   0.00000000e+00,   0.00000000e+00,\n",
       "         0.00000000e+00,   0.00000000e+00,   0.00000000e+00,\n",
       "         0.00000000e+00,   0.00000000e+00,   3.57562123e-01,\n",
       "        -1.06226154e-03,   0.00000000e+00,   0.00000000e+00,\n",
       "        -2.17785454e-02,   0.00000000e+00,  -6.18951386e-02,\n",
       "         0.00000000e+00,   1.42528514e-03,   0.00000000e+00,\n",
       "         0.00000000e+00,   2.26722933e-01,   0.00000000e+00,\n",
       "         0.00000000e+00,   0.00000000e+00,   0.00000000e+00,\n",
       "         0.00000000e+00,  -3.13232533e-01,   0.00000000e+00,\n",
       "         0.00000000e+00,   0.00000000e+00,   0.00000000e+00,\n",
       "         0.00000000e+00,   0.00000000e+00,   0.00000000e+00,\n",
       "         1.09724316e-01,  -1.68757455e-01,  -5.79698785e-04,\n",
       "         1.45141822e-01,   8.41161378e-02,   1.40554652e-01,\n",
       "        -2.24331247e-04,   0.00000000e+00,   0.00000000e+00,\n",
       "         0.00000000e+00,   0.00000000e+00,   0.00000000e+00,\n",
       "         0.00000000e+00,   0.00000000e+00,   0.00000000e+00,\n",
       "         0.00000000e+00,   0.00000000e+00,   0.00000000e+00,\n",
       "         0.00000000e+00,   0.00000000e+00,   0.00000000e+00,\n",
       "         0.00000000e+00,   0.00000000e+00,   0.00000000e+00,\n",
       "         0.00000000e+00,   0.00000000e+00,   0.00000000e+00,\n",
       "         0.00000000e+00,   0.00000000e+00,   0.00000000e+00,\n",
       "         0.00000000e+00,   0.00000000e+00,   0.00000000e+00,\n",
       "         0.00000000e+00,   0.00000000e+00,   0.00000000e+00,\n",
       "        -3.28618617e-03,   0.00000000e+00,  -9.99843112e-03,\n",
       "        -1.00993800e-01,   0.00000000e+00,   9.44062546e-03,\n",
       "         0.00000000e+00,   0.00000000e+00,   0.00000000e+00,\n",
       "         0.00000000e+00,   0.00000000e+00,   0.00000000e+00,\n",
       "         0.00000000e+00,  -7.57515468e-01,  -5.69563039e-01,\n",
       "         3.90307830e-01,  -4.59221539e-01,  -3.70072920e-01,\n",
       "        -4.71926004e-02])"
      ]
     },
     "execution_count": 10,
     "metadata": {},
     "output_type": "execute_result"
    }
   ],
   "source": [
    "\n",
    "f = model.f\n",
    "cf = model.cf\n",
    "cf[1]"
   ]
  },
  {
   "cell_type": "code",
   "execution_count": 1,
   "metadata": {
    "collapsed": false
   },
   "outputs": [
    {
     "ename": "NameError",
     "evalue": "name 'np' is not defined",
     "output_type": "error",
     "traceback": [
      "\u001b[0;31m---------------------------------------------------------------------------\u001b[0m",
      "\u001b[0;31mNameError\u001b[0m                                 Traceback (most recent call last)",
      "\u001b[0;32m<ipython-input-1-394f2a55669b>\u001b[0m in \u001b[0;36m<module>\u001b[0;34m()\u001b[0m\n\u001b[0;32m----> 1\u001b[0;31m \u001b[0mC\u001b[0m \u001b[0;34m=\u001b[0m \u001b[0mnp\u001b[0m\u001b[0;34m.\u001b[0m\u001b[0mzeros\u001b[0m\u001b[0;34m(\u001b[0m\u001b[0;34m(\u001b[0m\u001b[0mmodel\u001b[0m\u001b[0;34m.\u001b[0m\u001b[0mn\u001b[0m\u001b[0;34m,\u001b[0m \u001b[0mmodel\u001b[0m\u001b[0;34m.\u001b[0m\u001b[0mk\u001b[0m\u001b[0;34m)\u001b[0m\u001b[0;34m)\u001b[0m\u001b[0;34m\u001b[0m\u001b[0m\n\u001b[0m\u001b[1;32m      2\u001b[0m \u001b[0;32mfor\u001b[0m \u001b[0mi\u001b[0m \u001b[0;32min\u001b[0m \u001b[0mrange\u001b[0m\u001b[0;34m(\u001b[0m\u001b[0mmodel\u001b[0m\u001b[0;34m.\u001b[0m\u001b[0mn\u001b[0m\u001b[0;34m)\u001b[0m\u001b[0;34m:\u001b[0m\u001b[0;34m\u001b[0m\u001b[0m\n\u001b[1;32m      3\u001b[0m     \u001b[0mWi\u001b[0m \u001b[0;34m=\u001b[0m \u001b[0mnp\u001b[0m\u001b[0;34m.\u001b[0m\u001b[0mdiag\u001b[0m\u001b[0;34m(\u001b[0m\u001b[0mmodel\u001b[0m\u001b[0;34m.\u001b[0m\u001b[0mW\u001b[0m\u001b[0;34m[\u001b[0m\u001b[0mi\u001b[0m\u001b[0;34m]\u001b[0m\u001b[0;34m)\u001b[0m\u001b[0;34m\u001b[0m\u001b[0m\n\u001b[1;32m      4\u001b[0m     \u001b[0mXTW\u001b[0m \u001b[0;34m=\u001b[0m \u001b[0mnp\u001b[0m\u001b[0;34m.\u001b[0m\u001b[0mdot\u001b[0m\u001b[0;34m(\u001b[0m\u001b[0mmodel\u001b[0m\u001b[0;34m.\u001b[0m\u001b[0mX\u001b[0m\u001b[0;34m.\u001b[0m\u001b[0mT\u001b[0m\u001b[0;34m,\u001b[0m \u001b[0mWi\u001b[0m\u001b[0;34m)\u001b[0m\u001b[0;34m\u001b[0m\u001b[0m\n\u001b[1;32m      5\u001b[0m     \u001b[0mXTWX\u001b[0m \u001b[0;34m=\u001b[0m \u001b[0mnp\u001b[0m\u001b[0;34m.\u001b[0m\u001b[0mdot\u001b[0m\u001b[0;34m(\u001b[0m\u001b[0mXTW\u001b[0m\u001b[0;34m,\u001b[0m \u001b[0mmodel\u001b[0m\u001b[0;34m.\u001b[0m\u001b[0mX\u001b[0m\u001b[0;34m)\u001b[0m\u001b[0;34m\u001b[0m\u001b[0m\n",
      "\u001b[0;31mNameError\u001b[0m: name 'np' is not defined"
     ]
    }
   ],
   "source": [
    "C = np.zeros((model.n, model.k))\n",
    "for i in range(model.n):\n",
    "    Wi = np.diag(model.W[i])\n",
    "    XTW = np.dot(model.X.T, Wi)\n",
    "    XTWX = np.dot(XTW, model.X)\n",
    "    XTWX_inv = np.linalg.inv(XTWX)\n",
    "    Ci = np.dot(XTWX_inv, XTW)\n",
    "    #C[i,:] = np.diag(np.dot(Ci , Ci.T*(1.0/model.w[i].reshape((-1,1)))))"
   ]
  },
  {
   "cell_type": "code",
   "execution_count": 6,
   "metadata": {
    "collapsed": false
   },
   "outputs": [],
   "source": [
    "se = np.sqrt(C)"
   ]
  },
  {
   "cell_type": "code",
   "execution_count": 15,
   "metadata": {
    "collapsed": false
   },
   "outputs": [],
   "source": [
    "sig2 = model.RSS/(model.n - 2.0*model.tr_S + model.tr_STS)"
   ]
  },
  {
   "cell_type": "code",
   "execution_count": 7,
   "metadata": {
    "collapsed": false
   },
   "outputs": [
    {
     "data": {
      "text/plain": [
       "array([[ 1.75812034,  3.97659827,  0.92136471,  4.14571787,  0.25608698],\n",
       "       [ 1.22627187,  4.62450047,  1.07537743,  3.50994834,  0.17927183],\n",
       "       [ 1.2978241 ,  4.61842976,  0.70296798,  3.58461815,  0.24573769],\n",
       "       ..., \n",
       "       [ 2.35726236,  7.71812446,  2.15235029,  7.18872758,  0.6066926 ],\n",
       "       [ 1.20755915,  3.49956144,  0.97780033,  3.21336846,  0.21444612],\n",
       "       [ 2.06935841,  7.03931103,  1.75897198,  5.21830151,  0.40166701]])"
      ]
     },
     "execution_count": 7,
     "metadata": {},
     "output_type": "execute_result"
    }
   ],
   "source": [
    "se"
   ]
  },
  {
   "cell_type": "code",
   "execution_count": 25,
   "metadata": {
    "collapsed": false
   },
   "outputs": [
    {
     "data": {
      "text/plain": [
       "array([ 3.0482007 ,  0.02792654,  0.16977254,  0.06377365])"
      ]
     },
     "execution_count": 25,
     "metadata": {},
     "output_type": "execute_result"
    }
   ],
   "source": [
    "se[50]"
   ]
  },
  {
   "cell_type": "code",
   "execution_count": 39,
   "metadata": {
    "collapsed": false
   },
   "outputs": [
    {
     "ename": "ValueError",
     "evalue": "shapes (5,) and (262,1) not aligned: 5 (dim 0) != 262 (dim 0)",
     "output_type": "error",
     "traceback": [
      "\u001b[0;31m---------------------------------------------------------------------------\u001b[0m",
      "\u001b[0;31mValueError\u001b[0m                                Traceback (most recent call last)",
      "\u001b[0;32m<ipython-input-39-3e8c4f39074e>\u001b[0m in \u001b[0;36m<module>\u001b[0;34m()\u001b[0m\n\u001b[0;32m----> 1\u001b[0;31m \u001b[0mnp\u001b[0m\u001b[0;34m.\u001b[0m\u001b[0mdot\u001b[0m\u001b[0;34m(\u001b[0m\u001b[0mCtC\u001b[0m\u001b[0;34m,\u001b[0m \u001b[0;34m(\u001b[0m\u001b[0;36m1.0\u001b[0m\u001b[0;34m/\u001b[0m\u001b[0mmodel\u001b[0m\u001b[0;34m.\u001b[0m\u001b[0mmu\u001b[0m\u001b[0;34m.\u001b[0m\u001b[0mreshape\u001b[0m\u001b[0;34m(\u001b[0m\u001b[0;34m(\u001b[0m\u001b[0;34m-\u001b[0m\u001b[0;36m1\u001b[0m\u001b[0;34m,\u001b[0m\u001b[0;36m1\u001b[0m\u001b[0;34m)\u001b[0m\u001b[0;34m)\u001b[0m\u001b[0;34m)\u001b[0m\u001b[0;34m)\u001b[0m\u001b[0;34m\u001b[0m\u001b[0m\n\u001b[0m",
      "\u001b[0;31mValueError\u001b[0m: shapes (5,) and (262,1) not aligned: 5 (dim 0) != 262 (dim 0)"
     ]
    }
   ],
   "source": [
    "np.dot(CtC, (1.0/model.mu.reshape((-1,1))))"
   ]
  },
  {
   "cell_type": "code",
   "execution_count": 8,
   "metadata": {
    "collapsed": false
   },
   "outputs": [
    {
     "data": {
      "text/plain": [
       "array([  12.79272321,  177.83811567,   10.0804927 ,   94.21999986,\n",
       "          0.53902367])"
      ]
     },
     "execution_count": 8,
     "metadata": {},
     "output_type": "execute_result"
    }
   ],
   "source": [
    "np.diag(np.dot(Ci , Ci.T*(1.0)))"
   ]
  },
  {
   "cell_type": "code",
   "execution_count": 15,
   "metadata": {
    "collapsed": false
   },
   "outputs": [
    {
     "ename": "AttributeError",
     "evalue": "'GWR' object has no attribute 'w'",
     "output_type": "error",
     "traceback": [
      "\u001b[0;31m---------------------------------------------------------------------------\u001b[0m",
      "\u001b[0;31mAttributeError\u001b[0m                            Traceback (most recent call last)",
      "\u001b[0;32m<ipython-input-15-55a925d91f0f>\u001b[0m in \u001b[0;36m<module>\u001b[0;34m()\u001b[0m\n\u001b[0;32m----> 1\u001b[0;31m \u001b[0mC\u001b[0m\u001b[0;34m[\u001b[0m\u001b[0mi\u001b[0m\u001b[0;34m]\u001b[0m \u001b[0;34m=\u001b[0m \u001b[0mnp\u001b[0m\u001b[0;34m.\u001b[0m\u001b[0mdiag\u001b[0m\u001b[0;34m(\u001b[0m\u001b[0mnp\u001b[0m\u001b[0;34m.\u001b[0m\u001b[0mdot\u001b[0m\u001b[0;34m(\u001b[0m\u001b[0mCi\u001b[0m \u001b[0;34m,\u001b[0m \u001b[0mCi\u001b[0m\u001b[0;34m.\u001b[0m\u001b[0mT\u001b[0m\u001b[0;34m*\u001b[0m\u001b[0;34m(\u001b[0m\u001b[0;36m1.0\u001b[0m\u001b[0;34m/\u001b[0m\u001b[0mmodel\u001b[0m\u001b[0;34m.\u001b[0m\u001b[0mw\u001b[0m\u001b[0;34m)\u001b[0m\u001b[0;34m)\u001b[0m\u001b[0;34m)\u001b[0m\u001b[0;34m\u001b[0m\u001b[0m\n\u001b[0m",
      "\u001b[0;31mAttributeError\u001b[0m: 'GWR' object has no attribute 'w'"
     ]
    }
   ],
   "source": [
    "C[i] = np.diag(np.dot(Ci , Ci.T*(1.0/model.w)))"
   ]
  },
  {
   "cell_type": "code",
   "execution_count": 11,
   "metadata": {
    "collapsed": false
   },
   "outputs": [
    {
     "data": {
      "text/plain": [
       "(5, 262)"
      ]
     },
     "execution_count": 11,
     "metadata": {},
     "output_type": "execute_result"
    }
   ],
   "source": [
    "Ci.shape"
   ]
  },
  {
   "cell_type": "code",
   "execution_count": 53,
   "metadata": {
    "collapsed": false
   },
   "outputs": [
    {
     "data": {
      "text/plain": [
       "array([[  57.8331937 ,    0.        ,   10.3943621 , ...,    0.        ,\n",
       "           0.        ,    0.        ],\n",
       "       [   6.50409496,    0.        ,    1.16571128, ...,    0.        ,\n",
       "           0.        ,    0.        ],\n",
       "       [  43.41443302,    0.        ,    7.82909196, ...,    0.        ,\n",
       "           0.        ,    0.        ],\n",
       "       [   6.73969029,    0.        ,    1.21619378, ...,    0.        ,\n",
       "           0.        ,    0.        ],\n",
       "       [ 134.52410457,    0.        ,   24.06578841, ...,    0.        ,\n",
       "           0.        ,    0.        ]])"
      ]
     },
     "execution_count": 53,
     "metadata": {},
     "output_type": "execute_result"
    }
   ],
   "source": [
    "model."
   ]
  },
  {
   "cell_type": "code",
   "execution_count": 28,
   "metadata": {
    "collapsed": false
   },
   "outputs": [
    {
     "data": {
      "text/plain": [
       "(159, 1)"
      ]
     },
     "execution_count": 28,
     "metadata": {},
     "output_type": "execute_result"
    }
   ],
   "source": [
    "model.w.shape"
   ]
  },
  {
   "cell_type": "code",
   "execution_count": 8,
   "metadata": {
    "collapsed": false
   },
   "outputs": [
    {
     "data": {
      "text/plain": [
       "array([[  3.73383673,   7.60428626,  -2.41501238,  -3.54658343,\n",
       "          0.71662806],\n",
       "       [  7.63348065,   5.98606283,  -5.48485964,   7.35866403,\n",
       "         -0.28491679],\n",
       "       [  6.3705547 ,   5.51539375,  -3.51189692,  -5.8978989 ,\n",
       "          0.15502181],\n",
       "       ..., \n",
       "       [  4.42634546,   3.01348859,  -7.18932933,  -5.15338449,\n",
       "          1.77171022],\n",
       "       [  0.83889118,  20.22746793,  -1.09416638, -11.06164227,\n",
       "          1.03231269],\n",
       "       [  1.06890403,  30.02234123,  -2.97528076,  -8.40882731,\n",
       "          0.79367044]])"
      ]
     },
     "execution_count": 8,
     "metadata": {},
     "output_type": "execute_result"
    }
   ],
   "source": [
    "model.params"
   ]
  },
  {
   "cell_type": "code",
   "execution_count": 7,
   "metadata": {
    "collapsed": false
   },
   "outputs": [
    {
     "data": {
      "text/plain": [
       "2.1886673574466924"
      ]
     },
     "execution_count": 7,
     "metadata": {},
     "output_type": "execute_result"
    }
   ],
   "source": [
    "model.tr_S"
   ]
  },
  {
   "cell_type": "code",
   "execution_count": 8,
   "metadata": {
    "collapsed": false
   },
   "outputs": [
    {
     "data": {
      "text/plain": [
       "0.090910796730595267"
      ]
     },
     "execution_count": 8,
     "metadata": {},
     "output_type": "execute_result"
    }
   ],
   "source": [
    "model.tr_STS"
   ]
  },
  {
   "cell_type": "code",
   "execution_count": null,
   "metadata": {
    "collapsed": true
   },
   "outputs": [],
   "source": []
  }
 ],
 "metadata": {
  "anaconda-cloud": {},
  "kernelspec": {
   "display_name": "Python [Root]",
   "language": "python",
   "name": "Python [Root]"
  },
  "language_info": {
   "codemirror_mode": {
    "name": "ipython",
    "version": 2
   },
   "file_extension": ".py",
   "mimetype": "text/x-python",
   "name": "python",
   "nbconvert_exporter": "python",
   "pygments_lexer": "ipython2",
   "version": "2.7.12"
  }
 },
 "nbformat": 4,
 "nbformat_minor": 0
}
