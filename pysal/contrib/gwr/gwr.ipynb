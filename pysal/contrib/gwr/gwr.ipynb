{
 "cells": [
  {
   "cell_type": "code",
   "execution_count": 2,
   "metadata": {
    "collapsed": false
   },
   "outputs": [],
   "source": [
    "import pysal as ps\n",
    "import pandas as pd\n",
    "import numpy as np\n",
    "import seaborn as sb\n",
    "import matplotlib.pyplot as plt\n",
    "from numpy import linalg as la\n",
    "%matplotlib inline\n",
    "import scipy.spatial.distance as dist"
   ]
  },
  {
   "cell_type": "code",
   "execution_count": 3,
   "metadata": {
    "collapsed": false
   },
   "outputs": [],
   "source": [
    "#Pysal weights use different algorithm to compute weights that standard guassian weights from GWR\n",
    "#Below is a simple fixed gaussain bandwidth based on code from GWR4 which matche GWR4 and spgwr output\n",
    "\n",
    "bandwidth = 3\n",
    "data = ps.open(ps.examples.get_path('columbus.dbf'))\n",
    "coords = zip(data.by_col['X'], data.by_col['Y'])\n",
    "dists = dist.squareform(dist.pdist(coords))\n",
    "W = np.exp(-0.5*(dists/bandwidth)**2)"
   ]
  },
  {
   "cell_type": "code",
   "execution_count": 7,
   "metadata": {
    "collapsed": false
   },
   "outputs": [
    {
     "data": {
      "text/plain": [
       "(49,)"
      ]
     },
     "execution_count": 7,
     "metadata": {},
     "output_type": "execute_result"
    }
   ],
   "source": [
    "W[0].shape"
   ]
  },
  {
   "cell_type": "code",
   "execution_count": 236,
   "metadata": {
    "collapsed": false
   },
   "outputs": [],
   "source": [
    "y = data.by_col_array(['HOVAL'])\n",
    "X1, X2 = data.by_col_array(['INC']), data.by_col_array(['CRIME'])"
   ]
  },
  {
   "cell_type": "code",
   "execution_count": 237,
   "metadata": {
    "collapsed": true
   },
   "outputs": [],
   "source": [
    "X = np.hstack((X1, X2))"
   ]
  },
  {
   "cell_type": "code",
   "execution_count": 238,
   "metadata": {
    "collapsed": true
   },
   "outputs": [],
   "source": [
    "colshp = ps.open(ps.examples.get_path('columbus.shp')).read()\n",
    "colshp_coords = np.array([x.centroid for x in colshp])"
   ]
  },
  {
   "cell_type": "code",
   "execution_count": 239,
   "metadata": {
    "collapsed": false
   },
   "outputs": [],
   "source": [
    "design = np.hstack((y, X))"
   ]
  },
  {
   "cell_type": "code",
   "execution_count": 240,
   "metadata": {
    "collapsed": false
   },
   "outputs": [],
   "source": [
    "data2 = pd.DataFrame(design, columns=['y', 'X1', 'X2'])"
   ]
  },
  {
   "cell_type": "code",
   "execution_count": 241,
   "metadata": {
    "collapsed": false
   },
   "outputs": [
    {
     "data": {
      "text/plain": [
       "((49, 1), (49, 1), (49, 1))"
      ]
     },
     "execution_count": 241,
     "metadata": {},
     "output_type": "execute_result"
    }
   ],
   "source": [
    "X2.shape, X1.shape, y.shape"
   ]
  },
  {
   "cell_type": "markdown",
   "metadata": {},
   "source": [
    "## Python Estimation"
   ]
  },
  {
   "cell_type": "code",
   "execution_count": 242,
   "metadata": {
    "collapsed": true
   },
   "outputs": [],
   "source": [
    "X = np.hstack((np.ones(X1.shape), X))"
   ]
  },
  {
   "cell_type": "code",
   "execution_count": 243,
   "metadata": {
    "collapsed": false
   },
   "outputs": [],
   "source": [
    "class BaseGWR(object):\n",
    "    def __init__(self, y, X, W):\n",
    "        self.y = y\n",
    "        self.n = y.shape[0]\n",
    "        self.p = X.shape[-1]\n",
    "        self.X = X\n",
    "        self.W = W\n",
    "        self.vm = NotImplementedError\n",
    "        self.betas = []\n",
    "        self.yhats = []\n",
    "        \n",
    "        for i in range(self.n):\n",
    "            Wuv = np.diag(self.W[i])\n",
    "            xtw = np.dot(self.X.T, Wuv)\n",
    "            xtwx = np.dot(xtw, self.X)\n",
    "            xtwx_inv = la.inv(xtwx)\n",
    "            xtwx_inv_xtw = np.dot(xtwx_inv, xtw)\n",
    "            beta_hats = np.dot(xtwx_inv_xtw, self.y)\n",
    "            self.betas.append(beta_hats.T)\n",
    "            yhat = np.dot(self.X[i,:], beta_hats)\n",
    "            self.yhats.append(yhat[0])\n",
    "        self.betas = np.array(self.betas).flatten()\n",
    "        self.yhats = np.array(self.yhats).reshape(self.y.shape)\n",
    "            \n",
    "        self.SSE = np.sum((self.y - self.yhats)**2)\n",
    "        self.MSE = self.SSE / float(self.n)\n",
    "        self.SST = np.sum((self.y - np.mean(self.y))**2)\n",
    "        self.SSR = self.SST - self.SSE\n",
    "        self.R2 = self.SSR/self.SST\n",
    "        \n",
    "        self.MSR = self.SSR / self.p\n",
    "        self.MST = self.SST / (self.n - self.p - 1)\n",
    "        self.F = self.MSR/self.MST\n",
    "        \n",
    "    def __repr__(self):\n",
    "        return \"This is a GWR model\""
   ]
  },
  {
   "cell_type": "code",
   "execution_count": 244,
   "metadata": {
    "collapsed": false
   },
   "outputs": [],
   "source": [
    "mod = BaseGWR(y, X, W)"
   ]
  },
  {
   "cell_type": "code",
   "execution_count": 246,
   "metadata": {
    "collapsed": false
   },
   "outputs": [
    {
     "data": {
      "text/plain": [
       "array([ 86.53224885,   0.16213264,  -1.53927348])"
      ]
     },
     "execution_count": 246,
     "metadata": {},
     "output_type": "execute_result"
    }
   ],
   "source": [
    "mod.betas[0:3]"
   ]
  },
  {
   "cell_type": "code",
   "execution_count": 247,
   "metadata": {
    "collapsed": false
   },
   "outputs": [
    {
     "data": {
      "text/plain": [
       "This is a GWR model"
      ]
     },
     "execution_count": 247,
     "metadata": {},
     "output_type": "execute_result"
    }
   ],
   "source": [
    "mod"
   ]
  },
  {
   "cell_type": "code",
   "execution_count": 226,
   "metadata": {
    "collapsed": false
   },
   "outputs": [],
   "source": [
    "import scipy.stats as st"
   ]
  },
  {
   "cell_type": "code",
   "execution_count": 227,
   "metadata": {
    "collapsed": false
   },
   "outputs": [
    {
     "data": {
      "text/plain": [
       "2.1027624086400465e-13"
      ]
     },
     "execution_count": 227,
     "metadata": {},
     "output_type": "execute_result"
    }
   ],
   "source": [
    "1 - st.f.cdf(mod.F, mod.n-1, mod.n-mod.p-1)"
   ]
  },
  {
   "cell_type": "code",
   "execution_count": 228,
   "metadata": {
    "collapsed": false
   },
   "outputs": [],
   "source": [
    "classical = ps.spreg.OLS(y, np.hstack((X1,X2)))"
   ]
  },
  {
   "cell_type": "code",
   "execution_count": 229,
   "metadata": {
    "collapsed": false
   },
   "outputs": [
    {
     "data": {
      "text/plain": [
       "(12.35819888535632, 5.0636903313961772e-05)"
      ]
     },
     "execution_count": 229,
     "metadata": {},
     "output_type": "execute_result"
    }
   ],
   "source": [
    "classical.f_stat"
   ]
  },
  {
   "cell_type": "code",
   "execution_count": 230,
   "metadata": {
    "collapsed": false
   },
   "outputs": [
    {
     "data": {
      "text/plain": [
       "10.739817104530468"
      ]
     },
     "execution_count": 230,
     "metadata": {},
     "output_type": "execute_result"
    }
   ],
   "source": [
    "mod.F"
   ]
  }
 ],
 "metadata": {
  "kernelspec": {
   "display_name": "Python 2",
   "language": "python",
   "name": "python2"
  },
  "language_info": {
   "codemirror_mode": {
    "name": "ipython",
    "version": 2
   },
   "file_extension": ".py",
   "mimetype": "text/x-python",
   "name": "python",
   "nbconvert_exporter": "python",
   "pygments_lexer": "ipython2",
   "version": "2.7.9"
  }
 },
 "nbformat": 4,
 "nbformat_minor": 0
}
