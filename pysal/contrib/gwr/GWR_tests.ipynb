{
 "cells": [
  {
   "cell_type": "code",
   "execution_count": 1,
   "metadata": {
    "collapsed": false
   },
   "outputs": [],
   "source": [
    "import numpy as np\n",
    "import pysal\n",
    "import os\n",
    "os.chdir('/Users/qszhao/Dropbox/pysal/pysal/contrib/gwr')\n",
    "from glm import GLM\n",
    "from gwr import GWR\n",
    "from sel_bw import Sel_BW"
   ]
  },
  {
   "cell_type": "code",
   "execution_count": 2,
   "metadata": {
    "collapsed": false
   },
   "outputs": [
    {
     "name": "stdout",
     "output_type": "stream",
     "text": [
      "[[ 19.531     15.72598 ]\n",
      " [ 21.232     18.801754]\n",
      " [ 15.956     30.626781]\n",
      " [  4.477     32.38776 ]\n",
      " [ 11.252     50.73151 ]\n",
      " [ 16.028999  26.066658]\n",
      " [  8.438      0.178269]\n",
      " [ 11.337     38.425858]\n",
      " [ 17.586     30.515917]\n",
      " [ 13.598     34.000835]\n",
      " [  7.467     62.275448]\n",
      " [ 10.048     56.705669]\n",
      " [  9.549     46.716129]\n",
      " [  9.963     57.066132]\n",
      " [  9.873     48.585487]\n",
      " [  7.625     54.838711]\n",
      " [  9.798     36.868774]\n",
      " [ 13.185     43.962486]\n",
      " [ 11.618     54.521965]\n",
      " [ 31.07       0.223797]\n",
      " [ 10.655     40.074074]\n",
      " [ 11.709     33.705048]\n",
      " [ 21.155001  20.048504]\n",
      " [ 14.236     38.297871]\n",
      " [  8.461     61.299175]\n",
      " [  8.085     40.969742]\n",
      " [ 10.822     52.79443 ]\n",
      " [  7.856     56.919785]\n",
      " [  8.681     60.750446]\n",
      " [ 13.906     68.892044]\n",
      " [ 16.940001  17.677214]\n",
      " [ 18.941999  19.145592]\n",
      " [  9.918     41.968163]\n",
      " [ 14.948     23.974028]\n",
      " [ 12.814     39.175053]\n",
      " [ 18.739     14.305556]\n",
      " [ 17.017     42.445076]\n",
      " [ 11.107     53.710938]\n",
      " [ 18.476999  19.100863]\n",
      " [ 29.833     16.241299]\n",
      " [ 22.207001  18.905146]\n",
      " [ 25.872999  16.49189 ]\n",
      " [ 13.38      36.663612]\n",
      " [ 16.961     25.962263]\n",
      " [ 14.135     29.028488]\n",
      " [ 18.323999  16.530533]\n",
      " [ 18.950001  27.822861]\n",
      " [ 11.813     26.645266]\n",
      " [ 18.796     22.541491]]\n"
     ]
    }
   ],
   "source": [
    "db = pysal.open(pysal.examples.get_path('columbus.dbf'),'r')\n",
    "y = np.array(db.by_col(\"HOVAL\"))\n",
    "y = np.reshape(y, (49,1))\n",
    "#print y\n",
    "X = []\n",
    "X.append(db.by_col(\"INC\"))\n",
    "X.append(db.by_col(\"CRIME\"))\n",
    "X = np.array(X).T\n",
    "print X\n",
    "x_coord = db.by_col('X')\n",
    "y_coord = db.by_col('Y')\n",
    "coords = np.array(zip(x_coord, y_coord))\n",
    "#X = np.hstack((np.ones(y.shape),X))"
   ]
  },
  {
   "cell_type": "code",
   "execution_count": 3,
   "metadata": {
    "collapsed": false,
    "scrolled": false
   },
   "outputs": [
    {
     "name": "stdout",
     "output_type": "stream",
     "text": [
      "6.05404066058\n",
      "((49, 1), (49, 2))\n",
      "[[ 80.467003]\n",
      " [ 44.567001]\n",
      " [ 26.35    ]\n",
      " [ 33.200001]\n",
      " [ 23.225   ]\n",
      " [ 28.75    ]\n",
      " [ 75.      ]\n",
      " [ 37.125   ]\n",
      " [ 52.599998]\n",
      " [ 96.400002]\n",
      " [ 19.700001]\n",
      " [ 19.9     ]\n",
      " [ 41.700001]\n",
      " [ 42.900002]\n",
      " [ 18.      ]\n",
      " [ 18.799999]\n",
      " [ 41.75    ]\n",
      " [ 60.      ]\n",
      " [ 30.6     ]\n",
      " [ 81.266998]\n",
      " [ 19.975   ]\n",
      " [ 30.450001]\n",
      " [ 47.733002]\n",
      " [ 53.200001]\n",
      " [ 17.9     ]\n",
      " [ 20.299999]\n",
      " [ 34.099998]\n",
      " [ 22.85    ]\n",
      " [ 32.5     ]\n",
      " [ 22.5     ]\n",
      " [ 31.799999]\n",
      " [ 40.299999]\n",
      " [ 23.6     ]\n",
      " [ 28.450001]\n",
      " [ 27.      ]\n",
      " [ 36.299999]\n",
      " [ 43.299999]\n",
      " [ 22.700001]\n",
      " [ 39.599998]\n",
      " [ 61.950001]\n",
      " [ 42.099998]\n",
      " [ 44.333   ]\n",
      " [ 25.700001]\n",
      " [ 33.5     ]\n",
      " [ 27.733   ]\n",
      " [ 76.099998]\n",
      " [ 42.5     ]\n",
      " [ 26.799999]\n",
      " [ 35.799999]]\n",
      "[[ 19.531     15.72598 ]\n",
      " [ 21.232     18.801754]\n",
      " [ 15.956     30.626781]\n",
      " [  4.477     32.38776 ]\n",
      " [ 11.252     50.73151 ]\n",
      " [ 16.028999  26.066658]\n",
      " [  8.438      0.178269]\n",
      " [ 11.337     38.425858]\n",
      " [ 17.586     30.515917]\n",
      " [ 13.598     34.000835]\n",
      " [  7.467     62.275448]\n",
      " [ 10.048     56.705669]\n",
      " [  9.549     46.716129]\n",
      " [  9.963     57.066132]\n",
      " [  9.873     48.585487]\n",
      " [  7.625     54.838711]\n",
      " [  9.798     36.868774]\n",
      " [ 13.185     43.962486]\n",
      " [ 11.618     54.521965]\n",
      " [ 31.07       0.223797]\n",
      " [ 10.655     40.074074]\n",
      " [ 11.709     33.705048]\n",
      " [ 21.155001  20.048504]\n",
      " [ 14.236     38.297871]\n",
      " [  8.461     61.299175]\n",
      " [  8.085     40.969742]\n",
      " [ 10.822     52.79443 ]\n",
      " [  7.856     56.919785]\n",
      " [  8.681     60.750446]\n",
      " [ 13.906     68.892044]\n",
      " [ 16.940001  17.677214]\n",
      " [ 18.941999  19.145592]\n",
      " [  9.918     41.968163]\n",
      " [ 14.948     23.974028]\n",
      " [ 12.814     39.175053]\n",
      " [ 18.739     14.305556]\n",
      " [ 17.017     42.445076]\n",
      " [ 11.107     53.710938]\n",
      " [ 18.476999  19.100863]\n",
      " [ 29.833     16.241299]\n",
      " [ 22.207001  18.905146]\n",
      " [ 25.872999  16.49189 ]\n",
      " [ 13.38      36.663612]\n",
      " [ 16.961     25.962263]\n",
      " [ 14.135     29.028488]\n",
      " [ 18.323999  16.530533]\n",
      " [ 18.950001  27.822861]\n",
      " [ 11.813     26.645266]\n",
      " [ 18.796     22.541491]]\n",
      "6.05404066058\n",
      "((3, 1), (49, 1))\n",
      "[[ 46.42818268]\n",
      " [  0.62898397]\n",
      " [ -0.48488854]]\n",
      "[[ 51.08752105]\n",
      " [ 50.66601521]\n",
      " [ 41.61367567]\n",
      " [ 33.53969014]\n",
      " [ 28.90638232]\n",
      " [ 43.87074227]\n",
      " [ 51.64910882]\n",
      " [ 34.92671563]\n",
      " [ 42.69267622]\n",
      " [ 38.49449134]\n",
      " [ 20.92815471]\n",
      " [ 25.25228436]\n",
      " [ 29.78223486]\n",
      " [ 25.02403635]\n",
      " [ 29.07959539]\n",
      " [ 24.63352275]\n",
      " [ 34.71372149]\n",
      " [ 33.40443052]\n",
      " [ 27.29864225]\n",
      " [ 65.86219802]\n",
      " [ 33.69854751]\n",
      " [ 37.44976435]\n",
      " [ 50.01304928]\n",
      " [ 36.81219959]\n",
      " [ 22.02674837]\n",
      " [ 31.64775955]\n",
      " [ 27.63563294]\n",
      " [ 23.7697291 ]\n",
      " [ 22.43119725]\n",
      " [ 21.76987089]\n",
      " [ 48.51169321]\n",
      " [ 49.05891819]\n",
      " [ 32.31656426]\n",
      " [ 44.20550354]\n",
      " [ 35.49244888]\n",
      " [ 51.27811308]\n",
      " [ 36.55047181]\n",
      " [ 27.37048914]\n",
      " [ 48.78812922]\n",
      " [ 57.31744163]\n",
      " [ 51.22914162]\n",
      " [ 54.70515578]\n",
      " [ 37.06622277]\n",
      " [ 44.5075759 ]\n",
      " [ 41.24328983]\n",
      " [ 49.93821824]\n",
      " [ 44.85644299]\n",
      " [ 40.93838609]\n",
      " [ 47.32045464]]\n"
     ]
    },
    {
     "ename": "Exception",
     "evalue": "arrays not all of same length",
     "output_type": "error",
     "traceback": [
      "\u001b[0;31m---------------------------------------------------------------------------\u001b[0m",
      "\u001b[0;31mException\u001b[0m                                 Traceback (most recent call last)",
      "\u001b[0;32m<ipython-input-3-bfa78a6c34b2>\u001b[0m in \u001b[0;36m<module>\u001b[0;34m()\u001b[0m\n\u001b[0;32m----> 1\u001b[0;31m \u001b[0mbw\u001b[0m \u001b[0;34m=\u001b[0m \u001b[0mSel_BW\u001b[0m\u001b[0;34m(\u001b[0m\u001b[0mcoords\u001b[0m\u001b[0;34m,\u001b[0m \u001b[0my\u001b[0m\u001b[0;34m,\u001b[0m \u001b[0mX\u001b[0m\u001b[0;34m,\u001b[0m \u001b[0mnp\u001b[0m\u001b[0;34m.\u001b[0m\u001b[0marray\u001b[0m\u001b[0;34m(\u001b[0m\u001b[0;34m[\u001b[0m\u001b[0;34m]\u001b[0m\u001b[0;34m)\u001b[0m\u001b[0;34m,\u001b[0m \u001b[0mfixed\u001b[0m\u001b[0;34m=\u001b[0m\u001b[0mTrue\u001b[0m\u001b[0;34m)\u001b[0m\u001b[0;34m\u001b[0m\u001b[0m\n\u001b[0m",
      "\u001b[0;32m/Users/qszhao/Dropbox/pysal/pysal/contrib/gwr/sel_bw.pyc\u001b[0m in \u001b[0;36m__init__\u001b[0;34m(self, coords, y, x_loc, x_glob, family, y_off, kernel, fixed, criterion, search, bw_min, bw_max, interval, tol, max_iter)\u001b[0m\n\u001b[1;32m    127\u001b[0m             \u001b[0mdelta\u001b[0m \u001b[0;34m=\u001b[0m \u001b[0;36m0.38197\u001b[0m \u001b[0;31m#1 - (np.sqrt(5.0)-1.0)/2.0\u001b[0m\u001b[0;34m\u001b[0m\u001b[0m\n\u001b[1;32m    128\u001b[0m             return golden_section(a, c, delta, function, tol, max_iter,\n\u001b[0;32m--> 129\u001b[0;31m                     int_score)\n\u001b[0m\u001b[1;32m    130\u001b[0m         \u001b[0;32melif\u001b[0m \u001b[0msearch\u001b[0m \u001b[0;34m==\u001b[0m \u001b[0;34m'interval'\u001b[0m\u001b[0;34m:\u001b[0m\u001b[0;34m\u001b[0m\u001b[0m\n\u001b[1;32m    131\u001b[0m             return interval(l_bound, u_bound, interval, function,\n",
      "\u001b[0;32m/Users/qszhao/Dropbox/pysal/pysal/contrib/gwr/search.pyc\u001b[0m in \u001b[0;36mgolden_section\u001b[0;34m(a, c, delta, function, tol, max_iter, int_score)\u001b[0m\n\u001b[1;32m     44\u001b[0m             \u001b[0md\u001b[0m \u001b[0;34m=\u001b[0m \u001b[0mround\u001b[0m\u001b[0;34m(\u001b[0m\u001b[0md\u001b[0m\u001b[0;34m,\u001b[0m\u001b[0;36m0\u001b[0m\u001b[0;34m)\u001b[0m\u001b[0;34m\u001b[0m\u001b[0m\n\u001b[1;32m     45\u001b[0m         \u001b[0;32mprint\u001b[0m \u001b[0ma\u001b[0m\u001b[0;34m\u001b[0m\u001b[0m\n\u001b[0;32m---> 46\u001b[0;31m         \u001b[0mscore_a\u001b[0m \u001b[0;34m=\u001b[0m \u001b[0mfunction\u001b[0m\u001b[0;34m(\u001b[0m\u001b[0ma\u001b[0m\u001b[0;34m)\u001b[0m\u001b[0;34m\u001b[0m\u001b[0m\n\u001b[0m\u001b[1;32m     47\u001b[0m         \u001b[0mscore_b\u001b[0m \u001b[0;34m=\u001b[0m \u001b[0mfunction\u001b[0m\u001b[0;34m(\u001b[0m\u001b[0mb\u001b[0m\u001b[0;34m)\u001b[0m\u001b[0;34m\u001b[0m\u001b[0m\n\u001b[1;32m     48\u001b[0m         \u001b[0mscore_c\u001b[0m \u001b[0;34m=\u001b[0m \u001b[0mfunction\u001b[0m\u001b[0;34m(\u001b[0m\u001b[0mc\u001b[0m\u001b[0;34m)\u001b[0m\u001b[0;34m\u001b[0m\u001b[0m\n",
      "\u001b[0;32m/Users/qszhao/Dropbox/pysal/pysal/contrib/gwr/sel_bw.pyc\u001b[0m in \u001b[0;36m<lambda>\u001b[0;34m(x)\u001b[0m\n\u001b[1;32m    115\u001b[0m         function = lambda x: getDiag[criterion](\n\u001b[1;32m    116\u001b[0m                 GWR(coords, y, x_loc, x, family=family,\n\u001b[0;32m--> 117\u001b[0;31m                     fixed=fixed).fit())\n\u001b[0m\u001b[1;32m    118\u001b[0m \u001b[0;34m\u001b[0m\u001b[0m\n\u001b[1;32m    119\u001b[0m         \u001b[0;32mif\u001b[0m \u001b[0mktype\u001b[0m \u001b[0;34m%\u001b[0m \u001b[0;36m2\u001b[0m \u001b[0;34m==\u001b[0m \u001b[0;36m0\u001b[0m\u001b[0;34m:\u001b[0m\u001b[0;34m\u001b[0m\u001b[0m\n",
      "\u001b[0;32m/Users/qszhao/Dropbox/pysal/pysal/contrib/gwr/gwr.py\u001b[0m in \u001b[0;36mfit\u001b[0;34m(self, ini_betas, tol, max_iter, solve)\u001b[0m\n\u001b[1;32m    128\u001b[0m             \u001b[0mey\u001b[0m \u001b[0;34m=\u001b[0m \u001b[0mself\u001b[0m\u001b[0;34m.\u001b[0m\u001b[0my\u001b[0m\u001b[0;34m/\u001b[0m\u001b[0mself\u001b[0m\u001b[0;34m.\u001b[0m\u001b[0moffset\u001b[0m\u001b[0;34m\u001b[0m\u001b[0m\n\u001b[1;32m    129\u001b[0m             \u001b[0;32mif\u001b[0m \u001b[0mself\u001b[0m\u001b[0;34m.\u001b[0m\u001b[0mfamily\u001b[0m\u001b[0;34m==\u001b[0m\u001b[0;34m'Gaussian'\u001b[0m\u001b[0;34m:\u001b[0m\u001b[0;34m\u001b[0m\u001b[0m\n\u001b[0;32m--> 130\u001b[0;31m                 \u001b[0mresults\u001b[0m \u001b[0;34m=\u001b[0m \u001b[0mGWRResults\u001b[0m\u001b[0;34m(\u001b[0m\u001b[0mself\u001b[0m\u001b[0;34m,\u001b[0m \u001b[0;34m*\u001b[0m\u001b[0mgauss_iwls\u001b[0m\u001b[0;34m(\u001b[0m\u001b[0mself\u001b[0m\u001b[0;34m)\u001b[0m\u001b[0;34m)\u001b[0m\u001b[0;34m\u001b[0m\u001b[0m\n\u001b[0m\u001b[1;32m    131\u001b[0m             \u001b[0;32mif\u001b[0m \u001b[0mself\u001b[0m\u001b[0;34m.\u001b[0m\u001b[0mfamily\u001b[0m\u001b[0;34m==\u001b[0m\u001b[0;34m'Poisson'\u001b[0m\u001b[0;34m:\u001b[0m\u001b[0;34m\u001b[0m\u001b[0m\n\u001b[1;32m    132\u001b[0m                 \u001b[0mresults\u001b[0m \u001b[0;34m=\u001b[0m  \u001b[0mGWRResults\u001b[0m\u001b[0;34m(\u001b[0m\u001b[0mself\u001b[0m\u001b[0;34m,\u001b[0m \u001b[0;34m*\u001b[0m\u001b[0mpoiss_iwls\u001b[0m\u001b[0;34m(\u001b[0m\u001b[0mself\u001b[0m\u001b[0;34m)\u001b[0m\u001b[0;34m)\u001b[0m\u001b[0;34m\u001b[0m\u001b[0m\n",
      "\u001b[0;32m/Users/qszhao/Dropbox/pysal/pysal/contrib/gwr/gwr.py\u001b[0m in \u001b[0;36m__init__\u001b[0;34m(self, coords, y, x, bw, family, offset, y_fix, sigma2_v1, kernel, fixed, sMatrix)\u001b[0m\n\u001b[1;32m     61\u001b[0m         \u001b[0;32mprint\u001b[0m\u001b[0;34m(\u001b[0m\u001b[0my\u001b[0m\u001b[0;34m)\u001b[0m\u001b[0;34m\u001b[0m\u001b[0m\n\u001b[1;32m     62\u001b[0m         \u001b[0;32mprint\u001b[0m\u001b[0;34m(\u001b[0m\u001b[0mx\u001b[0m\u001b[0;34m)\u001b[0m\u001b[0;34m\u001b[0m\u001b[0m\n\u001b[0;32m---> 63\u001b[0;31m         \u001b[0mself\u001b[0m\u001b[0;34m.\u001b[0m\u001b[0mn\u001b[0m \u001b[0;34m=\u001b[0m \u001b[0mUSER\u001b[0m\u001b[0;34m.\u001b[0m\u001b[0mcheck_arrays\u001b[0m\u001b[0;34m(\u001b[0m\u001b[0my\u001b[0m\u001b[0;34m,\u001b[0m \u001b[0mx\u001b[0m\u001b[0;34m)\u001b[0m\u001b[0;34m\u001b[0m\u001b[0m\n\u001b[0m\u001b[1;32m     64\u001b[0m         \u001b[0mUSER\u001b[0m\u001b[0;34m.\u001b[0m\u001b[0mcheck_y\u001b[0m\u001b[0;34m(\u001b[0m\u001b[0my\u001b[0m\u001b[0;34m,\u001b[0m \u001b[0mself\u001b[0m\u001b[0;34m.\u001b[0m\u001b[0mn\u001b[0m\u001b[0;34m)\u001b[0m\u001b[0;34m\u001b[0m\u001b[0m\n\u001b[1;32m     65\u001b[0m         \u001b[0mself\u001b[0m\u001b[0;34m.\u001b[0m\u001b[0my\u001b[0m \u001b[0;34m=\u001b[0m \u001b[0my\u001b[0m\u001b[0;34m\u001b[0m\u001b[0m\n",
      "\u001b[0;32m/Users/qszhao/anaconda/lib/python2.7/site-packages/pysal/spreg/user_output.pyc\u001b[0m in \u001b[0;36mcheck_arrays\u001b[0;34m(*arrays)\u001b[0m\n\u001b[1;32m    360\u001b[0m         \u001b[0mrows\u001b[0m\u001b[0;34m.\u001b[0m\u001b[0mappend\u001b[0m\u001b[0;34m(\u001b[0m\u001b[0mshape\u001b[0m\u001b[0;34m[\u001b[0m\u001b[0;36m0\u001b[0m\u001b[0;34m]\u001b[0m\u001b[0;34m)\u001b[0m\u001b[0;34m\u001b[0m\u001b[0m\n\u001b[1;32m    361\u001b[0m     \u001b[0;32mif\u001b[0m \u001b[0mlen\u001b[0m\u001b[0;34m(\u001b[0m\u001b[0mset\u001b[0m\u001b[0;34m(\u001b[0m\u001b[0mrows\u001b[0m\u001b[0;34m)\u001b[0m\u001b[0;34m)\u001b[0m \u001b[0;34m>\u001b[0m \u001b[0;36m1\u001b[0m\u001b[0;34m:\u001b[0m\u001b[0;34m\u001b[0m\u001b[0m\n\u001b[0;32m--> 362\u001b[0;31m         \u001b[0;32mraise\u001b[0m \u001b[0mException\u001b[0m\u001b[0;34m,\u001b[0m \u001b[0;34m\"arrays not all of same length\"\u001b[0m\u001b[0;34m\u001b[0m\u001b[0m\n\u001b[0m\u001b[1;32m    363\u001b[0m     \u001b[0;32mreturn\u001b[0m \u001b[0mrows\u001b[0m\u001b[0;34m[\u001b[0m\u001b[0;36m0\u001b[0m\u001b[0;34m]\u001b[0m\u001b[0;34m\u001b[0m\u001b[0m\n\u001b[1;32m    364\u001b[0m \u001b[0;34m\u001b[0m\u001b[0m\n",
      "\u001b[0;31mException\u001b[0m: arrays not all of same length"
     ]
    }
   ],
   "source": [
    "bw = Sel_BW(coords, y, X, np.array([]), fixed=True)"
   ]
  },
  {
   "cell_type": "code",
   "execution_count": null,
   "metadata": {
    "collapsed": false
   },
   "outputs": [],
   "source": [
    "GWR(coords, y, X, np.array([]), family = 'Gaussian')"
   ]
  },
  {
   "cell_type": "code",
   "execution_count": null,
   "metadata": {
    "collapsed": true
   },
   "outputs": [],
   "source": [
    "def add(a,b):\n",
    "    return a + b\n"
   ]
  },
  {
   "cell_type": "code",
   "execution_count": null,
   "metadata": {
    "collapsed": true
   },
   "outputs": [],
   "source": [
    "a = 6"
   ]
  },
  {
   "cell_type": "code",
   "execution_count": null,
   "metadata": {
    "collapsed": true
   },
   "outputs": [],
   "source": [
    "add6 = lambda x: add(a,x)"
   ]
  },
  {
   "cell_type": "code",
   "execution_count": null,
   "metadata": {
    "collapsed": false
   },
   "outputs": [],
   "source": [
    "add6(7)"
   ]
  },
  {
   "cell_type": "code",
   "execution_count": null,
   "metadata": {
    "collapsed": true
   },
   "outputs": [],
   "source": [
    "a= 10"
   ]
  },
  {
   "cell_type": "code",
   "execution_count": null,
   "metadata": {
    "collapsed": false
   },
   "outputs": [],
   "source": [
    "add6(5)"
   ]
  },
  {
   "cell_type": "code",
   "execution_count": null,
   "metadata": {
    "collapsed": true
   },
   "outputs": [],
   "source": [
    "import functools"
   ]
  },
  {
   "cell_type": "code",
   "execution_count": null,
   "metadata": {
    "collapsed": true
   },
   "outputs": [],
   "source": [
    "functools.partial?"
   ]
  },
  {
   "cell_type": "code",
   "execution_count": null,
   "metadata": {
    "collapsed": false
   },
   "outputs": [],
   "source": [
    "a = 6"
   ]
  },
  {
   "cell_type": "code",
   "execution_count": null,
   "metadata": {
    "collapsed": true
   },
   "outputs": [],
   "source": [
    "add6 = functools.partial(add, a)"
   ]
  },
  {
   "cell_type": "code",
   "execution_count": null,
   "metadata": {
    "collapsed": false
   },
   "outputs": [],
   "source": [
    "add6(9)"
   ]
  },
  {
   "cell_type": "code",
   "execution_count": null,
   "metadata": {
    "collapsed": true
   },
   "outputs": [],
   "source": [
    "a = 33"
   ]
  },
  {
   "cell_type": "code",
   "execution_count": null,
   "metadata": {
    "collapsed": false
   },
   "outputs": [],
   "source": [
    "add6(9)"
   ]
  },
  {
   "cell_type": "code",
   "execution_count": null,
   "metadata": {
    "collapsed": true
   },
   "outputs": [],
   "source": [
    "#lambda didn’t create the closure. "
   ]
  }
 ],
 "metadata": {
  "kernelspec": {
   "display_name": "Python 2",
   "language": "python",
   "name": "python2"
  },
  "language_info": {
   "codemirror_mode": {
    "name": "ipython",
    "version": 2
   },
   "file_extension": ".py",
   "mimetype": "text/x-python",
   "name": "python",
   "nbconvert_exporter": "python",
   "pygments_lexer": "ipython2",
   "version": "2.7.11"
  }
 },
 "nbformat": 4,
 "nbformat_minor": 0
}
