{
 "cells": [
  {
   "cell_type": "code",
   "execution_count": 3,
   "metadata": {
    "collapsed": true
   },
   "outputs": [],
   "source": [
    "import numpy as np\n",
    "import pysal\n",
    "import os\n",
    "os.chdir('/Users/toshan/projects/GIS596/pysal/pysal/contrib/gwr')\n",
    "from kernels import *\n",
    "import matplotlib"
   ]
  },
  {
   "cell_type": "code",
   "execution_count": 58,
   "metadata": {
    "collapsed": false
   },
   "outputs": [],
   "source": [
    "np.random.seed(1234)\n",
    "x = np.arange(1,6)\n",
    "y = np.arange(5,0, -1)\n",
    "\n"
   ]
  },
  {
   "cell_type": "code",
   "execution_count": 59,
   "metadata": {
    "collapsed": false
   },
   "outputs": [],
   "source": [
    "np.random.shuffle(x)\n",
    "np.random.shuffle(y)"
   ]
  },
  {
   "cell_type": "code",
   "execution_count": 60,
   "metadata": {
    "collapsed": false
   },
   "outputs": [
    {
     "name": "stdout",
     "output_type": "stream",
     "text": [
      "[5 1 2 3 4]\n",
      "[2 3 4 5 1]\n"
     ]
    }
   ],
   "source": [
    "print x\n",
    "print y"
   ]
  },
  {
   "cell_type": "code",
   "execution_count": 61,
   "metadata": {
    "collapsed": true
   },
   "outputs": [],
   "source": [
    "coords = np.array(zip(x,y))"
   ]
  },
  {
   "cell_type": "code",
   "execution_count": 62,
   "metadata": {
    "collapsed": false
   },
   "outputs": [
    {
     "data": {
      "text/plain": [
       "array([[5, 2],\n",
       "       [1, 3],\n",
       "       [2, 4],\n",
       "       [3, 5],\n",
       "       [4, 1]])"
      ]
     },
     "execution_count": 62,
     "metadata": {},
     "output_type": "execute_result"
    }
   ],
   "source": [
    "coords"
   ]
  },
  {
   "cell_type": "code",
   "execution_count": 63,
   "metadata": {
    "collapsed": false
   },
   "outputs": [
    {
     "data": {
      "text/plain": [
       "array([[ 1.        ,  0.38889556,  0.48567179,  0.48567179,  0.89483932],\n",
       "       [ 0.38889556,  1.        ,  0.89483932,  0.64118039,  0.48567179],\n",
       "       [ 0.48567179,  0.89483932,  1.        ,  0.89483932,  0.48567179],\n",
       "       [ 0.48567179,  0.64118039,  0.89483932,  1.        ,  0.38889556],\n",
       "       [ 0.89483932,  0.48567179,  0.48567179,  0.38889556,  1.        ]])"
      ]
     },
     "execution_count": 63,
     "metadata": {},
     "output_type": "execute_result"
    }
   ],
   "source": [
    "fix_gauss(coords, 3)"
   ]
  },
  {
   "cell_type": "code",
   "execution_count": 64,
   "metadata": {
    "collapsed": false
   },
   "outputs": [
    {
     "data": {
      "text/plain": [
       "array([[ 1.        ,  0.52004183,  0.60653072,  0.60653072,  0.92596109],\n",
       "       [ 0.34559083,  1.        ,  0.88249692,  0.60653072,  0.44374738],\n",
       "       [ 0.03877423,  0.60653072,  1.        ,  0.60653072,  0.03877423],\n",
       "       [ 0.44374738,  0.60653072,  0.88249692,  1.        ,  0.34559083],\n",
       "       [ 0.92596109,  0.60653072,  0.60653072,  0.52004183,  1.        ]])"
      ]
     },
     "execution_count": 64,
     "metadata": {},
     "output_type": "execute_result"
    }
   ],
   "source": [
    "adapt_gauss(coords, 3)"
   ]
  },
  {
   "cell_type": "code",
   "execution_count": 65,
   "metadata": {
    "collapsed": false
   },
   "outputs": [
    {
     "data": {
      "text/plain": [
       "array([[ 1.        ,  0.        ,  0.        ,  0.        ,  0.60493827],\n",
       "       [ 0.        ,  1.        ,  0.60493827,  0.01234568,  0.        ],\n",
       "       [ 0.        ,  0.60493827,  1.        ,  0.60493827,  0.        ],\n",
       "       [ 0.        ,  0.01234568,  0.60493827,  1.        ,  0.        ],\n",
       "       [ 0.60493827,  0.        ,  0.        ,  0.        ,  1.        ]])"
      ]
     },
     "execution_count": 65,
     "metadata": {},
     "output_type": "execute_result"
    }
   ],
   "source": [
    "fix_bisquare(coords, 3)"
   ]
  },
  {
   "cell_type": "code",
   "execution_count": 68,
   "metadata": {
    "collapsed": false
   },
   "outputs": [
    {
     "data": {
      "text/plain": [
       "array([[  1.00000000e+00,   0.00000000e+00,   0.00000000e+00,\n",
       "          3.99999881e-14,   7.15976383e-01],\n",
       "       [  0.00000000e+00,   1.00000000e+00,   5.62500075e-01,\n",
       "          3.99999881e-14,   0.00000000e+00],\n",
       "       [  0.00000000e+00,   3.99999881e-14,   1.00000000e+00,\n",
       "          3.99999881e-14,   0.00000000e+00],\n",
       "       [  0.00000000e+00,   3.99999881e-14,   5.62500075e-01,\n",
       "          1.00000000e+00,   0.00000000e+00],\n",
       "       [  7.15976383e-01,   0.00000000e+00,   3.99999881e-14,\n",
       "          0.00000000e+00,   1.00000000e+00]])"
      ]
     },
     "execution_count": 68,
     "metadata": {},
     "output_type": "execute_result"
    }
   ],
   "source": [
    "adapt_bisquare(coords, 3)"
   ]
  },
  {
   "cell_type": "code",
   "execution_count": 69,
   "metadata": {
    "collapsed": false
   },
   "outputs": [
    {
     "data": {
      "text/plain": [
       "array([[ 1.        ,  0.2529993 ,  0.30063739,  0.30063739,  0.62412506],\n",
       "       [ 0.2529993 ,  1.        ,  0.62412506,  0.38953209,  0.30063739],\n",
       "       [ 0.30063739,  0.62412506,  1.        ,  0.62412506,  0.30063739],\n",
       "       [ 0.30063739,  0.38953209,  0.62412506,  1.        ,  0.2529993 ],\n",
       "       [ 0.62412506,  0.30063739,  0.30063739,  0.2529993 ,  1.        ]])"
      ]
     },
     "execution_count": 69,
     "metadata": {},
     "output_type": "execute_result"
    }
   ],
   "source": [
    "fix_exp(coords, 3)"
   ]
  },
  {
   "cell_type": "code",
   "execution_count": 70,
   "metadata": {
    "collapsed": false
   },
   "outputs": [
    {
     "data": {
      "text/plain": [
       "array([[ 1.        ,  0.31868771,  0.36787948,  0.36787948,  0.67554721],\n",
       "       [ 0.23276223,  1.        ,  0.60653069,  0.36787948,  0.27949951],\n",
       "       [ 0.07811997,  0.36787948,  1.        ,  0.36787948,  0.07811997],\n",
       "       [ 0.27949951,  0.36787948,  0.60653069,  1.        ,  0.23276223],\n",
       "       [ 0.67554721,  0.36787948,  0.36787948,  0.31868771,  1.        ]])"
      ]
     },
     "execution_count": 70,
     "metadata": {},
     "output_type": "execute_result"
    }
   ],
   "source": [
    "adapt_exp(coords, 3)"
   ]
  },
  {
   "cell_type": "code",
   "execution_count": null,
   "metadata": {
    "collapsed": true
   },
   "outputs": [],
   "source": []
  }
 ],
 "metadata": {
  "kernelspec": {
   "display_name": "Python 2",
   "language": "python",
   "name": "python2"
  },
  "language_info": {
   "codemirror_mode": {
    "name": "ipython",
    "version": 2
   },
   "file_extension": ".py",
   "mimetype": "text/x-python",
   "name": "python",
   "nbconvert_exporter": "python",
   "pygments_lexer": "ipython2",
   "version": "2.7.9"
  }
 },
 "nbformat": 4,
 "nbformat_minor": 0
}
