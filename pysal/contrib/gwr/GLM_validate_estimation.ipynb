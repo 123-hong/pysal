{
 "cells": [
  {
   "cell_type": "code",
   "execution_count": 1,
   "metadata": {
    "collapsed": false
   },
   "outputs": [],
   "source": [
    "#Import GLM and pysal\n",
    "import os\n",
    "import numpy as np\n",
    "#os.chdir('/Users/qszhao/Dropbox/pysal/pysal/contrib/gwr')\n",
    "os.chdir('/Users/toshan/projects/GIS596/pysal/pysal/contrib/gwr')\n",
    "from glm import GLM\n",
    "import pysal\n",
    "import pandas as pd\n",
    "import statsmodels.formula.api as smf\n",
    "import statsmodels.api as sm"
   ]
  },
  {
   "cell_type": "code",
   "execution_count": 2,
   "metadata": {
    "collapsed": false
   },
   "outputs": [],
   "source": [
    "#Prepare some test data - columbus example\n",
    "db = pysal.open(pysal.examples.get_path('columbus.dbf'),'r')\n",
    "y = np.array(db.by_col(\"HOVAL\"))\n",
    "y = np.reshape(y, (49,1))\n",
    "X = []\n",
    "X.append(db.by_col(\"INC\"))\n",
    "X.append(db.by_col(\"CRIME\"))\n",
    "X = np.array(X).T"
   ]
  },
  {
   "cell_type": "code",
   "execution_count": 3,
   "metadata": {
    "collapsed": false
   },
   "outputs": [
    {
     "name": "stdout",
     "output_type": "stream",
     "text": [
      "[[ 46.42818268]\n",
      " [  0.62898397]\n",
      " [ -0.48488854]]\n"
     ]
    }
   ],
   "source": [
    "#First fit pysal OLS model\n",
    "from pysal.spreg import ols\n",
    "OLS = ols.OLS(y, X)\n",
    "print OLS.betas"
   ]
  },
  {
   "cell_type": "code",
   "execution_count": 4,
   "metadata": {
    "collapsed": false,
    "scrolled": true
   },
   "outputs": [
    {
     "name": "stdout",
     "output_type": "stream",
     "text": [
      "[[ 46.42818268]\n",
      " [  0.62898397]\n",
      " [ -0.48488854]]\n"
     ]
    }
   ],
   "source": [
    "#Then fit Gaussian GLM\n",
    "\n",
    "#create Gaussian GLM model object\n",
    "model = GLM(y, X, 'Gaussian')\n",
    "model\n",
    "\n",
    "#Fit model to estimate coefficients and return GLMResults object\n",
    "results = model.fit()\n",
    "\n",
    "#Check coefficients - R betas [46.4282, 0.6290, -0.4849]\n",
    "print results.betas"
   ]
  },
  {
   "cell_type": "code",
   "execution_count": 5,
   "metadata": {
    "collapsed": false
   },
   "outputs": [
    {
     "name": "stdout",
     "output_type": "stream",
     "text": [
      "[ 46.42818268   0.62898397  -0.48488854]\n"
     ]
    }
   ],
   "source": [
    "# Gaussian GLM results from statsmodels\n",
    "sm_results = smf.OLS(y, sm.add_constant(X), ).fit()\n",
    "print sm_results.params"
   ]
  },
  {
   "cell_type": "code",
   "execution_count": 6,
   "metadata": {
    "collapsed": true
   },
   "outputs": [],
   "source": [
    "#check other diagnostics; need to be added! "
   ]
  },
  {
   "cell_type": "code",
   "execution_count": 7,
   "metadata": {
    "collapsed": false
   },
   "outputs": [
    {
     "data": {
      "text/plain": [
       "array([[ 3.91925951],\n",
       "       [ 0.01198275],\n",
       "       [-0.0137072 ]])"
      ]
     },
     "execution_count": 7,
     "metadata": {},
     "output_type": "execute_result"
    }
   ],
   "source": [
    "#Now fit a Poisson GLM \n",
    "\n",
    "poisson_y = np.round(y)\n",
    "\n",
    "#create Poisson GLM model object\n",
    "model = GLM(y, X, 'Poisson')\n",
    "model\n",
    "\n",
    "#Fit model to estimate coefficients and return GLMResults object\n",
    "results = model.fit()\n",
    "\n",
    "#Check coefficients - R betas [3.91926, 0.01198, -0.01371]\n",
    "results.betas"
   ]
  },
  {
   "cell_type": "code",
   "execution_count": 8,
   "metadata": {
    "collapsed": false
   },
   "outputs": [
    {
     "name": "stdout",
     "output_type": "stream",
     "text": [
      "[ 3.91925951  0.01198275 -0.0137072 ]\n"
     ]
    }
   ],
   "source": [
    "# Poisson GLM results from statsmodels\n",
    "sm_results = smf.GLM(y, sm.add_constant(X), family=sm.families.Poisson()).fit()\n",
    "print sm_results.params"
   ]
  },
  {
   "cell_type": "code",
   "execution_count": 10,
   "metadata": {
    "collapsed": false
   },
   "outputs": [
    {
     "data": {
      "text/plain": [
       "array([[-5.33638276],\n",
       "       [ 0.0287754 ]])"
      ]
     },
     "execution_count": 10,
     "metadata": {},
     "output_type": "execute_result"
    }
   ],
   "source": [
    "#Now fit a binomial GLM\n",
    "londonhp = pd.read_csv('/Users/toshan/projects/londonhp.csv')\n",
    "#londonhp = pd.read_csv('/Users/qszhao/Dropbox/pysal/pysal/contrib/gwr/londonhp.csv')\n",
    "y = londonhp['BATH2'].values\n",
    "y = np.reshape(y, (316,1))\n",
    "X = londonhp['FLOORSZ'].values\n",
    "X = np.reshape(X, (316,1))\n",
    "\n",
    "#create logistic GLM model object\n",
    "model = GLM(y, X, 'logistic')\n",
    "model\n",
    "\n",
    "#Fit model to estimate coefficients and return GLMResults object\n",
    "results = model.fit()\n",
    "\n",
    "#Check coefficients - R betas [-5.33638, 0.02878]\n",
    "results.betas"
   ]
  },
  {
   "cell_type": "code",
   "execution_count": 11,
   "metadata": {
    "collapsed": false
   },
   "outputs": [
    {
     "name": "stdout",
     "output_type": "stream",
     "text": [
      "[-5.33638276  0.0287754 ]\n"
     ]
    }
   ],
   "source": [
    "# Logistic GLM results from statsmodels\n",
    "sm_results = smf.GLM(y, sm.add_constant(X), family=sm.families.Binomial()).fit()\n",
    "print sm_results.params"
   ]
  }
 ],
 "metadata": {
  "kernelspec": {
   "display_name": "Python 2",
   "language": "python",
   "name": "python2"
  },
  "language_info": {
   "codemirror_mode": {
    "name": "ipython",
    "version": 2
   },
   "file_extension": ".py",
   "mimetype": "text/x-python",
   "name": "python",
   "nbconvert_exporter": "python",
   "pygments_lexer": "ipython2",
   "version": "2.7.9"
  }
 },
 "nbformat": 4,
 "nbformat_minor": 0
}
