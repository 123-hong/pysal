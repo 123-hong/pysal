{
 "cells": [
  {
   "cell_type": "code",
   "execution_count": 60,
   "metadata": {
    "collapsed": false
   },
   "outputs": [],
   "source": [
    "import sys\n",
    "import numpy as np\n",
    "import pandas as pd\n",
    "import pysal as ps\n",
    "sys.path.append('/Users/toshan/Dropbox/GWR/PyGWRJing/PyGWR/')\n",
    "from M_FBGWR_May2016 import FBGWR\n",
    "from M_GWGLM import GWGLM\n",
    "from M_selection import Band_Sel\n",
    "import scipy"
   ]
  },
  {
   "cell_type": "code",
   "execution_count": 61,
   "metadata": {
    "collapsed": false
   },
   "outputs": [],
   "source": [
    "path = ps.examples.get_path('GData_utm.csv')\n",
    "shp = pd.read_csv(path)"
   ]
  },
  {
   "cell_type": "code",
   "execution_count": 62,
   "metadata": {
    "collapsed": false
   },
   "outputs": [],
   "source": [
    "# Prep data into design matrix and coordinates\n",
    "\n",
    "#Dependent variable\n",
    "y = shp.PctBach.reshape((-1,1))\n",
    "\n",
    "#Design matrix - covariates - intercept added automatically\n",
    "pov = shp.PctPov.reshape((-1,1))\n",
    "rural = shp.PctRural.reshape((-1,1))\n",
    "blk = shp.PctBlack.reshape((-1,1))\n",
    "X = np.hstack([rural, pov, blk])\n",
    "labels = ['Intercept', 'PctRural', 'PctPov', 'PctBlack']\n",
    "\n",
    "#Coordinates for calibration points\n",
    "u = shp.X\n",
    "v = shp.Y\n",
    "coords = zip(u,v)\n",
    "\n",
    "coords_dict = {}\n",
    "for i, x in enumerate(coords):\n",
    "        coords_dict[i] = x"
   ]
  },
  {
   "cell_type": "code",
   "execution_count": 63,
   "metadata": {
    "collapsed": false
   },
   "outputs": [
    {
     "name": "stdout",
     "output_type": "stream",
     "text": [
      "(60.0, <Kernel.GWR_W object at 0x10c54b690>, [(89.0, 1088.4132720309442), (73.0, 1082.7676645259439), (62.0, 1079.8414440181944), (62.0, 1079.8414440181944), (62.0, 1079.8414440181944), (60.0, 1079.666817791637), (60.0, 1079.666817791637), (60.0, 1079.666817791637)])\n",
      "CPU times: user 1.84 s, sys: 74 ms, total: 1.91 s\n",
      "Wall time: 1.85 s\n"
     ]
    }
   ],
   "source": [
    "%%time\n",
    "print Band_Sel(y, None, X, coords_dict)"
   ]
  },
  {
   "cell_type": "code",
   "execution_count": 70,
   "metadata": {
    "collapsed": false
   },
   "outputs": [
    {
     "name": "stdout",
     "output_type": "stream",
     "text": [
      "0.0655846762588\n",
      "0.0233486761322\n",
      "0.0163002322842\n",
      "0.00433277272955\n",
      "0.00954961334306\n",
      "0.00290595644909\n",
      "0.00195096730304\n",
      "0.00160683793335\n",
      "0.00134567834122\n",
      "0.00113425557505\n",
      "0.00153002056533\n",
      "CPU times: user 1min, sys: 187 ms, total: 1min\n",
      "Wall time: 1min\n"
     ]
    }
   ],
   "source": [
    "%%time\n",
    "results1 = FBGWR(y, X, coords_dict, tolFB=1e-03)"
   ]
  },
  {
   "cell_type": "code",
   "execution_count": 71,
   "metadata": {
    "collapsed": false
   },
   "outputs": [],
   "source": [
    "from pysal.contrib.gwr.sel_bw import Sel_BW\n",
    "from pysal.contrib.gwr.gwr import GWR, FBGWR"
   ]
  },
  {
   "cell_type": "code",
   "execution_count": 133,
   "metadata": {
    "collapsed": false
   },
   "outputs": [
    {
     "name": "stdout",
     "output_type": "stream",
     "text": [
      "60.0\n",
      "CPU times: user 1.16 s, sys: 4.46 ms, total: 1.17 s\n",
      "Wall time: 1.17 s\n"
     ]
    }
   ],
   "source": [
    "%%time\n",
    "print Sel_BW(coords, y, X, [], kernel='bisquare', constant=False).search()"
   ]
  },
  {
   "cell_type": "code",
   "execution_count": 73,
   "metadata": {
    "collapsed": false,
    "scrolled": true
   },
   "outputs": [
    {
     "name": "stdout",
     "output_type": "stream",
     "text": [
      "0.0221239134234\n",
      "0.0151919208769\n",
      "0.00862867394367\n",
      "0.00458947306683\n",
      "0.0035545499035\n",
      "0.00279186902711\n",
      "0.00211662633452\n",
      "0.00162432236\n",
      "0.00126749982983\n",
      "0.00101411591791\n",
      "0.00088200956837\n",
      "CPU times: user 37.5 s, sys: 89.9 ms, total: 37.6 s\n",
      "Wall time: 37.5 s\n"
     ]
    }
   ],
   "source": [
    "%%time\n",
    "sel = Sel_BW(coords, y, X, [], kernel='bisquare', fb=True, constant=False)\n",
    "results = sel.search(tol_fb=1e-03)"
   ]
  },
  {
   "cell_type": "code",
   "execution_count": 74,
   "metadata": {
    "collapsed": false
   },
   "outputs": [
    {
     "name": "stdout",
     "output_type": "stream",
     "text": [
      "[157.0, 65.0, 52.0]\n",
      "(159, 3)\n"
     ]
    }
   ],
   "source": [
    "print results\n",
    "XB = sel.XB\n",
    "err = sel.err\n",
    "print sel.XB.shape"
   ]
  },
  {
   "cell_type": "code",
   "execution_count": 92,
   "metadata": {
    "collapsed": false
   },
   "outputs": [],
   "source": [
    "model = FBGWR(coords, y, X, [157.0, 65.0, 52.0], XB, err, constant=False)"
   ]
  },
  {
   "cell_type": "code",
   "execution_count": 93,
   "metadata": {
    "collapsed": false
   },
   "outputs": [],
   "source": [
    "results  = model.fit()"
   ]
  },
  {
   "cell_type": "code",
   "execution_count": 123,
   "metadata": {
    "collapsed": false
   },
   "outputs": [
    {
     "data": {
      "text/plain": [
       "True"
      ]
     },
     "execution_count": 123,
     "metadata": {},
     "output_type": "execute_result"
    }
   ],
   "source": [
    "np.allclose(results.predy, results1.y_pred, atol=1e-08)"
   ]
  },
  {
   "cell_type": "code",
   "execution_count": 124,
   "metadata": {
    "collapsed": false
   },
   "outputs": [
    {
     "data": {
      "text/plain": [
       "True"
      ]
     },
     "execution_count": 124,
     "metadata": {},
     "output_type": "execute_result"
    }
   ],
   "source": [
    "np.allclose(results.params, results1.Betas, atol=1e-08)"
   ]
  },
  {
   "cell_type": "code",
   "execution_count": 107,
   "metadata": {
    "collapsed": false
   },
   "outputs": [
    {
     "data": {
      "text/plain": [
       "True"
      ]
     },
     "execution_count": 107,
     "metadata": {},
     "output_type": "execute_result"
    }
   ],
   "source": [
    "np.allclose(results.u, results1.y-results1.y_pred, atol=1e-06)"
   ]
  },
  {
   "cell_type": "code",
   "execution_count": 111,
   "metadata": {
    "collapsed": false
   },
   "outputs": [
    {
     "data": {
      "text/plain": [
       "True"
      ]
     },
     "execution_count": 111,
     "metadata": {},
     "output_type": "execute_result"
    }
   ],
   "source": [
    "np.allclose(results.utu, np.dot(results1.y-results1.y_pred, (results1.y-results1.y_pred).T), atol=1e-05)"
   ]
  },
  {
   "cell_type": "code",
   "execution_count": 81,
   "metadata": {
    "collapsed": false
   },
   "outputs": [],
   "source": [
    "rslt = {'predy':results1.y_pred, 'params':results1.Betas, 'u':results1.y-results1.y_pred, 'utu': np.dot(results1.y-results1.y_pred, (results1.y-results1.y_pred).T)}"
   ]
  },
  {
   "cell_type": "code",
   "execution_count": 112,
   "metadata": {
    "collapsed": true
   },
   "outputs": [],
   "source": [
    "import pickle as pk"
   ]
  },
  {
   "cell_type": "code",
   "execution_count": 113,
   "metadata": {
    "collapsed": true
   },
   "outputs": [],
   "source": [
    "pk.dump(rslt, open('/Users/toshan/dev/pysal/pysal/examples/georgia/FB.p', 'w'))"
   ]
  },
  {
   "cell_type": "code",
   "execution_count": 114,
   "metadata": {
    "collapsed": true
   },
   "outputs": [],
   "source": [
    "pk.dump(XB, open('/Users/toshan/dev/pysal/pysal/examples/georgia/XB.p', 'w'))"
   ]
  },
  {
   "cell_type": "code",
   "execution_count": 115,
   "metadata": {
    "collapsed": true
   },
   "outputs": [],
   "source": [
    "pk.dump(err, open('/Users/toshan/dev/pysal/pysal/examples/georgia/err.p', 'w'))"
   ]
  },
  {
   "cell_type": "code",
   "execution_count": 126,
   "metadata": {
    "collapsed": false
   },
   "outputs": [
    {
     "data": {
      "text/plain": [
       "array([[ 0.31307992, -1.63966943, -0.49456147, ..., -0.12730677,\n",
       "         0.67789048, -1.24847991],\n",
       "       [-1.63966943,  8.58731482,  2.5901288 , ...,  0.66673398,\n",
       "        -3.55026377,  6.53856798],\n",
       "       [-0.49456147,  2.5901288 ,  0.78124155, ...,  0.20110208,\n",
       "        -1.07084003,  1.97218031],\n",
       "       ..., \n",
       "       [-0.12730677,  0.66673398,  0.20110208, ...,  0.05176638,\n",
       "        -0.27564862,  0.50766573],\n",
       "       [ 0.67789048, -3.55026377, -1.07084003, ..., -0.27564862,\n",
       "         1.46778977, -2.70324793],\n",
       "       [-1.24847991,  6.53856798,  1.97218031, ...,  0.50766573,\n",
       "        -2.70324793,  4.97860765]])"
      ]
     },
     "execution_count": 126,
     "metadata": {},
     "output_type": "execute_result"
    }
   ],
   "source": [
    "results.utu"
   ]
  },
  {
   "cell_type": "code",
   "execution_count": 99,
   "metadata": {
    "collapsed": false
   },
   "outputs": [
    {
     "data": {
      "text/plain": [
       "array([[  5.59535569e-01],\n",
       "       [ -2.93041181e+00],\n",
       "       [ -8.83878499e-01],\n",
       "       [ -9.51697600e-01],\n",
       "       [  5.82808197e+00],\n",
       "       [ -4.89155881e+00],\n",
       "       [ -3.72109434e+00],\n",
       "       [ -2.68389670e+00],\n",
       "       [ -7.47453620e-01],\n",
       "       [  1.92233285e+00],\n",
       "       [  7.73636453e+00],\n",
       "       [  3.40138972e+00],\n",
       "       [ -4.88898147e-02],\n",
       "       [ -1.59363035e+00],\n",
       "       [  5.45907022e+00],\n",
       "       [  9.69173075e+00],\n",
       "       [ -1.22648481e+00],\n",
       "       [ -5.78015834e+00],\n",
       "       [ -1.54497362e+00],\n",
       "       [  7.03356463e+00],\n",
       "       [  1.04717754e+00],\n",
       "       [  1.09982889e+00],\n",
       "       [  4.81762966e-01],\n",
       "       [ -2.76379156e+00],\n",
       "       [  8.80467952e+00],\n",
       "       [  1.51744693e+01],\n",
       "       [ -6.54481146e+00],\n",
       "       [  1.27748256e+01],\n",
       "       [  2.10534937e+01],\n",
       "       [ -8.59782689e-01],\n",
       "       [  3.87832912e+00],\n",
       "       [ -2.73203152e+00],\n",
       "       [  2.53727731e+01],\n",
       "       [  3.15260048e+00],\n",
       "       [  2.70447953e+00],\n",
       "       [  2.12036250e+01],\n",
       "       [ -2.04894662e+00],\n",
       "       [  2.67689274e+00],\n",
       "       [ -2.30357119e+00],\n",
       "       [ -6.15018325e-02],\n",
       "       [ -1.21841123e+00],\n",
       "       [ -1.45231194e+00],\n",
       "       [  3.25214355e+00],\n",
       "       [  1.11447939e+01],\n",
       "       [ -2.45009692e-01],\n",
       "       [ -2.58016495e+00],\n",
       "       [  7.71071205e+00],\n",
       "       [  5.89627934e+00],\n",
       "       [  2.99792432e-03],\n",
       "       [ -7.14324975e-01],\n",
       "       [  1.51168401e+00],\n",
       "       [ -3.22577236e+00],\n",
       "       [  4.43185184e-01],\n",
       "       [ -2.56969426e+00],\n",
       "       [ -4.04534268e+00],\n",
       "       [  2.25801905e+01],\n",
       "       [  5.97563960e-01],\n",
       "       [  9.44926315e+00],\n",
       "       [ -1.83458848e+00],\n",
       "       [  3.77721060e+00],\n",
       "       [ -3.01346509e+00],\n",
       "       [ -1.16426425e+00],\n",
       "       [  1.20799347e+01],\n",
       "       [ -1.95185897e-01],\n",
       "       [  8.05564926e-02],\n",
       "       [ -3.72315937e+00],\n",
       "       [  2.44742147e+01],\n",
       "       [  2.27066635e+00],\n",
       "       [  4.20633990e+00],\n",
       "       [ -5.58966832e+00],\n",
       "       [ -1.86060080e+00],\n",
       "       [  6.48159268e+00],\n",
       "       [ -4.14550039e-01],\n",
       "       [ -4.46318746e+00],\n",
       "       [  4.41181202e+00],\n",
       "       [  1.10885742e+01],\n",
       "       [ -1.10095358e+00],\n",
       "       [ -2.45662800e+00],\n",
       "       [ -2.28723888e+00],\n",
       "       [  2.17625830e+00],\n",
       "       [ -4.62471782e+00],\n",
       "       [ -2.08147446e+00],\n",
       "       [ -3.01176048e+00],\n",
       "       [  5.34852360e+00],\n",
       "       [ -9.53221235e-01],\n",
       "       [ -3.91231346e+00],\n",
       "       [  4.41176383e+00],\n",
       "       [  8.93901346e+00],\n",
       "       [  3.30012583e+00],\n",
       "       [ -5.79672925e-01],\n",
       "       [ -4.87334346e+00],\n",
       "       [  7.78535756e+00],\n",
       "       [ -4.36724986e-01],\n",
       "       [  2.08958656e+00],\n",
       "       [ -4.74406147e+00],\n",
       "       [ -2.28995743e+00],\n",
       "       [ -5.30275375e-01],\n",
       "       [ -5.07603511e+00],\n",
       "       [ -8.06753627e+00],\n",
       "       [  1.23516058e+00],\n",
       "       [ -2.62545675e+00],\n",
       "       [  3.67785789e+00],\n",
       "       [  1.13840413e+00],\n",
       "       [  1.51885893e-01],\n",
       "       [ -2.56446462e+00],\n",
       "       [  9.48505106e+00],\n",
       "       [ -4.09442305e+00],\n",
       "       [  2.21329089e+01],\n",
       "       [  3.14442428e+00],\n",
       "       [ -4.15620525e-02],\n",
       "       [  4.03744218e+00],\n",
       "       [ -1.22416937e+00],\n",
       "       [ -7.09779881e-01],\n",
       "       [  6.06528612e-01],\n",
       "       [ -7.58098149e+00],\n",
       "       [  1.55802159e+00],\n",
       "       [  3.25736824e+00],\n",
       "       [ -3.05498764e+00],\n",
       "       [  1.78873055e+00],\n",
       "       [ -5.21204803e+00],\n",
       "       [  1.11358022e+01],\n",
       "       [  1.09724047e+01],\n",
       "       [  2.59525300e-01],\n",
       "       [ -1.38593379e+00],\n",
       "       [ -4.12931948e-01],\n",
       "       [ -1.20953020e+00],\n",
       "       [  1.14985602e+00],\n",
       "       [ -3.83970769e+00],\n",
       "       [  6.72587019e+00],\n",
       "       [ -6.93957048e+00],\n",
       "       [ -7.89686817e+00],\n",
       "       [ -2.77076486e+00],\n",
       "       [ -4.22557296e+00],\n",
       "       [ -1.14150497e+00],\n",
       "       [ -1.77103613e+00],\n",
       "       [  4.39968906e+00],\n",
       "       [  6.08482203e+00],\n",
       "       [  3.44784101e+00],\n",
       "       [  1.24531198e+00],\n",
       "       [ -2.52760867e+00],\n",
       "       [  3.56584541e+00],\n",
       "       [ -3.58449193e+00],\n",
       "       [ -6.77527213e+00],\n",
       "       [ -2.79546000e+00],\n",
       "       [  1.02267862e+00],\n",
       "       [ -7.99070916e-01],\n",
       "       [ -3.25636502e+00],\n",
       "       [  1.83233162e+00],\n",
       "       [ -7.96208730e+00],\n",
       "       [  2.09676217e+00],\n",
       "       [  1.10058569e+00],\n",
       "       [ -3.95563673e+00],\n",
       "       [ -1.62234271e+00],\n",
       "       [  3.20503363e+00],\n",
       "       [  2.67403923e+00],\n",
       "       [ -2.56282067e+00],\n",
       "       [ -2.27521995e-01],\n",
       "       [  1.21152364e+00],\n",
       "       [ -2.23127934e+00]])"
      ]
     },
     "execution_count": 99,
     "metadata": {},
     "output_type": "execute_result"
    }
   ],
   "source": [
    "results1.y-results1.y_pred"
   ]
  },
  {
   "cell_type": "code",
   "execution_count": 128,
   "metadata": {
    "collapsed": false
   },
   "outputs": [
    {
     "data": {
      "text/plain": [
       "(159, 159)"
      ]
     },
     "execution_count": 128,
     "metadata": {},
     "output_type": "execute_result"
    }
   ],
   "source": [
    "np.dot(results1.y-results1.y_pred, (results1.y-results1.y_pred).T).shape"
   ]
  },
  {
   "cell_type": "code",
   "execution_count": 138,
   "metadata": {
    "collapsed": false
   },
   "outputs": [
    {
     "data": {
      "text/plain": [
       "(159, 1)"
      ]
     },
     "execution_count": 138,
     "metadata": {},
     "output_type": "execute_result"
    }
   ],
   "source": [
    "results.u.shape"
   ]
  },
  {
   "cell_type": "code",
   "execution_count": 151,
   "metadata": {
    "collapsed": false
   },
   "outputs": [],
   "source": [
    "a = results.u"
   ]
  },
  {
   "cell_type": "code",
   "execution_count": 152,
   "metadata": {
    "collapsed": false
   },
   "outputs": [
    {
     "data": {
      "text/plain": [
       "6339.3497144025841"
      ]
     },
     "execution_count": 152,
     "metadata": {},
     "output_type": "execute_result"
    }
   ],
   "source": [
    "np.dot(a.flatten(), a.flatten().T)"
   ]
  },
  {
   "cell_type": "code",
   "execution_count": 150,
   "metadata": {
    "collapsed": false
   },
   "outputs": [
    {
     "data": {
      "text/plain": [
       "6333.2794428622283"
      ]
     },
     "execution_count": 150,
     "metadata": {},
     "output_type": "execute_result"
    }
   ],
   "source": [
    "a"
   ]
  },
  {
   "cell_type": "code",
   "execution_count": null,
   "metadata": {
    "collapsed": true
   },
   "outputs": [],
   "source": []
  }
 ],
 "metadata": {
  "anaconda-cloud": {},
  "kernelspec": {
   "display_name": "Python [fbgwr]",
   "language": "python",
   "name": "Python [fbgwr]"
  },
  "language_info": {
   "codemirror_mode": {
    "name": "ipython",
    "version": 2
   },
   "file_extension": ".py",
   "mimetype": "text/x-python",
   "name": "python",
   "nbconvert_exporter": "python",
   "pygments_lexer": "ipython2",
   "version": "2.7.12"
  }
 },
 "nbformat": 4,
 "nbformat_minor": 0
}
