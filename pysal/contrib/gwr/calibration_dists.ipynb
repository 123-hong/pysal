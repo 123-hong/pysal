{
 "cells": [
  {
   "cell_type": "code",
   "execution_count": 21,
   "metadata": {
    "collapsed": false
   },
   "outputs": [],
   "source": [
    "import numpy as np\n",
    "import pysal as ps\n",
    "from pysal.weights.Distance import Kernel\n",
    "import sys\n",
    "sys.path.append('/Users/toshan/dev/pysal/pysal/weights')\n",
    "from Distance import Kernel as kn\n",
    "from util import full2W as f2w\n",
    "from kernels import _Kernel\n",
    "import scipy.spatial.distance as sp"
   ]
  },
  {
   "cell_type": "code",
   "execution_count": 13,
   "metadata": {
    "collapsed": false
   },
   "outputs": [
    {
     "data": {
      "text/plain": [
       "3"
      ]
     },
     "execution_count": 13,
     "metadata": {},
     "output_type": "execute_result"
    }
   ],
   "source": [
    "m"
   ]
  },
  {
   "cell_type": "code",
   "execution_count": 14,
   "metadata": {
    "collapsed": true
   },
   "outputs": [],
   "source": [
    "n = 3 #number of observations\n",
    "m = 3 #number of calibration points"
   ]
  },
  {
   "cell_type": "code",
   "execution_count": 15,
   "metadata": {
    "collapsed": false
   },
   "outputs": [],
   "source": [
    "x = np.random.randint(1,1000, n)\n",
    "y = np.random.randint(1,1000, n)\n",
    "D1 = zip(x,y)\n",
    "W1 = kn(D1, function='gaussian', truncate=False)"
   ]
  },
  {
   "cell_type": "code",
   "execution_count": 16,
   "metadata": {
    "collapsed": false
   },
   "outputs": [],
   "source": [
    "x = np.random.randint(1,1000, m)\n",
    "y = np.random.randint(1,1000, m)\n",
    "D2 = zip(x,y)\n",
    "W2 = kn(D2, function='gaussian', truncate=False)"
   ]
  },
  {
   "cell_type": "code",
   "execution_count": 17,
   "metadata": {
    "collapsed": false
   },
   "outputs": [
    {
     "data": {
      "text/plain": [
       "array([[726, 270],\n",
       "       [871, 131],\n",
       "       [204, 614],\n",
       "       [310, 616],\n",
       "       [104,  91],\n",
       "       [137, 441]])"
      ]
     },
     "execution_count": 17,
     "metadata": {},
     "output_type": "execute_result"
    }
   ],
   "source": [
    "D3 = np.vstack([D1,D2])\n",
    "D3"
   ]
  },
  {
   "cell_type": "code",
   "execution_count": 18,
   "metadata": {
    "collapsed": false
   },
   "outputs": [
    {
     "data": {
      "text/plain": [
       "array([[ 0.30570919,  0.27258174,  0.28338823],\n",
       "       [ 0.24197075,  0.23334113,  0.2239938 ],\n",
       "       [ 0.39488618,  0.30828906,  0.38665182]])"
      ]
     },
     "execution_count": 18,
     "metadata": {},
     "output_type": "execute_result"
    }
   ],
   "source": [
    "D3 = np.vstack([D1,D2])\n",
    "W3 = kn(D3, function='gaussian', truncate=False)\n",
    "\n",
    "W3.full()[0][n:,:-m].T"
   ]
  },
  {
   "cell_type": "code",
   "execution_count": 19,
   "metadata": {
    "collapsed": false
   },
   "outputs": [
    {
     "data": {
      "text/plain": [
       "array([[ 0.30570919,  0.27258174,  0.28338823],\n",
       "       [ 0.24197075,  0.23334113,  0.2239938 ],\n",
       "       [ 0.39488618,  0.30828906,  0.38665182]])"
      ]
     },
     "execution_count": 19,
     "metadata": {},
     "output_type": "execute_result"
    }
   ],
   "source": [
    "W4 = _Kernel(D3, function='gaussian', truncate=False, k=2)\n",
    "W4.kernel[n:,:-m].T"
   ]
  },
  {
   "cell_type": "code",
   "execution_count": 22,
   "metadata": {
    "collapsed": false
   },
   "outputs": [
    {
     "data": {
      "text/plain": [
       "array([[ 541.08409698,  647.24415795,  613.32047088],\n",
       "       [ 741.58344102,  768.04231654,  796.77851377],\n",
       "       [ 106.01886625,  532.47441253,  185.52088831]])"
      ]
     },
     "execution_count": 22,
     "metadata": {},
     "output_type": "execute_result"
    }
   ],
   "source": [
    "W5 = sp.cdist(D3,D3)\n",
    "W5[n:,:-m].T"
   ]
  },
  {
   "cell_type": "code",
   "execution_count": 23,
   "metadata": {
    "collapsed": false
   },
   "outputs": [
    {
     "data": {
      "text/plain": [
       "array([[ 541.08409698,  647.24415795,  613.32047088],\n",
       "       [ 741.58344102,  768.04231654,  796.77851377],\n",
       "       [ 106.01886625,  532.47441253,  185.52088831]])"
      ]
     },
     "execution_count": 23,
     "metadata": {},
     "output_type": "execute_result"
    }
   ],
   "source": [
    "W6 = W4.dmat\n",
    "W6[n:,:-m].T"
   ]
  },
  {
   "cell_type": "code",
   "execution_count": 26,
   "metadata": {
    "collapsed": false
   },
   "outputs": [
    {
     "ename": "TypeError",
     "evalue": "'_Kernel' object does not support indexing",
     "output_type": "error",
     "traceback": [
      "\u001b[0;31m---------------------------------------------------------------------------\u001b[0m",
      "\u001b[0;31mTypeError\u001b[0m                                 Traceback (most recent call last)",
      "\u001b[0;32m<ipython-input-26-d9a0724b45ab>\u001b[0m in \u001b[0;36m<module>\u001b[0;34m()\u001b[0m\n\u001b[0;32m----> 1\u001b[0;31m \u001b[0mW4\u001b[0m\u001b[0;34m[\u001b[0m\u001b[0;36m5\u001b[0m\u001b[0;34m]\u001b[0m\u001b[0;34m\u001b[0m\u001b[0m\n\u001b[0m",
      "\u001b[0;31mTypeError\u001b[0m: '_Kernel' object does not support indexing"
     ]
    }
   ],
   "source": [
    "W4[5]"
   ]
  },
  {
   "cell_type": "code",
   "execution_count": 317,
   "metadata": {
    "collapsed": false
   },
   "outputs": [
    {
     "name": "stdout",
     "output_type": "stream",
     "text": [
      "0\n",
      "1\n",
      "2\n",
      "3\n",
      "4\n",
      "5\n",
      "a\n",
      "a\n",
      "a\n",
      "a\n",
      "a\n",
      "6\n",
      "a\n",
      "a\n",
      "a\n",
      "a\n",
      "a\n",
      "7\n",
      "a\n",
      "a\n",
      "a\n",
      "a\n",
      "a\n"
     ]
    }
   ],
   "source": [
    "\n",
    "coord_ids = np.arange(n)\n",
    "points_ids = np.arange(n, n+m)\n",
    "all_ids = np.arange(n+m)\n",
    "dists = np.zeros((m,n))\n",
    "\n",
    "\n",
    "for i in all_ids:\n",
    "    print i\n",
    "    if i in points_ids:\n",
    "        for j in coord_ids:\n",
    "            if j in W3[j].keys():\n",
    "                if i >= n:\n",
    "                    print 'a'\n",
    "                    dists[i-n][j] = W3.full()[0][i][j]\n",
    "                elif j >= m:\n",
    "                    print 'b'\n",
    "                    dists[i][j-m] = W3.full()[0][i][j]\n",
    "                elif (i >= n) & (j >= m):\n",
    "                    print 'c'\n",
    "                    dists[i-n][j-m] = W3.full()[0][i][j]\n",
    "                else:\n",
    "                    print 'd'\n",
    "                    dists[i][j] = W3.full()[0][i][j]\n",
    "\n"
   ]
  },
  {
   "cell_type": "code",
   "execution_count": null,
   "metadata": {
    "collapsed": true
   },
   "outputs": [],
   "source": []
  },
  {
   "cell_type": "code",
   "execution_count": 84,
   "metadata": {
    "collapsed": false
   },
   "outputs": [
    {
     "data": {
      "text/plain": [
       "array([[ 0.18517132,  0.12031966,  0.13646984,  0.15290816,  0.07164861,\n",
       "         0.09212782,  0.17278679,  0.11213752],\n",
       "       [ 0.1429542 ,  0.22000575,  0.13344025,  0.07452373,  0.07270798,\n",
       "         0.08211464,  0.09860256,  0.1813038 ],\n",
       "       [ 0.17702068,  0.14568467,  0.24019338,  0.09798799,  0.02731182,\n",
       "         0.03856209,  0.13308669,  0.08379397],\n",
       "       [ 0.16605976,  0.06811897,  0.0820388 ,  0.20109788,  0.09148889,\n",
       "         0.11815657,  0.19465287,  0.08493308],\n",
       "       [ 0.08481599,  0.07244222,  0.02492489,  0.09972512,  0.21920158,\n",
       "         0.213782  ,  0.09167339,  0.14716403],\n",
       "       [ 0.10206486,  0.07656773,  0.03293508,  0.12053401,  0.20007215,\n",
       "         0.20514417,  0.11186615,  0.14248252],\n",
       "       [ 0.17822579,  0.08560278,  0.10582965,  0.18487878,  0.07987913,\n",
       "         0.10415336,  0.19100017,  0.09294788],\n",
       "       [ 0.12375274,  0.16840325,  0.07129012,  0.08630719,  0.13719415,\n",
       "         0.1419319 ,  0.09944509,  0.20435139]])"
      ]
     },
     "execution_count": 84,
     "metadata": {},
     "output_type": "execute_result"
    }
   ],
   "source": [
    "W3.transform = 'v'\n",
    "W3.full()[0]"
   ]
  },
  {
   "cell_type": "code",
   "execution_count": 66,
   "metadata": {
    "collapsed": false
   },
   "outputs": [
    {
     "data": {
      "text/plain": [
       "array([[ 0.19848475,  0.14890067,  0.06404859,  0.23440155,  0.38907876],\n",
       "       [ 0.37226043,  0.17879864,  0.22104651,  0.38615654,  0.16684364],\n",
       "       [ 0.24159463,  0.32876301,  0.13917518,  0.16849206,  0.26783546]])"
      ]
     },
     "execution_count": 66,
     "metadata": {},
     "output_type": "execute_result"
    }
   ],
   "source": [
    "dists"
   ]
  },
  {
   "cell_type": "code",
   "execution_count": 74,
   "metadata": {
    "collapsed": false
   },
   "outputs": [
    {
     "data": {
      "text/plain": [
       "array([[ 0.19848475,  0.14890067,  0.06404859,  0.23440155,  0.38907876],\n",
       "       [ 0.37226043,  0.17879864,  0.22104651,  0.38615654,  0.16684364],\n",
       "       [ 0.24159463,  0.32876301,  0.13917518,  0.16849206,  0.26783546]])"
      ]
     },
     "execution_count": 74,
     "metadata": {},
     "output_type": "execute_result"
    }
   ],
   "source": [
    "subset_dists = dists[0:m,0:n]\n",
    "subset_dists"
   ]
  },
  {
   "cell_type": "code",
   "execution_count": 80,
   "metadata": {
    "collapsed": false
   },
   "outputs": [
    {
     "ename": "ValueError",
     "evalue": "Buffer has wrong number of dimensions (expected 2, got 1)",
     "output_type": "error",
     "traceback": [
      "\u001b[0;31m---------------------------------------------------------------------------\u001b[0m",
      "\u001b[0;31mValueError\u001b[0m                                Traceback (most recent call last)",
      "\u001b[0;32m<ipython-input-80-e2753dc9f924>\u001b[0m in \u001b[0;36m<module>\u001b[0;34m()\u001b[0m\n\u001b[1;32m      1\u001b[0m \u001b[0mx1\u001b[0m\u001b[0;34m,\u001b[0m \u001b[0my1\u001b[0m \u001b[0;34m=\u001b[0m \u001b[0mD1\u001b[0m\u001b[0;34m[\u001b[0m\u001b[0;36m0\u001b[0m\u001b[0;34m]\u001b[0m\u001b[0;34m\u001b[0m\u001b[0m\n\u001b[1;32m      2\u001b[0m \u001b[0mx2\u001b[0m\u001b[0;34m,\u001b[0m \u001b[0my2\u001b[0m \u001b[0;34m=\u001b[0m \u001b[0mD2\u001b[0m\u001b[0;34m[\u001b[0m\u001b[0;36m0\u001b[0m\u001b[0;34m]\u001b[0m\u001b[0;34m\u001b[0m\u001b[0m\n\u001b[0;32m----> 3\u001b[0;31m \u001b[0;32mprint\u001b[0m \u001b[0mkn\u001b[0m\u001b[0;34m(\u001b[0m\u001b[0mnp\u001b[0m\u001b[0;34m.\u001b[0m\u001b[0msqrt\u001b[0m\u001b[0;34m(\u001b[0m\u001b[0;34m(\u001b[0m\u001b[0mx1\u001b[0m\u001b[0;34m-\u001b[0m\u001b[0mx2\u001b[0m\u001b[0;34m)\u001b[0m\u001b[0;34m**\u001b[0m\u001b[0;36m2\u001b[0m \u001b[0;34m+\u001b[0m \u001b[0;34m(\u001b[0m\u001b[0my1\u001b[0m\u001b[0;34m-\u001b[0m\u001b[0my2\u001b[0m\u001b[0;34m)\u001b[0m\u001b[0;34m**\u001b[0m\u001b[0;36m2\u001b[0m\u001b[0;34m)\u001b[0m\u001b[0;34m)\u001b[0m\u001b[0;34m\u001b[0m\u001b[0m\n\u001b[0m",
      "\u001b[0;32m/Users/toshan/dev/pysal/pysal/weights/Distance.py\u001b[0m in \u001b[0;36m__init__\u001b[0;34m(self, data, bandwidth, fixed, k, function, eps, ids, diagonal, truncate)\u001b[0m\n\u001b[1;32m    278\u001b[0m         \u001b[0;32melse\u001b[0m\u001b[0;34m:\u001b[0m\u001b[0;34m\u001b[0m\u001b[0m\n\u001b[1;32m    279\u001b[0m             \u001b[0mself\u001b[0m\u001b[0;34m.\u001b[0m\u001b[0mdata\u001b[0m \u001b[0;34m=\u001b[0m \u001b[0mdata\u001b[0m\u001b[0;34m\u001b[0m\u001b[0m\n\u001b[0;32m--> 280\u001b[0;31m             \u001b[0mself\u001b[0m\u001b[0;34m.\u001b[0m\u001b[0mkdt\u001b[0m \u001b[0;34m=\u001b[0m \u001b[0mKDTree\u001b[0m\u001b[0;34m(\u001b[0m\u001b[0mself\u001b[0m\u001b[0;34m.\u001b[0m\u001b[0mdata\u001b[0m\u001b[0;34m)\u001b[0m\u001b[0;34m\u001b[0m\u001b[0m\n\u001b[0m\u001b[1;32m    281\u001b[0m         \u001b[0mself\u001b[0m\u001b[0;34m.\u001b[0m\u001b[0mk\u001b[0m \u001b[0;34m=\u001b[0m \u001b[0mk\u001b[0m \u001b[0;34m+\u001b[0m \u001b[0;36m1\u001b[0m\u001b[0;34m\u001b[0m\u001b[0m\n\u001b[1;32m    282\u001b[0m         \u001b[0mself\u001b[0m\u001b[0;34m.\u001b[0m\u001b[0mfunction\u001b[0m \u001b[0;34m=\u001b[0m \u001b[0mfunction\u001b[0m\u001b[0;34m.\u001b[0m\u001b[0mlower\u001b[0m\u001b[0;34m(\u001b[0m\u001b[0;34m)\u001b[0m\u001b[0;34m\u001b[0m\u001b[0m\n",
      "\u001b[0;32m//anaconda/lib/python2.7/site-packages/pysal/cg/kdtree.pyc\u001b[0m in \u001b[0;36mKDTree\u001b[0;34m(data, leafsize, distance_metric, radius)\u001b[0m\n\u001b[1;32m     52\u001b[0m             \u001b[0;32mreturn\u001b[0m \u001b[0mscipy\u001b[0m\u001b[0;34m.\u001b[0m\u001b[0mspatial\u001b[0m\u001b[0;34m.\u001b[0m\u001b[0mKDTree\u001b[0m\u001b[0;34m(\u001b[0m\u001b[0mdata\u001b[0m\u001b[0;34m,\u001b[0m \u001b[0mleafsize\u001b[0m\u001b[0;34m)\u001b[0m\u001b[0;34m\u001b[0m\u001b[0m\n\u001b[1;32m     53\u001b[0m         \u001b[0;32melse\u001b[0m\u001b[0;34m:\u001b[0m\u001b[0;34m\u001b[0m\u001b[0m\n\u001b[0;32m---> 54\u001b[0;31m             \u001b[0;32mreturn\u001b[0m \u001b[0mscipy\u001b[0m\u001b[0;34m.\u001b[0m\u001b[0mspatial\u001b[0m\u001b[0;34m.\u001b[0m\u001b[0mcKDTree\u001b[0m\u001b[0;34m(\u001b[0m\u001b[0mdata\u001b[0m\u001b[0;34m,\u001b[0m \u001b[0mleafsize\u001b[0m\u001b[0;34m)\u001b[0m\u001b[0;34m\u001b[0m\u001b[0m\n\u001b[0m\u001b[1;32m     55\u001b[0m     \u001b[0;32melif\u001b[0m \u001b[0mdistance_metric\u001b[0m \u001b[0;34m==\u001b[0m \u001b[0;34m'Arc'\u001b[0m\u001b[0;34m:\u001b[0m\u001b[0;34m\u001b[0m\u001b[0m\n\u001b[1;32m     56\u001b[0m         \u001b[0;32mreturn\u001b[0m \u001b[0mArc_KDTree\u001b[0m\u001b[0;34m(\u001b[0m\u001b[0mdata\u001b[0m\u001b[0;34m,\u001b[0m \u001b[0mleafsize\u001b[0m\u001b[0;34m,\u001b[0m \u001b[0mradius\u001b[0m\u001b[0;34m)\u001b[0m\u001b[0;34m\u001b[0m\u001b[0m\n",
      "\u001b[0;32mscipy/spatial/ckdtree.pyx\u001b[0m in \u001b[0;36mscipy.spatial.ckdtree.cKDTree.__init__ (scipy/spatial/ckdtree.cxx:4952)\u001b[0;34m()\u001b[0m\n",
      "\u001b[0;31mValueError\u001b[0m: Buffer has wrong number of dimensions (expected 2, got 1)"
     ]
    }
   ],
   "source": [
    "x1, y1 = D1[0]\n",
    "x2, y2 = D2[0]\n",
    "print kn(np.sqrt((x1-x2)**2 + (y1-y2)**2))"
   ]
  },
  {
   "cell_type": "code",
   "execution_count": 44,
   "metadata": {
    "collapsed": false
   },
   "outputs": [
    {
     "ename": "ValueError",
     "evalue": "Your array is not square",
     "output_type": "error",
     "traceback": [
      "\u001b[0;31m---------------------------------------------------------------------------\u001b[0m",
      "\u001b[0;31mValueError\u001b[0m                                Traceback (most recent call last)",
      "\u001b[0;32m<ipython-input-44-3036666a721b>\u001b[0m in \u001b[0;36m<module>\u001b[0;34m()\u001b[0m\n\u001b[0;32m----> 1\u001b[0;31m \u001b[0mw\u001b[0m \u001b[0;34m=\u001b[0m \u001b[0mf2w\u001b[0m\u001b[0;34m(\u001b[0m\u001b[0mdists\u001b[0m\u001b[0;34m)\u001b[0m\u001b[0;34m\u001b[0m\u001b[0m\n\u001b[0m\u001b[1;32m      2\u001b[0m \u001b[0mw\u001b[0m\u001b[0;34m.\u001b[0m\u001b[0mfull\u001b[0m\u001b[0;34m(\u001b[0m\u001b[0;34m)\u001b[0m\u001b[0;34m[\u001b[0m\u001b[0;36m0\u001b[0m\u001b[0;34m]\u001b[0m\u001b[0;34m\u001b[0m\u001b[0m\n",
      "\u001b[0;32m/Users/toshan/dev/pysal/pysal/weights/util.py\u001b[0m in \u001b[0;36mfull2W\u001b[0;34m(m, ids)\u001b[0m\n\u001b[1;32m    768\u001b[0m     '''\n\u001b[1;32m    769\u001b[0m     \u001b[0;32mif\u001b[0m \u001b[0mm\u001b[0m\u001b[0;34m.\u001b[0m\u001b[0mshape\u001b[0m\u001b[0;34m[\u001b[0m\u001b[0;36m0\u001b[0m\u001b[0;34m]\u001b[0m \u001b[0;34m!=\u001b[0m \u001b[0mm\u001b[0m\u001b[0;34m.\u001b[0m\u001b[0mshape\u001b[0m\u001b[0;34m[\u001b[0m\u001b[0;36m1\u001b[0m\u001b[0;34m]\u001b[0m\u001b[0;34m:\u001b[0m\u001b[0;34m\u001b[0m\u001b[0m\n\u001b[0;32m--> 770\u001b[0;31m         \u001b[0;32mraise\u001b[0m \u001b[0mValueError\u001b[0m\u001b[0;34m(\u001b[0m\u001b[0;34m'Your array is not square'\u001b[0m\u001b[0;34m)\u001b[0m\u001b[0;34m\u001b[0m\u001b[0m\n\u001b[0m\u001b[1;32m    771\u001b[0m     \u001b[0mneighbors\u001b[0m\u001b[0;34m,\u001b[0m \u001b[0mweights\u001b[0m \u001b[0;34m=\u001b[0m \u001b[0;34m{\u001b[0m\u001b[0;34m}\u001b[0m\u001b[0;34m,\u001b[0m \u001b[0;34m{\u001b[0m\u001b[0;34m}\u001b[0m\u001b[0;34m\u001b[0m\u001b[0m\n\u001b[1;32m    772\u001b[0m     \u001b[0;32mfor\u001b[0m \u001b[0mi\u001b[0m \u001b[0;32min\u001b[0m \u001b[0mxrange\u001b[0m\u001b[0;34m(\u001b[0m\u001b[0mm\u001b[0m\u001b[0;34m.\u001b[0m\u001b[0mshape\u001b[0m\u001b[0;34m[\u001b[0m\u001b[0;36m0\u001b[0m\u001b[0;34m]\u001b[0m\u001b[0;34m)\u001b[0m\u001b[0;34m:\u001b[0m\u001b[0;34m\u001b[0m\u001b[0m\n",
      "\u001b[0;31mValueError\u001b[0m: Your array is not square"
     ]
    }
   ],
   "source": [
    "w = f2w(dists)\n",
    "w.full()[0]"
   ]
  },
  {
   "cell_type": "code",
   "execution_count": 45,
   "metadata": {
    "collapsed": false
   },
   "outputs": [],
   "source": [
    "new_neighbs = {}\n",
    "new_weights = {}\n",
    "for each in W2.neighbors:\n",
    "    three = set(W3.neighbors[each])\n",
    "    two = set(W2.neighbors[each])\n",
    "    new_neighbs[each] = list(three.difference(two))\n",
    "    new_weights[each] = {}\n",
    "    for weight in new_neighbs[each]:\n",
    "        new_weights[each][weight] = W3[each][weight]"
   ]
  },
  {
   "cell_type": "code",
   "execution_count": 46,
   "metadata": {
    "collapsed": false
   },
   "outputs": [
    {
     "data": {
      "text/plain": [
       "'\\nfor ids in all_ids:\\n    if ids in points_ids:\\n        _all = set(W3.neighbors[ids])\\n        points = set(W2.neighbors[ids])\\n        new_neighbs[ids] = list(_all.difference(points))\\n        new_weights[ids] = {}\\n        for weight in new_neighbs[ids]:\\n            new_weights[ids][weight] = W3[ids][weight]\\n\\n    else:\\n        new_weights[ids] = {}\\n'"
      ]
     },
     "execution_count": 46,
     "metadata": {},
     "output_type": "execute_result"
    }
   ],
   "source": [
    "coord_ids = W1.id_order\n",
    "points_ids = W2.id_order\n",
    "all_ids = W3.id_order\n",
    "dists = np.zeros((2,3))\n",
    "\n",
    "'''\n",
    "for ids in all_ids:\n",
    "    if ids in points_ids:\n",
    "        _all = set(W3.neighbors[ids])\n",
    "        points = set(W2.neighbors[ids])\n",
    "        new_neighbs[ids] = list(_all.difference(points))\n",
    "        new_weights[ids] = {}\n",
    "        for weight in new_neighbs[ids]:\n",
    "            new_weights[ids][weight] = W3[ids][weight]\n",
    "\n",
    "    else:\n",
    "        new_weights[ids] = {}\n",
    "'''       \n"
   ]
  },
  {
   "cell_type": "code",
   "execution_count": 47,
   "metadata": {
    "collapsed": false
   },
   "outputs": [
    {
     "name": "stdout",
     "output_type": "stream",
     "text": [
      "0 0\n",
      "d\n",
      "0 1\n",
      "d\n",
      "0 2\n",
      "b\n",
      "0 3\n",
      "b\n",
      "0 4\n",
      "b\n",
      "1 0\n",
      "d\n",
      "1 1\n",
      "d\n",
      "1 2\n",
      "b\n",
      "1 3\n",
      "b\n",
      "1 4\n",
      "b\n",
      "2 0\n",
      "d\n"
     ]
    },
    {
     "ename": "IndexError",
     "evalue": "index 2 is out of bounds for axis 0 with size 2",
     "output_type": "error",
     "traceback": [
      "\u001b[0;31m---------------------------------------------------------------------------\u001b[0m",
      "\u001b[0;31mIndexError\u001b[0m                                Traceback (most recent call last)",
      "\u001b[0;32m<ipython-input-47-b4ca48b4f6e7>\u001b[0m in \u001b[0;36m<module>\u001b[0;34m()\u001b[0m\n\u001b[1;32m     17\u001b[0m                 \u001b[0;32melse\u001b[0m\u001b[0;34m:\u001b[0m\u001b[0;34m\u001b[0m\u001b[0m\n\u001b[1;32m     18\u001b[0m                     \u001b[0;32mprint\u001b[0m \u001b[0;34m'd'\u001b[0m\u001b[0;34m\u001b[0m\u001b[0m\n\u001b[0;32m---> 19\u001b[0;31m                     \u001b[0mdists\u001b[0m\u001b[0;34m[\u001b[0m\u001b[0mi\u001b[0m\u001b[0;34m]\u001b[0m\u001b[0;34m[\u001b[0m\u001b[0mj\u001b[0m\u001b[0;34m]\u001b[0m \u001b[0;34m=\u001b[0m \u001b[0mW3\u001b[0m\u001b[0;34m.\u001b[0m\u001b[0mfull\u001b[0m\u001b[0;34m(\u001b[0m\u001b[0;34m)\u001b[0m\u001b[0;34m[\u001b[0m\u001b[0;36m0\u001b[0m\u001b[0;34m]\u001b[0m\u001b[0;34m[\u001b[0m\u001b[0mi\u001b[0m\u001b[0;34m]\u001b[0m\u001b[0;34m[\u001b[0m\u001b[0mj\u001b[0m\u001b[0;34m]\u001b[0m\u001b[0;34m\u001b[0m\u001b[0m\n\u001b[0m",
      "\u001b[0;31mIndexError\u001b[0m: index 2 is out of bounds for axis 0 with size 2"
     ]
    }
   ],
   "source": [
    "n = 3 #number of observations\n",
    "m = 2 #number of \n",
    "for i in all_ids:\n",
    "    if i in points_ids:\n",
    "        for j in coord_ids:\n",
    "            if j in W3[j].keys():\n",
    "                print i,j\n",
    "                if i >= n:\n",
    "                    print 'a'\n",
    "                    dists[i-n][j] = W3.full()[0][i][j]\n",
    "                elif j >= m:\n",
    "                    print 'b'\n",
    "                    dists[i][j-m] = W3.full()[0][i][j]\n",
    "                elif (i >= n) & (j >= m):\n",
    "                    print 'c'\n",
    "                    dists[i-n][j-m] = W3.full()[0][i][j]\n",
    "                else:\n",
    "                    print 'd'\n",
    "                    dists[i][j] = W3.full()[0][i][j]\n"
   ]
  },
  {
   "cell_type": "code",
   "execution_count": 48,
   "metadata": {
    "collapsed": false
   },
   "outputs": [
    {
     "data": {
      "text/plain": [
       "array([[ 0.16030707,  0.17179277,  0.27299611],\n",
       "       [ 0.24747341,  0.25108674,  0.16263902]])"
      ]
     },
     "execution_count": 48,
     "metadata": {},
     "output_type": "execute_result"
    }
   ],
   "source": [
    "dists"
   ]
  },
  {
   "cell_type": "code",
   "execution_count": 49,
   "metadata": {
    "collapsed": false
   },
   "outputs": [
    {
     "data": {
      "text/plain": [
       "[0, 1, 2]"
      ]
     },
     "execution_count": 49,
     "metadata": {},
     "output_type": "execute_result"
    }
   ],
   "source": [
    "points_ids"
   ]
  },
  {
   "cell_type": "code",
   "execution_count": 50,
   "metadata": {
    "collapsed": false
   },
   "outputs": [],
   "source": [
    "W4 = ps.W(new_neighbs, new_weights)"
   ]
  },
  {
   "cell_type": "code",
   "execution_count": null,
   "metadata": {
    "collapsed": true
   },
   "outputs": [],
   "source": []
  },
  {
   "cell_type": "code",
   "execution_count": 52,
   "metadata": {
    "collapsed": false
   },
   "outputs": [
    {
     "ename": "ValueError",
     "evalue": "3 is not in list",
     "output_type": "error",
     "traceback": [
      "\u001b[0;31m---------------------------------------------------------------------------\u001b[0m",
      "\u001b[0;31mValueError\u001b[0m                                Traceback (most recent call last)",
      "\u001b[0;32m<ipython-input-52-bea43da3bca2>\u001b[0m in \u001b[0;36m<module>\u001b[0;34m()\u001b[0m\n\u001b[0;32m----> 1\u001b[0;31m \u001b[0mW4\u001b[0m\u001b[0;34m.\u001b[0m\u001b[0mfull\u001b[0m\u001b[0;34m(\u001b[0m\u001b[0;34m)\u001b[0m\u001b[0;34m[\u001b[0m\u001b[0;36m0\u001b[0m\u001b[0;34m]\u001b[0m\u001b[0;34m\u001b[0m\u001b[0m\n\u001b[0m",
      "\u001b[0;32m//anaconda/lib/python2.7/site-packages/pysal/weights/weights.pyc\u001b[0m in \u001b[0;36mfull\u001b[0;34m(self)\u001b[0m\n\u001b[1;32m    983\u001b[0m \u001b[0;34m\u001b[0m\u001b[0m\n\u001b[1;32m    984\u001b[0m         \"\"\"\n\u001b[0;32m--> 985\u001b[0;31m         \u001b[0;32mreturn\u001b[0m \u001b[0mfull\u001b[0m\u001b[0;34m(\u001b[0m\u001b[0mself\u001b[0m\u001b[0;34m)\u001b[0m\u001b[0;34m\u001b[0m\u001b[0m\n\u001b[0m\u001b[1;32m    986\u001b[0m \u001b[0;34m\u001b[0m\u001b[0m\n\u001b[1;32m    987\u001b[0m     \u001b[0;32mdef\u001b[0m \u001b[0mtowsp\u001b[0m\u001b[0;34m(\u001b[0m\u001b[0mself\u001b[0m\u001b[0;34m)\u001b[0m\u001b[0;34m:\u001b[0m\u001b[0;34m\u001b[0m\u001b[0m\n",
      "\u001b[0;32m//anaconda/lib/python2.7/site-packages/pysal/weights/util.pyc\u001b[0m in \u001b[0;36mfull\u001b[0;34m(w)\u001b[0m\n\u001b[1;32m    713\u001b[0m         \u001b[0mw_i\u001b[0m \u001b[0;34m=\u001b[0m \u001b[0mw\u001b[0m\u001b[0;34m.\u001b[0m\u001b[0mweights\u001b[0m\u001b[0;34m[\u001b[0m\u001b[0mkey\u001b[0m\u001b[0;34m]\u001b[0m\u001b[0;34m\u001b[0m\u001b[0m\n\u001b[1;32m    714\u001b[0m         \u001b[0;32mfor\u001b[0m \u001b[0mj\u001b[0m\u001b[0;34m,\u001b[0m \u001b[0mwij\u001b[0m \u001b[0;32min\u001b[0m \u001b[0mzip\u001b[0m\u001b[0;34m(\u001b[0m\u001b[0mn_i\u001b[0m\u001b[0;34m,\u001b[0m \u001b[0mw_i\u001b[0m\u001b[0;34m)\u001b[0m\u001b[0;34m:\u001b[0m\u001b[0;34m\u001b[0m\u001b[0m\n\u001b[0;32m--> 715\u001b[0;31m             \u001b[0mc\u001b[0m \u001b[0;34m=\u001b[0m \u001b[0mkeys\u001b[0m\u001b[0;34m.\u001b[0m\u001b[0mindex\u001b[0m\u001b[0;34m(\u001b[0m\u001b[0mj\u001b[0m\u001b[0;34m)\u001b[0m\u001b[0;34m\u001b[0m\u001b[0m\n\u001b[0m\u001b[1;32m    716\u001b[0m             \u001b[0mwfull\u001b[0m\u001b[0;34m[\u001b[0m\u001b[0mi\u001b[0m\u001b[0;34m,\u001b[0m \u001b[0mc\u001b[0m\u001b[0;34m]\u001b[0m \u001b[0;34m=\u001b[0m \u001b[0mwij\u001b[0m\u001b[0;34m\u001b[0m\u001b[0m\n\u001b[1;32m    717\u001b[0m     \u001b[0;32mreturn\u001b[0m \u001b[0;34m(\u001b[0m\u001b[0mwfull\u001b[0m\u001b[0;34m,\u001b[0m \u001b[0mkeys\u001b[0m\u001b[0;34m)\u001b[0m\u001b[0;34m\u001b[0m\u001b[0m\n",
      "\u001b[0;31mValueError\u001b[0m: 3 is not in list"
     ]
    }
   ],
   "source": [
    "W4.full()[0]"
   ]
  },
  {
   "cell_type": "code",
   "execution_count": 165,
   "metadata": {
    "collapsed": true
   },
   "outputs": [],
   "source": [
    "coord_ids = np.arange(n)\n",
    "points_ids = np.arange(m)\n",
    "dists = np.zeros((n,m))\n",
    "\n",
    "for i in coord_ids:\n",
    "    for j in points_ids:\n",
    "        x1,x2 = D1[i]\n",
    "        x2,y2 = D2[j]\n",
    "        dists[i,j] = np.sqrt((x1-x2)**2 + (y1-y2)**2)"
   ]
  },
  {
   "cell_type": "code",
   "execution_count": 88,
   "metadata": {
    "collapsed": false
   },
   "outputs": [
    {
     "data": {
      "text/plain": [
       "array([[ 0.,  0.,  0.],\n",
       "       [ 0.,  0.,  0.],\n",
       "       [ 0.,  0.,  0.],\n",
       "       [ 0.,  0.,  0.],\n",
       "       [ 0.,  0.,  0.]])"
      ]
     },
     "execution_count": 88,
     "metadata": {},
     "output_type": "execute_result"
    }
   ],
   "source": [
    "dists"
   ]
  },
  {
   "cell_type": "code",
   "execution_count": 163,
   "metadata": {
    "collapsed": true
   },
   "outputs": [],
   "source": [
    "for i in coord_ids:\n",
    "    for j in points_ids:\n",
    "        x1,x2 = D1[i]\n",
    "        x2,y2 = D2[j]\n",
    "        dists[i,j] = np.sqrt((x1-x2)**2 + (y1-y2)**2)"
   ]
  },
  {
   "cell_type": "code",
   "execution_count": 164,
   "metadata": {
    "collapsed": false
   },
   "outputs": [
    {
     "data": {
      "text/plain": [
       "array([[ 642.13705702,  588.5414174 ,  263.10454196],\n",
       "       [ 636.88303479,  602.8573629 ,  258.56527222],\n",
       "       [ 759.82695398,  387.65964453,  410.03048667],\n",
       "       [ 682.13268504,  502.22704029,  308.64380765],\n",
       "       [ 829.12001544,  318.40383164,  499.12323128]])"
      ]
     },
     "execution_count": 164,
     "metadata": {},
     "output_type": "execute_result"
    }
   ],
   "source": [
    "dists"
   ]
  },
  {
   "cell_type": "code",
   "execution_count": 151,
   "metadata": {
    "collapsed": true
   },
   "outputs": [],
   "source": [
    "a,b,c = W1.full()[0], W2.full()[0], W3.full()[0]"
   ]
  },
  {
   "cell_type": "code",
   "execution_count": 152,
   "metadata": {
    "collapsed": false
   },
   "outputs": [
    {
     "data": {
      "text/plain": [
       "(5, 5)"
      ]
     },
     "execution_count": 152,
     "metadata": {},
     "output_type": "execute_result"
    }
   ],
   "source": [
    "a.shape"
   ]
  },
  {
   "cell_type": "code",
   "execution_count": 153,
   "metadata": {
    "collapsed": false
   },
   "outputs": [
    {
     "data": {
      "text/plain": [
       "(3, 3)"
      ]
     },
     "execution_count": 153,
     "metadata": {},
     "output_type": "execute_result"
    }
   ],
   "source": [
    "b.shape"
   ]
  },
  {
   "cell_type": "code",
   "execution_count": 154,
   "metadata": {
    "collapsed": false
   },
   "outputs": [
    {
     "data": {
      "text/plain": [
       "(8, 8)"
      ]
     },
     "execution_count": 154,
     "metadata": {},
     "output_type": "execute_result"
    }
   ],
   "source": [
    "c.shape"
   ]
  },
  {
   "cell_type": "code",
   "execution_count": 155,
   "metadata": {
    "collapsed": false
   },
   "outputs": [
    {
     "data": {
      "text/plain": [
       "[0.3989422804014327,\n",
       " 0.3989422804014327,\n",
       " 0.3989422804014327,\n",
       " 0.3989422804014327,\n",
       " 0.3989422804014327]"
      ]
     },
     "execution_count": 155,
     "metadata": {},
     "output_type": "execute_result"
    }
   ],
   "source": [
    "[x for x in a.flatten() if x in c]"
   ]
  },
  {
   "cell_type": "code",
   "execution_count": 156,
   "metadata": {
    "collapsed": false
   },
   "outputs": [
    {
     "data": {
      "text/plain": [
       "[0.3989422804014327, 0.3989422804014327, 0.3989422804014327]"
      ]
     },
     "execution_count": 156,
     "metadata": {},
     "output_type": "execute_result"
    }
   ],
   "source": [
    "[x for x in b.flatten() if x in c]"
   ]
  },
  {
   "cell_type": "code",
   "execution_count": 157,
   "metadata": {
    "collapsed": false
   },
   "outputs": [
    {
     "data": {
      "text/plain": [
       "array([[ 0.39894228,  0.32549582,  0.24197075,  0.36131425,  0.28654809],\n",
       "       [ 0.32549582,  0.39894228,  0.11166935,  0.22743353,  0.29339103],\n",
       "       [ 0.24197075,  0.11166935,  0.39894228,  0.34184938,  0.17571081],\n",
       "       [ 0.36131425,  0.22743353,  0.34184938,  0.39894228,  0.25633142],\n",
       "       [ 0.28654809,  0.29339103,  0.17571081,  0.25633142,  0.39894228]])"
      ]
     },
     "execution_count": 157,
     "metadata": {},
     "output_type": "execute_result"
    }
   ],
   "source": [
    "a"
   ]
  },
  {
   "cell_type": "code",
   "execution_count": 160,
   "metadata": {
    "collapsed": false
   },
   "outputs": [],
   "source": [
    "import scipy.spatial.distance as sp"
   ]
  },
  {
   "cell_type": "code",
   "execution_count": 161,
   "metadata": {
    "collapsed": false
   },
   "outputs": [
    {
     "data": {
      "text/plain": [
       "array([[    0.        ,   313.40867888,   491.3023509 ,   218.69156362,\n",
       "          399.68612685,   533.56630328,   649.85690733,   376.04919891],\n",
       "       [  313.40867888,     0.        ,   784.01594372,   520.85410625,\n",
       "          385.1700923 ,   825.10847772,   545.50985326,    85.27602242],\n",
       "       [  491.3023509 ,   784.01594372,     0.        ,   273.05677065,\n",
       "          629.16532009,   464.88815859,   857.68525696,   857.93997459],\n",
       "       [  218.69156362,   520.85410625,   273.05677065,     0.        ,\n",
       "          462.10929443,   430.99071916,   718.0250692 ,   590.427811  ],\n",
       "       [  399.68612685,   385.1700923 ,   629.16532009,   462.10929443,\n",
       "            0.        ,   886.01580121,   258.31182706,   465.72524089],\n",
       "       [  533.56630328,   825.10847772,   464.88815859,   430.99071916,\n",
       "          886.01580121,     0.        ,  1144.09309062,   864.76123872],\n",
       "       [  649.85690733,   545.50985326,   857.68525696,   718.0250692 ,\n",
       "          258.31182706,  1144.09309062,     0.        ,   607.21083653],\n",
       "       [  376.04919891,    85.27602242,   857.93997459,   590.427811  ,\n",
       "          465.72524089,   864.76123872,   607.21083653,     0.        ]])"
      ]
     },
     "execution_count": 161,
     "metadata": {},
     "output_type": "execute_result"
    }
   ],
   "source": [
    "sp.cdist(D3, D3)"
   ]
  },
  {
   "cell_type": "code",
   "execution_count": 179,
   "metadata": {
    "collapsed": false
   },
   "outputs": [
    {
     "data": {
      "text/plain": [
       "array([[ 533.56630328,  649.85690733,  376.04919891],\n",
       "       [ 825.10847772,  545.50985326,   85.27602242],\n",
       "       [ 464.88815859,  857.68525696,  857.93997459],\n",
       "       [ 430.99071916,  718.0250692 ,  590.427811  ],\n",
       "       [ 886.01580121,  258.31182706,  465.72524089]])"
      ]
     },
     "execution_count": 179,
     "metadata": {},
     "output_type": "execute_result"
    }
   ],
   "source": [
    "sp.cdist(D1, D2)"
   ]
  },
  {
   "cell_type": "code",
   "execution_count": 184,
   "metadata": {
    "collapsed": false
   },
   "outputs": [],
   "source": [
    "\n",
    "\n",
    "coord_ids = np.arange(n)\n",
    "points_ids = np.arange(m)\n",
    "dists = np.zeros((n,m))\n",
    "\n",
    "for i in coord_ids:\n",
    "    for j in points_ids:\n",
    "        x1,y1 = D1[i]\n",
    "        x2,y2 = D2[j]\n",
    "        dists[i,j] = np.sqrt((x2-x1)**2 + (y2-y1)**2)"
   ]
  },
  {
   "cell_type": "code",
   "execution_count": 185,
   "metadata": {
    "collapsed": false
   },
   "outputs": [
    {
     "data": {
      "text/plain": [
       "array([[ 533.56630328,  649.85690733,  376.04919891],\n",
       "       [ 825.10847772,  545.50985326,   85.27602242],\n",
       "       [ 464.88815859,  857.68525696,  857.93997459],\n",
       "       [ 430.99071916,  718.0250692 ,  590.427811  ],\n",
       "       [ 886.01580121,  258.31182706,  465.72524089]])"
      ]
     },
     "execution_count": 185,
     "metadata": {},
     "output_type": "execute_result"
    }
   ],
   "source": [
    "dists"
   ]
  },
  {
   "cell_type": "code",
   "execution_count": 173,
   "metadata": {
    "collapsed": false
   },
   "outputs": [
    {
     "data": {
      "text/plain": [
       "5"
      ]
     },
     "execution_count": 173,
     "metadata": {},
     "output_type": "execute_result"
    }
   ],
   "source": [
    "n"
   ]
  },
  {
   "cell_type": "code",
   "execution_count": 174,
   "metadata": {
    "collapsed": false
   },
   "outputs": [
    {
     "data": {
      "text/plain": [
       "3"
      ]
     },
     "execution_count": 174,
     "metadata": {},
     "output_type": "execute_result"
    }
   ],
   "source": [
    "m"
   ]
  },
  {
   "cell_type": "code",
   "execution_count": 186,
   "metadata": {
    "collapsed": false
   },
   "outputs": [
    {
     "data": {
      "text/plain": [
       "array([[ 0.39894228,  0.32549582,  0.24197075,  0.36131425,  0.28654809],\n",
       "       [ 0.32549582,  0.39894228,  0.11166935,  0.22743353,  0.29339103],\n",
       "       [ 0.24197075,  0.11166935,  0.39894228,  0.34184938,  0.17571081],\n",
       "       [ 0.36131425,  0.22743353,  0.34184938,  0.39894228,  0.25633142],\n",
       "       [ 0.28654809,  0.29339103,  0.17571081,  0.25633142,  0.39894228]])"
      ]
     },
     "execution_count": 186,
     "metadata": {},
     "output_type": "execute_result"
    }
   ],
   "source": [
    "a"
   ]
  },
  {
   "cell_type": "code",
   "execution_count": 187,
   "metadata": {
    "collapsed": false
   },
   "outputs": [
    {
     "data": {
      "text/plain": [
       "array([[ 0.39894228,  0.24197075,  0.29981427],\n",
       "       [ 0.24197075,  0.39894228,  0.34653252],\n",
       "       [ 0.29981427,  0.34653252,  0.39894228]])"
      ]
     },
     "execution_count": 187,
     "metadata": {},
     "output_type": "execute_result"
    }
   ],
   "source": [
    "b"
   ]
  },
  {
   "cell_type": "code",
   "execution_count": 188,
   "metadata": {
    "collapsed": false
   },
   "outputs": [
    {
     "data": {
      "text/plain": [
       "array([[ 0.39894228,  0.33824743,  0.26593447,  0.36813835,  0.30502818,\n",
       "         0.24726767,  0.19622043,  0.31457187],\n",
       "       [ 0.33824743,  0.39894228,  0.14202752,  0.25289972,  0.31092348,\n",
       "         0.12709312,  0.24197075,  0.39409745],\n",
       "       [ 0.26593447,  0.14202752,  0.39894228,  0.35196789,  0.20514264,\n",
       "         0.27746287,  0.11590961,  0.11582453],\n",
       "       [ 0.36813835,  0.25289972,  0.35196789,  0.39894228,  0.27866639,\n",
       "         0.29198776,  0.1677652 ,  0.22209064],\n",
       "       [ 0.30502818,  0.31092348,  0.20514264,  0.27866639,  0.39894228,\n",
       "         0.10667727,  0.356632  ,  0.27709994],\n",
       "       [ 0.24726767,  0.12709312,  0.27746287,  0.29198776,  0.10667727,\n",
       "         0.39894228,  0.04423435,  0.1135601 ],\n",
       "       [ 0.19622043,  0.24197075,  0.11590961,  0.1677652 ,  0.356632  ,\n",
       "         0.04423435,  0.39894228,  0.21471537],\n",
       "       [ 0.31457187,  0.39409745,  0.11582453,  0.22209064,  0.27709994,\n",
       "         0.1135601 ,  0.21471537,  0.39894228]])"
      ]
     },
     "execution_count": 188,
     "metadata": {},
     "output_type": "execute_result"
    }
   ],
   "source": [
    "c"
   ]
  },
  {
   "cell_type": "code",
   "execution_count": 193,
   "metadata": {
    "collapsed": false
   },
   "outputs": [
    {
     "data": {
      "text/plain": [
       "array([[   0.        ,  313.40867888,  491.3023509 ,  218.69156362,\n",
       "         399.68612685],\n",
       "       [ 313.40867888,    0.        ,  784.01594372,  520.85410625,\n",
       "         385.1700923 ],\n",
       "       [ 491.3023509 ,  784.01594372,    0.        ,  273.05677065,\n",
       "         629.16532009],\n",
       "       [ 218.69156362,  520.85410625,  273.05677065,    0.        ,\n",
       "         462.10929443],\n",
       "       [ 399.68612685,  385.1700923 ,  629.16532009,  462.10929443,    0.        ]])"
      ]
     },
     "execution_count": 193,
     "metadata": {},
     "output_type": "execute_result"
    }
   ],
   "source": [
    "a = sp.cdist(D1,D1)\n",
    "a"
   ]
  },
  {
   "cell_type": "code",
   "execution_count": 194,
   "metadata": {
    "collapsed": false
   },
   "outputs": [
    {
     "data": {
      "text/plain": [
       "array([[    0.        ,  1144.09309062,   864.76123872],\n",
       "       [ 1144.09309062,     0.        ,   607.21083653],\n",
       "       [  864.76123872,   607.21083653,     0.        ]])"
      ]
     },
     "execution_count": 194,
     "metadata": {},
     "output_type": "execute_result"
    }
   ],
   "source": [
    "b = sp.cdist(D2,D2)\n",
    "b"
   ]
  },
  {
   "cell_type": "code",
   "execution_count": 197,
   "metadata": {
    "collapsed": false
   },
   "outputs": [
    {
     "data": {
      "text/plain": [
       "array([[    0.        ,   313.40867888,   491.3023509 ,   218.69156362,\n",
       "          399.68612685,   533.56630328,   649.85690733,   376.04919891],\n",
       "       [  313.40867888,     0.        ,   784.01594372,   520.85410625,\n",
       "          385.1700923 ,   825.10847772,   545.50985326,    85.27602242],\n",
       "       [  491.3023509 ,   784.01594372,     0.        ,   273.05677065,\n",
       "          629.16532009,   464.88815859,   857.68525696,   857.93997459],\n",
       "       [  218.69156362,   520.85410625,   273.05677065,     0.        ,\n",
       "          462.10929443,   430.99071916,   718.0250692 ,   590.427811  ],\n",
       "       [  399.68612685,   385.1700923 ,   629.16532009,   462.10929443,\n",
       "            0.        ,   886.01580121,   258.31182706,   465.72524089],\n",
       "       [  533.56630328,   825.10847772,   464.88815859,   430.99071916,\n",
       "          886.01580121,     0.        ,  1144.09309062,   864.76123872],\n",
       "       [  649.85690733,   545.50985326,   857.68525696,   718.0250692 ,\n",
       "          258.31182706,  1144.09309062,     0.        ,   607.21083653],\n",
       "       [  376.04919891,    85.27602242,   857.93997459,   590.427811  ,\n",
       "          465.72524089,   864.76123872,   607.21083653,     0.        ]])"
      ]
     },
     "execution_count": 197,
     "metadata": {},
     "output_type": "execute_result"
    }
   ],
   "source": [
    "c = sp.cdist(D3,D3)\n",
    "c"
   ]
  },
  {
   "cell_type": "code",
   "execution_count": 201,
   "metadata": {
    "collapsed": false
   },
   "outputs": [
    {
     "data": {
      "text/plain": [
       "[0.0,\n",
       " 313.40867888429636,\n",
       " 491.30235090013565,\n",
       " 218.69156362329116,\n",
       " 399.68612685456071,\n",
       " 313.40867888429636,\n",
       " 0.0,\n",
       " 784.0159437154324,\n",
       " 520.85410625241309,\n",
       " 385.17009229689683,\n",
       " 491.30235090013565,\n",
       " 784.0159437154324,\n",
       " 0.0,\n",
       " 273.05677065401619,\n",
       " 629.1653200868592,\n",
       " 218.69156362329116,\n",
       " 520.85410625241309,\n",
       " 273.05677065401619,\n",
       " 0.0,\n",
       " 462.10929443152298,\n",
       " 399.68612685456071,\n",
       " 385.17009229689683,\n",
       " 629.1653200868592,\n",
       " 462.10929443152298,\n",
       " 0.0]"
      ]
     },
     "execution_count": 201,
     "metadata": {},
     "output_type": "execute_result"
    }
   ],
   "source": [
    "d = [x for x in a.flatten() if x in c]\n",
    "d"
   ]
  },
  {
   "cell_type": "code",
   "execution_count": 202,
   "metadata": {
    "collapsed": false
   },
   "outputs": [
    {
     "data": {
      "text/plain": [
       "[0.0,\n",
       " 1144.0930906180668,\n",
       " 864.76123872430821,\n",
       " 1144.0930906180668,\n",
       " 0.0,\n",
       " 607.21083653044275,\n",
       " 864.76123872430821,\n",
       " 607.21083653044275,\n",
       " 0.0]"
      ]
     },
     "execution_count": 202,
     "metadata": {},
     "output_type": "execute_result"
    }
   ],
   "source": [
    "e = [x for x in b.flatten() if x in c]\n",
    "e"
   ]
  },
  {
   "cell_type": "code",
   "execution_count": 204,
   "metadata": {
    "collapsed": false
   },
   "outputs": [],
   "source": [
    "g = d + e"
   ]
  },
  {
   "cell_type": "code",
   "execution_count": 205,
   "metadata": {
    "collapsed": false
   },
   "outputs": [
    {
     "data": {
      "text/plain": [
       "34"
      ]
     },
     "execution_count": 205,
     "metadata": {},
     "output_type": "execute_result"
    }
   ],
   "source": [
    "len(g)"
   ]
  },
  {
   "cell_type": "code",
   "execution_count": 210,
   "metadata": {
    "collapsed": false
   },
   "outputs": [
    {
     "name": "stdout",
     "output_type": "stream",
     "text": [
      "True\n",
      "True\n",
      "True\n",
      "True\n",
      "True\n",
      "True\n",
      "True\n",
      "True\n",
      "True\n",
      "True\n",
      "True\n",
      "True\n",
      "True\n",
      "True\n",
      "True\n",
      "True\n",
      "True\n",
      "True\n",
      "True\n",
      "True\n",
      "True\n",
      "True\n",
      "True\n",
      "True\n",
      "True\n",
      "True\n",
      "True\n",
      "True\n",
      "True\n",
      "True\n",
      "True\n",
      "True\n",
      "True\n",
      "True\n"
     ]
    }
   ],
   "source": [
    "for x in g:\n",
    "    if x in c:\n",
    "        print 'True'"
   ]
  },
  {
   "cell_type": "code",
   "execution_count": 209,
   "metadata": {
    "collapsed": false
   },
   "outputs": [
    {
     "name": "stdout",
     "output_type": "stream",
     "text": [
      "0.0\n",
      "313.408678884\n",
      "491.3023509\n",
      "218.691563623\n",
      "399.686126855\n",
      "313.408678884\n",
      "0.0\n",
      "784.015943715\n",
      "520.854106252\n",
      "385.170092297\n",
      "491.3023509\n",
      "784.015943715\n",
      "0.0\n",
      "273.056770654\n",
      "629.165320087\n",
      "218.691563623\n",
      "520.854106252\n",
      "273.056770654\n",
      "0.0\n",
      "462.109294432\n",
      "399.686126855\n",
      "385.170092297\n",
      "629.165320087\n",
      "462.109294432\n",
      "0.0\n",
      "0.0\n",
      "1144.09309062\n",
      "864.761238724\n",
      "1144.09309062\n",
      "0.0\n",
      "607.21083653\n",
      "864.761238724\n",
      "607.21083653\n",
      "0.0\n"
     ]
    }
   ],
   "source": [
    "for x in g:\n",
    "    print x"
   ]
  },
  {
   "cell_type": "code",
   "execution_count": 213,
   "metadata": {
    "collapsed": false
   },
   "outputs": [
    {
     "data": {
      "text/plain": [
       "64"
      ]
     },
     "execution_count": 213,
     "metadata": {},
     "output_type": "execute_result"
    }
   ],
   "source": [
    "len(c.flatten())"
   ]
  },
  {
   "cell_type": "code",
   "execution_count": 214,
   "metadata": {
    "collapsed": false
   },
   "outputs": [
    {
     "data": {
      "text/plain": [
       "array([[   0.        ,  313.40867888,  491.3023509 ,  218.69156362,\n",
       "         399.68612685],\n",
       "       [ 313.40867888,    0.        ,  784.01594372,  520.85410625,\n",
       "         385.1700923 ],\n",
       "       [ 491.3023509 ,  784.01594372,    0.        ,  273.05677065,\n",
       "         629.16532009],\n",
       "       [ 218.69156362,  520.85410625,  273.05677065,    0.        ,\n",
       "         462.10929443],\n",
       "       [ 399.68612685,  385.1700923 ,  629.16532009,  462.10929443,    0.        ]])"
      ]
     },
     "execution_count": 214,
     "metadata": {},
     "output_type": "execute_result"
    }
   ],
   "source": [
    "a"
   ]
  },
  {
   "cell_type": "code",
   "execution_count": 215,
   "metadata": {
    "collapsed": false
   },
   "outputs": [
    {
     "data": {
      "text/plain": [
       "array([[    0.        ,  1144.09309062,   864.76123872],\n",
       "       [ 1144.09309062,     0.        ,   607.21083653],\n",
       "       [  864.76123872,   607.21083653,     0.        ]])"
      ]
     },
     "execution_count": 215,
     "metadata": {},
     "output_type": "execute_result"
    }
   ],
   "source": [
    "b"
   ]
  },
  {
   "cell_type": "code",
   "execution_count": 216,
   "metadata": {
    "collapsed": false
   },
   "outputs": [
    {
     "data": {
      "text/plain": [
       "array([[    0.        ,   313.40867888,   491.3023509 ,   218.69156362,\n",
       "          399.68612685,   533.56630328,   649.85690733,   376.04919891],\n",
       "       [  313.40867888,     0.        ,   784.01594372,   520.85410625,\n",
       "          385.1700923 ,   825.10847772,   545.50985326,    85.27602242],\n",
       "       [  491.3023509 ,   784.01594372,     0.        ,   273.05677065,\n",
       "          629.16532009,   464.88815859,   857.68525696,   857.93997459],\n",
       "       [  218.69156362,   520.85410625,   273.05677065,     0.        ,\n",
       "          462.10929443,   430.99071916,   718.0250692 ,   590.427811  ],\n",
       "       [  399.68612685,   385.1700923 ,   629.16532009,   462.10929443,\n",
       "            0.        ,   886.01580121,   258.31182706,   465.72524089],\n",
       "       [  533.56630328,   825.10847772,   464.88815859,   430.99071916,\n",
       "          886.01580121,     0.        ,  1144.09309062,   864.76123872],\n",
       "       [  649.85690733,   545.50985326,   857.68525696,   718.0250692 ,\n",
       "          258.31182706,  1144.09309062,     0.        ,   607.21083653],\n",
       "       [  376.04919891,    85.27602242,   857.93997459,   590.427811  ,\n",
       "          465.72524089,   864.76123872,   607.21083653,     0.        ]])"
      ]
     },
     "execution_count": 216,
     "metadata": {},
     "output_type": "execute_result"
    }
   ],
   "source": [
    "c"
   ]
  },
  {
   "cell_type": "code",
   "execution_count": 221,
   "metadata": {
    "collapsed": false
   },
   "outputs": [],
   "source": [
    "W3 = _Kernel(D3, function='gaussian', truncate=False)"
   ]
  },
  {
   "cell_type": "code",
   "execution_count": 224,
   "metadata": {
    "collapsed": false
   },
   "outputs": [
    {
     "data": {
      "text/plain": [
       "array([[    0.        ,   313.40867888,   491.3023509 ,   218.69156362,\n",
       "          399.68612685,   533.56630328,   649.85690733,   376.04919891],\n",
       "       [  313.40867888,     0.        ,   784.01594372,   520.85410625,\n",
       "          385.1700923 ,   825.10847772,   545.50985326,    85.27602242],\n",
       "       [  491.3023509 ,   784.01594372,     0.        ,   273.05677065,\n",
       "          629.16532009,   464.88815859,   857.68525696,   857.93997459],\n",
       "       [  218.69156362,   520.85410625,   273.05677065,     0.        ,\n",
       "          462.10929443,   430.99071916,   718.0250692 ,   590.427811  ],\n",
       "       [  399.68612685,   385.1700923 ,   629.16532009,   462.10929443,\n",
       "            0.        ,   886.01580121,   258.31182706,   465.72524089],\n",
       "       [  533.56630328,   825.10847772,   464.88815859,   430.99071916,\n",
       "          886.01580121,     0.        ,  1144.09309062,   864.76123872],\n",
       "       [  649.85690733,   545.50985326,   857.68525696,   718.0250692 ,\n",
       "          258.31182706,  1144.09309062,     0.        ,   607.21083653],\n",
       "       [  376.04919891,    85.27602242,   857.93997459,   590.427811  ,\n",
       "          465.72524089,   864.76123872,   607.21083653,     0.        ]])"
      ]
     },
     "execution_count": 224,
     "metadata": {},
     "output_type": "execute_result"
    }
   ],
   "source": [
    "W3.dmat"
   ]
  },
  {
   "cell_type": "code",
   "execution_count": 225,
   "metadata": {
    "collapsed": false
   },
   "outputs": [
    {
     "data": {
      "text/plain": [
       "26"
      ]
     },
     "execution_count": 225,
     "metadata": {},
     "output_type": "execute_result"
    }
   ],
   "source": [
    "34-8"
   ]
  },
  {
   "cell_type": "code",
   "execution_count": 227,
   "metadata": {
    "collapsed": false
   },
   "outputs": [
    {
     "data": {
      "text/plain": [
       "array([    0.        ,   218.69156362,   273.05677065,   313.40867888,\n",
       "         385.1700923 ,   399.68612685,   462.10929443,   491.3023509 ,\n",
       "         520.85410625,   607.21083653,   629.16532009,   784.01594372,\n",
       "         864.76123872,  1144.09309062])"
      ]
     },
     "execution_count": 227,
     "metadata": {},
     "output_type": "execute_result"
    }
   ],
   "source": [
    "np.unique(g)"
   ]
  },
  {
   "cell_type": "code",
   "execution_count": 230,
   "metadata": {
    "collapsed": false
   },
   "outputs": [],
   "source": [
    "v = sp.cdist(D1, D2)"
   ]
  },
  {
   "cell_type": "code",
   "execution_count": 243,
   "metadata": {
    "collapsed": false
   },
   "outputs": [
    {
     "data": {
      "text/plain": [
       "array([[ 533.56630328,  649.85690733,  376.04919891],\n",
       "       [ 825.10847772,  545.50985326,   85.27602242],\n",
       "       [ 464.88815859,  857.68525696,  857.93997459],\n",
       "       [ 430.99071916,  718.0250692 ,  590.427811  ],\n",
       "       [ 886.01580121,  258.31182706,  465.72524089]])"
      ]
     },
     "execution_count": 243,
     "metadata": {},
     "output_type": "execute_result"
    }
   ],
   "source": [
    "n = []\n",
    "for each in v.flatten(): \n",
    "    if each in c: \n",
    "        n.append(each)\n",
    "        \n",
    "n = np.array(n)\n",
    "n = n.reshape((5,3))\n",
    "n"
   ]
  },
  {
   "cell_type": "code",
   "execution_count": 237,
   "metadata": {
    "collapsed": false
   },
   "outputs": [
    {
     "data": {
      "text/plain": [
       "array([[ 533.56630328,  649.85690733,  376.04919891,  825.10847772,\n",
       "         545.50985326],\n",
       "       [  85.27602242,  464.88815859,  857.68525696,  857.93997459,\n",
       "         430.99071916],\n",
       "       [ 718.0250692 ,  590.427811  ,  886.01580121,  258.31182706,\n",
       "         465.72524089]])"
      ]
     },
     "execution_count": 237,
     "metadata": {},
     "output_type": "execute_result"
    }
   ],
   "source": [
    "n.reshape((3,5))"
   ]
  },
  {
   "cell_type": "code",
   "execution_count": 245,
   "metadata": {
    "collapsed": false
   },
   "outputs": [
    {
     "data": {
      "text/plain": [
       "array([[ 533.56630328,  649.85690733,  376.04919891],\n",
       "       [ 825.10847772,  545.50985326,   85.27602242],\n",
       "       [ 464.88815859,  857.68525696,  857.93997459],\n",
       "       [ 430.99071916,  718.0250692 ,  590.427811  ],\n",
       "       [ 886.01580121,  258.31182706,  465.72524089]])"
      ]
     },
     "execution_count": 245,
     "metadata": {},
     "output_type": "execute_result"
    }
   ],
   "source": [
    "sp.cdist(D1,D2)"
   ]
  },
  {
   "cell_type": "code",
   "execution_count": 272,
   "metadata": {
    "collapsed": false
   },
   "outputs": [
    {
     "data": {
      "text/plain": [
       "array([[ 533.56630328,  649.85690733,  376.04919891],\n",
       "       [ 825.10847772,  545.50985326,   85.27602242],\n",
       "       [ 464.88815859,  857.68525696,  857.93997459],\n",
       "       [ 430.99071916,  718.0250692 ,  590.427811  ],\n",
       "       [ 886.01580121,  258.31182706,  465.72524089]])"
      ]
     },
     "execution_count": 272,
     "metadata": {},
     "output_type": "execute_result"
    }
   ],
   "source": [
    "W3.dmat[5:,:-3].T"
   ]
  },
  {
   "cell_type": "code",
   "execution_count": 273,
   "metadata": {
    "collapsed": false
   },
   "outputs": [
    {
     "ename": "AttributeError",
     "evalue": "'_Kernel' object has no attribute 'full'",
     "output_type": "error",
     "traceback": [
      "\u001b[0;31m---------------------------------------------------------------------------\u001b[0m",
      "\u001b[0;31mAttributeError\u001b[0m                            Traceback (most recent call last)",
      "\u001b[0;32m<ipython-input-273-bac72fa59f87>\u001b[0m in \u001b[0;36m<module>\u001b[0;34m()\u001b[0m\n\u001b[0;32m----> 1\u001b[0;31m \u001b[0mW3\u001b[0m\u001b[0;34m.\u001b[0m\u001b[0mfull\u001b[0m\u001b[0;34m(\u001b[0m\u001b[0;34m)\u001b[0m\u001b[0;34m[\u001b[0m\u001b[0;36m0\u001b[0m\u001b[0;34m]\u001b[0m\u001b[0;34m[\u001b[0m\u001b[0;36m5\u001b[0m\u001b[0;34m:\u001b[0m\u001b[0;34m,\u001b[0m\u001b[0;34m:\u001b[0m\u001b[0;34m-\u001b[0m\u001b[0;36m3\u001b[0m\u001b[0;34m]\u001b[0m\u001b[0;34m.\u001b[0m\u001b[0mT\u001b[0m\u001b[0;34m\u001b[0m\u001b[0m\n\u001b[0m",
      "\u001b[0;31mAttributeError\u001b[0m: '_Kernel' object has no attribute 'full'"
     ]
    }
   ],
   "source": [
    "W3.full()[0][5:,:-3].T"
   ]
  },
  {
   "cell_type": "code",
   "execution_count": 279,
   "metadata": {
    "collapsed": false
   },
   "outputs": [
    {
     "data": {
      "text/plain": [
       "array([[ 0.3578336 ,  0.33950844,  0.37796401],\n",
       "       [ 0.30758741,  0.3560763 ,  0.39783564],\n",
       "       [ 0.36733036,  0.30121336,  0.30116308],\n",
       "       [ 0.37161625,  0.32762844,  0.34920341],\n",
       "       [ 0.29558272,  0.38890253,  0.36722107]])"
      ]
     },
     "execution_count": 279,
     "metadata": {},
     "output_type": "execute_result"
    }
   ],
   "source": [
    "W3.kernel[5:,:-3].T"
   ]
  },
  {
   "cell_type": "code",
   "execution_count": 290,
   "metadata": {
    "collapsed": false
   },
   "outputs": [
    {
     "data": {
      "text/plain": [
       "array([[ 0.24726767,  0.19622043,  0.31457187],\n",
       "       [ 0.12709312,  0.24197075,  0.39409745],\n",
       "       [ 0.27746287,  0.11590961,  0.11582453],\n",
       "       [ 0.29198776,  0.1677652 ,  0.22209064],\n",
       "       [ 0.10667727,  0.356632  ,  0.27709994]])"
      ]
     },
     "execution_count": 290,
     "metadata": {},
     "output_type": "execute_result"
    }
   ],
   "source": [
    "W3 = kn(D3, function='gaussian', truncate=False)\n",
    "W3.full()[0][5:,:-3].T"
   ]
  },
  {
   "cell_type": "code",
   "execution_count": 288,
   "metadata": {
    "collapsed": true
   },
   "outputs": [],
   "source": [
    "W3 = _Kernel(D3, function='gaussian', truncate=False, k=2)\n",
    "W3.kernel[5:,:-3].T"
   ]
  },
  {
   "cell_type": "code",
   "execution_count": 289,
   "metadata": {
    "collapsed": false
   },
   "outputs": [
    {
     "data": {
      "text/plain": [
       "array([[ 0.24726767,  0.19622043,  0.31457187],\n",
       "       [ 0.12709312,  0.24197075,  0.39409745],\n",
       "       [ 0.27746287,  0.11590961,  0.11582453],\n",
       "       [ 0.29198776,  0.1677652 ,  0.22209064],\n",
       "       [ 0.10667727,  0.356632  ,  0.27709994]])"
      ]
     },
     "execution_count": 289,
     "metadata": {},
     "output_type": "execute_result"
    }
   ],
   "source": [
    "W3.kernel[5:,:-3].T"
   ]
  },
  {
   "cell_type": "code",
   "execution_count": null,
   "metadata": {
    "collapsed": true
   },
   "outputs": [],
   "source": []
  }
 ],
 "metadata": {
  "anaconda-cloud": {},
  "kernelspec": {
   "display_name": "Python [Root]",
   "language": "python",
   "name": "Python [Root]"
  },
  "language_info": {
   "codemirror_mode": {
    "name": "ipython",
    "version": 2
   },
   "file_extension": ".py",
   "mimetype": "text/x-python",
   "name": "python",
   "nbconvert_exporter": "python",
   "pygments_lexer": "ipython2",
   "version": "2.7.12"
  }
 },
 "nbformat": 4,
 "nbformat_minor": 0
}
