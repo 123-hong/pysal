{
 "cells": [
  {
   "cell_type": "code",
   "execution_count": 23,
   "metadata": {
    "collapsed": false
   },
   "outputs": [],
   "source": [
    "import numpy as np\n",
    "import pysal as ps\n",
    "from pysal.weights.Distance import Kernel"
   ]
  },
  {
   "cell_type": "code",
   "execution_count": 30,
   "metadata": {
    "collapsed": true
   },
   "outputs": [],
   "source": [
    "n = 3 #number of observations\n",
    "m = 5 #number of calibration points"
   ]
  },
  {
   "cell_type": "code",
   "execution_count": 31,
   "metadata": {
    "collapsed": false
   },
   "outputs": [],
   "source": [
    "x = np.random.randint(1,100, n)\n",
    "y = np.random.randint(1,100, n)\n",
    "D1 = zip(x,y)"
   ]
  },
  {
   "cell_type": "code",
   "execution_count": 32,
   "metadata": {
    "collapsed": false
   },
   "outputs": [],
   "source": [
    "x = np.random.randint(1,100, m)\n",
    "y = np.random.randint(1,100, m)\n",
    "D2 = zip(x,y)"
   ]
  },
  {
   "cell_type": "code",
   "execution_count": 33,
   "metadata": {
    "collapsed": false
   },
   "outputs": [],
   "source": [
    "D3 = np.vstack([D1,D2])\n",
    "W3 = Kernel(D3)\n",
    "\n"
   ]
  },
  {
   "cell_type": "code",
   "execution_count": 34,
   "metadata": {
    "collapsed": false
   },
   "outputs": [
    {
     "name": "stdout",
     "output_type": "stream",
     "text": [
      "a\n",
      "a\n",
      "a\n",
      "a\n",
      "a\n",
      "a\n",
      "a\n",
      "a\n",
      "a\n",
      "a\n",
      "a\n",
      "a\n",
      "a\n",
      "a\n",
      "a\n"
     ]
    }
   ],
   "source": [
    "\n",
    "coord_ids = np.arange(n)\n",
    "points_ids = np.arange(n, n+m)\n",
    "all_ids = np.arange(n+m)\n",
    "dists = np.zeros((m,n))\n",
    "\n",
    "\n",
    "for i in all_ids:\n",
    "    if i in points_ids:\n",
    "        for j in coord_ids:\n",
    "            if j in W3[j].keys():\n",
    "                if i >= n:\n",
    "                    print 'a'\n",
    "                    dists[i-n][j] = W3.full()[0][i][j]\n",
    "                elif j >= m:\n",
    "                    print 'b'\n",
    "                    dists[i][j-m] = W3.full()[0][i][j]\n",
    "                elif (i >= n) & (j >= m):\n",
    "                    print 'c'\n",
    "                    dists[i-n][j-m] = W3.full()[0][i][j]\n",
    "                else:\n",
    "                    print 'd'\n",
    "                    dists[i][j] = W3.full()[0][i][j]\n",
    "\n"
   ]
  },
  {
   "cell_type": "code",
   "execution_count": 35,
   "metadata": {
    "collapsed": false
   },
   "outputs": [
    {
     "data": {
      "text/plain": [
       "array([[  0.00000000e+00,   0.00000000e+00,   9.99999901e-08],\n",
       "       [  1.94048304e-01,   4.25327793e-01,   6.86243093e-01],\n",
       "       [  4.87226734e-01,   0.00000000e+00,   3.05954234e-01],\n",
       "       [  0.00000000e+00,   7.67802507e-02,   3.76184399e-01],\n",
       "       [  1.14222216e-01,   3.32212480e-01,   2.31182026e-01]])"
      ]
     },
     "execution_count": 35,
     "metadata": {},
     "output_type": "execute_result"
    }
   ],
   "source": [
    "dists"
   ]
  },
  {
   "cell_type": "code",
   "execution_count": 22,
   "metadata": {
    "collapsed": false
   },
   "outputs": [],
   "source": [
    "new_neighbs = {}\n",
    "new_weights = {}\n",
    "for each in W2.neighbors:\n",
    "    three = set(W3.neighbors[each])\n",
    "    two = set(W2.neighbors[each])\n",
    "    new_neighbs[each] = list(three.difference(two))\n",
    "    new_weights[each] = {}\n",
    "    for weight in new_neighbs[each]:\n",
    "        new_weights[each][weight] = W3[each][weight]"
   ]
  },
  {
   "cell_type": "code",
   "execution_count": 23,
   "metadata": {
    "collapsed": false
   },
   "outputs": [
    {
     "data": {
      "text/plain": [
       "'\\nfor ids in all_ids:\\n    if ids in points_ids:\\n        _all = set(W3.neighbors[ids])\\n        points = set(W2.neighbors[ids])\\n        new_neighbs[ids] = list(_all.difference(points))\\n        new_weights[ids] = {}\\n        for weight in new_neighbs[ids]:\\n            new_weights[ids][weight] = W3[ids][weight]\\n\\n    else:\\n        new_weights[ids] = {}\\n'"
      ]
     },
     "execution_count": 23,
     "metadata": {},
     "output_type": "execute_result"
    }
   ],
   "source": [
    "coord_ids = W1.id_order\n",
    "points_ids = W2.id_order\n",
    "all_ids = W3.id_order\n",
    "dists = np.zeros((2,3))\n",
    "\n",
    "'''\n",
    "for ids in all_ids:\n",
    "    if ids in points_ids:\n",
    "        _all = set(W3.neighbors[ids])\n",
    "        points = set(W2.neighbors[ids])\n",
    "        new_neighbs[ids] = list(_all.difference(points))\n",
    "        new_weights[ids] = {}\n",
    "        for weight in new_neighbs[ids]:\n",
    "            new_weights[ids][weight] = W3[ids][weight]\n",
    "\n",
    "    else:\n",
    "        new_weights[ids] = {}\n",
    "'''       \n"
   ]
  },
  {
   "cell_type": "code",
   "execution_count": 26,
   "metadata": {
    "collapsed": false
   },
   "outputs": [
    {
     "name": "stdout",
     "output_type": "stream",
     "text": [
      "3 0\n",
      "a\n",
      "3 1\n",
      "a\n",
      "3 2\n",
      "a\n",
      "4 0\n",
      "a\n",
      "4 1\n",
      "a\n",
      "4 2\n",
      "a\n"
     ]
    }
   ],
   "source": [
    "n = 3 #number of observations\n",
    "m = 2 #number of \n",
    "for i in all_ids:\n",
    "    if i in points_ids:\n",
    "        for j in coord_ids:\n",
    "            if j in W3[j].keys():\n",
    "                print i,j\n",
    "                if i >= n:\n",
    "                    print 'a'\n",
    "                    dists[i-n][j] = W3.full()[0][i][j]\n",
    "                elif j >= m:\n",
    "                    print 'b'\n",
    "                    dists[i][j-m] = W3.full()[0][i][j]\n",
    "                elif (i >= n) & (j >= m):\n",
    "                    print 'c'\n",
    "                    dists[i-n][j-m] = W3.full()[0][i][j]\n",
    "                else:\n",
    "                    print 'd'\n",
    "                    dists[i][j] = W3.full()[0][i][j]\n"
   ]
  },
  {
   "cell_type": "code",
   "execution_count": 27,
   "metadata": {
    "collapsed": false
   },
   "outputs": [
    {
     "data": {
      "text/plain": [
       "array([[ 0.50000005,  0.09861227,  0.25000007],\n",
       "       [ 0.        ,  0.09861227,  0.        ]])"
      ]
     },
     "execution_count": 27,
     "metadata": {},
     "output_type": "execute_result"
    }
   ],
   "source": [
    "dists"
   ]
  },
  {
   "cell_type": "code",
   "execution_count": 16,
   "metadata": {
    "collapsed": false
   },
   "outputs": [
    {
     "data": {
      "text/plain": [
       "[0, 1]"
      ]
     },
     "execution_count": 16,
     "metadata": {},
     "output_type": "execute_result"
    }
   ],
   "source": [
    "points_ids"
   ]
  },
  {
   "cell_type": "code",
   "execution_count": 234,
   "metadata": {
    "collapsed": false
   },
   "outputs": [
    {
     "name": "stdout",
     "output_type": "stream",
     "text": [
      "WARNING: there are 3 disconnected observations\n",
      "Island ids:  [0, 1, 2]\n"
     ]
    }
   ],
   "source": [
    "W4 = ps.W(new_neighbs, new_weights)"
   ]
  },
  {
   "cell_type": "code",
   "execution_count": 235,
   "metadata": {
    "collapsed": false
   },
   "outputs": [
    {
     "data": {
      "text/plain": [
       "{0: [], 1: [], 2: [], 3: [0, 1, 2], 4: [1]}"
      ]
     },
     "execution_count": 235,
     "metadata": {},
     "output_type": "execute_result"
    }
   ],
   "source": [
    "W4.neighbors"
   ]
  },
  {
   "cell_type": "code",
   "execution_count": 236,
   "metadata": {
    "collapsed": false
   },
   "outputs": [
    {
     "data": {
      "text/plain": [
       "{0: {},\n",
       " 1: {},\n",
       " 2: {},\n",
       " 3: {0: 0.500000049999995, 1: 0.09861227127277583, 2: 0.25000007499999266},\n",
       " 4: {1: 0.09861227127277583}}"
      ]
     },
     "execution_count": 236,
     "metadata": {},
     "output_type": "execute_result"
    }
   ],
   "source": [
    "W4.weights"
   ]
  },
  {
   "cell_type": "code",
   "execution_count": 237,
   "metadata": {
    "collapsed": false
   },
   "outputs": [
    {
     "data": {
      "text/plain": [
       "[0, 1, 2, 3, 4]"
      ]
     },
     "execution_count": 237,
     "metadata": {},
     "output_type": "execute_result"
    }
   ],
   "source": [
    "W4.id_order"
   ]
  },
  {
   "cell_type": "code",
   "execution_count": 239,
   "metadata": {
    "collapsed": false
   },
   "outputs": [
    {
     "data": {
      "text/plain": [
       "array([[ 0.,  0.,  0.,  0.,  0.],\n",
       "       [ 0.,  0.,  0.,  0.,  0.],\n",
       "       [ 0.,  0.,  0.,  0.,  0.],\n",
       "       [ 0.,  1.,  2.,  0.,  0.],\n",
       "       [ 0.,  1.,  0.,  0.,  0.]])"
      ]
     },
     "execution_count": 239,
     "metadata": {},
     "output_type": "execute_result"
    }
   ],
   "source": [
    "W4.full()[0]"
   ]
  },
  {
   "cell_type": "code",
   "execution_count": 244,
   "metadata": {
    "collapsed": false
   },
   "outputs": [
    {
     "data": {
      "text/plain": [
       "{1: 1}"
      ]
     },
     "execution_count": 244,
     "metadata": {},
     "output_type": "execute_result"
    }
   ],
   "source": [
    "W4."
   ]
  },
  {
   "cell_type": "code",
   "execution_count": 35,
   "metadata": {
    "collapsed": false
   },
   "outputs": [
    {
     "data": {
      "text/plain": [
       "array([5])"
      ]
     },
     "execution_count": 35,
     "metadata": {},
     "output_type": "execute_result"
    }
   ],
   "source": [
    "np.arange(5,6)"
   ]
  },
  {
   "cell_type": "code",
   "execution_count": null,
   "metadata": {
    "collapsed": true
   },
   "outputs": [],
   "source": []
  }
 ],
 "metadata": {
  "anaconda-cloud": {},
  "kernelspec": {
   "display_name": "Python [Root]",
   "language": "python",
   "name": "Python [Root]"
  },
  "language_info": {
   "codemirror_mode": {
    "name": "ipython",
    "version": 2
   },
   "file_extension": ".py",
   "mimetype": "text/x-python",
   "name": "python",
   "nbconvert_exporter": "python",
   "pygments_lexer": "ipython2",
   "version": "2.7.12"
  }
 },
 "nbformat": 4,
 "nbformat_minor": 0
}
