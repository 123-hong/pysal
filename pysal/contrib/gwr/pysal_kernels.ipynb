{
 "cells": [
  {
   "cell_type": "code",
   "execution_count": 1,
   "metadata": {
    "collapsed": false
   },
   "outputs": [],
   "source": [
    "import pysal as ps\n",
    "import numpy as np\n",
    "import os\n",
    "os.chdir('/Users/toshan/projects/GIS596/pysal/pysal/weights/')\n",
    "from Distance import Kernel, knnW\n",
    "from pysal.cg.kdtree import KDTree\n",
    "from scipy.spatial.distance import cdist"
   ]
  },
  {
   "cell_type": "code",
   "execution_count": 2,
   "metadata": {
    "collapsed": false
   },
   "outputs": [
    {
     "name": "stdout",
     "output_type": "stream",
     "text": [
      "[[ 1.          0.30864198  9.          0.19753086  1.49382716  6.5308642 ]\n",
      " [ 0.30864198  1.          0.60493827  0.19753086  0.01234568  1.49382716]\n",
      " [ 9.          0.60493827  1.          4.9382716   0.01234568  1.49382716]\n",
      " [ 0.19753086  0.19753086  4.9382716   1.          0.          0.19753086]\n",
      " [ 1.49382716  0.01234568  0.01234568  0.          1.          0.30864198]\n",
      " [ 6.5308642   1.49382716  1.49382716  0.19753086  0.30864198  1.        ]]\n"
     ]
    }
   ],
   "source": [
    "points=[(10, 10), (20, 10), (40, 10), (15, 20), (30, 20), (30, 30)]\n",
    "\n",
    "\n",
    "def fix_gauss(points, bw):\n",
    "    w = Kernel(points, function='bisquare', bandwidth=bw, diagonal=True, truncate=False)\n",
    "    return w\n",
    "\n",
    "\n",
    "\n",
    "w = fix_gauss(points, 15)\n",
    "print w.full()[0]"
   ]
  },
  {
   "cell_type": "code",
   "execution_count": 3,
   "metadata": {
    "collapsed": false
   },
   "outputs": [
    {
     "name": "stdout",
     "output_type": "stream",
     "text": [
      "[[  1.00000000e+00   7.65625044e-01   1.56249438e-02   7.11914115e-01\n",
      "    1.40625094e-01   3.99999881e-14]\n",
      " [  5.62500075e-01   1.00000000e+00   3.99999881e-14   4.72656336e-01\n",
      "    2.50000100e-01   6.24998750e-02]\n",
      " [  5.82638516e-02   2.00951347e-01   1.00000000e+00   3.99999881e-14\n",
      "    5.24375823e-01   9.63139976e-02]\n",
      " [  3.78698320e-01   3.78698320e-01   1.51479180e+00   1.00000000e+00\n",
      "    9.46746414e-02   3.99999881e-14]\n",
      " [  1.49382607e+00   1.23457185e-02   1.23457185e-02   3.99999881e-14\n",
      "    1.00000000e+00   3.08642074e-01]\n",
      " [  3.59999616e-01   3.99999881e-14   3.99999881e-14   1.22500091e-01\n",
      "    6.40000064e-01   1.00000000e+00]]\n"
     ]
    }
   ],
   "source": [
    "points=[(10, 10), (20, 10), (40, 10), (15, 20), (30, 20), (30, 30)]\n",
    "\n",
    "\n",
    "def fix_gauss(points, bw):\n",
    "    w = Kernel(points, fixed=False, k=bw, function='bisquare', diagonal=True, truncate=False)\n",
    "    return w\n",
    "\n",
    "\n",
    "\n",
    "\n",
    "w = fix_gauss(points,4)\n",
    "print w.full()[0]"
   ]
  },
  {
   "cell_type": "code",
   "execution_count": 4,
   "metadata": {
    "collapsed": false
   },
   "outputs": [
    {
     "name": "stdout",
     "output_type": "stream",
     "text": [
      "{0: [1.0, 0.765625, 0.0, 0.7119140625, 0.14062499999999992, 0.0], 1: [0.5625, 1.0, 0.0, 0.47265625, 0.24999999999999989, 0.0], 2: [0.0, 0.20095124851367421, 1.0, 0.0, 0.52437574316290114, 0.096313912009512392], 3: [0.37869822485207105, 0.37869822485207105, 0.0, 1.0, 0.094674556213017694, 0.0], 4: [0.0, 0.01234567901234569, 0.01234567901234569, 0.0, 1.0, 0.30864197530864201], 5: [0.0, 0.0, 0.0, 0.12250000000000007, 0.64000000000000012, 1.0]}\n"
     ]
    }
   ],
   "source": [
    "os.chdir('/Users/toshan/projects/GIS596/pysal/pysal/contrib/gwr/legacy_gwr/')\n",
    "from Kernel import get_pairDist, fix_Gaussian, adap_Bisquare\n",
    "points={0:(10, 10), 1:(20, 10), 2:(40, 10), 3:(15, 20), 4:(30, 20), 5:(30, 30)}\n",
    "\n",
    "dists = get_pairDist(points)\n",
    "print adap_Bisquare(dists, 5)"
   ]
  },
  {
   "cell_type": "code",
   "execution_count": 12,
   "metadata": {
    "collapsed": false
   },
   "outputs": [
    {
     "data": {
      "text/plain": [
       "0.00033546262790251185"
      ]
     },
     "execution_count": 12,
     "metadata": {},
     "output_type": "execute_result"
    }
   ],
   "source": [
    "np.exp((-1.0/2.0)*(20.0/5.0)**2)"
   ]
  },
  {
   "cell_type": "code",
   "execution_count": 5,
   "metadata": {
    "collapsed": false
   },
   "outputs": [
    {
     "ename": "SyntaxError",
     "evalue": "unexpected EOF while parsing (<ipython-input-5-d09ad39bfecc>, line 1)",
     "output_type": "error",
     "traceback": [
      "\u001b[0;36m  File \u001b[0;32m\"<ipython-input-5-d09ad39bfecc>\"\u001b[0;36m, line \u001b[0;32m1\u001b[0m\n\u001b[0;31m    range(len(points)\u001b[0m\n\u001b[0m                     ^\u001b[0m\n\u001b[0;31mSyntaxError\u001b[0m\u001b[0;31m:\u001b[0m unexpected EOF while parsing\n"
     ]
    }
   ],
   "source": [
    "range(len(points))"
   ]
  },
  {
   "cell_type": "code",
   "execution_count": 23,
   "metadata": {
    "collapsed": true
   },
   "outputs": [],
   "source": [
    "points=[(10, 10), (20, 10), (40, 10), (15, 20), (30, 20), (30, 30)]"
   ]
  },
  {
   "cell_type": "code",
   "execution_count": 41,
   "metadata": {
    "collapsed": false
   },
   "outputs": [],
   "source": [
    "pdists = pdist(points)\n",
    "cdists = cdist(points, points)"
   ]
  },
  {
   "cell_type": "code",
   "execution_count": 33,
   "metadata": {
    "collapsed": false
   },
   "outputs": [
    {
     "data": {
      "text/plain": [
       "10.0"
      ]
     },
     "execution_count": 33,
     "metadata": {},
     "output_type": "execute_result"
    }
   ],
   "source": [
    "np.min(dists[dists > 0])"
   ]
  },
  {
   "cell_type": "code",
   "execution_count": 44,
   "metadata": {
    "collapsed": false
   },
   "outputs": [
    {
     "data": {
      "text/plain": [
       "array([ 10.        ,  30.        ,  11.18033989,  22.36067977,\n",
       "        28.28427125,  20.        ,  11.18033989,  14.14213562,\n",
       "        22.36067977,  26.92582404,  14.14213562,  22.36067977,\n",
       "        15.        ,  18.02775638,  10.        ])"
      ]
     },
     "execution_count": 44,
     "metadata": {},
     "output_type": "execute_result"
    }
   ],
   "source": [
    "pdists"
   ]
  },
  {
   "cell_type": "code",
   "execution_count": 43,
   "metadata": {
    "collapsed": false
   },
   "outputs": [
    {
     "data": {
      "text/plain": [
       "array([  0.        ,  10.        ,  11.18033989,  14.14213562,\n",
       "        15.        ,  18.02775638,  20.        ,  22.36067977,\n",
       "        26.92582404,  28.28427125,  30.        ])"
      ]
     },
     "execution_count": 43,
     "metadata": {},
     "output_type": "execute_result"
    }
   ],
   "source": [
    "np.unique(cdists)"
   ]
  },
  {
   "cell_type": "code",
   "execution_count": 47,
   "metadata": {
    "collapsed": false
   },
   "outputs": [
    {
     "data": {
      "text/plain": [
       "array([[  0.        ,  10.        ,  30.        ,  11.18033989,\n",
       "         22.36067977,  28.28427125],\n",
       "       [ 10.        ,   0.        ,  20.        ,  11.18033989,\n",
       "         14.14213562,  22.36067977],\n",
       "       [ 30.        ,  20.        ,   0.        ,  26.92582404,\n",
       "         14.14213562,  22.36067977],\n",
       "       [ 11.18033989,  11.18033989,  26.92582404,   0.        ,\n",
       "         15.        ,  18.02775638],\n",
       "       [ 22.36067977,  14.14213562,  14.14213562,  15.        ,\n",
       "          0.        ,  10.        ],\n",
       "       [ 28.28427125,  22.36067977,  22.36067977,  18.02775638,\n",
       "         10.        ,   0.        ]])"
      ]
     },
     "execution_count": 47,
     "metadata": {},
     "output_type": "execute_result"
    }
   ],
   "source": [
    "cdists"
   ]
  },
  {
   "cell_type": "code",
   "execution_count": 50,
   "metadata": {
    "collapsed": false
   },
   "outputs": [
    {
     "data": {
      "text/plain": [
       "array([[  0.        ,  10.        ,  30.        ,  11.18033989,\n",
       "         22.36067977,  28.28427125],\n",
       "       [ 10.        ,   0.        ,  20.        ,  11.18033989,\n",
       "         14.14213562,  22.36067977],\n",
       "       [ 30.        ,  20.        ,   0.        ,  26.92582404,\n",
       "         14.14213562,  22.36067977],\n",
       "       [ 11.18033989,  11.18033989,  26.92582404,   0.        ,\n",
       "         15.        ,  18.02775638],\n",
       "       [ 22.36067977,  14.14213562,  14.14213562,  15.        ,\n",
       "          0.        ,  10.        ],\n",
       "       [ 28.28427125,  22.36067977,  22.36067977,  18.02775638,\n",
       "         10.        ,   0.        ]])"
      ]
     },
     "execution_count": 50,
     "metadata": {},
     "output_type": "execute_result"
    }
   ],
   "source": []
  },
  {
   "cell_type": "code",
   "execution_count": 51,
   "metadata": {
    "collapsed": true
   },
   "outputs": [],
   "source": [
    "tree = KDTree(points)"
   ]
  },
  {
   "cell_type": "code",
   "execution_count": 61,
   "metadata": {
    "collapsed": false
   },
   "outputs": [
    {
     "name": "stdout",
     "output_type": "stream",
     "text": [
      "11.1803398875\n",
      "11.1803398875\n",
      "20.0\n",
      "11.1803398875\n",
      "14.1421356237\n",
      "18.0277563773\n"
     ]
    }
   ],
   "source": [
    "for point in points:\n",
    "    print tree.query(point, 3)[0][2]"
   ]
  },
  {
   "cell_type": "code",
   "execution_count": 9,
   "metadata": {
    "collapsed": false
   },
   "outputs": [
    {
     "ename": "TypeError",
     "evalue": "float() argument must be a string or a number",
     "output_type": "error",
     "traceback": [
      "\u001b[0;31m---------------------------------------------------------------------------\u001b[0m",
      "\u001b[0;31mTypeError\u001b[0m                                 Traceback (most recent call last)",
      "\u001b[0;32m<ipython-input-9-443aa1557dc2>\u001b[0m in \u001b[0;36m<module>\u001b[0;34m()\u001b[0m\n\u001b[0;32m----> 1\u001b[0;31m \u001b[0mw\u001b[0m \u001b[0;34m=\u001b[0m \u001b[0mKernel\u001b[0m\u001b[0;34m(\u001b[0m\u001b[0mpoints\u001b[0m\u001b[0;34m,\u001b[0m \u001b[0mfixed\u001b[0m\u001b[0;34m=\u001b[0m\u001b[0mTrue\u001b[0m\u001b[0;34m,\u001b[0m \u001b[0mk\u001b[0m\u001b[0;34m=\u001b[0m\u001b[0;36m4.0\u001b[0m\u001b[0;34m,\u001b[0m \u001b[0mfunction\u001b[0m\u001b[0;34m=\u001b[0m\u001b[0;34m'bisquare'\u001b[0m\u001b[0;34m,\u001b[0m \u001b[0mdiagonal\u001b[0m\u001b[0;34m=\u001b[0m\u001b[0mTrue\u001b[0m\u001b[0;34m)\u001b[0m\u001b[0;34m\u001b[0m\u001b[0m\n\u001b[0m",
      "\u001b[0;32mDistance.py\u001b[0m in \u001b[0;36m__init__\u001b[0;34m(self, data, bandwidth, fixed, k, function, eps, ids, diagonal, truncate)\u001b[0m\n",
      "\u001b[0;32m/Library/Frameworks/Python.framework/Versions/2.7/lib/python2.7/site-packages/pysal/cg/kdtree.pyc\u001b[0m in \u001b[0;36mKDTree\u001b[0;34m(data, leafsize, distance_metric, radius)\u001b[0m\n\u001b[1;32m    242\u001b[0m             \u001b[0;32mreturn\u001b[0m \u001b[0mscipy\u001b[0m\u001b[0;34m.\u001b[0m\u001b[0mspatial\u001b[0m\u001b[0;34m.\u001b[0m\u001b[0mKDTree\u001b[0m\u001b[0;34m(\u001b[0m\u001b[0mdata\u001b[0m\u001b[0;34m,\u001b[0m \u001b[0mleafsize\u001b[0m\u001b[0;34m)\u001b[0m\u001b[0;34m\u001b[0m\u001b[0m\n\u001b[1;32m    243\u001b[0m         \u001b[0;32melse\u001b[0m\u001b[0;34m:\u001b[0m\u001b[0;34m\u001b[0m\u001b[0m\n\u001b[0;32m--> 244\u001b[0;31m             \u001b[0;32mreturn\u001b[0m \u001b[0mscipy\u001b[0m\u001b[0;34m.\u001b[0m\u001b[0mspatial\u001b[0m\u001b[0;34m.\u001b[0m\u001b[0mcKDTree\u001b[0m\u001b[0;34m(\u001b[0m\u001b[0mdata\u001b[0m\u001b[0;34m,\u001b[0m \u001b[0mleafsize\u001b[0m\u001b[0;34m)\u001b[0m\u001b[0;34m\u001b[0m\u001b[0m\n\u001b[0m\u001b[1;32m    245\u001b[0m     \u001b[0;32melif\u001b[0m \u001b[0mdistance_metric\u001b[0m \u001b[0;34m==\u001b[0m \u001b[0;34m'Arc'\u001b[0m\u001b[0;34m:\u001b[0m\u001b[0;34m\u001b[0m\u001b[0m\n\u001b[1;32m    246\u001b[0m         \u001b[0;32mreturn\u001b[0m \u001b[0mArc_KDTree\u001b[0m\u001b[0;34m(\u001b[0m\u001b[0mdata\u001b[0m\u001b[0;34m,\u001b[0m \u001b[0mleafsize\u001b[0m\u001b[0;34m,\u001b[0m \u001b[0mradius\u001b[0m\u001b[0;34m)\u001b[0m\u001b[0;34m\u001b[0m\u001b[0m\n",
      "\u001b[0;32mscipy/spatial/ckdtree.pyx\u001b[0m in \u001b[0;36mscipy.spatial.ckdtree.cKDTree.__init__ (scipy/spatial/ckdtree.c:7494)\u001b[0;34m()\u001b[0m\n",
      "\u001b[0;32m/Library/Frameworks/Python.framework/Versions/2.7/lib/python2.7/site-packages/numpy/core/numeric.pyc\u001b[0m in \u001b[0;36mascontiguousarray\u001b[0;34m(a, dtype)\u001b[0m\n\u001b[1;32m    559\u001b[0m \u001b[0;34m\u001b[0m\u001b[0m\n\u001b[1;32m    560\u001b[0m     \"\"\"\n\u001b[0;32m--> 561\u001b[0;31m     \u001b[0;32mreturn\u001b[0m \u001b[0marray\u001b[0m\u001b[0;34m(\u001b[0m\u001b[0ma\u001b[0m\u001b[0;34m,\u001b[0m \u001b[0mdtype\u001b[0m\u001b[0;34m,\u001b[0m \u001b[0mcopy\u001b[0m\u001b[0;34m=\u001b[0m\u001b[0mFalse\u001b[0m\u001b[0;34m,\u001b[0m \u001b[0morder\u001b[0m\u001b[0;34m=\u001b[0m\u001b[0;34m'C'\u001b[0m\u001b[0;34m,\u001b[0m \u001b[0mndmin\u001b[0m\u001b[0;34m=\u001b[0m\u001b[0;36m1\u001b[0m\u001b[0;34m)\u001b[0m\u001b[0;34m\u001b[0m\u001b[0m\n\u001b[0m\u001b[1;32m    562\u001b[0m \u001b[0;34m\u001b[0m\u001b[0m\n\u001b[1;32m    563\u001b[0m \u001b[0;32mdef\u001b[0m \u001b[0masfortranarray\u001b[0m\u001b[0;34m(\u001b[0m\u001b[0ma\u001b[0m\u001b[0;34m,\u001b[0m \u001b[0mdtype\u001b[0m\u001b[0;34m=\u001b[0m\u001b[0mNone\u001b[0m\u001b[0;34m)\u001b[0m\u001b[0;34m:\u001b[0m\u001b[0;34m\u001b[0m\u001b[0m\n",
      "\u001b[0;31mTypeError\u001b[0m: float() argument must be a string or a number"
     ]
    }
   ],
   "source": [
    "w = Kernel(points, fixed=True, k=4.0, function='bisquare', diagonal=True)\n"
   ]
  },
  {
   "cell_type": "code",
   "execution_count": null,
   "metadata": {
    "collapsed": true
   },
   "outputs": [],
   "source": []
  }
 ],
 "metadata": {
  "kernelspec": {
   "display_name": "Python 2",
   "language": "python",
   "name": "python2"
  },
  "language_info": {
   "codemirror_mode": {
    "name": "ipython",
    "version": 2
   },
   "file_extension": ".py",
   "mimetype": "text/x-python",
   "name": "python",
   "nbconvert_exporter": "python",
   "pygments_lexer": "ipython2",
   "version": "2.7.9"
  }
 },
 "nbformat": 4,
 "nbformat_minor": 0
}
