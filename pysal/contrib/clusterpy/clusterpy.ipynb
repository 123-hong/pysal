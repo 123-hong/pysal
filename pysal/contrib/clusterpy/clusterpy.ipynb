{
 "metadata": {
  "name": "",
  "signature": "sha256:d59937be789c5716dd96fe5d8ca8b8ff44aff3f93241bdc354407bfc66fb6be1"
 },
 "nbformat": 3,
 "nbformat_minor": 0,
 "worksheets": [
  {
   "cells": [
    {
     "cell_type": "code",
     "collapsed": false,
     "input": [
      "import pysal.contrib.clusterpy as cp"
     ],
     "language": "python",
     "metadata": {},
     "outputs": [
      {
       "output_type": "stream",
       "stream": "stdout",
       "text": [
        "(ImportError('cannot import name minimize_scalar',), 'Maximum Likelihood in PySAL requires SciPy version 0.11 or newer.')\n",
        "(ImportError('cannot import name minimize_scalar',), 'Maximum Likelihood in PySAL requires SciPy version 0.11 or newer.')\n",
        "ClusterPy: Library of spatially constrained clustering algorithms"
       ]
      },
      {
       "output_type": "stream",
       "stream": "stdout",
       "text": [
        "\n"
       ]
      }
     ],
     "prompt_number": 1
    },
    {
     "cell_type": "code",
     "collapsed": false,
     "input": [
      "import numpy as np\n",
      "import pysal as ps\n",
      "from collections import Counter"
     ],
     "language": "python",
     "metadata": {},
     "outputs": [],
     "prompt_number": 2
    },
    {
     "cell_type": "code",
     "collapsed": false,
     "input": [
      "columbus = cp.loadArcData(ps.examples.get_path('columbus.shp'))\n",
      "columbus.fieldNames\n",
      "n = len(columbus.Wqueen)\n",
      "columbus.generateData('Uniform', 'rook', 1, 1, 10)\n",
      "columbus.cluster('maxpTabu', ['CRIME',  'Uniform21'], threshold=4, dissolve=0, std=0)\n"
     ],
     "language": "python",
     "metadata": {},
     "outputs": [
      {
       "output_type": "stream",
       "stream": "stdout",
       "text": [
        "Generating Uniform\n",
        "Done [Uniform]\n",
        "Getting variables\n",
        "Variables successfully extracted\n",
        "Running max-p-regions model (Duque, Anselin and Rey, 2010)\n",
        "Local search method: Tabu Search\n",
        "Number of areas:  49\n",
        "threshold value:  4\n",
        "FINAL SOLUTION: "
       ]
      },
      {
       "output_type": "stream",
       "stream": "stdout",
       "text": [
        " [0, 38, 1, 38, 2, 3, 4, 5, 37, 6, 7, 8, 34, 34, 9, 10, 11, 12, 13, 33, 14, 37, 15, 16, 20, 17, 18, 19, 20, 20, 21, 22, 23, 24, 25, 35, 26, 27, 30, 33, 22, 35, 28, 29, 36, 30, 31, 36, 32]\n",
        "FINAL OF:  329.191424738\n",
        "Done\n",
        "Adding variables\n",
        "Done\n"
       ]
      }
     ],
     "prompt_number": 3
    },
    {
     "cell_type": "code",
     "collapsed": false,
     "input": [
      "columbus.cluster('arisel', ['CRIME'], 5, wType='rook', inits=10, dissolve=0)\n",
      "#calif.cluster('arisel', ['PCR2002'], 9, wType='rook', inits=10, dissolve=1)"
     ],
     "language": "python",
     "metadata": {},
     "outputs": [
      {
       "output_type": "stream",
       "stream": "stdout",
       "text": [
        "Getting variables\n",
        "Variables successfully extracted\n",
        "Running original Arisel algorithm\n",
        "Number of areas:  49\n",
        "Number of regions:  5\n",
        "initial Solution: "
       ]
      },
      {
       "output_type": "stream",
       "stream": "stdout",
       "text": [
        " [1, 1, 1, 1, 1, 1, 4, 1, 1, 1, 1, 1, 1, 1, 1, 1, 1, 1, 1, 0, 1, 1, 1, 1, 3, 1, 3, 3, 3, 3, 2, 1, 0, 2, 0, 2, 0, 3, 2, 1, 1, 2, 0, 0, 0, 2, 1, 0, 0]\n",
        "initial O.F:  6650.87809032\n",
        "FINAL SOLUTION: "
       ]
      },
      {
       "output_type": "stream",
       "stream": "stdout",
       "text": [
        " [1, 1, 1, 1, 1, 1, 4, 1, 1, 1, 3, 1, 1, 1, 3, 3, 1, 1, 1, 0, 1, 1, 0, 1, 3, 1, 3, 3, 3, 3, 2, 0, 3, 2, 0, 2, 3, 3, 2, 0, 0, 2, 0, 0, 0, 2, 0, 0, 0]\n",
        "FINAL OF:  4341.31148724\n",
        "Done\n",
        "Adding variables\n",
        "Done\n"
       ]
      }
     ],
     "prompt_number": 4
    },
    {
     "cell_type": "code",
     "collapsed": false,
     "input": [
      "columbus.fieldNames"
     ],
     "language": "python",
     "metadata": {},
     "outputs": [
      {
       "metadata": {},
       "output_type": "pyout",
       "prompt_number": 5,
       "text": [
        "['ID',\n",
        " 'AREA',\n",
        " 'PERIMETER',\n",
        " 'COLUMBUS_',\n",
        " 'COLUMBUS_I',\n",
        " 'POLYID',\n",
        " 'NEIG',\n",
        " 'HOVAL',\n",
        " 'INC',\n",
        " 'CRIME',\n",
        " 'OPEN',\n",
        " 'PLUMB',\n",
        " 'DISCBD',\n",
        " 'X',\n",
        " 'Y',\n",
        " 'NSA',\n",
        " 'NSB',\n",
        " 'EW',\n",
        " 'CP',\n",
        " 'THOUS',\n",
        " 'NEIGNO',\n",
        " 'Uniform21',\n",
        " 'maxpTabu_20140529021516',\n",
        " 'arisel_20140529021516']"
       ]
      }
     ],
     "prompt_number": 5
    },
    {
     "cell_type": "code",
     "collapsed": false,
     "input": [
      "warisel = ps.regime_weights(columbus.region2areas)"
     ],
     "language": "python",
     "metadata": {},
     "outputs": [
      {
       "output_type": "stream",
       "stream": "stdout",
       "text": [
        "WARNING: there is one disconnected observation (no neighbors)\n",
        "Island id:  [6]\n"
       ]
      }
     ],
     "prompt_number": 6
    },
    {
     "cell_type": "code",
     "collapsed": false,
     "input": [
      "warisel.neighbors"
     ],
     "language": "python",
     "metadata": {},
     "outputs": [
      {
       "metadata": {},
       "output_type": "pyout",
       "prompt_number": 7,
       "text": [
        "{0: [1, 2, 3, 4, 5, 7, 8, 9, 11, 12, 13, 16, 17, 18, 20, 21, 23, 25],\n",
        " 1: [0, 2, 3, 4, 5, 7, 8, 9, 11, 12, 13, 16, 17, 18, 20, 21, 23, 25],\n",
        " 2: [0, 1, 3, 4, 5, 7, 8, 9, 11, 12, 13, 16, 17, 18, 20, 21, 23, 25],\n",
        " 3: [0, 1, 2, 4, 5, 7, 8, 9, 11, 12, 13, 16, 17, 18, 20, 21, 23, 25],\n",
        " 4: [0, 1, 2, 3, 5, 7, 8, 9, 11, 12, 13, 16, 17, 18, 20, 21, 23, 25],\n",
        " 5: [0, 1, 2, 3, 4, 7, 8, 9, 11, 12, 13, 16, 17, 18, 20, 21, 23, 25],\n",
        " 6: [],\n",
        " 7: [0, 1, 2, 3, 4, 5, 8, 9, 11, 12, 13, 16, 17, 18, 20, 21, 23, 25],\n",
        " 8: [0, 1, 2, 3, 4, 5, 7, 9, 11, 12, 13, 16, 17, 18, 20, 21, 23, 25],\n",
        " 9: [0, 1, 2, 3, 4, 5, 7, 8, 11, 12, 13, 16, 17, 18, 20, 21, 23, 25],\n",
        " 10: [14, 15, 24, 26, 27, 28, 29, 32, 36, 37],\n",
        " 11: [0, 1, 2, 3, 4, 5, 7, 8, 9, 12, 13, 16, 17, 18, 20, 21, 23, 25],\n",
        " 12: [0, 1, 2, 3, 4, 5, 7, 8, 9, 11, 13, 16, 17, 18, 20, 21, 23, 25],\n",
        " 13: [0, 1, 2, 3, 4, 5, 7, 8, 9, 11, 12, 16, 17, 18, 20, 21, 23, 25],\n",
        " 14: [10, 15, 24, 26, 27, 28, 29, 32, 36, 37],\n",
        " 15: [10, 14, 24, 26, 27, 28, 29, 32, 36, 37],\n",
        " 16: [0, 1, 2, 3, 4, 5, 7, 8, 9, 11, 12, 13, 17, 18, 20, 21, 23, 25],\n",
        " 17: [0, 1, 2, 3, 4, 5, 7, 8, 9, 11, 12, 13, 16, 18, 20, 21, 23, 25],\n",
        " 18: [0, 1, 2, 3, 4, 5, 7, 8, 9, 11, 12, 13, 16, 17, 20, 21, 23, 25],\n",
        " 19: [22, 31, 34, 39, 40, 42, 43, 44, 46, 47, 48],\n",
        " 20: [0, 1, 2, 3, 4, 5, 7, 8, 9, 11, 12, 13, 16, 17, 18, 21, 23, 25],\n",
        " 21: [0, 1, 2, 3, 4, 5, 7, 8, 9, 11, 12, 13, 16, 17, 18, 20, 23, 25],\n",
        " 22: [19, 31, 34, 39, 40, 42, 43, 44, 46, 47, 48],\n",
        " 23: [0, 1, 2, 3, 4, 5, 7, 8, 9, 11, 12, 13, 16, 17, 18, 20, 21, 25],\n",
        " 24: [10, 14, 15, 26, 27, 28, 29, 32, 36, 37],\n",
        " 25: [0, 1, 2, 3, 4, 5, 7, 8, 9, 11, 12, 13, 16, 17, 18, 20, 21, 23],\n",
        " 26: [10, 14, 15, 24, 27, 28, 29, 32, 36, 37],\n",
        " 27: [10, 14, 15, 24, 26, 28, 29, 32, 36, 37],\n",
        " 28: [10, 14, 15, 24, 26, 27, 29, 32, 36, 37],\n",
        " 29: [10, 14, 15, 24, 26, 27, 28, 32, 36, 37],\n",
        " 30: [33, 35, 38, 41, 45],\n",
        " 31: [19, 22, 34, 39, 40, 42, 43, 44, 46, 47, 48],\n",
        " 32: [10, 14, 15, 24, 26, 27, 28, 29, 36, 37],\n",
        " 33: [30, 35, 38, 41, 45],\n",
        " 34: [19, 22, 31, 39, 40, 42, 43, 44, 46, 47, 48],\n",
        " 35: [30, 33, 38, 41, 45],\n",
        " 36: [10, 14, 15, 24, 26, 27, 28, 29, 32, 37],\n",
        " 37: [10, 14, 15, 24, 26, 27, 28, 29, 32, 36],\n",
        " 38: [30, 33, 35, 41, 45],\n",
        " 39: [19, 22, 31, 34, 40, 42, 43, 44, 46, 47, 48],\n",
        " 40: [19, 22, 31, 34, 39, 42, 43, 44, 46, 47, 48],\n",
        " 41: [30, 33, 35, 38, 45],\n",
        " 42: [19, 22, 31, 34, 39, 40, 43, 44, 46, 47, 48],\n",
        " 43: [19, 22, 31, 34, 39, 40, 42, 44, 46, 47, 48],\n",
        " 44: [19, 22, 31, 34, 39, 40, 42, 43, 46, 47, 48],\n",
        " 45: [30, 33, 35, 38, 41],\n",
        " 46: [19, 22, 31, 34, 39, 40, 42, 43, 44, 47, 48],\n",
        " 47: [19, 22, 31, 34, 39, 40, 42, 43, 44, 46, 48],\n",
        " 48: [19, 22, 31, 34, 39, 40, 42, 43, 44, 46, 47]}"
       ]
      }
     ],
     "prompt_number": 7
    },
    {
     "cell_type": "code",
     "collapsed": false,
     "input": [
      "wregimes = ps.regime_weights(columbus.region2areas)"
     ],
     "language": "python",
     "metadata": {},
     "outputs": [
      {
       "output_type": "stream",
       "stream": "stdout",
       "text": [
        "WARNING: there is one disconnected observation (no neighbors)\n",
        "Island id:  [6]\n"
       ]
      }
     ],
     "prompt_number": 8
    },
    {
     "cell_type": "code",
     "collapsed": false,
     "input": [
      "columbus.region2areas[5]"
     ],
     "language": "python",
     "metadata": {},
     "outputs": [
      {
       "metadata": {},
       "output_type": "pyout",
       "prompt_number": 9,
       "text": [
        "1"
       ]
      }
     ],
     "prompt_number": 9
    },
    {
     "cell_type": "code",
     "collapsed": false,
     "input": [
      "wregimes.n"
     ],
     "language": "python",
     "metadata": {},
     "outputs": [
      {
       "metadata": {},
       "output_type": "pyout",
       "prompt_number": 10,
       "text": [
        "49"
       ]
      }
     ],
     "prompt_number": 10
    },
    {
     "cell_type": "code",
     "collapsed": false,
     "input": [
      "wregimes.neighbors"
     ],
     "language": "python",
     "metadata": {},
     "outputs": [
      {
       "metadata": {},
       "output_type": "pyout",
       "prompt_number": 11,
       "text": [
        "{0: [1, 2, 3, 4, 5, 7, 8, 9, 11, 12, 13, 16, 17, 18, 20, 21, 23, 25],\n",
        " 1: [0, 2, 3, 4, 5, 7, 8, 9, 11, 12, 13, 16, 17, 18, 20, 21, 23, 25],\n",
        " 2: [0, 1, 3, 4, 5, 7, 8, 9, 11, 12, 13, 16, 17, 18, 20, 21, 23, 25],\n",
        " 3: [0, 1, 2, 4, 5, 7, 8, 9, 11, 12, 13, 16, 17, 18, 20, 21, 23, 25],\n",
        " 4: [0, 1, 2, 3, 5, 7, 8, 9, 11, 12, 13, 16, 17, 18, 20, 21, 23, 25],\n",
        " 5: [0, 1, 2, 3, 4, 7, 8, 9, 11, 12, 13, 16, 17, 18, 20, 21, 23, 25],\n",
        " 6: [],\n",
        " 7: [0, 1, 2, 3, 4, 5, 8, 9, 11, 12, 13, 16, 17, 18, 20, 21, 23, 25],\n",
        " 8: [0, 1, 2, 3, 4, 5, 7, 9, 11, 12, 13, 16, 17, 18, 20, 21, 23, 25],\n",
        " 9: [0, 1, 2, 3, 4, 5, 7, 8, 11, 12, 13, 16, 17, 18, 20, 21, 23, 25],\n",
        " 10: [14, 15, 24, 26, 27, 28, 29, 32, 36, 37],\n",
        " 11: [0, 1, 2, 3, 4, 5, 7, 8, 9, 12, 13, 16, 17, 18, 20, 21, 23, 25],\n",
        " 12: [0, 1, 2, 3, 4, 5, 7, 8, 9, 11, 13, 16, 17, 18, 20, 21, 23, 25],\n",
        " 13: [0, 1, 2, 3, 4, 5, 7, 8, 9, 11, 12, 16, 17, 18, 20, 21, 23, 25],\n",
        " 14: [10, 15, 24, 26, 27, 28, 29, 32, 36, 37],\n",
        " 15: [10, 14, 24, 26, 27, 28, 29, 32, 36, 37],\n",
        " 16: [0, 1, 2, 3, 4, 5, 7, 8, 9, 11, 12, 13, 17, 18, 20, 21, 23, 25],\n",
        " 17: [0, 1, 2, 3, 4, 5, 7, 8, 9, 11, 12, 13, 16, 18, 20, 21, 23, 25],\n",
        " 18: [0, 1, 2, 3, 4, 5, 7, 8, 9, 11, 12, 13, 16, 17, 20, 21, 23, 25],\n",
        " 19: [22, 31, 34, 39, 40, 42, 43, 44, 46, 47, 48],\n",
        " 20: [0, 1, 2, 3, 4, 5, 7, 8, 9, 11, 12, 13, 16, 17, 18, 21, 23, 25],\n",
        " 21: [0, 1, 2, 3, 4, 5, 7, 8, 9, 11, 12, 13, 16, 17, 18, 20, 23, 25],\n",
        " 22: [19, 31, 34, 39, 40, 42, 43, 44, 46, 47, 48],\n",
        " 23: [0, 1, 2, 3, 4, 5, 7, 8, 9, 11, 12, 13, 16, 17, 18, 20, 21, 25],\n",
        " 24: [10, 14, 15, 26, 27, 28, 29, 32, 36, 37],\n",
        " 25: [0, 1, 2, 3, 4, 5, 7, 8, 9, 11, 12, 13, 16, 17, 18, 20, 21, 23],\n",
        " 26: [10, 14, 15, 24, 27, 28, 29, 32, 36, 37],\n",
        " 27: [10, 14, 15, 24, 26, 28, 29, 32, 36, 37],\n",
        " 28: [10, 14, 15, 24, 26, 27, 29, 32, 36, 37],\n",
        " 29: [10, 14, 15, 24, 26, 27, 28, 32, 36, 37],\n",
        " 30: [33, 35, 38, 41, 45],\n",
        " 31: [19, 22, 34, 39, 40, 42, 43, 44, 46, 47, 48],\n",
        " 32: [10, 14, 15, 24, 26, 27, 28, 29, 36, 37],\n",
        " 33: [30, 35, 38, 41, 45],\n",
        " 34: [19, 22, 31, 39, 40, 42, 43, 44, 46, 47, 48],\n",
        " 35: [30, 33, 38, 41, 45],\n",
        " 36: [10, 14, 15, 24, 26, 27, 28, 29, 32, 37],\n",
        " 37: [10, 14, 15, 24, 26, 27, 28, 29, 32, 36],\n",
        " 38: [30, 33, 35, 41, 45],\n",
        " 39: [19, 22, 31, 34, 40, 42, 43, 44, 46, 47, 48],\n",
        " 40: [19, 22, 31, 34, 39, 42, 43, 44, 46, 47, 48],\n",
        " 41: [30, 33, 35, 38, 45],\n",
        " 42: [19, 22, 31, 34, 39, 40, 43, 44, 46, 47, 48],\n",
        " 43: [19, 22, 31, 34, 39, 40, 42, 44, 46, 47, 48],\n",
        " 44: [19, 22, 31, 34, 39, 40, 42, 43, 46, 47, 48],\n",
        " 45: [30, 33, 35, 38, 41],\n",
        " 46: [19, 22, 31, 34, 39, 40, 42, 43, 44, 47, 48],\n",
        " 47: [19, 22, 31, 34, 39, 40, 42, 43, 44, 46, 48],\n",
        " 48: [19, 22, 31, 34, 39, 40, 42, 43, 44, 46, 47]}"
       ]
      }
     ],
     "prompt_number": 11
    },
    {
     "cell_type": "code",
     "collapsed": false,
     "input": [
      "mex_csv = ps.open(ps.examples.get_path(\"mexico.csv\"))"
     ],
     "language": "python",
     "metadata": {},
     "outputs": [],
     "prompt_number": 12
    },
    {
     "cell_type": "code",
     "collapsed": false,
     "input": [
      "mex_csv.header"
     ],
     "language": "python",
     "metadata": {},
     "outputs": [
      {
       "metadata": {},
       "output_type": "pyout",
       "prompt_number": 13,
       "text": [
        "['State',\n",
        " 'pcgdp1940',\n",
        " 'pcgdp1950',\n",
        " 'pcgdp1960',\n",
        " 'pcgdp1970',\n",
        " 'pcgdp1980',\n",
        " 'pcgdp1990',\n",
        " 'pcgdp2000',\n",
        " 'hanson03',\n",
        " 'hanson98',\n",
        " 'esquivel99',\n",
        " 'inegi',\n",
        " 'inegi2']"
       ]
      }
     ],
     "prompt_number": 13
    },
    {
     "cell_type": "code",
     "collapsed": false,
     "input": [
      "p1940 = mex_csv.by_col('pcgdp1940')"
     ],
     "language": "python",
     "metadata": {},
     "outputs": [],
     "prompt_number": 14
    },
    {
     "cell_type": "code",
     "collapsed": false,
     "input": [
      "p1940"
     ],
     "language": "python",
     "metadata": {},
     "outputs": [
      {
       "metadata": {},
       "output_type": "pyout",
       "prompt_number": 15,
       "text": [
        "[10384.0,\n",
        " 22361.0,\n",
        " 9573.0,\n",
        " 3758.0,\n",
        " 2934.0,\n",
        " 8578.0,\n",
        " 8537.0,\n",
        " 6909.0,\n",
        " 17816.0,\n",
        " 12132.0,\n",
        " 4359.0,\n",
        " 2181.0,\n",
        " 4414.0,\n",
        " 5309.0,\n",
        " 3408.0,\n",
        " 3327.0,\n",
        " 6936.0,\n",
        " 4836.0,\n",
        " 9073.0,\n",
        " 1892.0,\n",
        " 3569.0,\n",
        " 11016.0,\n",
        " 21965.0,\n",
        " 4372.0,\n",
        " 4840.0,\n",
        " 6399.0,\n",
        " 2459.0,\n",
        " 7508.0,\n",
        " 3605.0,\n",
        " 5203.0,\n",
        " 7990.0,\n",
        " 3734.0]"
       ]
      }
     ],
     "prompt_number": 15
    },
    {
     "cell_type": "code",
     "collapsed": false,
     "input": [
      "mex_csv.data"
     ],
     "language": "python",
     "metadata": {},
     "outputs": [
      {
       "metadata": {},
       "output_type": "pyout",
       "prompt_number": 16,
       "text": [
        "[['Aguascalientes',\n",
        "  '10384.000',\n",
        "  '6234.000',\n",
        "  '8714.000',\n",
        "  '16078.000',\n",
        "  '21022.000',\n",
        "  '20787.000',\n",
        "  '27782.000',\n",
        "  '2.000',\n",
        "  '2.000',\n",
        "  '3.000',\n",
        "  '4.000',\n",
        "  '4.000'],\n",
        " ['Baja California',\n",
        "  '22361.000',\n",
        "  '20977.000',\n",
        "  '17865.000',\n",
        "  '25321.000',\n",
        "  '29283.000',\n",
        "  '26839.000',\n",
        "  '29855.000',\n",
        "  '1.000',\n",
        "  '1.000',\n",
        "  '5.000',\n",
        "  '1.000',\n",
        "  '1.000'],\n",
        " ['Baja California Sur',\n",
        "  '9573.000',\n",
        "  '16013.000',\n",
        "  '16707.000',\n",
        "  '24384.000',\n",
        "  '29038.000',\n",
        "  '25842.000',\n",
        "  '26103.000',\n",
        "  '2.000',\n",
        "  '2.000',\n",
        "  '6.000',\n",
        "  '1.000',\n",
        "  '1.000'],\n",
        " ['Campeche',\n",
        "  '3758.000',\n",
        "  '4929.000',\n",
        "  '5925.000',\n",
        "  '10274.000',\n",
        "  '12166.000',\n",
        "  '51123.000',\n",
        "  '36163.000',\n",
        "  '6.000',\n",
        "  '5.000',\n",
        "  '4.000',\n",
        "  '5.000',\n",
        "  '5.000'],\n",
        " ['Chiapas',\n",
        "  '2934.000',\n",
        "  '4138.000',\n",
        "  '5280.000',\n",
        "  '7015.000',\n",
        "  '16200.000',\n",
        "  '8637.000',\n",
        "  '8684.000',\n",
        "  '5.000',\n",
        "  '5.000',\n",
        "  '7.000',\n",
        "  '5.000',\n",
        "  '5.000'],\n",
        " ['Chihuahua',\n",
        "  '8578.000',\n",
        "  '13997.000',\n",
        "  '16265.000',\n",
        "  '19178.000',\n",
        "  '23399.000',\n",
        "  '25332.000',\n",
        "  '30735.000',\n",
        "  '1.000',\n",
        "  '1.000',\n",
        "  '5.000',\n",
        "  '1.000',\n",
        "  '2.000'],\n",
        " ['Coahuila',\n",
        "  '8537.000',\n",
        "  '9673.000',\n",
        "  '12318.000',\n",
        "  '20562.000',\n",
        "  '25688.000',\n",
        "  '26084.000',\n",
        "  '28460.000',\n",
        "  '1.000',\n",
        "  '1.000',\n",
        "  '5.000',\n",
        "  '2.000',\n",
        "  '2.000'],\n",
        " ['Colima',\n",
        "  '6909.000',\n",
        "  '6049.000',\n",
        "  '6036.000',\n",
        "  '12551.000',\n",
        "  '17427.000',\n",
        "  '18313.000',\n",
        "  '21358.000',\n",
        "  '3.000',\n",
        "  '3.000',\n",
        "  '6.000',\n",
        "  '4.000',\n",
        "  '4.000'],\n",
        " ['Distrito Federal',\n",
        "  '17816.000',\n",
        "  '17119.000',\n",
        "  '23174.000',\n",
        "  '32386.000',\n",
        "  '42028.000',\n",
        "  '43810.000',\n",
        "  '54349.000',\n",
        "  '4.000',\n",
        "  '4.000',\n",
        "  '1.000',\n",
        "  '3.000',\n",
        "  '3.000'],\n",
        " ['Durango',\n",
        "  '12132.000',\n",
        "  '8859.000',\n",
        "  '9323.000',\n",
        "  '12700.000',\n",
        "  '16726.000',\n",
        "  '17353.000',\n",
        "  '17379.000',\n",
        "  '2.000',\n",
        "  '2.000',\n",
        "  '3.000',\n",
        "  '1.000',\n",
        "  '2.000'],\n",
        " ['Guanajuato',\n",
        "  '4359.000',\n",
        "  '5686.000',\n",
        "  '8209.000',\n",
        "  '11635.000',\n",
        "  '13864.000',\n",
        "  '13607.000',\n",
        "  '15585.000',\n",
        "  '3.000',\n",
        "  '3.000',\n",
        "  '3.000',\n",
        "  '4.000',\n",
        "  '4.000'],\n",
        " ['Guerrero',\n",
        "  '2181.000',\n",
        "  '3629.000',\n",
        "  '4991.000',\n",
        "  '6497.000',\n",
        "  '8727.000',\n",
        "  '9084.000',\n",
        "  '11820.000',\n",
        "  '5.000',\n",
        "  '5.000',\n",
        "  '7.000',\n",
        "  '5.000',\n",
        "  '5.000'],\n",
        " ['Hidalgo',\n",
        "  '4414.000',\n",
        "  '5194.000',\n",
        "  '6399.000',\n",
        "  '7767.000',\n",
        "  '12391.000',\n",
        "  '13091.000',\n",
        "  '12348.000',\n",
        "  '3.000',\n",
        "  '3.000',\n",
        "  '2.000',\n",
        "  '3.000',\n",
        "  '3.000'],\n",
        " ['Jalisco',\n",
        "  '5309.000',\n",
        "  '8232.000',\n",
        "  '9953.000',\n",
        "  '16288.000',\n",
        "  '20659.000',\n",
        "  '20133.000',\n",
        "  '21610.000',\n",
        "  '3.000',\n",
        "  '3.000',\n",
        "  '6.000',\n",
        "  '4.000',\n",
        "  '4.000'],\n",
        " ['Mexico',\n",
        "  '3408.000',\n",
        "  '4972.000',\n",
        "  '9053.000',\n",
        "  '17164.000',\n",
        "  '20165.000',\n",
        "  '18547.000',\n",
        "  '16322.000',\n",
        "  '4.000',\n",
        "  '4.000',\n",
        "  '1.000',\n",
        "  '3.000',\n",
        "  '3.000'],\n",
        " ['Michoacan',\n",
        "  '3327.000',\n",
        "  '5272.000',\n",
        "  '5244.000',\n",
        "  '8109.000',\n",
        "  '11206.000',\n",
        "  '10980.000',\n",
        "  '11838.000',\n",
        "  '3.000',\n",
        "  '3.000',\n",
        "  '7.000',\n",
        "  '4.000',\n",
        "  '4.000'],\n",
        " ['Morelos',\n",
        "  '6936.000',\n",
        "  '8962.000',\n",
        "  '10499.000',\n",
        "  '13892.000',\n",
        "  '16513.000',\n",
        "  '17701.000',\n",
        "  '18170.000',\n",
        "  '3.000',\n",
        "  '3.000',\n",
        "  '2.000',\n",
        "  '3.000',\n",
        "  '3.000'],\n",
        " ['Nayarit',\n",
        "  '4836.000',\n",
        "  '7515.000',\n",
        "  '7621.000',\n",
        "  '10880.000',\n",
        "  '13354.000',\n",
        "  '12757.000',\n",
        "  '11478.000',\n",
        "  '2.000',\n",
        "  '2.000',\n",
        "  '6.000',\n",
        "  '4.000',\n",
        "  '4.000'],\n",
        " ['Nuevo Leon',\n",
        "  '9073.000',\n",
        "  '11490.000',\n",
        "  '20117.000',\n",
        "  '28206.000',\n",
        "  '34856.000',\n",
        "  '34726.000',\n",
        "  '38672.000',\n",
        "  '1.000',\n",
        "  '1.000',\n",
        "  '5.000',\n",
        "  '2.000',\n",
        "  '2.000'],\n",
        " ['Oaxaca',\n",
        "  '1892.000',\n",
        "  '4538.000',\n",
        "  '4140.000',\n",
        "  '5230.000',\n",
        "  '7730.000',\n",
        "  '8465.000',\n",
        "  '9010.000',\n",
        "  '5.000',\n",
        "  '5.000',\n",
        "  '7.000',\n",
        "  '5.000',\n",
        "  '5.000'],\n",
        " ['Puebla',\n",
        "  '3569.000',\n",
        "  '6415.000',\n",
        "  '6542.000',\n",
        "  '9775.000',\n",
        "  '13374.000',\n",
        "  '11895.000',\n",
        "  '15685.000',\n",
        "  '3.000',\n",
        "  '3.000',\n",
        "  '2.000',\n",
        "  '3.000',\n",
        "  '5.000'],\n",
        " ['Quertaro',\n",
        "  '11016.000',\n",
        "  '5560.000',\n",
        "  '7110.000',\n",
        "  '14073.000',\n",
        "  '20088.000',\n",
        "  '22441.000',\n",
        "  '26149.000',\n",
        "  '3.000',\n",
        "  '3.000',\n",
        "  '3.000',\n",
        "  '3.000',\n",
        "  '4.000'],\n",
        " ['Quintana Roo',\n",
        "  '21965.000',\n",
        "  '28747.000',\n",
        "  '9677.000',\n",
        "  '17046.000',\n",
        "  '26695.000',\n",
        "  '25049.000',\n",
        "  '33442.000',\n",
        "  '6.000',\n",
        "  '5.000',\n",
        "  '4.000',\n",
        "  '5.000',\n",
        "  '5.000'],\n",
        " ['San Luis Potosi',\n",
        "  '4372.000',\n",
        "  '7533.000',\n",
        "  '6440.000',\n",
        "  '9721.000',\n",
        "  '12691.000',\n",
        "  '15436.000',\n",
        "  '15866.000',\n",
        "  '2.000',\n",
        "  '2.000',\n",
        "  '3.000',\n",
        "  '4.000',\n",
        "  '4.000'],\n",
        " ['Sinaloa',\n",
        "  '4840.000',\n",
        "  '6663.000',\n",
        "  '9613.000',\n",
        "  '14477.000',\n",
        "  '15312.000',\n",
        "  '15823.000',\n",
        "  '15242.000',\n",
        "  '2.000',\n",
        "  '2.000',\n",
        "  '6.000',\n",
        "  '1.000',\n",
        "  '1.000'],\n",
        " ['Sonora',\n",
        "  '6399.000',\n",
        "  '10345.000',\n",
        "  '12134.000',\n",
        "  '22662.000',\n",
        "  '23181.000',\n",
        "  '24784.000',\n",
        "  '24068.000',\n",
        "  '1.000',\n",
        "  '1.000',\n",
        "  '5.000',\n",
        "  '1.000',\n",
        "  '1.000'],\n",
        " ['Tabasco',\n",
        "  '2459.000',\n",
        "  '3857.000',\n",
        "  '6494.000',\n",
        "  '9367.000',\n",
        "  '42361.000',\n",
        "  '16055.000',\n",
        "  '13360.000',\n",
        "  '6.000',\n",
        "  '5.000',\n",
        "  '4.000',\n",
        "  '5.000',\n",
        "  '5.000'],\n",
        " ['Tamaulipas',\n",
        "  '7508.000',\n",
        "  '8536.000',\n",
        "  '8383.000',\n",
        "  '17128.000',\n",
        "  '21937.000',\n",
        "  '19983.000',\n",
        "  '23546.000',\n",
        "  '1.000',\n",
        "  '1.000',\n",
        "  '5.000',\n",
        "  '2.000',\n",
        "  '2.000'],\n",
        " ['Tlaxcala',\n",
        "  '3605.000',\n",
        "  '4178.000',\n",
        "  '4357.000',\n",
        "  '6245.000',\n",
        "  '9882.000',\n",
        "  '10339.000',\n",
        "  '11701.000',\n",
        "  '3.000',\n",
        "  '3.000',\n",
        "  '2.000',\n",
        "  '3.000',\n",
        "  '3.000'],\n",
        " ['Veracruz',\n",
        "  '5203.000',\n",
        "  '10143.000',\n",
        "  '11404.000',\n",
        "  '12240.000',\n",
        "  '14252.000',\n",
        "  '13796.000',\n",
        "  '12191.000',\n",
        "  '3.000',\n",
        "  '3.000',\n",
        "  '4.000',\n",
        "  '5.000',\n",
        "  '5.000'],\n",
        " ['Yucatan',\n",
        "  '7990.000',\n",
        "  '8428.000',\n",
        "  '10067.000',\n",
        "  '11665.000',\n",
        "  '15239.000',\n",
        "  '13979.000',\n",
        "  '17509.000',\n",
        "  '6.000',\n",
        "  '5.000',\n",
        "  '4.000',\n",
        "  '5.000',\n",
        "  '5.000'],\n",
        " ['Zacatecas',\n",
        "  '3734.000',\n",
        "  '6435.000',\n",
        "  '5821.000',\n",
        "  '7426.000',\n",
        "  '8876.000',\n",
        "  '11656.000',\n",
        "  '11130.000',\n",
        "  '2.000',\n",
        "  '2.000',\n",
        "  '3.000',\n",
        "  '4.000',\n",
        "  '4.000']]"
       ]
      }
     ],
     "prompt_number": 16
    },
    {
     "cell_type": "code",
     "collapsed": false,
     "input": [
      "mex_csv.by_row(0)"
     ],
     "language": "python",
     "metadata": {},
     "outputs": [
      {
       "metadata": {},
       "output_type": "pyout",
       "prompt_number": 17,
       "text": [
        "['Aguascalientes',\n",
        " 10384.0,\n",
        " 6234.0,\n",
        " 8714.0,\n",
        " 16078.0,\n",
        " 21022.0,\n",
        " 20787.0,\n",
        " 27782.0,\n",
        " 2.0,\n",
        " 2.0,\n",
        " 3.0,\n",
        " 4.0,\n",
        " 4.0]"
       ]
      }
     ],
     "prompt_number": 17
    },
    {
     "cell_type": "code",
     "collapsed": false,
     "input": [
      "mexico = cp.importCsvData(ps.examples.get_path('mexico.csv'))"
     ],
     "language": "python",
     "metadata": {},
     "outputs": [],
     "prompt_number": 18
    },
    {
     "cell_type": "code",
     "collapsed": false,
     "input": [
      "mexico.fieldNames"
     ],
     "language": "python",
     "metadata": {},
     "outputs": [
      {
       "metadata": {},
       "output_type": "pyout",
       "prompt_number": 19,
       "text": [
        "['ID',\n",
        " 'State',\n",
        " 'pcgdp1940',\n",
        " 'pcgdp1950',\n",
        " 'pcgdp1960',\n",
        " 'pcgdp1970',\n",
        " 'pcgdp1980',\n",
        " 'pcgdp1990',\n",
        " 'pcgdp2000',\n",
        " 'hanson03',\n",
        " 'hanson98',\n",
        " 'esquivel99',\n",
        " 'inegi',\n",
        " 'inegi2']"
       ]
      }
     ],
     "prompt_number": 19
    },
    {
     "cell_type": "code",
     "collapsed": false,
     "input": [
      "w = ps.open(ps.examples.get_path('mexico.gal')).read()"
     ],
     "language": "python",
     "metadata": {},
     "outputs": [],
     "prompt_number": 20
    },
    {
     "cell_type": "code",
     "collapsed": false,
     "input": [
      "w.n"
     ],
     "language": "python",
     "metadata": {},
     "outputs": [
      {
       "metadata": {},
       "output_type": "pyout",
       "prompt_number": 21,
       "text": [
        "32"
       ]
      }
     ],
     "prompt_number": 21
    },
    {
     "cell_type": "code",
     "collapsed": false,
     "input": [
      "cp.addRook2Layer(ps.examples.get_path('mexico.gal'), mexico)"
     ],
     "language": "python",
     "metadata": {},
     "outputs": [],
     "prompt_number": 22
    },
    {
     "cell_type": "code",
     "collapsed": false,
     "input": [
      "mexico.Wrook"
     ],
     "language": "python",
     "metadata": {},
     "outputs": [
      {
       "metadata": {},
       "output_type": "pyout",
       "prompt_number": 23,
       "text": [
        "{0: [31, 13],\n",
        " 1: [2, 25],\n",
        " 2: [1],\n",
        " 3: [30, 22, 26],\n",
        " 4: [19, 26, 29],\n",
        " 5: [6, 9, 24, 25],\n",
        " 6: [18, 23, 31, 9, 5],\n",
        " 7: [13, 15],\n",
        " 8: [16, 14],\n",
        " 9: [5, 6, 31, 13, 17, 24],\n",
        " 10: [23, 21, 31, 15, 13],\n",
        " 11: [15, 14, 16, 20, 19],\n",
        " 12: [21, 23, 29, 20, 28, 14],\n",
        " 13: [17, 31, 0, 23, 10, 15, 7, 9],\n",
        " 14: [21, 12, 28, 20, 16, 11, 15, 8],\n",
        " 15: [7, 13, 10, 21, 14, 11],\n",
        " 16: [14, 8, 20, 11],\n",
        " 17: [24, 9, 31, 13],\n",
        " 18: [6, 27, 23, 31],\n",
        " 19: [11, 20, 29, 4],\n",
        " 20: [29, 19, 11, 16, 14, 28, 12],\n",
        " 21: [23, 12, 14, 15, 10],\n",
        " 22: [30, 3],\n",
        " 23: [18, 27, 29, 12, 21, 10, 31, 6, 13],\n",
        " 24: [25, 5, 9, 17],\n",
        " 25: [1, 5, 24],\n",
        " 26: [3, 4, 29],\n",
        " 27: [18, 29, 23],\n",
        " 28: [12, 20, 14],\n",
        " 29: [26, 4, 19, 20, 12, 23, 27],\n",
        " 30: [3, 22],\n",
        " 31: [18, 23, 10, 0, 13, 17, 9, 6]}"
       ]
      }
     ],
     "prompt_number": 23
    },
    {
     "cell_type": "code",
     "collapsed": false,
     "input": [
      "mexico.cluster('arisel', ['pcgdp1940'], 5, wType='rook', inits=10, dissolve=0)\n"
     ],
     "language": "python",
     "metadata": {},
     "outputs": [
      {
       "output_type": "stream",
       "stream": "stdout",
       "text": [
        "Getting variables\n",
        "Variables successfully extracted\n",
        "Running original Arisel algorithm\n",
        "Number of areas:  32\n",
        "Number of regions:  5\n",
        "initial Solution: "
       ]
      },
      {
       "output_type": "stream",
       "stream": "stdout",
       "text": [
        " [3, 2, 2, 0, 0, 3, 3, 3, 4, 3, 3, 0, 3, 3, 0, 0, 0, 3, 3, 0, 0, 3, 1, 3, 3, 3, 0, 3, 0, 3, 0, 3]\n",
        "initial O.F:  228683641.198\n",
        "FINAL SOLUTION: "
       ]
      },
      {
       "output_type": "stream",
       "stream": "stdout",
       "text": [
        " [3, 2, 2, 0, 0, 3, 3, 3, 4, 3, 0, 0, 3, 3, 0, 0, 0, 0, 3, 0, 0, 3, 1, 0, 0, 3, 0, 3, 0, 3, 0, 0]\n",
        "FINAL OF:  186036319.667\n",
        "Done\n",
        "Adding variables\n",
        "Done\n"
       ]
      }
     ],
     "prompt_number": 24
    },
    {
     "cell_type": "code",
     "collapsed": false,
     "input": [
      "mexico.fieldNames"
     ],
     "language": "python",
     "metadata": {},
     "outputs": [
      {
       "metadata": {},
       "output_type": "pyout",
       "prompt_number": 25,
       "text": [
        "['ID',\n",
        " 'State',\n",
        " 'pcgdp1940',\n",
        " 'pcgdp1950',\n",
        " 'pcgdp1960',\n",
        " 'pcgdp1970',\n",
        " 'pcgdp1980',\n",
        " 'pcgdp1990',\n",
        " 'pcgdp2000',\n",
        " 'hanson03',\n",
        " 'hanson98',\n",
        " 'esquivel99',\n",
        " 'inegi',\n",
        " 'inegi2',\n",
        " 'arisel_20140529021518']"
       ]
      }
     ],
     "prompt_number": 25
    },
    {
     "cell_type": "code",
     "collapsed": false,
     "input": [
      "mexico.getVars('pcgdp1940')"
     ],
     "language": "python",
     "metadata": {},
     "outputs": [
      {
       "output_type": "stream",
       "stream": "stdout",
       "text": [
        "Getting variables\n",
        "Variables successfully extracted\n"
       ]
      },
      {
       "metadata": {},
       "output_type": "pyout",
       "prompt_number": 26,
       "text": [
        "{0: [10384.0],\n",
        " 1: [22361.0],\n",
        " 2: [9573.0],\n",
        " 3: [3758.0],\n",
        " 4: [2934.0],\n",
        " 5: [8578.0],\n",
        " 6: [8537.0],\n",
        " 7: [6909.0],\n",
        " 8: [17816.0],\n",
        " 9: [12132.0],\n",
        " 10: [4359.0],\n",
        " 11: [2181.0],\n",
        " 12: [4414.0],\n",
        " 13: [5309.0],\n",
        " 14: [3408.0],\n",
        " 15: [3327.0],\n",
        " 16: [6936.0],\n",
        " 17: [4836.0],\n",
        " 18: [9073.0],\n",
        " 19: [1892.0],\n",
        " 20: [3569.0],\n",
        " 21: [11016.0],\n",
        " 22: [21965.0],\n",
        " 23: [4372.0],\n",
        " 24: [4840.0],\n",
        " 25: [6399.0],\n",
        " 26: [2459.0],\n",
        " 27: [7508.0],\n",
        " 28: [3605.0],\n",
        " 29: [5203.0],\n",
        " 30: [7990.0],\n",
        " 31: [3734.0]}"
       ]
      }
     ],
     "prompt_number": 26
    },
    {
     "cell_type": "code",
     "collapsed": false,
     "input": [
      "# mexico example\n",
      "\n",
      "csvfile = ps.examples.get_path('mexico.csv')\n",
      "galfile = ps.examples.get_path('mexico.gal')\n",
      "\n",
      "mexico = cp.importCsvData(csvfile)\n",
      "cp.addRook2Layer(galfile, mexico)\n",
      "mexico.cluster('arisel', ['pcgdp1940'], 5, wType='rook', inits=10, dissolve=0)\n"
     ],
     "language": "python",
     "metadata": {},
     "outputs": [
      {
       "output_type": "stream",
       "stream": "stdout",
       "text": [
        "Getting variables\n",
        "Variables successfully extracted\n",
        "Running original Arisel algorithm\n",
        "Number of areas:  32\n",
        "Number of regions:  5\n",
        "initial Solution: "
       ]
      },
      {
       "output_type": "stream",
       "stream": "stdout",
       "text": [
        " [0, 2, 2, 0, 0, 2, 2, 0, 3, 4, 0, 0, 0, 0, 0, 0, 0, 0, 2, 0, 0, 0, 1, 0, 0, 2, 0, 2, 0, 0, 0, 0]\n",
        "initial O.F:  299942518.175\n",
        "FINAL SOLUTION: "
       ]
      },
      {
       "output_type": "stream",
       "stream": "stdout",
       "text": [
        " [4, 2, 2, 0, 0, 4, 4, 4, 3, 4, 0, 0, 0, 4, 0, 0, 0, 0, 4, 0, 0, 0, 1, 0, 0, 0, 0, 4, 0, 0, 0, 0]\n",
        "FINAL OF:  201557936.3\n",
        "Done\n",
        "Adding variables\n",
        "Done\n"
       ]
      }
     ],
     "prompt_number": 27
    },
    {
     "cell_type": "code",
     "collapsed": false,
     "input": [
      "mexico.region2areas.index(2)"
     ],
     "language": "python",
     "metadata": {},
     "outputs": [
      {
       "metadata": {},
       "output_type": "pyout",
       "prompt_number": 28,
       "text": [
        "1"
       ]
      }
     ],
     "prompt_number": 28
    },
    {
     "cell_type": "code",
     "collapsed": false,
     "input": [
      "mexico.getVars('State')"
     ],
     "language": "python",
     "metadata": {},
     "outputs": [
      {
       "output_type": "stream",
       "stream": "stdout",
       "text": [
        "Getting variables\n",
        "Variables successfully extracted\n"
       ]
      },
      {
       "metadata": {},
       "output_type": "pyout",
       "prompt_number": 29,
       "text": [
        "{0: ['Aguascalientes'],\n",
        " 1: ['Baja California'],\n",
        " 2: ['Baja California Sur'],\n",
        " 3: ['Campeche'],\n",
        " 4: ['Chiapas'],\n",
        " 5: ['Chihuahua'],\n",
        " 6: ['Coahuila'],\n",
        " 7: ['Colima'],\n",
        " 8: ['Distrito Federal'],\n",
        " 9: ['Durango'],\n",
        " 10: ['Guanajuato'],\n",
        " 11: ['Guerrero'],\n",
        " 12: ['Hidalgo'],\n",
        " 13: ['Jalisco'],\n",
        " 14: ['Mexico'],\n",
        " 15: ['Michoacan'],\n",
        " 16: ['Morelos'],\n",
        " 17: ['Nayarit'],\n",
        " 18: ['Nuevo Leon'],\n",
        " 19: ['Oaxaca'],\n",
        " 20: ['Puebla'],\n",
        " 21: ['Quertaro'],\n",
        " 22: ['Quintana Roo'],\n",
        " 23: ['San Luis Potosi'],\n",
        " 24: ['Sinaloa'],\n",
        " 25: ['Sonora'],\n",
        " 26: ['Tabasco'],\n",
        " 27: ['Tamaulipas'],\n",
        " 28: ['Tlaxcala'],\n",
        " 29: ['Veracruz'],\n",
        " 30: ['Yucatan'],\n",
        " 31: ['Zacatecas']}"
       ]
      }
     ],
     "prompt_number": 29
    },
    {
     "cell_type": "code",
     "collapsed": false,
     "input": [
      "regions = np.array(mexico.region2areas)"
     ],
     "language": "python",
     "metadata": {},
     "outputs": [],
     "prompt_number": 30
    },
    {
     "cell_type": "code",
     "collapsed": false,
     "input": [
      "regions"
     ],
     "language": "python",
     "metadata": {},
     "outputs": [
      {
       "metadata": {},
       "output_type": "pyout",
       "prompt_number": 31,
       "text": [
        "array([4, 2, 2, 0, 0, 4, 4, 4, 3, 4, 0, 0, 0, 4, 0, 0, 0, 0, 4, 0, 0, 0, 1,\n",
        "       0, 0, 0, 0, 4, 0, 0, 0, 0])"
       ]
      }
     ],
     "prompt_number": 31
    },
    {
     "cell_type": "code",
     "collapsed": false,
     "input": [
      "np.nonzero(regions==4)"
     ],
     "language": "python",
     "metadata": {},
     "outputs": [
      {
       "metadata": {},
       "output_type": "pyout",
       "prompt_number": 32,
       "text": [
        "(array([ 0,  5,  6,  7,  9, 13, 18, 27]),)"
       ]
      }
     ],
     "prompt_number": 32
    },
    {
     "cell_type": "code",
     "collapsed": false,
     "input": [
      "# us example mixed shp and csv"
     ],
     "language": "python",
     "metadata": {},
     "outputs": [],
     "prompt_number": 33
    },
    {
     "cell_type": "code",
     "collapsed": false,
     "input": [
      "usf = ps.examples.get_path('us48.shp')"
     ],
     "language": "python",
     "metadata": {},
     "outputs": [],
     "prompt_number": 34
    },
    {
     "cell_type": "code",
     "collapsed": false,
     "input": [
      "us = cp.loadArcData(usf.split(\".\")[0])"
     ],
     "language": "python",
     "metadata": {},
     "outputs": [],
     "prompt_number": 35
    },
    {
     "cell_type": "code",
     "collapsed": false,
     "input": [
      "us.Wqueen"
     ],
     "language": "python",
     "metadata": {},
     "outputs": [
      {
       "metadata": {},
       "output_type": "pyout",
       "prompt_number": 36,
       "text": [
        "{0: [10, 7],\n",
        " 1: [3, 4, 5, 7],\n",
        " 2: [11],\n",
        " 3: [1, 4, 9],\n",
        " 4: [1, 3, 5, 9, 12, 14],\n",
        " 5: [1, 4, 7, 14, 22, 29],\n",
        " 6: [9, 12, 25, 47],\n",
        " 7: [0, 1, 5, 10, 21, 22],\n",
        " 8: [11, 13, 15],\n",
        " 9: [12, 3, 4, 6],\n",
        " 10: [0, 23, 21, 7],\n",
        " 11: [8, 2, 13],\n",
        " 12: [33, 4, 6, 9, 14, 25],\n",
        " 13: [8, 17, 18, 11, 15],\n",
        " 14: [33, 4, 5, 12, 29, 31],\n",
        " 15: [8, 16, 19, 13, 17],\n",
        " 16: [15, 19, 24, 26, 27, 28],\n",
        " 17: [18, 13, 15],\n",
        " 18: [17, 13],\n",
        " 19: [16, 26, 15],\n",
        " 20: [24, 25, 30, 47],\n",
        " 21: [10, 23, 34, 22, 7],\n",
        " 22: [34, 5, 39, 7, 21, 29],\n",
        " 23: [10, 34, 21],\n",
        " 24: [16, 27, 20, 30, 47],\n",
        " 25: [20, 12, 30, 6, 33],\n",
        " 26: [16, 19, 28],\n",
        " 27: [16, 24, 28, 30, 32],\n",
        " 28: [16, 32, 26, 27],\n",
        " 29: [34, 35, 5, 39, 14, 22, 31],\n",
        " 30: [32, 33, 37, 20, 24, 25, 27],\n",
        " 31: [33, 35, 29, 14],\n",
        " 32: [36, 27, 28, 37, 30],\n",
        " 33: [35, 37, 44, 12, 14, 25, 30, 31],\n",
        " 34: [39, 29, 21, 22, 23],\n",
        " 35: [33, 38, 39, 44, 29, 31],\n",
        " 36: [32, 42, 43, 37],\n",
        " 37: [32, 33, 36, 40, 41, 42, 44, 30],\n",
        " 38: [35, 44, 45, 39],\n",
        " 39: [38, 34, 35, 29, 22],\n",
        " 40: [41, 42, 37, 46],\n",
        " 41: [40, 44, 37, 45],\n",
        " 42: [40, 43, 36, 37, 46],\n",
        " 43: [42, 36],\n",
        " 44: [33, 35, 37, 38, 41, 45],\n",
        " 45: [41, 44, 38],\n",
        " 46: [40, 42],\n",
        " 47: [24, 20, 6]}"
       ]
      }
     ],
     "prompt_number": 36
    },
    {
     "cell_type": "code",
     "collapsed": false,
     "input": [
      "us.fieldNames"
     ],
     "language": "python",
     "metadata": {},
     "outputs": [
      {
       "metadata": {},
       "output_type": "pyout",
       "prompt_number": 37,
       "text": [
        "['ID',\n",
        " 'AREA',\n",
        " 'PERIMETER',\n",
        " 'STATE_',\n",
        " 'STATE_ID',\n",
        " 'STATE_NAME',\n",
        " 'STATE_FIPS',\n",
        " 'SUB_REGION',\n",
        " 'STATE_ABBR']"
       ]
      }
     ],
     "prompt_number": 37
    },
    {
     "cell_type": "code",
     "collapsed": false,
     "input": [
      "uscsv = ps.examples.get_path(\"usjoin.csv\")"
     ],
     "language": "python",
     "metadata": {},
     "outputs": [],
     "prompt_number": 38
    },
    {
     "cell_type": "code",
     "collapsed": false,
     "input": [
      "f = ps.open(uscsv)\n",
      "pci = np.array([f.by_col[str(y)] for y in range(1929, 2010)]).T"
     ],
     "language": "python",
     "metadata": {},
     "outputs": [],
     "prompt_number": 39
    },
    {
     "cell_type": "code",
     "collapsed": false,
     "input": [
      "pci"
     ],
     "language": "python",
     "metadata": {},
     "outputs": [
      {
       "metadata": {},
       "output_type": "pyout",
       "prompt_number": 40,
       "text": [
        "array([[  323,   267,   224, ..., 31988, 32819, 32274],\n",
        "       [  600,   520,   429, ..., 33470, 33445, 32077],\n",
        "       [  310,   228,   215, ..., 31070, 31800, 31493],\n",
        "       ..., \n",
        "       [  460,   408,   356, ..., 29769, 31265, 31843],\n",
        "       [  673,   588,   469, ..., 35839, 36594, 35676],\n",
        "       [  675,   585,   476, ..., 43453, 45177, 42504]])"
       ]
      }
     ],
     "prompt_number": 40
    },
    {
     "cell_type": "code",
     "collapsed": false,
     "input": [
      "usy = cp.Layer()"
     ],
     "language": "python",
     "metadata": {},
     "outputs": [],
     "prompt_number": 41
    },
    {
     "cell_type": "code",
     "collapsed": false,
     "input": [
      "cp.addQueen2Layer(ps.examples.get_path('states48.gal'), usy)"
     ],
     "language": "python",
     "metadata": {},
     "outputs": [],
     "prompt_number": 42
    },
    {
     "cell_type": "code",
     "collapsed": true,
     "input": [
      "names = [\"Y_%d\"%v for v in range(1929,2010)]\n",
      "cp.addArray2Layer(pci, usy, names)"
     ],
     "language": "python",
     "metadata": {},
     "outputs": [
      {
       "output_type": "stream",
       "stream": "stdout",
       "text": [
        "Adding variables\n",
        "Done\n",
        "Adding variables\n",
        "Done\n",
        "Adding variables\n",
        "Done\n",
        "Adding variables\n",
        "Done\n",
        "Adding variables\n",
        "Done\n",
        "Adding variables\n",
        "Done\n",
        "Adding variables\n",
        "Done\n",
        "Adding variables\n",
        "Done\n",
        "Adding variables\n",
        "Done\n",
        "Adding variables\n",
        "Done\n",
        "Adding variables\n",
        "Done\n",
        "Adding variables\n",
        "Done\n",
        "Adding variables\n",
        "Done\n",
        "Adding variables\n",
        "Done\n",
        "Adding variables\n",
        "Done\n",
        "Adding variables\n",
        "Done\n",
        "Adding variables\n",
        "Done\n",
        "Adding variables\n",
        "Done\n",
        "Adding variables\n",
        "Done\n",
        "Adding variables\n",
        "Done\n",
        "Adding variables\n",
        "Done\n",
        "Adding variables\n",
        "Done\n",
        "Adding variables\n",
        "Done\n",
        "Adding variables\n",
        "Done\n",
        "Adding variables\n",
        "Done\n",
        "Adding variables\n",
        "Done\n",
        "Adding variables\n",
        "Done\n",
        "Adding variables\n",
        "Done\n",
        "Adding variables\n",
        "Done\n",
        "Adding variables\n",
        "Done\n",
        "Adding variables\n",
        "Done\n",
        "Adding variables\n",
        "Done\n",
        "Adding variables\n",
        "Done\n",
        "Adding variables\n",
        "Done\n",
        "Adding variables\n",
        "Done\n",
        "Adding variables\n",
        "Done\n",
        "Adding variables\n",
        "Done\n",
        "Adding variables\n",
        "Done\n",
        "Adding variables\n",
        "Done\n",
        "Adding variables\n",
        "Done\n",
        "Adding variables\n",
        "Done\n",
        "Adding variables\n",
        "Done\n",
        "Adding variables\n",
        "Done\n",
        "Adding variables\n",
        "Done\n",
        "Adding variables\n",
        "Done\n",
        "Adding variables\n",
        "Done\n",
        "Adding variables\n",
        "Done\n",
        "Adding variables\n",
        "Done\n",
        "Adding variables\n",
        "Done\n",
        "Adding variables\n",
        "Done\n",
        "Adding variables\n",
        "Done\n",
        "Adding variables\n",
        "Done\n",
        "Adding variables\n",
        "Done\n",
        "Adding variables\n",
        "Done\n",
        "Adding variables\n",
        "Done\n",
        "Adding variables\n",
        "Done\n",
        "Adding variables\n",
        "Done\n",
        "Adding variables\n",
        "Done\n",
        "Adding variables\n",
        "Done\n",
        "Adding variables\n",
        "Done\n",
        "Adding variables\n",
        "Done\n",
        "Adding variables\n",
        "Done\n",
        "Adding variables\n",
        "Done\n",
        "Adding variables\n",
        "Done\n",
        "Adding variables\n",
        "Done\n",
        "Adding variables\n",
        "Done\n",
        "Adding variables\n",
        "Done\n",
        "Adding variables\n",
        "Done\n",
        "Adding variables\n",
        "Done\n",
        "Adding variables\n",
        "Done\n",
        "Adding variables\n",
        "Done\n",
        "Adding variables\n",
        "Done\n",
        "Adding variables\n",
        "Done\n",
        "Adding variables\n",
        "Done\n",
        "Adding variables\n",
        "Done\n",
        "Adding variables\n",
        "Done\n",
        "Adding variables\n",
        "Done\n",
        "Adding variables\n",
        "Done\n",
        "Adding variables\n",
        "Done\n",
        "Adding variables\n",
        "Done\n",
        "Adding variables\n",
        "Done\n"
       ]
      }
     ],
     "prompt_number": 43
    },
    {
     "cell_type": "code",
     "collapsed": false,
     "input": [
      "names"
     ],
     "language": "python",
     "metadata": {},
     "outputs": [
      {
       "metadata": {},
       "output_type": "pyout",
       "prompt_number": 44,
       "text": [
        "['Y_1929',\n",
        " 'Y_1930',\n",
        " 'Y_1931',\n",
        " 'Y_1932',\n",
        " 'Y_1933',\n",
        " 'Y_1934',\n",
        " 'Y_1935',\n",
        " 'Y_1936',\n",
        " 'Y_1937',\n",
        " 'Y_1938',\n",
        " 'Y_1939',\n",
        " 'Y_1940',\n",
        " 'Y_1941',\n",
        " 'Y_1942',\n",
        " 'Y_1943',\n",
        " 'Y_1944',\n",
        " 'Y_1945',\n",
        " 'Y_1946',\n",
        " 'Y_1947',\n",
        " 'Y_1948',\n",
        " 'Y_1949',\n",
        " 'Y_1950',\n",
        " 'Y_1951',\n",
        " 'Y_1952',\n",
        " 'Y_1953',\n",
        " 'Y_1954',\n",
        " 'Y_1955',\n",
        " 'Y_1956',\n",
        " 'Y_1957',\n",
        " 'Y_1958',\n",
        " 'Y_1959',\n",
        " 'Y_1960',\n",
        " 'Y_1961',\n",
        " 'Y_1962',\n",
        " 'Y_1963',\n",
        " 'Y_1964',\n",
        " 'Y_1965',\n",
        " 'Y_1966',\n",
        " 'Y_1967',\n",
        " 'Y_1968',\n",
        " 'Y_1969',\n",
        " 'Y_1970',\n",
        " 'Y_1971',\n",
        " 'Y_1972',\n",
        " 'Y_1973',\n",
        " 'Y_1974',\n",
        " 'Y_1975',\n",
        " 'Y_1976',\n",
        " 'Y_1977',\n",
        " 'Y_1978',\n",
        " 'Y_1979',\n",
        " 'Y_1980',\n",
        " 'Y_1981',\n",
        " 'Y_1982',\n",
        " 'Y_1983',\n",
        " 'Y_1984',\n",
        " 'Y_1985',\n",
        " 'Y_1986',\n",
        " 'Y_1987',\n",
        " 'Y_1988',\n",
        " 'Y_1989',\n",
        " 'Y_1990',\n",
        " 'Y_1991',\n",
        " 'Y_1992',\n",
        " 'Y_1993',\n",
        " 'Y_1994',\n",
        " 'Y_1995',\n",
        " 'Y_1996',\n",
        " 'Y_1997',\n",
        " 'Y_1998',\n",
        " 'Y_1999',\n",
        " 'Y_2000',\n",
        " 'Y_2001',\n",
        " 'Y_2002',\n",
        " 'Y_2003',\n",
        " 'Y_2004',\n",
        " 'Y_2005',\n",
        " 'Y_2006',\n",
        " 'Y_2007',\n",
        " 'Y_2008',\n",
        " 'Y_2009']"
       ]
      }
     ],
     "prompt_number": 44
    },
    {
     "cell_type": "code",
     "collapsed": false,
     "input": [
      "usy.fieldNames"
     ],
     "language": "python",
     "metadata": {},
     "outputs": [
      {
       "metadata": {},
       "output_type": "pyout",
       "prompt_number": 45,
       "text": [
        "['Y_1929',\n",
        " 'Y_1930',\n",
        " 'Y_1931',\n",
        " 'Y_1932',\n",
        " 'Y_1933',\n",
        " 'Y_1934',\n",
        " 'Y_1935',\n",
        " 'Y_1936',\n",
        " 'Y_1937',\n",
        " 'Y_1938',\n",
        " 'Y_1939',\n",
        " 'Y_1940',\n",
        " 'Y_1941',\n",
        " 'Y_1942',\n",
        " 'Y_1943',\n",
        " 'Y_1944',\n",
        " 'Y_1945',\n",
        " 'Y_1946',\n",
        " 'Y_1947',\n",
        " 'Y_1948',\n",
        " 'Y_1949',\n",
        " 'Y_1950',\n",
        " 'Y_1951',\n",
        " 'Y_1952',\n",
        " 'Y_1953',\n",
        " 'Y_1954',\n",
        " 'Y_1955',\n",
        " 'Y_1956',\n",
        " 'Y_1957',\n",
        " 'Y_1958',\n",
        " 'Y_1959',\n",
        " 'Y_1960',\n",
        " 'Y_1961',\n",
        " 'Y_1962',\n",
        " 'Y_1963',\n",
        " 'Y_1964',\n",
        " 'Y_1965',\n",
        " 'Y_1966',\n",
        " 'Y_1967',\n",
        " 'Y_1968',\n",
        " 'Y_1969',\n",
        " 'Y_1970',\n",
        " 'Y_1971',\n",
        " 'Y_1972',\n",
        " 'Y_1973',\n",
        " 'Y_1974',\n",
        " 'Y_1975',\n",
        " 'Y_1976',\n",
        " 'Y_1977',\n",
        " 'Y_1978',\n",
        " 'Y_1979',\n",
        " 'Y_1980',\n",
        " 'Y_1981',\n",
        " 'Y_1982',\n",
        " 'Y_1983',\n",
        " 'Y_1984',\n",
        " 'Y_1985',\n",
        " 'Y_1986',\n",
        " 'Y_1987',\n",
        " 'Y_1988',\n",
        " 'Y_1989',\n",
        " 'Y_1990',\n",
        " 'Y_1991',\n",
        " 'Y_1992',\n",
        " 'Y_1993',\n",
        " 'Y_1994',\n",
        " 'Y_1995',\n",
        " 'Y_1996',\n",
        " 'Y_1997',\n",
        " 'Y_1998',\n",
        " 'Y_1999',\n",
        " 'Y_2000',\n",
        " 'Y_2001',\n",
        " 'Y_2002',\n",
        " 'Y_2003',\n",
        " 'Y_2004',\n",
        " 'Y_2005',\n",
        " 'Y_2006',\n",
        " 'Y_2007',\n",
        " 'Y_2008',\n",
        " 'Y_2009']"
       ]
      }
     ],
     "prompt_number": 45
    },
    {
     "cell_type": "code",
     "collapsed": false,
     "input": [
      "usy.getVars('Y_1929')"
     ],
     "language": "python",
     "metadata": {},
     "outputs": [
      {
       "output_type": "stream",
       "stream": "stdout",
       "text": [
        "Getting variables\n",
        "Variables successfully extracted\n"
       ]
      },
      {
       "metadata": {},
       "output_type": "pyout",
       "prompt_number": 46,
       "text": [
        "{0: [323],\n",
        " 1: [600],\n",
        " 2: [310],\n",
        " 3: [991],\n",
        " 4: [634],\n",
        " 5: [1024],\n",
        " 6: [1032],\n",
        " 7: [518],\n",
        " 8: [347],\n",
        " 9: [507],\n",
        " 10: [948],\n",
        " 11: [607],\n",
        " 12: [581],\n",
        " 13: [532],\n",
        " 14: [393],\n",
        " 15: [414],\n",
        " 16: [601],\n",
        " 17: [768],\n",
        " 18: [906],\n",
        " 19: [790],\n",
        " 20: [599],\n",
        " 21: [286],\n",
        " 22: [621],\n",
        " 23: [592],\n",
        " 24: [596],\n",
        " 25: [868],\n",
        " 26: [686],\n",
        " 27: [918],\n",
        " 28: [410],\n",
        " 29: [1152],\n",
        " 30: [332],\n",
        " 31: [382],\n",
        " 32: [771],\n",
        " 33: [455],\n",
        " 34: [668],\n",
        " 35: [772],\n",
        " 36: [874],\n",
        " 37: [271],\n",
        " 38: [426],\n",
        " 39: [378],\n",
        " 40: [479],\n",
        " 41: [551],\n",
        " 42: [634],\n",
        " 43: [434],\n",
        " 44: [741],\n",
        " 45: [460],\n",
        " 46: [673],\n",
        " 47: [675]}"
       ]
      }
     ],
     "prompt_number": 46
    },
    {
     "cell_type": "code",
     "collapsed": false,
     "input": [
      "usy.Wrook"
     ],
     "language": "python",
     "metadata": {},
     "outputs": [
      {
       "metadata": {},
       "output_type": "pyout",
       "prompt_number": 47,
       "text": [
        "{}"
       ]
      }
     ],
     "prompt_number": 47
    },
    {
     "cell_type": "code",
     "collapsed": false,
     "input": [
      "usy.cluster('arisel', ['Y_1980'], 8, wType='queen', inits=10, dissolve=0)\n",
      "#mexico.cluster('arisel', ['pcgdp1940'], 5, wType='rook', inits=10, dissolve=0)\n"
     ],
     "language": "python",
     "metadata": {},
     "outputs": [
      {
       "output_type": "stream",
       "stream": "stdout",
       "text": [
        "Getting variables\n",
        "Variables successfully extracted\n",
        "Running original Arisel algorithm\n",
        "Number of areas:  48\n",
        "Number of regions:  8\n",
        "initial Solution: "
       ]
      },
      {
       "output_type": "stream",
       "stream": "stdout",
       "text": [
        " [5, 6, 5, 4, 0, 0, 0, 7, 5, 6, 1, 0, 0, 0, 5, 5, 2, 0, 0, 0, 0, 5, 0, 6, 0, 4, 0, 0, 6, 0, 5, 6, 0, 0, 6, 0, 0, 5, 6, 5, 0, 6, 0, 0, 6, 5, 0, 3]\n",
        "initial O.F:  25597426.0\n",
        "FINAL SOLUTION: "
       ]
      },
      {
       "output_type": "stream",
       "stream": "stdout",
       "text": [
        " [5, 6, 5, 4, 3, 0, 0, 7, 5, 6, 0, 1, 6, 6, 5, 6, 2, 0, 0, 0, 0, 5, 6, 6, 6, 4, 2, 0, 6, 0, 5, 6, 0, 6, 6, 0, 0, 5, 6, 5, 6, 6, 2, 0, 6, 5, 0, 3]\n",
        "FINAL OF:  20004501.0\n",
        "Done\n",
        "Adding variables\n",
        "Done\n"
       ]
      }
     ],
     "prompt_number": 48
    },
    {
     "cell_type": "code",
     "collapsed": false,
     "input": [],
     "language": "python",
     "metadata": {},
     "outputs": [],
     "prompt_number": 48
    },
    {
     "cell_type": "code",
     "collapsed": false,
     "input": [
      "us = cp.Layer()"
     ],
     "language": "python",
     "metadata": {},
     "outputs": [],
     "prompt_number": 49
    },
    {
     "cell_type": "code",
     "collapsed": false,
     "input": [
      "cp.addQueen2Layer(ps.examples.get_path('states48.gal'), us)"
     ],
     "language": "python",
     "metadata": {},
     "outputs": [],
     "prompt_number": 50
    },
    {
     "cell_type": "code",
     "collapsed": false,
     "input": [
      "uscsv = ps.examples.get_path(\"usjoin.csv\")"
     ],
     "language": "python",
     "metadata": {},
     "outputs": [],
     "prompt_number": 51
    },
    {
     "cell_type": "code",
     "collapsed": true,
     "input": [
      "f = ps.open(uscsv)\n",
      "pci = np.array([f.by_col[str(y)] for y in range(1929, 2010)]).T\n",
      "names = [\"Y_%d\"%v for v in range(1929,2010)]\n",
      "cp.addArray2Layer(pci, us, names)"
     ],
     "language": "python",
     "metadata": {},
     "outputs": [
      {
       "output_type": "stream",
       "stream": "stdout",
       "text": [
        "Adding variables\n",
        "Done\n",
        "Adding variables\n",
        "Done\n",
        "Adding variables\n",
        "Done\n",
        "Adding variables\n",
        "Done\n",
        "Adding variables\n",
        "Done\n",
        "Adding variables\n",
        "Done\n",
        "Adding variables\n",
        "Done\n",
        "Adding variables\n",
        "Done\n",
        "Adding variables\n",
        "Done\n",
        "Adding variables\n",
        "Done\n",
        "Adding variables\n",
        "Done\n",
        "Adding variables\n",
        "Done\n",
        "Adding variables\n",
        "Done\n",
        "Adding variables\n",
        "Done\n",
        "Adding variables\n",
        "Done\n",
        "Adding variables\n",
        "Done\n",
        "Adding variables\n",
        "Done\n",
        "Adding variables\n",
        "Done\n",
        "Adding variables\n",
        "Done\n",
        "Adding variables\n",
        "Done\n",
        "Adding variables\n",
        "Done\n",
        "Adding variables\n",
        "Done\n",
        "Adding variables\n",
        "Done\n",
        "Adding variables\n",
        "Done\n",
        "Adding variables\n",
        "Done\n",
        "Adding variables\n",
        "Done\n",
        "Adding variables\n",
        "Done\n",
        "Adding variables\n",
        "Done\n",
        "Adding variables\n",
        "Done\n",
        "Adding variables\n",
        "Done\n",
        "Adding variables\n",
        "Done\n",
        "Adding variables\n",
        "Done\n",
        "Adding variables\n",
        "Done\n",
        "Adding variables\n",
        "Done\n",
        "Adding variables\n",
        "Done\n",
        "Adding variables\n",
        "Done\n",
        "Adding variables\n",
        "Done\n",
        "Adding variables\n",
        "Done\n",
        "Adding variables\n",
        "Done\n",
        "Adding variables\n",
        "Done\n",
        "Adding variables\n",
        "Done\n",
        "Adding variables\n",
        "Done\n",
        "Adding variables\n",
        "Done\n",
        "Adding variables\n",
        "Done\n",
        "Adding variables\n",
        "Done\n",
        "Adding variables\n",
        "Done\n",
        "Adding variables\n",
        "Done\n",
        "Adding variables\n",
        "Done\n",
        "Adding variables\n",
        "Done\n",
        "Adding variables\n",
        "Done\n",
        "Adding variables\n",
        "Done\n",
        "Adding variables\n",
        "Done\n",
        "Adding variables\n",
        "Done\n",
        "Adding variables\n",
        "Done\n",
        "Adding variables\n",
        "Done\n",
        "Adding variables\n",
        "Done\n",
        "Adding variables\n",
        "Done\n",
        "Adding variables\n",
        "Done\n",
        "Adding variables\n",
        "Done\n",
        "Adding variables\n",
        "Done\n",
        "Adding variables\n",
        "Done\n",
        "Adding variables\n",
        "Done\n",
        "Adding variables\n",
        "Done\n",
        "Adding variables\n",
        "Done\n",
        "Adding variables\n",
        "Done\n",
        "Adding variables\n",
        "Done\n",
        "Adding variables\n",
        "Done\n",
        "Adding variables\n",
        "Done\n",
        "Adding variables\n",
        "Done\n",
        "Adding variables\n",
        "Done\n",
        "Adding variables\n",
        "Done\n",
        "Adding variables\n",
        "Done\n",
        "Adding variables\n",
        "Done\n",
        "Adding variables\n",
        "Done\n",
        "Adding variables\n",
        "Done\n",
        "Adding variables\n",
        "Done\n",
        "Adding variables\n",
        "Done\n",
        "Adding variables\n",
        "Done\n",
        "Adding variables\n",
        "Done\n",
        "Adding variables\n",
        "Done\n",
        "Adding variables\n",
        "Done\n"
       ]
      }
     ],
     "prompt_number": 52
    },
    {
     "cell_type": "code",
     "collapsed": false,
     "input": [
      "usy.cluster('arisel', ['Y_1980'], 8, wType='queen', inits=10, dissolve=0)\n"
     ],
     "language": "python",
     "metadata": {},
     "outputs": [
      {
       "output_type": "stream",
       "stream": "stdout",
       "text": [
        "Getting variables\n",
        "Variables successfully extracted\n",
        "Running original Arisel algorithm\n",
        "Number of areas:  48\n",
        "Number of regions:  8\n",
        "initial Solution: "
       ]
      },
      {
       "output_type": "stream",
       "stream": "stdout",
       "text": [
        " [5, 0, 5, 6, 7, 2, 3, 5, 5, 0, 1, 1, 1, 1, 5, 5, 3, 3, 3, 1, 1, 5, 1, 0, 1, 6, 3, 3, 0, 3, 5, 4, 1, 1, 0, 1, 3, 5, 4, 5, 1, 0, 3, 3, 0, 5, 1, 7]\n",
        "initial O.F:  25186298.0\n",
        "FINAL SOLUTION: "
       ]
      },
      {
       "output_type": "stream",
       "stream": "stdout",
       "text": [
        " [5, 0, 5, 6, 7, 2, 3, 5, 5, 0, 1, 1, 1, 1, 5, 5, 3, 3, 3, 3, 3, 5, 1, 0, 1, 6, 3, 3, 0, 3, 5, 4, 3, 1, 0, 3, 3, 5, 4, 5, 1, 0, 3, 3, 0, 5, 3, 7]\n",
        "FINAL OF:  24655433.0\n",
        "Done\n",
        "Adding variables\n",
        "Done\n"
       ]
      }
     ],
     "prompt_number": 53
    },
    {
     "cell_type": "code",
     "collapsed": false,
     "input": [
      "us_alpha = cp.importCsvData(ps.examples.get_path('usjoin.csv'))"
     ],
     "language": "python",
     "metadata": {},
     "outputs": [],
     "prompt_number": 54
    },
    {
     "cell_type": "code",
     "collapsed": false,
     "input": [
      "alpha_fips = us_alpha.getVars('STATE_FIPS')"
     ],
     "language": "python",
     "metadata": {},
     "outputs": [
      {
       "output_type": "stream",
       "stream": "stdout",
       "text": [
        "Getting variables\n",
        "Variables successfully extracted\n"
       ]
      }
     ],
     "prompt_number": 55
    },
    {
     "cell_type": "code",
     "collapsed": false,
     "input": [
      "alpha_fips"
     ],
     "language": "python",
     "metadata": {},
     "outputs": [
      {
       "metadata": {},
       "output_type": "pyout",
       "prompt_number": 56,
       "text": [
        "{0: [1],\n",
        " 1: [4],\n",
        " 2: [5],\n",
        " 3: [6],\n",
        " 4: [8],\n",
        " 5: [9],\n",
        " 6: [10],\n",
        " 7: [12],\n",
        " 8: [13],\n",
        " 9: [16],\n",
        " 10: [17],\n",
        " 11: [18],\n",
        " 12: [19],\n",
        " 13: [20],\n",
        " 14: [21],\n",
        " 15: [22],\n",
        " 16: [23],\n",
        " 17: [24],\n",
        " 18: [25],\n",
        " 19: [26],\n",
        " 20: [27],\n",
        " 21: [28],\n",
        " 22: [29],\n",
        " 23: [30],\n",
        " 24: [31],\n",
        " 25: [32],\n",
        " 26: [33],\n",
        " 27: [34],\n",
        " 28: [35],\n",
        " 29: [36],\n",
        " 30: [37],\n",
        " 31: [38],\n",
        " 32: [39],\n",
        " 33: [40],\n",
        " 34: [41],\n",
        " 35: [42],\n",
        " 36: [44],\n",
        " 37: [45],\n",
        " 38: [46],\n",
        " 39: [47],\n",
        " 40: [48],\n",
        " 41: [49],\n",
        " 42: [50],\n",
        " 43: [51],\n",
        " 44: [53],\n",
        " 45: [54],\n",
        " 46: [55],\n",
        " 47: [56]}"
       ]
      }
     ],
     "prompt_number": 56
    },
    {
     "cell_type": "code",
     "collapsed": false,
     "input": [
      "dbf = ps.open(ps.examples.get_path('us48.dbf'))"
     ],
     "language": "python",
     "metadata": {},
     "outputs": [],
     "prompt_number": 57
    },
    {
     "cell_type": "code",
     "collapsed": false,
     "input": [
      "dbf.header"
     ],
     "language": "python",
     "metadata": {},
     "outputs": [
      {
       "metadata": {},
       "output_type": "pyout",
       "prompt_number": 58,
       "text": [
        "['AREA',\n",
        " 'PERIMETER',\n",
        " 'STATE_',\n",
        " 'STATE_ID',\n",
        " 'STATE_NAME',\n",
        " 'STATE_FIPS',\n",
        " 'SUB_REGION',\n",
        " 'STATE_ABBR']"
       ]
      }
     ],
     "prompt_number": 58
    },
    {
     "cell_type": "code",
     "collapsed": false,
     "input": [
      "state_fips = dbf.by_col('STATE_FIPS')\n",
      "names = dbf.by_col('STATE_NAME')"
     ],
     "language": "python",
     "metadata": {},
     "outputs": [],
     "prompt_number": 59
    },
    {
     "cell_type": "code",
     "collapsed": false,
     "input": [
      "names"
     ],
     "language": "python",
     "metadata": {},
     "outputs": [
      {
       "metadata": {},
       "output_type": "pyout",
       "prompt_number": 60,
       "text": [
        "['Washington',\n",
        " 'Montana',\n",
        " 'Maine',\n",
        " 'North Dakota',\n",
        " 'South Dakota',\n",
        " 'Wyoming',\n",
        " 'Wisconsin',\n",
        " 'Idaho',\n",
        " 'Vermont',\n",
        " 'Minnesota',\n",
        " 'Oregon',\n",
        " 'New Hampshire',\n",
        " 'Iowa',\n",
        " 'Massachusetts',\n",
        " 'Nebraska',\n",
        " 'New York',\n",
        " 'Pennsylvania',\n",
        " 'Connecticut',\n",
        " 'Rhode Island',\n",
        " 'New Jersey',\n",
        " 'Indiana',\n",
        " 'Nevada',\n",
        " 'Utah',\n",
        " 'California',\n",
        " 'Ohio',\n",
        " 'Illinois',\n",
        " 'Delaware',\n",
        " 'West Virginia',\n",
        " 'Maryland',\n",
        " 'Colorado',\n",
        " 'Kentucky',\n",
        " 'Kansas',\n",
        " 'Virginia',\n",
        " 'Missouri',\n",
        " 'Arizona',\n",
        " 'Oklahoma',\n",
        " 'North Carolina',\n",
        " 'Tennessee',\n",
        " 'Texas',\n",
        " 'New Mexico',\n",
        " 'Alabama',\n",
        " 'Mississippi',\n",
        " 'Georgia',\n",
        " 'South Carolina',\n",
        " 'Arkansas',\n",
        " 'Louisiana',\n",
        " 'Florida',\n",
        " 'Michigan']"
       ]
      }
     ],
     "prompt_number": 60
    },
    {
     "cell_type": "code",
     "collapsed": false,
     "input": [
      "state_fips = map(int, state_fips)"
     ],
     "language": "python",
     "metadata": {},
     "outputs": [],
     "prompt_number": 61
    },
    {
     "cell_type": "code",
     "collapsed": false,
     "input": [
      "state_fips"
     ],
     "language": "python",
     "metadata": {},
     "outputs": [
      {
       "metadata": {},
       "output_type": "pyout",
       "prompt_number": 62,
       "text": [
        "[53,\n",
        " 30,\n",
        " 23,\n",
        " 38,\n",
        " 46,\n",
        " 56,\n",
        " 55,\n",
        " 16,\n",
        " 50,\n",
        " 27,\n",
        " 41,\n",
        " 33,\n",
        " 19,\n",
        " 25,\n",
        " 31,\n",
        " 36,\n",
        " 42,\n",
        " 9,\n",
        " 44,\n",
        " 34,\n",
        " 18,\n",
        " 32,\n",
        " 49,\n",
        " 6,\n",
        " 39,\n",
        " 17,\n",
        " 10,\n",
        " 54,\n",
        " 24,\n",
        " 8,\n",
        " 21,\n",
        " 20,\n",
        " 51,\n",
        " 29,\n",
        " 4,\n",
        " 40,\n",
        " 37,\n",
        " 47,\n",
        " 48,\n",
        " 35,\n",
        " 1,\n",
        " 28,\n",
        " 13,\n",
        " 45,\n",
        " 5,\n",
        " 22,\n",
        " 12,\n",
        " 26]"
       ]
      }
     ],
     "prompt_number": 62
    },
    {
     "cell_type": "code",
     "collapsed": false,
     "input": [
      "alpha_fips = [i[0] for i in alpha_fips.values()]\n",
      "reorder = [ alpha_fips.index(s) for s in state_fips]"
     ],
     "language": "python",
     "metadata": {},
     "outputs": [],
     "prompt_number": 63
    },
    {
     "cell_type": "code",
     "collapsed": false,
     "input": [
      "regions = usy.region2areas"
     ],
     "language": "python",
     "metadata": {},
     "outputs": [],
     "prompt_number": 64
    },
    {
     "cell_type": "code",
     "collapsed": false,
     "input": [
      "regions"
     ],
     "language": "python",
     "metadata": {},
     "outputs": [
      {
       "metadata": {},
       "output_type": "pyout",
       "prompt_number": 65,
       "text": [
        "[5,\n",
        " 0,\n",
        " 5,\n",
        " 6,\n",
        " 7,\n",
        " 2,\n",
        " 3,\n",
        " 5,\n",
        " 5,\n",
        " 0,\n",
        " 1,\n",
        " 1,\n",
        " 1,\n",
        " 1,\n",
        " 5,\n",
        " 5,\n",
        " 3,\n",
        " 3,\n",
        " 3,\n",
        " 3,\n",
        " 3,\n",
        " 5,\n",
        " 1,\n",
        " 0,\n",
        " 1,\n",
        " 6,\n",
        " 3,\n",
        " 3,\n",
        " 0,\n",
        " 3,\n",
        " 5,\n",
        " 4,\n",
        " 3,\n",
        " 1,\n",
        " 0,\n",
        " 3,\n",
        " 3,\n",
        " 5,\n",
        " 4,\n",
        " 5,\n",
        " 1,\n",
        " 0,\n",
        " 3,\n",
        " 3,\n",
        " 0,\n",
        " 5,\n",
        " 3,\n",
        " 7]"
       ]
      }
     ],
     "prompt_number": 65
    },
    {
     "cell_type": "code",
     "collapsed": false,
     "input": [
      "from pysal.contrib.viz import mapping as maps"
     ],
     "language": "python",
     "metadata": {},
     "outputs": [],
     "prompt_number": 66
    },
    {
     "cell_type": "code",
     "collapsed": false,
     "input": [
      "shp = ps.examples.get_path('us48.shp')\n",
      "regions = np.array(regions)"
     ],
     "language": "python",
     "metadata": {},
     "outputs": [],
     "prompt_number": 67
    },
    {
     "cell_type": "code",
     "collapsed": false,
     "input": [
      "maps.plot_choropleth(shp, regions[reorder], 'unique_values')"
     ],
     "language": "python",
     "metadata": {},
     "outputs": [
      {
       "metadata": {},
       "output_type": "display_data",
       "png": "[encoded data removed]",
       "text": [
        "<matplotlib.figure.Figure at 0x4db0710>"
       ]
      }
     ],
     "prompt_number": 68
    },
    {
     "cell_type": "code",
     "collapsed": false,
     "input": [
      "usy.cluster('arisel', ['Y_1929'], 8, wType='queen', inits=10, dissolve=0)\n"
     ],
     "language": "python",
     "metadata": {},
     "outputs": [
      {
       "output_type": "stream",
       "stream": "stdout",
       "text": [
        "Getting variables\n",
        "Variables successfully extracted\n",
        "Running original Arisel algorithm\n",
        "Number of areas:  48\n",
        "Number of regions:  8\n",
        "initial Solution: "
       ]
      },
      {
       "output_type": "stream",
       "stream": "stdout",
       "text": [
        " [6, 4, 5, 0, 4, 1, 3, 6, 6, 4, 4, 4, 4, 4, 6, 5, 7, 4, 7, 4, 4, 5, 4, 4, 4, 0, 7, 3, 5, 3, 6, 2, 4, 5, 0, 4, 7, 6, 2, 6, 5, 4, 7, 6, 0, 6, 4, 4]\n",
        "initial O.F:  462780.0\n",
        "FINAL SOLUTION: "
       ]
      },
      {
       "output_type": "stream",
       "stream": "stdout",
       "text": [
        " [6, 4, 6, 0, 4, 1, 3, 6, 6, 5, 4, 4, 4, 5, 6, 6, 7, 4, 7, 4, 4, 6, 4, 4, 4, 0, 7, 3, 5, 1, 6, 2, 4, 5, 0, 4, 7, 6, 2, 6, 5, 5, 7, 6, 0, 6, 4, 4]\n",
        "FINAL OF:  388583.0\n",
        "Done\n",
        "Adding variables\n",
        "Done\n"
       ]
      }
     ],
     "prompt_number": 69
    },
    {
     "cell_type": "code",
     "collapsed": false,
     "input": [
      "regions = usy.region2areas"
     ],
     "language": "python",
     "metadata": {},
     "outputs": [],
     "prompt_number": 70
    },
    {
     "cell_type": "code",
     "collapsed": false,
     "input": [
      "regions = np.array(regions)"
     ],
     "language": "python",
     "metadata": {},
     "outputs": [],
     "prompt_number": 71
    },
    {
     "cell_type": "code",
     "collapsed": false,
     "input": [
      "maps.plot_choropleth(shp, regions[reorder], 'unique_values')"
     ],
     "language": "python",
     "metadata": {},
     "outputs": [
      {
       "metadata": {},
       "output_type": "display_data",
       "png": "[encoded data removed]",
       "text": [
        "<matplotlib.figure.Figure at 0x5436490>"
       ]
      }
     ],
     "prompt_number": 72
    },
    {
     "cell_type": "code",
     "collapsed": false,
     "input": [
      "names = [\"Y_%d\"%i for i in range(1929, 2010)]\n",
      "#usy.cluster('arisel', ['Y_1929'], 8, wType='queen', inits=10, dissolve=0)\n",
      "usy.cluster('arisel', names, 8, wType='queen', inits=10, dissolve=0)\n"
     ],
     "language": "python",
     "metadata": {},
     "outputs": [
      {
       "output_type": "stream",
       "stream": "stdout",
       "text": [
        "Getting variables\n",
        "Variables successfully extracted\n",
        "Running original Arisel algorithm\n",
        "Number of areas:  48\n",
        "Number of regions:  8\n",
        "initial Solution: "
       ]
      },
      {
       "output_type": "stream",
       "stream": "stdout",
       "text": [
        " [0, 0, 0, 0, 5, 4, 2, 0, 0, 0, 7, 7, 7, 7, 0, 0, 1, 2, 1, 7, 7, 0, 7, 0, 7, 0, 1, 6, 0, 6, 0, 0, 7, 0, 0, 7, 1, 0, 7, 0, 0, 0, 1, 2, 3, 0, 7, 5]\n",
        "initial O.F:  6572056242.0\n",
        "FINAL SOLUTION: "
       ]
      },
      {
       "output_type": "stream",
       "stream": "stdout",
       "text": [
        " [0, 0, 0, 3, 5, 4, 2, 0, 0, 0, 7, 0, 7, 7, 0, 0, 1, 2, 1, 7, 7, 0, 7, 0, 7, 3, 1, 6, 0, 6, 0, 0, 7, 0, 3, 7, 1, 0, 0, 0, 0, 0, 1, 2, 3, 0, 7, 5]\n",
        "FINAL OF:  4734252014.0\n",
        "Done\n",
        "Adding variables\n",
        "Done\n"
       ]
      }
     ],
     "prompt_number": 73
    },
    {
     "cell_type": "code",
     "collapsed": false,
     "input": [
      "regions = usy.region2areas\n",
      "regions = np.array(regions)\n",
      "maps.plot_choropleth(shp, regions[reorder], 'unique_values', title='All Years')"
     ],
     "language": "python",
     "metadata": {},
     "outputs": [
      {
       "metadata": {},
       "output_type": "display_data",
       "png": "[encoded data removed]",
       "text": [
        "<matplotlib.figure.Figure at 0x5071c90>"
       ]
      }
     ],
     "prompt_number": 74
    },
    {
     "cell_type": "code",
     "collapsed": false,
     "input": [
      "ps.version"
     ],
     "language": "python",
     "metadata": {},
     "outputs": [
      {
       "metadata": {},
       "output_type": "pyout",
       "prompt_number": 75,
       "text": [
        "'1.8.0dev'"
       ]
      }
     ],
     "prompt_number": 75
    },
    {
     "cell_type": "code",
     "collapsed": false,
     "input": [
      "usy.cluster('arisel', names[:40], 8, wType='queen', inits=10, dissolve=0)\n",
      "regions = usy.region2areas\n",
      "regions = np.array(regions)\n",
      "maps.plot_choropleth(shp, regions[reorder], 'unique_values', title='1929-68')"
     ],
     "language": "python",
     "metadata": {},
     "outputs": [
      {
       "output_type": "stream",
       "stream": "stdout",
       "text": [
        "Getting variables\n",
        "Variables successfully extracted\n",
        "Running original Arisel algorithm\n",
        "Number of areas:  48\n",
        "Number of regions:  8\n",
        "initial Solution: "
       ]
      },
      {
       "output_type": "stream",
       "stream": "stdout",
       "text": [
        " [2, 7, 5, 4, 7, 1, 1, 2, 2, 7, 3, 3, 7, 7, 2, 5, 6, 3, 1, 3, 7, 5, 7, 7, 7, 4, 6, 1, 7, 1, 2, 7, 3, 7, 7, 3, 1, 2, 7, 2, 7, 7, 6, 0, 7, 2, 7, 7]\n",
        "initial O.F:  38617502.0\n",
        "FINAL SOLUTION: "
       ]
      },
      {
       "output_type": "stream",
       "stream": "stdout",
       "text": [
        " [5, 7, 5, 4, 7, 1, 1, 2, 2, 7, 3, 3, 7, 7, 2, 5, 6, 3, 1, 3, 7, 5, 7, 7, 7, 4, 6, 1, 7, 1, 2, 7, 3, 7, 7, 3, 1, 2, 7, 2, 7, 7, 6, 0, 7, 2, 7, 7]\n",
        "FINAL OF:  38135969.0\n",
        "Done\n",
        "Adding variables\n",
        "Done\n"
       ]
      },
      {
       "metadata": {},
       "output_type": "display_data",
       "png": "[encoded data removed]",
       "text": [
        "<matplotlib.figure.Figure at 0x5454190>"
       ]
      }
     ],
     "prompt_number": 76
    },
    {
     "cell_type": "code",
     "collapsed": false,
     "input": [
      "usy.cluster('arisel', names[40:], 8, wType='queen', inits=10, dissolve=0)\n",
      "regions = usy.region2areas\n",
      "regions = np.array(regions)\n",
      "maps.plot_choropleth(shp, regions[reorder], 'unique_values', title='1969-2009')"
     ],
     "language": "python",
     "metadata": {},
     "outputs": [
      {
       "output_type": "stream",
       "stream": "stdout",
       "text": [
        "Getting variables\n",
        "Variables successfully extracted\n",
        "Running original Arisel algorithm\n",
        "Number of areas:  48\n",
        "Number of regions:  8\n",
        "initial Solution: "
       ]
      },
      {
       "output_type": "stream",
       "stream": "stdout",
       "text": [
        " [0, 0, 0, 6, 5, 1, 7, 5, 5, 0, 5, 5, 5, 5, 5, 0, 4, 7, 4, 5, 2, 0, 5, 0, 5, 6, 4, 7, 0, 7, 5, 0, 5, 0, 6, 5, 4, 5, 5, 5, 3, 0, 4, 7, 6, 5, 5, 5]\n",
        "initial O.F:  5660686397.0\n",
        "FINAL SOLUTION: "
       ]
      },
      {
       "output_type": "stream",
       "stream": "stdout",
       "text": [
        " [0, 5, 0, 6, 5, 1, 7, 5, 5, 0, 2, 5, 5, 5, 5, 0, 4, 7, 4, 2, 2, 0, 5, 0, 5, 6, 4, 7, 0, 7, 5, 5, 2, 0, 6, 2, 4, 5, 5, 5, 3, 0, 4, 7, 6, 5, 2, 5]\n",
        "FINAL OF:  5204824284.0\n",
        "Done\n",
        "Adding variables\n",
        "Done\n"
       ]
      },
      {
       "metadata": {},
       "output_type": "display_data",
       "png": "[encoded data removed]",
       "text": [
        "<matplotlib.figure.Figure at 0x542d450>"
       ]
      }
     ],
     "prompt_number": 77
    },
    {
     "cell_type": "code",
     "collapsed": false,
     "input": [
      "usy.cluster('arisel', names[40:], 8, wType='queen', inits=10, dissolve=0)"
     ],
     "language": "python",
     "metadata": {},
     "outputs": [
      {
       "output_type": "stream",
       "stream": "stdout",
       "text": [
        "Getting variables\n",
        "Variables successfully extracted\n",
        "Running original Arisel algorithm\n",
        "Number of areas:  48\n",
        "Number of regions:  8\n",
        "initial Solution: "
       ]
      },
      {
       "output_type": "stream",
       "stream": "stdout",
       "text": [
        " [2, 4, 4, 5, 6, 1, 3, 6, 6, 4, 0, 0, 6, 6, 6, 4, 7, 3, 1, 0, 6, 2, 6, 4, 6, 5, 7, 1, 4, 1, 6, 6, 0, 4, 4, 0, 1, 6, 6, 6, 4, 4, 7, 3, 4, 6, 6, 6]\n",
        "initial O.F:  6150360559.0\n",
        "FINAL SOLUTION: "
       ]
      },
      {
       "output_type": "stream",
       "stream": "stdout",
       "text": [
        " [2, 4, 2, 5, 6, 1, 3, 6, 6, 4, 0, 6, 6, 6, 6, 4, 7, 3, 1, 0, 0, 2, 6, 4, 6, 5, 7, 1, 4, 1, 6, 4, 0, 4, 4, 0, 1, 6, 6, 6, 4, 4, 7, 3, 4, 6, 0, 6]\n",
        "FINAL OF:  5552581186.0\n",
        "Done\n",
        "Adding variables\n",
        "Done\n"
       ]
      }
     ],
     "prompt_number": 78
    },
    {
     "cell_type": "code",
     "collapsed": false,
     "input": [
      "usy.dataOperation(\"CONSTANT = 1\")\n",
      "usy.Wrook = usy.Wqueen\n",
      "usy.cluster('maxpTabu', ['Y_1929', 'Y_1929'], threshold=1000, dissolve=0)\n",
      "regions = usy.region2areas\n",
      "regions = np.array(regions)\n",
      "maps.plot_choropleth(shp, regions[reorder], 'unique_values', title='maxp 1929')"
     ],
     "language": "python",
     "metadata": {},
     "outputs": [
      {
       "output_type": "stream",
       "stream": "stdout",
       "text": [
        "Adding CONSTANT to fieldNames\n",
        "Adding values from 1 to Y\n",
        "Adding variables\n",
        "Done\n",
        "Getting variables\n",
        "Variables successfully extracted\n",
        "Running max-p-regions model (Duque, Anselin and Rey, 2010)\n",
        "Local search method: Tabu Search\n",
        "Number of areas:  48\n",
        "threshold value:  1000\n",
        "FINAL SOLUTION: "
       ]
      },
      {
       "output_type": "stream",
       "stream": "stdout",
       "text": [
        " [8, 10, 8, 5, 10, 0, 1, 8, 3, 6, 14, 20, 9, 17, 3, 4, 16, 11, 15, 20, 12, 8, 14, 18, 17, 5, 16, 1, 6, 2, 13, 9, 7, 4, 19, 7, 15, 13, 9, 3, 4, 6, 16, 13, 19, 11, 12, 18]\n",
        "FINAL OF:  230811.0\n",
        "Done\n",
        "Adding variables\n",
        "Done\n"
       ]
      },
      {
       "metadata": {},
       "output_type": "display_data",
       "png": "[encoded data removed]",
       "text": [
        "<matplotlib.figure.Figure at 0x5454e50>"
       ]
      }
     ],
     "prompt_number": 79
    },
    {
     "cell_type": "code",
     "collapsed": false,
     "input": [
      "Counter(regions)"
     ],
     "language": "python",
     "metadata": {},
     "outputs": [
      {
       "metadata": {},
       "output_type": "pyout",
       "prompt_number": 80,
       "text": [
        "Counter({8: 4, 3: 3, 4: 3, 6: 3, 9: 3, 13: 3, 16: 3, 1: 2, 5: 2, 7: 2, 10: 2, 11: 2, 12: 2, 14: 2, 15: 2, 17: 2, 18: 2, 19: 2, 20: 2, 0: 1, 2: 1})"
       ]
      }
     ],
     "prompt_number": 80
    },
    {
     "cell_type": "code",
     "collapsed": false,
     "input": [
      "usy.getVars('Y_1929')"
     ],
     "language": "python",
     "metadata": {},
     "outputs": [
      {
       "output_type": "stream",
       "stream": "stdout",
       "text": [
        "Getting variables\n",
        "Variables successfully extracted\n"
       ]
      },
      {
       "metadata": {},
       "output_type": "pyout",
       "prompt_number": 81,
       "text": [
        "{0: [323],\n",
        " 1: [600],\n",
        " 2: [310],\n",
        " 3: [991],\n",
        " 4: [634],\n",
        " 5: [1024],\n",
        " 6: [1032],\n",
        " 7: [518],\n",
        " 8: [347],\n",
        " 9: [507],\n",
        " 10: [948],\n",
        " 11: [607],\n",
        " 12: [581],\n",
        " 13: [532],\n",
        " 14: [393],\n",
        " 15: [414],\n",
        " 16: [601],\n",
        " 17: [768],\n",
        " 18: [906],\n",
        " 19: [790],\n",
        " 20: [599],\n",
        " 21: [286],\n",
        " 22: [621],\n",
        " 23: [592],\n",
        " 24: [596],\n",
        " 25: [868],\n",
        " 26: [686],\n",
        " 27: [918],\n",
        " 28: [410],\n",
        " 29: [1152],\n",
        " 30: [332],\n",
        " 31: [382],\n",
        " 32: [771],\n",
        " 33: [455],\n",
        " 34: [668],\n",
        " 35: [772],\n",
        " 36: [874],\n",
        " 37: [271],\n",
        " 38: [426],\n",
        " 39: [378],\n",
        " 40: [479],\n",
        " 41: [551],\n",
        " 42: [634],\n",
        " 43: [434],\n",
        " 44: [741],\n",
        " 45: [460],\n",
        " 46: [673],\n",
        " 47: [675]}"
       ]
      }
     ],
     "prompt_number": 81
    },
    {
     "cell_type": "code",
     "collapsed": false,
     "input": [
      "usy.Wrook"
     ],
     "language": "python",
     "metadata": {},
     "outputs": [
      {
       "metadata": {},
       "output_type": "pyout",
       "prompt_number": 82,
       "text": [
        "{0: [7, 8, 21, 39],\n",
        " 1: [3, 4, 25, 28, 41],\n",
        " 2: [15, 21, 22, 33, 39, 40],\n",
        " 3: [1, 25, 34],\n",
        " 4: [1, 13, 24, 28, 33, 41, 47],\n",
        " 5: [18, 29, 36],\n",
        " 6: [17, 27, 35],\n",
        " 7: [0, 8],\n",
        " 8: [0, 7, 30, 37, 39],\n",
        " 9: [23, 25, 34, 41, 44, 47],\n",
        " 10: [11, 12, 14, 22, 46],\n",
        " 11: [10, 14, 19, 32],\n",
        " 12: [10, 20, 22, 24, 38, 46],\n",
        " 13: [4, 22, 24, 33],\n",
        " 14: [10, 11, 22, 32, 39, 43, 45],\n",
        " 15: [2, 21, 40],\n",
        " 16: [26],\n",
        " 17: [6, 35, 43, 45],\n",
        " 18: [5, 26, 29, 36, 42],\n",
        " 19: [11, 32, 46],\n",
        " 20: [12, 31, 38, 46],\n",
        " 21: [0, 2, 15, 39],\n",
        " 22: [2, 10, 12, 13, 14, 24, 33, 39],\n",
        " 23: [9, 31, 38, 47],\n",
        " 24: [4, 12, 13, 22, 38, 47],\n",
        " 25: [1, 3, 9, 34, 41],\n",
        " 26: [16, 18, 42],\n",
        " 27: [6, 29, 35],\n",
        " 28: [1, 4, 33, 40, 41],\n",
        " 29: [5, 18, 27, 35, 42],\n",
        " 30: [8, 37, 39, 43],\n",
        " 31: [20, 23, 38],\n",
        " 32: [11, 14, 19, 35, 45],\n",
        " 33: [2, 4, 13, 22, 28, 40],\n",
        " 34: [3, 9, 25, 44],\n",
        " 35: [6, 17, 27, 29, 32, 45],\n",
        " 36: [5, 18],\n",
        " 37: [8, 30],\n",
        " 38: [12, 20, 23, 24, 31, 47],\n",
        " 39: [0, 2, 8, 14, 21, 22, 30, 43],\n",
        " 40: [2, 15, 28, 33],\n",
        " 41: [1, 4, 9, 25, 28, 47],\n",
        " 42: [18, 26, 29],\n",
        " 43: [14, 17, 30, 39, 45],\n",
        " 44: [9, 34],\n",
        " 45: [14, 17, 32, 35, 43],\n",
        " 46: [10, 12, 19, 20],\n",
        " 47: [4, 9, 23, 24, 38, 41]}"
       ]
      }
     ],
     "prompt_number": 82
    },
    {
     "cell_type": "code",
     "collapsed": false,
     "input": [
      "usy.cluster('maxpTabu', ['Y_1929', 'CONSTANT'], threshold=8, dissolve=0)\n",
      "regions = usy.region2areas\n",
      "regions = np.array(regions)\n",
      "maps.plot_choropleth(shp, regions[reorder], 'unique_values', title='maxp 1929')"
     ],
     "language": "python",
     "metadata": {},
     "outputs": [
      {
       "output_type": "stream",
       "stream": "stdout",
       "text": [
        "Getting variables\n",
        "Variables successfully extracted\n",
        "Running max-p-regions model (Duque, Anselin and Rey, 2010)\n",
        "Local search method: Tabu Search\n",
        "Number of areas:  48\n",
        "threshold value:  8\n",
        "FINAL SOLUTION: "
       ]
      },
      {
       "output_type": "stream",
       "stream": "stdout",
       "text": [
        " [2, 1, 2, 1, 1, 0, 0, 2, 2, 3, 1, 2, 1, 1, 2, 2, 0, 0, 0, 0, 1, 2, 1, 3, 1, 3, 0, 0, 2, 0, 2, 3, 0, 2, 3, 0, 0, 2, 3, 2, 2, 1, 0, 2, 3, 2, 1, 3]\n",
        "FINAL OF:  873588.0\n",
        "Done\n",
        "Adding variables\n",
        "Done\n"
       ]
      },
      {
       "metadata": {},
       "output_type": "display_data",
       "png": "[encoded data removed]",
       "text": [
        "<matplotlib.figure.Figure at 0x542d190>"
       ]
      }
     ],
     "prompt_number": 83
    },
    {
     "cell_type": "code",
     "collapsed": false,
     "input": [
      "regions"
     ],
     "language": "python",
     "metadata": {},
     "outputs": [
      {
       "metadata": {},
       "output_type": "pyout",
       "prompt_number": 84,
       "text": [
        "array([2, 1, 2, 1, 1, 0, 0, 2, 2, 3, 1, 2, 1, 1, 2, 2, 0, 0, 0, 0, 1, 2, 1,\n",
        "       3, 1, 3, 0, 0, 2, 0, 2, 3, 0, 2, 3, 0, 0, 2, 3, 2, 2, 1, 0, 2, 3, 2,\n",
        "       1, 3])"
       ]
      }
     ],
     "prompt_number": 84
    },
    {
     "cell_type": "code",
     "collapsed": false,
     "input": [
      "Counter(regions)"
     ],
     "language": "python",
     "metadata": {},
     "outputs": [
      {
       "metadata": {},
       "output_type": "pyout",
       "prompt_number": 85,
       "text": [
        "Counter({2: 16, 0: 13, 1: 11, 3: 8})"
       ]
      }
     ],
     "prompt_number": 85
    },
    {
     "cell_type": "code",
     "collapsed": false,
     "input": [
      "vars = names"
     ],
     "language": "python",
     "metadata": {},
     "outputs": [],
     "prompt_number": 86
    },
    {
     "cell_type": "code",
     "collapsed": false,
     "input": [
      "vars.append('CONSTANT')"
     ],
     "language": "python",
     "metadata": {},
     "outputs": [],
     "prompt_number": 87
    },
    {
     "cell_type": "code",
     "collapsed": false,
     "input": [
      "vars"
     ],
     "language": "python",
     "metadata": {},
     "outputs": [
      {
       "metadata": {},
       "output_type": "pyout",
       "prompt_number": 88,
       "text": [
        "['Y_1929',\n",
        " 'Y_1930',\n",
        " 'Y_1931',\n",
        " 'Y_1932',\n",
        " 'Y_1933',\n",
        " 'Y_1934',\n",
        " 'Y_1935',\n",
        " 'Y_1936',\n",
        " 'Y_1937',\n",
        " 'Y_1938',\n",
        " 'Y_1939',\n",
        " 'Y_1940',\n",
        " 'Y_1941',\n",
        " 'Y_1942',\n",
        " 'Y_1943',\n",
        " 'Y_1944',\n",
        " 'Y_1945',\n",
        " 'Y_1946',\n",
        " 'Y_1947',\n",
        " 'Y_1948',\n",
        " 'Y_1949',\n",
        " 'Y_1950',\n",
        " 'Y_1951',\n",
        " 'Y_1952',\n",
        " 'Y_1953',\n",
        " 'Y_1954',\n",
        " 'Y_1955',\n",
        " 'Y_1956',\n",
        " 'Y_1957',\n",
        " 'Y_1958',\n",
        " 'Y_1959',\n",
        " 'Y_1960',\n",
        " 'Y_1961',\n",
        " 'Y_1962',\n",
        " 'Y_1963',\n",
        " 'Y_1964',\n",
        " 'Y_1965',\n",
        " 'Y_1966',\n",
        " 'Y_1967',\n",
        " 'Y_1968',\n",
        " 'Y_1969',\n",
        " 'Y_1970',\n",
        " 'Y_1971',\n",
        " 'Y_1972',\n",
        " 'Y_1973',\n",
        " 'Y_1974',\n",
        " 'Y_1975',\n",
        " 'Y_1976',\n",
        " 'Y_1977',\n",
        " 'Y_1978',\n",
        " 'Y_1979',\n",
        " 'Y_1980',\n",
        " 'Y_1981',\n",
        " 'Y_1982',\n",
        " 'Y_1983',\n",
        " 'Y_1984',\n",
        " 'Y_1985',\n",
        " 'Y_1986',\n",
        " 'Y_1987',\n",
        " 'Y_1988',\n",
        " 'Y_1989',\n",
        " 'Y_1990',\n",
        " 'Y_1991',\n",
        " 'Y_1992',\n",
        " 'Y_1993',\n",
        " 'Y_1994',\n",
        " 'Y_1995',\n",
        " 'Y_1996',\n",
        " 'Y_1997',\n",
        " 'Y_1998',\n",
        " 'Y_1999',\n",
        " 'Y_2000',\n",
        " 'Y_2001',\n",
        " 'Y_2002',\n",
        " 'Y_2003',\n",
        " 'Y_2004',\n",
        " 'Y_2005',\n",
        " 'Y_2006',\n",
        " 'Y_2007',\n",
        " 'Y_2008',\n",
        " 'Y_2009',\n",
        " 'CONSTANT']"
       ]
      }
     ],
     "prompt_number": 88
    },
    {
     "cell_type": "code",
     "collapsed": false,
     "input": [
      "usy.cluster('maxpTabu', vars, threshold=8, dissolve=0)\n",
      "regions = usy.region2areas\n",
      "regions = np.array(regions)\n",
      "maps.plot_choropleth(shp, regions[reorder], 'unique_values', title='maxp 1929-2009')"
     ],
     "language": "python",
     "metadata": {},
     "outputs": [
      {
       "output_type": "stream",
       "stream": "stdout",
       "text": [
        "Getting variables\n",
        "Variables successfully extracted\n",
        "Running max-p-regions model (Duque, Anselin and Rey, 2010)\n",
        "Local search method: Tabu Search\n",
        "Number of areas:  48\n",
        "threshold value:  8\n",
        "FINAL SOLUTION: "
       ]
      },
      {
       "output_type": "stream",
       "stream": "stdout",
       "text": [
        " [1, 2, 1, 2, 2, 3, 3, 1, 1, 4, 0, 0, 0, 0, 1, 4, 3, 3, 3, 0, 2, 4, 0, 4, 0, 2, 3, 3, 4, 3, 1, 2, 0, 1, 2, 3, 3, 1, 2, 1, 4, 4, 3, 3, 4, 1, 0, 2]\n",
        "FINAL OF:  8731185047.0\n",
        "Done\n",
        "Adding variables\n",
        "Done\n"
       ]
      },
      {
       "metadata": {},
       "output_type": "display_data",
       "png": "[encoded data removed]",
       "text": [
        "<matplotlib.figure.Figure at 0x542ddd0>"
       ]
      }
     ],
     "prompt_number": 89
    },
    {
     "cell_type": "code",
     "collapsed": false,
     "input": [
      "Counter(regions)"
     ],
     "language": "python",
     "metadata": {},
     "outputs": [
      {
       "metadata": {},
       "output_type": "pyout",
       "prompt_number": 90,
       "text": [
        "Counter({3: 12, 1: 10, 0: 9, 2: 9, 4: 8})"
       ]
      }
     ],
     "prompt_number": 90
    },
    {
     "cell_type": "code",
     "collapsed": false,
     "input": [],
     "language": "python",
     "metadata": {},
     "outputs": [],
     "prompt_number": 90
    }
   ],
   "metadata": {}
  }
 ]
}